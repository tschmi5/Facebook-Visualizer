{
 "cells": [
  {
   "cell_type": "markdown",
   "metadata": {},
   "source": [
    "# Facebook Data"
   ]
  },
  {
   "cell_type": "code",
   "execution_count": 1,
   "metadata": {},
   "outputs": [],
   "source": [
    "import pandas\n",
    "import json\n",
    "import plotly.express as px\n",
    "import plotly.graph_objects as go\n",
    "\n",
    "pandas.options.display.max_rows = None\n",
    "\n"
   ]
  },
  {
   "cell_type": "markdown",
   "metadata": {},
   "source": [
    "## Off Facebook Data"
   ]
  },
  {
   "cell_type": "markdown",
   "metadata": {},
   "source": [
    "Convert To CSV"
   ]
  },
  {
   "cell_type": "code",
   "execution_count": 5,
   "metadata": {},
   "outputs": [
    {
     "output_type": "execute_result",
     "data": {
      "text/plain": "                               off_facebook_activity\n0  {'name': 'la-z-boy.com', 'events': [{'id': 136...\n1  {'name': 'hiphopdx.com', 'events': [{'id': 167...\n2  {'name': 'loopnet.com', 'events': [{'id': 5085...\n3  {'name': 'nbcnews.com', 'events': [{'id': 2584...\n4  {'name': 'redfin.com', 'events': [{'id': 85172...",
      "text/html": "<div>\n<style scoped>\n    .dataframe tbody tr th:only-of-type {\n        vertical-align: middle;\n    }\n\n    .dataframe tbody tr th {\n        vertical-align: top;\n    }\n\n    .dataframe thead th {\n        text-align: right;\n    }\n</style>\n<table border=\"1\" class=\"dataframe\">\n  <thead>\n    <tr style=\"text-align: right;\">\n      <th></th>\n      <th>off_facebook_activity</th>\n    </tr>\n  </thead>\n  <tbody>\n    <tr>\n      <th>0</th>\n      <td>{'name': 'la-z-boy.com', 'events': [{'id': 136...</td>\n    </tr>\n    <tr>\n      <th>1</th>\n      <td>{'name': 'hiphopdx.com', 'events': [{'id': 167...</td>\n    </tr>\n    <tr>\n      <th>2</th>\n      <td>{'name': 'loopnet.com', 'events': [{'id': 5085...</td>\n    </tr>\n    <tr>\n      <th>3</th>\n      <td>{'name': 'nbcnews.com', 'events': [{'id': 2584...</td>\n    </tr>\n    <tr>\n      <th>4</th>\n      <td>{'name': 'redfin.com', 'events': [{'id': 85172...</td>\n    </tr>\n  </tbody>\n</table>\n</div>"
     },
     "metadata": {},
     "execution_count": 5
    }
   ],
   "source": [
    "\n",
    "off_facebook_file_json = 'data/facebook/ads_and_businesses/your_off-facebook_activity.json'\n",
    "\n",
    "off_facebook_df = pandas.read_json(off_facebook_file_json)\n",
    "off_facebook_df.head()\n",
    "\n",
    "\n",
    "\n"
   ]
  },
  {
   "cell_type": "code",
   "execution_count": null,
   "metadata": {},
   "outputs": [],
   "source": []
  }
 ],
 "metadata": {
  "language_info": {
   "codemirror_mode": {
    "name": "ipython",
    "version": 3
   },
   "file_extension": ".py",
   "mimetype": "text/x-python",
   "name": "python",
   "nbconvert_exporter": "python",
   "pygments_lexer": "ipython3",
   "version": "3.6.9-final"
  },
  "orig_nbformat": 2,
  "kernelspec": {
   "name": "python36964bitvenvvenva871d53600814b51b81e1f3ca82b98ab",
   "display_name": "Python 3.6.9 64-bit ('venv': venv)"
  }
 },
 "nbformat": 4,
 "nbformat_minor": 2
}