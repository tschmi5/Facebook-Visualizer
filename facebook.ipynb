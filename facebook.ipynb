{
 "cells": [
  {
   "cell_type": "markdown",
   "metadata": {},
   "source": [
    "# Facebook Data\n",
    "\n",
    "**Save Your Facebook File In Data and Set the File Name Below**"
   ]
  },
  {
   "cell_type": "code",
   "execution_count": 123,
   "metadata": {},
   "outputs": [],
   "source": [
    "import pandas as pd\n",
    "import json\n",
    "import os\n",
    "import plotly.express as px\n",
    "import plotly.graph_objects as go\n",
    "import csv\n",
    "\n",
    "pd.options.display.max_rows = None\n",
    "\n",
    "FACEBOOK_FOLDER='facebook'\n"
   ]
  },
  {
   "cell_type": "markdown",
   "metadata": {},
   "source": [
    "## Off Facebook Data\n",
    "\n",
    "PreReq: Convert To CSV using scripts/off_facebook_to_csv.py"
   ]
  },
  {
   "cell_type": "markdown",
   "metadata": {},
   "source": [
    "\n",
    "### Transform Data into CSV and save in same folder"
   ]
  },
  {
   "cell_type": "code",
   "execution_count": 124,
   "metadata": {},
   "outputs": [
    {
     "output_type": "stream",
     "name": "stdout",
     "text": "Done\n"
    }
   ],
   "source": [
    "off_facebook_file = 'data/{}/ads_and_businesses/your_off-facebook_activity'.format(FACEBOOK_FOLDER)\n",
    "\n",
    "f = open(off_facebook_file + '.json')\n",
    "raw_json = json.load(f)\n",
    "places = (raw_json['off_facebook_activity'])\n",
    "f.close()\n",
    "\n",
    "\n",
    "with open(off_facebook_file + '.csv','w') as file:\n",
    "  writer = csv.writer(file)\n",
    "  writer.writerow(['name','id','type','date'])\n",
    "  for place in places:\n",
    "    for event in place['events']:\n",
    "      writer.writerow([place['name'],event['id'],event['type'],event['timestamp']])\n",
    "if os.path.exists(off_facebook_file + '.csv'):\n",
    "    print('Done')"
   ]
  },
  {
   "cell_type": "markdown",
   "metadata": {},
   "source": [
    "### Bar Graph of Top 100 Websites"
   ]
  },
  {
   "cell_type": "code",
   "execution_count": 125,
   "metadata": {
    "tags": [
     "outputPrepend"
    ]
   },
   "outputs": [
    {
     "output_type": "display_data",
     "data": {
      "application/vnd.plotly.v1+json": {
       "config": {
        "plotlyServerURL": "https://plot.ly"
       },
       "data": [
        {
         "alignmentgroup": "True",
         "hovertemplate": "name=%{x}<br>count=%{y}<extra></extra>",
         "legendgroup": "gitlab.com",
         "marker": {
          "color": "#636efa"
         },
         "name": "gitlab.com",
         "offsetgroup": "gitlab.com",
         "orientation": "v",
         "showlegend": true,
         "textposition": "auto",
         "type": "bar",
         "x": [
          "gitlab.com"
         ],
         "xaxis": "x",
         "y": [
          59
         ],
         "yaxis": "y"
        },
        {
         "alignmentgroup": "True",
         "hovertemplate": "name=%{x}<br>count=%{y}<extra></extra>",
         "legendgroup": "docker.com",
         "marker": {
          "color": "#EF553B"
         },
         "name": "docker.com",
         "offsetgroup": "docker.com",
         "orientation": "v",
         "showlegend": true,
         "textposition": "auto",
         "type": "bar",
         "x": [
          "docker.com"
         ],
         "xaxis": "x",
         "y": [
          56
         ],
         "yaxis": "y"
        },
        {
         "alignmentgroup": "True",
         "hovertemplate": "name=%{x}<br>count=%{y}<extra></extra>",
         "legendgroup": "TikTok - Make Your Day",
         "marker": {
          "color": "#00cc96"
         },
         "name": "TikTok - Make Your Day",
         "offsetgroup": "TikTok - Make Your Day",
         "orientation": "v",
         "showlegend": true,
         "textposition": "auto",
         "type": "bar",
         "x": [
          "TikTok - Make Your Day"
         ],
         "xaxis": "x",
         "y": [
          51
         ],
         "yaxis": "y"
        },
        {
         "alignmentgroup": "True",
         "hovertemplate": "name=%{x}<br>count=%{y}<extra></extra>",
         "legendgroup": "elastic.co",
         "marker": {
          "color": "#ab63fa"
         },
         "name": "elastic.co",
         "offsetgroup": "elastic.co",
         "orientation": "v",
         "showlegend": true,
         "textposition": "auto",
         "type": "bar",
         "x": [
          "elastic.co"
         ],
         "xaxis": "x",
         "y": [
          43
         ],
         "yaxis": "y"
        },
        {
         "alignmentgroup": "True",
         "hovertemplate": "name=%{x}<br>count=%{y}<extra></extra>",
         "legendgroup": "TikTok - Real Short Videos",
         "marker": {
          "color": "#FFA15A"
         },
         "name": "TikTok - Real Short Videos",
         "offsetgroup": "TikTok - Real Short Videos",
         "orientation": "v",
         "showlegend": true,
         "textposition": "auto",
         "type": "bar",
         "x": [
          "TikTok - Real Short Videos"
         ],
         "xaxis": "x",
         "y": [
          42
         ],
         "yaxis": "y"
        },
        {
         "alignmentgroup": "True",
         "hovertemplate": "name=%{x}<br>count=%{y}<extra></extra>",
         "legendgroup": "Venmo",
         "marker": {
          "color": "#19d3f3"
         },
         "name": "Venmo",
         "offsetgroup": "Venmo",
         "orientation": "v",
         "showlegend": true,
         "textposition": "auto",
         "type": "bar",
         "x": [
          "Venmo"
         ],
         "xaxis": "x",
         "y": [
          30
         ],
         "yaxis": "y"
        },
        {
         "alignmentgroup": "True",
         "hovertemplate": "name=%{x}<br>count=%{y}<extra></extra>",
         "legendgroup": "digitalocean.com",
         "marker": {
          "color": "#FF6692"
         },
         "name": "digitalocean.com",
         "offsetgroup": "digitalocean.com",
         "orientation": "v",
         "showlegend": true,
         "textposition": "auto",
         "type": "bar",
         "x": [
          "digitalocean.com"
         ],
         "xaxis": "x",
         "y": [
          29
         ],
         "yaxis": "y"
        },
        {
         "alignmentgroup": "True",
         "hovertemplate": "name=%{x}<br>count=%{y}<extra></extra>",
         "legendgroup": "lmiutil.com",
         "marker": {
          "color": "#B6E880"
         },
         "name": "lmiutil.com",
         "offsetgroup": "lmiutil.com",
         "orientation": "v",
         "showlegend": true,
         "textposition": "auto",
         "type": "bar",
         "x": [
          "lmiutil.com"
         ],
         "xaxis": "x",
         "y": [
          22
         ],
         "yaxis": "y"
        },
        {
         "alignmentgroup": "True",
         "hovertemplate": "name=%{x}<br>count=%{y}<extra></extra>",
         "legendgroup": "SoundCloud - Music & Audio",
         "marker": {
          "color": "#FF97FF"
         },
         "name": "SoundCloud - Music & Audio",
         "offsetgroup": "SoundCloud - Music & Audio",
         "orientation": "v",
         "showlegend": true,
         "textposition": "auto",
         "type": "bar",
         "x": [
          "SoundCloud - Music & Audio"
         ],
         "xaxis": "x",
         "y": [
          13
         ],
         "yaxis": "y"
        },
        {
         "alignmentgroup": "True",
         "hovertemplate": "name=%{x}<br>count=%{y}<extra></extra>",
         "legendgroup": "cnn.com",
         "marker": {
          "color": "#FECB52"
         },
         "name": "cnn.com",
         "offsetgroup": "cnn.com",
         "orientation": "v",
         "showlegend": true,
         "textposition": "auto",
         "type": "bar",
         "x": [
          "cnn.com"
         ],
         "xaxis": "x",
         "y": [
          13
         ],
         "yaxis": "y"
        },
        {
         "alignmentgroup": "True",
         "hovertemplate": "name=%{x}<br>count=%{y}<extra></extra>",
         "legendgroup": "zillow.com",
         "marker": {
          "color": "#636efa"
         },
         "name": "zillow.com",
         "offsetgroup": "zillow.com",
         "orientation": "v",
         "showlegend": true,
         "textposition": "auto",
         "type": "bar",
         "x": [
          "zillow.com"
         ],
         "xaxis": "x",
         "y": [
          12
         ],
         "yaxis": "y"
        },
        {
         "alignmentgroup": "True",
         "hovertemplate": "name=%{x}<br>count=%{y}<extra></extra>",
         "legendgroup": "Venmo: Send & Receive Money",
         "marker": {
          "color": "#EF553B"
         },
         "name": "Venmo: Send & Receive Money",
         "offsetgroup": "Venmo: Send & Receive Money",
         "orientation": "v",
         "showlegend": true,
         "textposition": "auto",
         "type": "bar",
         "x": [
          "Venmo: Send & Receive Money"
         ],
         "xaxis": "x",
         "y": [
          10
         ],
         "yaxis": "y"
        },
        {
         "alignmentgroup": "True",
         "hovertemplate": "name=%{x}<br>count=%{y}<extra></extra>",
         "legendgroup": "Sterling Jewelers Inc.",
         "marker": {
          "color": "#00cc96"
         },
         "name": "Sterling Jewelers Inc.",
         "offsetgroup": "Sterling Jewelers Inc.",
         "orientation": "v",
         "showlegend": true,
         "textposition": "auto",
         "type": "bar",
         "x": [
          "Sterling Jewelers Inc."
         ],
         "xaxis": "x",
         "y": [
          10
         ],
         "yaxis": "y"
        },
        {
         "alignmentgroup": "True",
         "hovertemplate": "name=%{x}<br>count=%{y}<extra></extra>",
         "legendgroup": "newegg.com",
         "marker": {
          "color": "#ab63fa"
         },
         "name": "newegg.com",
         "offsetgroup": "newegg.com",
         "orientation": "v",
         "showlegend": true,
         "textposition": "auto",
         "type": "bar",
         "x": [
          "newegg.com"
         ],
         "xaxis": "x",
         "y": [
          10
         ],
         "yaxis": "y"
        },
        {
         "alignmentgroup": "True",
         "hovertemplate": "name=%{x}<br>count=%{y}<extra></extra>",
         "legendgroup": "howtogeek.com",
         "marker": {
          "color": "#FFA15A"
         },
         "name": "howtogeek.com",
         "offsetgroup": "howtogeek.com",
         "orientation": "v",
         "showlegend": true,
         "textposition": "auto",
         "type": "bar",
         "x": [
          "howtogeek.com"
         ],
         "xaxis": "x",
         "y": [
          10
         ],
         "yaxis": "y"
        },
        {
         "alignmentgroup": "True",
         "hovertemplate": "name=%{x}<br>count=%{y}<extra></extra>",
         "legendgroup": "gatech.edu",
         "marker": {
          "color": "#19d3f3"
         },
         "name": "gatech.edu",
         "offsetgroup": "gatech.edu",
         "orientation": "v",
         "showlegend": true,
         "textposition": "auto",
         "type": "bar",
         "x": [
          "gatech.edu"
         ],
         "xaxis": "x",
         "y": [
          8
         ],
         "yaxis": "y"
        },
        {
         "alignmentgroup": "True",
         "hovertemplate": "name=%{x}<br>count=%{y}<extra></extra>",
         "legendgroup": "forbes.com",
         "marker": {
          "color": "#FF6692"
         },
         "name": "forbes.com",
         "offsetgroup": "forbes.com",
         "orientation": "v",
         "showlegend": true,
         "textposition": "auto",
         "type": "bar",
         "x": [
          "forbes.com"
         ],
         "xaxis": "x",
         "y": [
          8
         ],
         "yaxis": "y"
        },
        {
         "alignmentgroup": "True",
         "hovertemplate": "name=%{x}<br>count=%{y}<extra></extra>",
         "legendgroup": "bose.com",
         "marker": {
          "color": "#B6E880"
         },
         "name": "bose.com",
         "offsetgroup": "bose.com",
         "orientation": "v",
         "showlegend": true,
         "textposition": "auto",
         "type": "bar",
         "x": [
          "bose.com"
         ],
         "xaxis": "x",
         "y": [
          8
         ],
         "yaxis": "y"
        },
        {
         "alignmentgroup": "True",
         "hovertemplate": "name=%{x}<br>count=%{y}<extra></extra>",
         "legendgroup": "alot.com",
         "marker": {
          "color": "#FF97FF"
         },
         "name": "alot.com",
         "offsetgroup": "alot.com",
         "orientation": "v",
         "showlegend": true,
         "textposition": "auto",
         "type": "bar",
         "x": [
          "alot.com"
         ],
         "xaxis": "x",
         "y": [
          8
         ],
         "yaxis": "y"
        },
        {
         "alignmentgroup": "True",
         "hovertemplate": "name=%{x}<br>count=%{y}<extra></extra>",
         "legendgroup": "dailyfeed.co.uk",
         "marker": {
          "color": "#FECB52"
         },
         "name": "dailyfeed.co.uk",
         "offsetgroup": "dailyfeed.co.uk",
         "orientation": "v",
         "showlegend": true,
         "textposition": "auto",
         "type": "bar",
         "x": [
          "dailyfeed.co.uk"
         ],
         "xaxis": "x",
         "y": [
          8
         ],
         "yaxis": "y"
        },
        {
         "alignmentgroup": "True",
         "hovertemplate": "name=%{x}<br>count=%{y}<extra></extra>",
         "legendgroup": "scrumalliance.org",
         "marker": {
          "color": "#636efa"
         },
         "name": "scrumalliance.org",
         "offsetgroup": "scrumalliance.org",
         "orientation": "v",
         "showlegend": true,
         "textposition": "auto",
         "type": "bar",
         "x": [
          "scrumalliance.org"
         ],
         "xaxis": "x",
         "y": [
          7
         ],
         "yaxis": "y"
        },
        {
         "alignmentgroup": "True",
         "hovertemplate": "name=%{x}<br>count=%{y}<extra></extra>",
         "legendgroup": "intuit.com",
         "marker": {
          "color": "#EF553B"
         },
         "name": "intuit.com",
         "offsetgroup": "intuit.com",
         "orientation": "v",
         "showlegend": true,
         "textposition": "auto",
         "type": "bar",
         "x": [
          "intuit.com"
         ],
         "xaxis": "x",
         "y": [
          7
         ],
         "yaxis": "y"
        },
        {
         "alignmentgroup": "True",
         "hovertemplate": "name=%{x}<br>count=%{y}<extra></extra>",
         "legendgroup": "pluralsight.com",
         "marker": {
          "color": "#00cc96"
         },
         "name": "pluralsight.com",
         "offsetgroup": "pluralsight.com",
         "orientation": "v",
         "showlegend": true,
         "textposition": "auto",
         "type": "bar",
         "x": [
          "pluralsight.com"
         ],
         "xaxis": "x",
         "y": [
          7
         ],
         "yaxis": "y"
        },
        {
         "alignmentgroup": "True",
         "hovertemplate": "name=%{x}<br>count=%{y}<extra></extra>",
         "legendgroup": "towson.edu",
         "marker": {
          "color": "#ab63fa"
         },
         "name": "towson.edu",
         "offsetgroup": "towson.edu",
         "orientation": "v",
         "showlegend": true,
         "textposition": "auto",
         "type": "bar",
         "x": [
          "towson.edu"
         ],
         "xaxis": "x",
         "y": [
          7
         ],
         "yaxis": "y"
        },
        {
         "alignmentgroup": "True",
         "hovertemplate": "name=%{x}<br>count=%{y}<extra></extra>",
         "legendgroup": "tripadvisor.com",
         "marker": {
          "color": "#FFA15A"
         },
         "name": "tripadvisor.com",
         "offsetgroup": "tripadvisor.com",
         "orientation": "v",
         "showlegend": true,
         "textposition": "auto",
         "type": "bar",
         "x": [
          "tripadvisor.com"
         ],
         "xaxis": "x",
         "y": [
          7
         ],
         "yaxis": "y"
        },
        {
         "alignmentgroup": "True",
         "hovertemplate": "name=%{x}<br>count=%{y}<extra></extra>",
         "legendgroup": "Disney Streaming Services",
         "marker": {
          "color": "#19d3f3"
         },
         "name": "Disney Streaming Services",
         "offsetgroup": "Disney Streaming Services",
         "orientation": "v",
         "showlegend": true,
         "textposition": "auto",
         "type": "bar",
         "x": [
          "Disney Streaming Services"
         ],
         "xaxis": "x",
         "y": [
          6
         ],
         "yaxis": "y"
        },
        {
         "alignmentgroup": "True",
         "hovertemplate": "name=%{x}<br>count=%{y}<extra></extra>",
         "legendgroup": "lifehacker.com",
         "marker": {
          "color": "#FF6692"
         },
         "name": "lifehacker.com",
         "offsetgroup": "lifehacker.com",
         "orientation": "v",
         "showlegend": true,
         "textposition": "auto",
         "type": "bar",
         "x": [
          "lifehacker.com"
         ],
         "xaxis": "x",
         "y": [
          6
         ],
         "yaxis": "y"
        },
        {
         "alignmentgroup": "True",
         "hovertemplate": "name=%{x}<br>count=%{y}<extra></extra>",
         "legendgroup": "nbcnews.com",
         "marker": {
          "color": "#B6E880"
         },
         "name": "nbcnews.com",
         "offsetgroup": "nbcnews.com",
         "orientation": "v",
         "showlegend": true,
         "textposition": "auto",
         "type": "bar",
         "x": [
          "nbcnews.com"
         ],
         "xaxis": "x",
         "y": [
          6
         ],
         "yaxis": "y"
        },
        {
         "alignmentgroup": "True",
         "hovertemplate": "name=%{x}<br>count=%{y}<extra></extra>",
         "legendgroup": "Amazon",
         "marker": {
          "color": "#FF97FF"
         },
         "name": "Amazon",
         "offsetgroup": "Amazon",
         "orientation": "v",
         "showlegend": true,
         "textposition": "auto",
         "type": "bar",
         "x": [
          "Amazon"
         ],
         "xaxis": "x",
         "y": [
          6
         ],
         "yaxis": "y"
        },
        {
         "alignmentgroup": "True",
         "hovertemplate": "name=%{x}<br>count=%{y}<extra></extra>",
         "legendgroup": "liquidweb.com",
         "marker": {
          "color": "#FECB52"
         },
         "name": "liquidweb.com",
         "offsetgroup": "liquidweb.com",
         "orientation": "v",
         "showlegend": true,
         "textposition": "auto",
         "type": "bar",
         "x": [
          "liquidweb.com"
         ],
         "xaxis": "x",
         "y": [
          6
         ],
         "yaxis": "y"
        },
        {
         "alignmentgroup": "True",
         "hovertemplate": "name=%{x}<br>count=%{y}<extra></extra>",
         "legendgroup": "safariland.com",
         "marker": {
          "color": "#636efa"
         },
         "name": "safariland.com",
         "offsetgroup": "safariland.com",
         "orientation": "v",
         "showlegend": true,
         "textposition": "auto",
         "type": "bar",
         "x": [
          "safariland.com"
         ],
         "xaxis": "x",
         "y": [
          6
         ],
         "yaxis": "y"
        },
        {
         "alignmentgroup": "True",
         "hovertemplate": "name=%{x}<br>count=%{y}<extra></extra>",
         "legendgroup": "atlantablackstar.com",
         "marker": {
          "color": "#EF553B"
         },
         "name": "atlantablackstar.com",
         "offsetgroup": "atlantablackstar.com",
         "orientation": "v",
         "showlegend": true,
         "textposition": "auto",
         "type": "bar",
         "x": [
          "atlantablackstar.com"
         ],
         "xaxis": "x",
         "y": [
          6
         ],
         "yaxis": "y"
        },
        {
         "alignmentgroup": "True",
         "hovertemplate": "name=%{x}<br>count=%{y}<extra></extra>",
         "legendgroup": "logrocket.com",
         "marker": {
          "color": "#00cc96"
         },
         "name": "logrocket.com",
         "offsetgroup": "logrocket.com",
         "orientation": "v",
         "showlegend": true,
         "textposition": "auto",
         "type": "bar",
         "x": [
          "logrocket.com"
         ],
         "xaxis": "x",
         "y": [
          6
         ],
         "yaxis": "y"
        },
        {
         "alignmentgroup": "True",
         "hovertemplate": "name=%{x}<br>count=%{y}<extra></extra>",
         "legendgroup": "unanet.com",
         "marker": {
          "color": "#ab63fa"
         },
         "name": "unanet.com",
         "offsetgroup": "unanet.com",
         "orientation": "v",
         "showlegend": true,
         "textposition": "auto",
         "type": "bar",
         "x": [
          "unanet.com"
         ],
         "xaxis": "x",
         "y": [
          6
         ],
         "yaxis": "y"
        },
        {
         "alignmentgroup": "True",
         "hovertemplate": "name=%{x}<br>count=%{y}<extra></extra>",
         "legendgroup": "medicinenet.com",
         "marker": {
          "color": "#FFA15A"
         },
         "name": "medicinenet.com",
         "offsetgroup": "medicinenet.com",
         "orientation": "v",
         "showlegend": true,
         "textposition": "auto",
         "type": "bar",
         "x": [
          "medicinenet.com"
         ],
         "xaxis": "x",
         "y": [
          5
         ],
         "yaxis": "y"
        },
        {
         "alignmentgroup": "True",
         "hovertemplate": "name=%{x}<br>count=%{y}<extra></extra>",
         "legendgroup": "Discover Financial Services",
         "marker": {
          "color": "#19d3f3"
         },
         "name": "Discover Financial Services",
         "offsetgroup": "Discover Financial Services",
         "orientation": "v",
         "showlegend": true,
         "textposition": "auto",
         "type": "bar",
         "x": [
          "Discover Financial Services"
         ],
         "xaxis": "x",
         "y": [
          5
         ],
         "yaxis": "y"
        },
        {
         "alignmentgroup": "True",
         "hovertemplate": "name=%{x}<br>count=%{y}<extra></extra>",
         "legendgroup": "stitchfix.com",
         "marker": {
          "color": "#FF6692"
         },
         "name": "stitchfix.com",
         "offsetgroup": "stitchfix.com",
         "orientation": "v",
         "showlegend": true,
         "textposition": "auto",
         "type": "bar",
         "x": [
          "stitchfix.com"
         ],
         "xaxis": "x",
         "y": [
          5
         ],
         "yaxis": "y"
        },
        {
         "alignmentgroup": "True",
         "hovertemplate": "name=%{x}<br>count=%{y}<extra></extra>",
         "legendgroup": "sciencefocus.com",
         "marker": {
          "color": "#B6E880"
         },
         "name": "sciencefocus.com",
         "offsetgroup": "sciencefocus.com",
         "orientation": "v",
         "showlegend": true,
         "textposition": "auto",
         "type": "bar",
         "x": [
          "sciencefocus.com"
         ],
         "xaxis": "x",
         "y": [
          5
         ],
         "yaxis": "y"
        },
        {
         "alignmentgroup": "True",
         "hovertemplate": "name=%{x}<br>count=%{y}<extra></extra>",
         "legendgroup": "baeldung.com",
         "marker": {
          "color": "#FF97FF"
         },
         "name": "baeldung.com",
         "offsetgroup": "baeldung.com",
         "orientation": "v",
         "showlegend": true,
         "textposition": "auto",
         "type": "bar",
         "x": [
          "baeldung.com"
         ],
         "xaxis": "x",
         "y": [
          5
         ],
         "yaxis": "y"
        },
        {
         "alignmentgroup": "True",
         "hovertemplate": "name=%{x}<br>count=%{y}<extra></extra>",
         "legendgroup": "baltimoresun.com",
         "marker": {
          "color": "#FECB52"
         },
         "name": "baltimoresun.com",
         "offsetgroup": "baltimoresun.com",
         "orientation": "v",
         "showlegend": true,
         "textposition": "auto",
         "type": "bar",
         "x": [
          "baltimoresun.com"
         ],
         "xaxis": "x",
         "y": [
          4
         ],
         "yaxis": "y"
        },
        {
         "alignmentgroup": "True",
         "hovertemplate": "name=%{x}<br>count=%{y}<extra></extra>",
         "legendgroup": "Invstr: Play. Learn. Invest.",
         "marker": {
          "color": "#636efa"
         },
         "name": "Invstr: Play. Learn. Invest.",
         "offsetgroup": "Invstr: Play. Learn. Invest.",
         "orientation": "v",
         "showlegend": true,
         "textposition": "auto",
         "type": "bar",
         "x": [
          "Invstr: Play. Learn. Invest."
         ],
         "xaxis": "x",
         "y": [
          4
         ],
         "yaxis": "y"
        },
        {
         "alignmentgroup": "True",
         "hovertemplate": "name=%{x}<br>count=%{y}<extra></extra>",
         "legendgroup": "pcworld.com",
         "marker": {
          "color": "#EF553B"
         },
         "name": "pcworld.com",
         "offsetgroup": "pcworld.com",
         "orientation": "v",
         "showlegend": true,
         "textposition": "auto",
         "type": "bar",
         "x": [
          "pcworld.com"
         ],
         "xaxis": "x",
         "y": [
          4
         ],
         "yaxis": "y"
        },
        {
         "alignmentgroup": "True",
         "hovertemplate": "name=%{x}<br>count=%{y}<extra></extra>",
         "legendgroup": "seekingalpha.com",
         "marker": {
          "color": "#00cc96"
         },
         "name": "seekingalpha.com",
         "offsetgroup": "seekingalpha.com",
         "orientation": "v",
         "showlegend": true,
         "textposition": "auto",
         "type": "bar",
         "x": [
          "seekingalpha.com"
         ],
         "xaxis": "x",
         "y": [
          4
         ],
         "yaxis": "y"
        },
        {
         "alignmentgroup": "True",
         "hovertemplate": "name=%{x}<br>count=%{y}<extra></extra>",
         "legendgroup": "balena.io",
         "marker": {
          "color": "#ab63fa"
         },
         "name": "balena.io",
         "offsetgroup": "balena.io",
         "orientation": "v",
         "showlegend": true,
         "textposition": "auto",
         "type": "bar",
         "x": [
          "balena.io"
         ],
         "xaxis": "x",
         "y": [
          4
         ],
         "yaxis": "y"
        },
        {
         "alignmentgroup": "True",
         "hovertemplate": "name=%{x}<br>count=%{y}<extra></extra>",
         "legendgroup": "discover.com",
         "marker": {
          "color": "#FFA15A"
         },
         "name": "discover.com",
         "offsetgroup": "discover.com",
         "orientation": "v",
         "showlegend": true,
         "textposition": "auto",
         "type": "bar",
         "x": [
          "discover.com"
         ],
         "xaxis": "x",
         "y": [
          4
         ],
         "yaxis": "y"
        },
        {
         "alignmentgroup": "True",
         "hovertemplate": "name=%{x}<br>count=%{y}<extra></extra>",
         "legendgroup": "Hulu",
         "marker": {
          "color": "#19d3f3"
         },
         "name": "Hulu",
         "offsetgroup": "Hulu",
         "orientation": "v",
         "showlegend": true,
         "textposition": "auto",
         "type": "bar",
         "x": [
          "Hulu"
         ],
         "xaxis": "x",
         "y": [
          4
         ],
         "yaxis": "y"
        },
        {
         "alignmentgroup": "True",
         "hovertemplate": "name=%{x}<br>count=%{y}<extra></extra>",
         "legendgroup": "empower-retirement.com",
         "marker": {
          "color": "#FF6692"
         },
         "name": "empower-retirement.com",
         "offsetgroup": "empower-retirement.com",
         "orientation": "v",
         "showlegend": true,
         "textposition": "auto",
         "type": "bar",
         "x": [
          "empower-retirement.com"
         ],
         "xaxis": "x",
         "y": [
          4
         ],
         "yaxis": "y"
        },
        {
         "alignmentgroup": "True",
         "hovertemplate": "name=%{x}<br>count=%{y}<extra></extra>",
         "legendgroup": "gradifi.com",
         "marker": {
          "color": "#B6E880"
         },
         "name": "gradifi.com",
         "offsetgroup": "gradifi.com",
         "orientation": "v",
         "showlegend": true,
         "textposition": "auto",
         "type": "bar",
         "x": [
          "gradifi.com"
         ],
         "xaxis": "x",
         "y": [
          4
         ],
         "yaxis": "y"
        },
        {
         "alignmentgroup": "True",
         "hovertemplate": "name=%{x}<br>count=%{y}<extra></extra>",
         "legendgroup": "buzzfeed.com",
         "marker": {
          "color": "#FF97FF"
         },
         "name": "buzzfeed.com",
         "offsetgroup": "buzzfeed.com",
         "orientation": "v",
         "showlegend": true,
         "textposition": "auto",
         "type": "bar",
         "x": [
          "buzzfeed.com"
         ],
         "xaxis": "x",
         "y": [
          4
         ],
         "yaxis": "y"
        },
        {
         "alignmentgroup": "True",
         "hovertemplate": "name=%{x}<br>count=%{y}<extra></extra>",
         "legendgroup": "brobible.com",
         "marker": {
          "color": "#FECB52"
         },
         "name": "brobible.com",
         "offsetgroup": "brobible.com",
         "orientation": "v",
         "showlegend": true,
         "textposition": "auto",
         "type": "bar",
         "x": [
          "brobible.com"
         ],
         "xaxis": "x",
         "y": [
          4
         ],
         "yaxis": "y"
        },
        {
         "alignmentgroup": "True",
         "hovertemplate": "name=%{x}<br>count=%{y}<extra></extra>",
         "legendgroup": "investors.com",
         "marker": {
          "color": "#636efa"
         },
         "name": "investors.com",
         "offsetgroup": "investors.com",
         "orientation": "v",
         "showlegend": true,
         "textposition": "auto",
         "type": "bar",
         "x": [
          "investors.com"
         ],
         "xaxis": "x",
         "y": [
          4
         ],
         "yaxis": "y"
        },
        {
         "alignmentgroup": "True",
         "hovertemplate": "name=%{x}<br>count=%{y}<extra></extra>",
         "legendgroup": "microsoft.com",
         "marker": {
          "color": "#EF553B"
         },
         "name": "microsoft.com",
         "offsetgroup": "microsoft.com",
         "orientation": "v",
         "showlegend": true,
         "textposition": "auto",
         "type": "bar",
         "x": [
          "microsoft.com"
         ],
         "xaxis": "x",
         "y": [
          4
         ],
         "yaxis": "y"
        },
        {
         "alignmentgroup": "True",
         "hovertemplate": "name=%{x}<br>count=%{y}<extra></extra>",
         "legendgroup": "microcenter.com",
         "marker": {
          "color": "#00cc96"
         },
         "name": "microcenter.com",
         "offsetgroup": "microcenter.com",
         "orientation": "v",
         "showlegend": true,
         "textposition": "auto",
         "type": "bar",
         "x": [
          "microcenter.com"
         ],
         "xaxis": "x",
         "y": [
          4
         ],
         "yaxis": "y"
        },
        {
         "alignmentgroup": "True",
         "hovertemplate": "name=%{x}<br>count=%{y}<extra></extra>",
         "legendgroup": "networkworld.com",
         "marker": {
          "color": "#ab63fa"
         },
         "name": "networkworld.com",
         "offsetgroup": "networkworld.com",
         "orientation": "v",
         "showlegend": true,
         "textposition": "auto",
         "type": "bar",
         "x": [
          "networkworld.com"
         ],
         "xaxis": "x",
         "y": [
          4
         ],
         "yaxis": "y"
        },
        {
         "alignmentgroup": "True",
         "hovertemplate": "name=%{x}<br>count=%{y}<extra></extra>",
         "legendgroup": "ticketmaster.com",
         "marker": {
          "color": "#FFA15A"
         },
         "name": "ticketmaster.com",
         "offsetgroup": "ticketmaster.com",
         "orientation": "v",
         "showlegend": true,
         "textposition": "auto",
         "type": "bar",
         "x": [
          "ticketmaster.com"
         ],
         "xaxis": "x",
         "y": [
          4
         ],
         "yaxis": "y"
        },
        {
         "alignmentgroup": "True",
         "hovertemplate": "name=%{x}<br>count=%{y}<extra></extra>",
         "legendgroup": "redhat.com",
         "marker": {
          "color": "#19d3f3"
         },
         "name": "redhat.com",
         "offsetgroup": "redhat.com",
         "orientation": "v",
         "showlegend": true,
         "textposition": "auto",
         "type": "bar",
         "x": [
          "redhat.com"
         ],
         "xaxis": "x",
         "y": [
          4
         ],
         "yaxis": "y"
        },
        {
         "alignmentgroup": "True",
         "hovertemplate": "name=%{x}<br>count=%{y}<extra></extra>",
         "legendgroup": "businessinsider.com",
         "marker": {
          "color": "#FF6692"
         },
         "name": "businessinsider.com",
         "offsetgroup": "businessinsider.com",
         "orientation": "v",
         "showlegend": true,
         "textposition": "auto",
         "type": "bar",
         "x": [
          "businessinsider.com"
         ],
         "xaxis": "x",
         "y": [
          4
         ],
         "yaxis": "y"
        },
        {
         "alignmentgroup": "True",
         "hovertemplate": "name=%{x}<br>count=%{y}<extra></extra>",
         "legendgroup": "harvard.edu",
         "marker": {
          "color": "#B6E880"
         },
         "name": "harvard.edu",
         "offsetgroup": "harvard.edu",
         "orientation": "v",
         "showlegend": true,
         "textposition": "auto",
         "type": "bar",
         "x": [
          "harvard.edu"
         ],
         "xaxis": "x",
         "y": [
          4
         ],
         "yaxis": "y"
        },
        {
         "alignmentgroup": "True",
         "hovertemplate": "name=%{x}<br>count=%{y}<extra></extra>",
         "legendgroup": "medicalnewstoday.com",
         "marker": {
          "color": "#FF97FF"
         },
         "name": "medicalnewstoday.com",
         "offsetgroup": "medicalnewstoday.com",
         "orientation": "v",
         "showlegend": true,
         "textposition": "auto",
         "type": "bar",
         "x": [
          "medicalnewstoday.com"
         ],
         "xaxis": "x",
         "y": [
          3
         ],
         "yaxis": "y"
        },
        {
         "alignmentgroup": "True",
         "hovertemplate": "name=%{x}<br>count=%{y}<extra></extra>",
         "legendgroup": "phoenixnap.com",
         "marker": {
          "color": "#FECB52"
         },
         "name": "phoenixnap.com",
         "offsetgroup": "phoenixnap.com",
         "orientation": "v",
         "showlegend": true,
         "textposition": "auto",
         "type": "bar",
         "x": [
          "phoenixnap.com"
         ],
         "xaxis": "x",
         "y": [
          3
         ],
         "yaxis": "y"
        },
        {
         "alignmentgroup": "True",
         "hovertemplate": "name=%{x}<br>count=%{y}<extra></extra>",
         "legendgroup": "pointstreak.com",
         "marker": {
          "color": "#636efa"
         },
         "name": "pointstreak.com",
         "offsetgroup": "pointstreak.com",
         "orientation": "v",
         "showlegend": true,
         "textposition": "auto",
         "type": "bar",
         "x": [
          "pointstreak.com"
         ],
         "xaxis": "x",
         "y": [
          3
         ],
         "yaxis": "y"
        },
        {
         "alignmentgroup": "True",
         "hovertemplate": "name=%{x}<br>count=%{y}<extra></extra>",
         "legendgroup": "webmd.com",
         "marker": {
          "color": "#EF553B"
         },
         "name": "webmd.com",
         "offsetgroup": "webmd.com",
         "orientation": "v",
         "showlegend": true,
         "textposition": "auto",
         "type": "bar",
         "x": [
          "webmd.com"
         ],
         "xaxis": "x",
         "y": [
          3
         ],
         "yaxis": "y"
        },
        {
         "alignmentgroup": "True",
         "hovertemplate": "name=%{x}<br>count=%{y}<extra></extra>",
         "legendgroup": "fool.com",
         "marker": {
          "color": "#00cc96"
         },
         "name": "fool.com",
         "offsetgroup": "fool.com",
         "orientation": "v",
         "showlegend": true,
         "textposition": "auto",
         "type": "bar",
         "x": [
          "fool.com"
         ],
         "xaxis": "x",
         "y": [
          3
         ],
         "yaxis": "y"
        },
        {
         "alignmentgroup": "True",
         "hovertemplate": "name=%{x}<br>count=%{y}<extra></extra>",
         "legendgroup": "wbaltv.com",
         "marker": {
          "color": "#ab63fa"
         },
         "name": "wbaltv.com",
         "offsetgroup": "wbaltv.com",
         "orientation": "v",
         "showlegend": true,
         "textposition": "auto",
         "type": "bar",
         "x": [
          "wbaltv.com"
         ],
         "xaxis": "x",
         "y": [
          3
         ],
         "yaxis": "y"
        },
        {
         "alignmentgroup": "True",
         "hovertemplate": "name=%{x}<br>count=%{y}<extra></extra>",
         "legendgroup": "smartasset.com",
         "marker": {
          "color": "#FFA15A"
         },
         "name": "smartasset.com",
         "offsetgroup": "smartasset.com",
         "orientation": "v",
         "showlegend": true,
         "textposition": "auto",
         "type": "bar",
         "x": [
          "smartasset.com"
         ],
         "xaxis": "x",
         "y": [
          3
         ],
         "yaxis": "y"
        },
        {
         "alignmentgroup": "True",
         "hovertemplate": "name=%{x}<br>count=%{y}<extra></extra>",
         "legendgroup": "allaboutvision.com",
         "marker": {
          "color": "#19d3f3"
         },
         "name": "allaboutvision.com",
         "offsetgroup": "allaboutvision.com",
         "orientation": "v",
         "showlegend": true,
         "textposition": "auto",
         "type": "bar",
         "x": [
          "allaboutvision.com"
         ],
         "xaxis": "x",
         "y": [
          3
         ],
         "yaxis": "y"
        },
        {
         "alignmentgroup": "True",
         "hovertemplate": "name=%{x}<br>count=%{y}<extra></extra>",
         "legendgroup": "simplilearn.com",
         "marker": {
          "color": "#FF6692"
         },
         "name": "simplilearn.com",
         "offsetgroup": "simplilearn.com",
         "orientation": "v",
         "showlegend": true,
         "textposition": "auto",
         "type": "bar",
         "x": [
          "simplilearn.com"
         ],
         "xaxis": "x",
         "y": [
          3
         ],
         "yaxis": "y"
        },
        {
         "alignmentgroup": "True",
         "hovertemplate": "name=%{x}<br>count=%{y}<extra></extra>",
         "legendgroup": "cnbc.com",
         "marker": {
          "color": "#B6E880"
         },
         "name": "cnbc.com",
         "offsetgroup": "cnbc.com",
         "orientation": "v",
         "showlegend": true,
         "textposition": "auto",
         "type": "bar",
         "x": [
          "cnbc.com"
         ],
         "xaxis": "x",
         "y": [
          3
         ],
         "yaxis": "y"
        },
        {
         "alignmentgroup": "True",
         "hovertemplate": "name=%{x}<br>count=%{y}<extra></extra>",
         "legendgroup": "thenewstack.io",
         "marker": {
          "color": "#FF97FF"
         },
         "name": "thenewstack.io",
         "offsetgroup": "thenewstack.io",
         "orientation": "v",
         "showlegend": true,
         "textposition": "auto",
         "type": "bar",
         "x": [
          "thenewstack.io"
         ],
         "xaxis": "x",
         "y": [
          3
         ],
         "yaxis": "y"
        },
        {
         "alignmentgroup": "True",
         "hovertemplate": "name=%{x}<br>count=%{y}<extra></extra>",
         "legendgroup": "pimylifeup.com",
         "marker": {
          "color": "#FECB52"
         },
         "name": "pimylifeup.com",
         "offsetgroup": "pimylifeup.com",
         "orientation": "v",
         "showlegend": true,
         "textposition": "auto",
         "type": "bar",
         "x": [
          "pimylifeup.com"
         ],
         "xaxis": "x",
         "y": [
          3
         ],
         "yaxis": "y"
        },
        {
         "alignmentgroup": "True",
         "hovertemplate": "name=%{x}<br>count=%{y}<extra></extra>",
         "legendgroup": "aljazeera.com",
         "marker": {
          "color": "#636efa"
         },
         "name": "aljazeera.com",
         "offsetgroup": "aljazeera.com",
         "orientation": "v",
         "showlegend": true,
         "textposition": "auto",
         "type": "bar",
         "x": [
          "aljazeera.com"
         ],
         "xaxis": "x",
         "y": [
          3
         ],
         "yaxis": "y"
        },
        {
         "alignmentgroup": "True",
         "hovertemplate": "name=%{x}<br>count=%{y}<extra></extra>",
         "legendgroup": "thoughtcatalog.com",
         "marker": {
          "color": "#EF553B"
         },
         "name": "thoughtcatalog.com",
         "offsetgroup": "thoughtcatalog.com",
         "orientation": "v",
         "showlegend": true,
         "textposition": "auto",
         "type": "bar",
         "x": [
          "thoughtcatalog.com"
         ],
         "xaxis": "x",
         "y": [
          3
         ],
         "yaxis": "y"
        },
        {
         "alignmentgroup": "True",
         "hovertemplate": "name=%{x}<br>count=%{y}<extra></extra>",
         "legendgroup": "nationalgeographic.com",
         "marker": {
          "color": "#00cc96"
         },
         "name": "nationalgeographic.com",
         "offsetgroup": "nationalgeographic.com",
         "orientation": "v",
         "showlegend": true,
         "textposition": "auto",
         "type": "bar",
         "x": [
          "nationalgeographic.com"
         ],
         "xaxis": "x",
         "y": [
          3
         ],
         "yaxis": "y"
        },
        {
         "alignmentgroup": "True",
         "hovertemplate": "name=%{x}<br>count=%{y}<extra></extra>",
         "legendgroup": "eBay Business Manager",
         "marker": {
          "color": "#ab63fa"
         },
         "name": "eBay Business Manager",
         "offsetgroup": "eBay Business Manager",
         "orientation": "v",
         "showlegend": true,
         "textposition": "auto",
         "type": "bar",
         "x": [
          "eBay Business Manager"
         ],
         "xaxis": "x",
         "y": [
          3
         ],
         "yaxis": "y"
        },
        {
         "alignmentgroup": "True",
         "hovertemplate": "name=%{x}<br>count=%{y}<extra></extra>",
         "legendgroup": "nra.org",
         "marker": {
          "color": "#FFA15A"
         },
         "name": "nra.org",
         "offsetgroup": "nra.org",
         "orientation": "v",
         "showlegend": true,
         "textposition": "auto",
         "type": "bar",
         "x": [
          "nra.org"
         ],
         "xaxis": "x",
         "y": [
          3
         ],
         "yaxis": "y"
        },
        {
         "alignmentgroup": "True",
         "hovertemplate": "name=%{x}<br>count=%{y}<extra></extra>",
         "legendgroup": "lastpass.com",
         "marker": {
          "color": "#19d3f3"
         },
         "name": "lastpass.com",
         "offsetgroup": "lastpass.com",
         "orientation": "v",
         "showlegend": true,
         "textposition": "auto",
         "type": "bar",
         "x": [
          "lastpass.com"
         ],
         "xaxis": "x",
         "y": [
          3
         ],
         "yaxis": "y"
        },
        {
         "alignmentgroup": "True",
         "hovertemplate": "name=%{x}<br>count=%{y}<extra></extra>",
         "legendgroup": "healthline.com",
         "marker": {
          "color": "#FF6692"
         },
         "name": "healthline.com",
         "offsetgroup": "healthline.com",
         "orientation": "v",
         "showlegend": true,
         "textposition": "auto",
         "type": "bar",
         "x": [
          "healthline.com"
         ],
         "xaxis": "x",
         "y": [
          3
         ],
         "yaxis": "y"
        },
        {
         "alignmentgroup": "True",
         "hovertemplate": "name=%{x}<br>count=%{y}<extra></extra>",
         "legendgroup": "change.org",
         "marker": {
          "color": "#B6E880"
         },
         "name": "change.org",
         "offsetgroup": "change.org",
         "orientation": "v",
         "showlegend": true,
         "textposition": "auto",
         "type": "bar",
         "x": [
          "change.org"
         ],
         "xaxis": "x",
         "y": [
          3
         ],
         "yaxis": "y"
        },
        {
         "alignmentgroup": "True",
         "hovertemplate": "name=%{x}<br>count=%{y}<extra></extra>",
         "legendgroup": "The Home Depot",
         "marker": {
          "color": "#FF97FF"
         },
         "name": "The Home Depot",
         "offsetgroup": "The Home Depot",
         "orientation": "v",
         "showlegend": true,
         "textposition": "auto",
         "type": "bar",
         "x": [
          "The Home Depot"
         ],
         "xaxis": "x",
         "y": [
          3
         ],
         "yaxis": "y"
        },
        {
         "alignmentgroup": "True",
         "hovertemplate": "name=%{x}<br>count=%{y}<extra></extra>",
         "legendgroup": "intersectionalityscore.com",
         "marker": {
          "color": "#FECB52"
         },
         "name": "intersectionalityscore.com",
         "offsetgroup": "intersectionalityscore.com",
         "orientation": "v",
         "showlegend": true,
         "textposition": "auto",
         "type": "bar",
         "x": [
          "intersectionalityscore.com"
         ],
         "xaxis": "x",
         "y": [
          3
         ],
         "yaxis": "y"
        },
        {
         "alignmentgroup": "True",
         "hovertemplate": "name=%{x}<br>count=%{y}<extra></extra>",
         "legendgroup": "chron.com",
         "marker": {
          "color": "#636efa"
         },
         "name": "chron.com",
         "offsetgroup": "chron.com",
         "orientation": "v",
         "showlegend": true,
         "textposition": "auto",
         "type": "bar",
         "x": [
          "chron.com"
         ],
         "xaxis": "x",
         "y": [
          3
         ],
         "yaxis": "y"
        },
        {
         "alignmentgroup": "True",
         "hovertemplate": "name=%{x}<br>count=%{y}<extra></extra>",
         "legendgroup": "fandango.com",
         "marker": {
          "color": "#EF553B"
         },
         "name": "fandango.com",
         "offsetgroup": "fandango.com",
         "orientation": "v",
         "showlegend": true,
         "textposition": "auto",
         "type": "bar",
         "x": [
          "fandango.com"
         ],
         "xaxis": "x",
         "y": [
          3
         ],
         "yaxis": "y"
        },
        {
         "alignmentgroup": "True",
         "hovertemplate": "name=%{x}<br>count=%{y}<extra></extra>",
         "legendgroup": "eventbrite.com",
         "marker": {
          "color": "#00cc96"
         },
         "name": "eventbrite.com",
         "offsetgroup": "eventbrite.com",
         "orientation": "v",
         "showlegend": true,
         "textposition": "auto",
         "type": "bar",
         "x": [
          "eventbrite.com"
         ],
         "xaxis": "x",
         "y": [
          3
         ],
         "yaxis": "y"
        },
        {
         "alignmentgroup": "True",
         "hovertemplate": "name=%{x}<br>count=%{y}<extra></extra>",
         "legendgroup": "northroprealty.com",
         "marker": {
          "color": "#ab63fa"
         },
         "name": "northroprealty.com",
         "offsetgroup": "northroprealty.com",
         "orientation": "v",
         "showlegend": true,
         "textposition": "auto",
         "type": "bar",
         "x": [
          "northroprealty.com"
         ],
         "xaxis": "x",
         "y": [
          3
         ],
         "yaxis": "y"
        },
        {
         "alignmentgroup": "True",
         "hovertemplate": "name=%{x}<br>count=%{y}<extra></extra>",
         "legendgroup": "houstonchronicle.com",
         "marker": {
          "color": "#FFA15A"
         },
         "name": "houstonchronicle.com",
         "offsetgroup": "houstonchronicle.com",
         "orientation": "v",
         "showlegend": true,
         "textposition": "auto",
         "type": "bar",
         "x": [
          "houstonchronicle.com"
         ],
         "xaxis": "x",
         "y": [
          3
         ],
         "yaxis": "y"
        },
        {
         "alignmentgroup": "True",
         "hovertemplate": "name=%{x}<br>count=%{y}<extra></extra>",
         "legendgroup": "telegraph.co.uk",
         "marker": {
          "color": "#19d3f3"
         },
         "name": "telegraph.co.uk",
         "offsetgroup": "telegraph.co.uk",
         "orientation": "v",
         "showlegend": true,
         "textposition": "auto",
         "type": "bar",
         "x": [
          "telegraph.co.uk"
         ],
         "xaxis": "x",
         "y": [
          3
         ],
         "yaxis": "y"
        },
        {
         "alignmentgroup": "True",
         "hovertemplate": "name=%{x}<br>count=%{y}<extra></extra>",
         "legendgroup": "wired.com",
         "marker": {
          "color": "#FF6692"
         },
         "name": "wired.com",
         "offsetgroup": "wired.com",
         "orientation": "v",
         "showlegend": true,
         "textposition": "auto",
         "type": "bar",
         "x": [
          "wired.com"
         ],
         "xaxis": "x",
         "y": [
          3
         ],
         "yaxis": "y"
        },
        {
         "alignmentgroup": "True",
         "hovertemplate": "name=%{x}<br>count=%{y}<extra></extra>",
         "legendgroup": "eToro Cryptocurrency Trading",
         "marker": {
          "color": "#B6E880"
         },
         "name": "eToro Cryptocurrency Trading",
         "offsetgroup": "eToro Cryptocurrency Trading",
         "orientation": "v",
         "showlegend": true,
         "textposition": "auto",
         "type": "bar",
         "x": [
          "eToro Cryptocurrency Trading"
         ],
         "xaxis": "x",
         "y": [
          3
         ],
         "yaxis": "y"
        },
        {
         "alignmentgroup": "True",
         "hovertemplate": "name=%{x}<br>count=%{y}<extra></extra>",
         "legendgroup": "cnet.com",
         "marker": {
          "color": "#FF97FF"
         },
         "name": "cnet.com",
         "offsetgroup": "cnet.com",
         "orientation": "v",
         "showlegend": true,
         "textposition": "auto",
         "type": "bar",
         "x": [
          "cnet.com"
         ],
         "xaxis": "x",
         "y": [
          3
         ],
         "yaxis": "y"
        },
        {
         "alignmentgroup": "True",
         "hovertemplate": "name=%{x}<br>count=%{y}<extra></extra>",
         "legendgroup": "weave.works",
         "marker": {
          "color": "#FECB52"
         },
         "name": "weave.works",
         "offsetgroup": "weave.works",
         "orientation": "v",
         "showlegend": true,
         "textposition": "auto",
         "type": "bar",
         "x": [
          "weave.works"
         ],
         "xaxis": "x",
         "y": [
          2
         ],
         "yaxis": "y"
        },
        {
         "alignmentgroup": "True",
         "hovertemplate": "name=%{x}<br>count=%{y}<extra></extra>",
         "legendgroup": "brainhub.eu",
         "marker": {
          "color": "#636efa"
         },
         "name": "brainhub.eu",
         "offsetgroup": "brainhub.eu",
         "orientation": "v",
         "showlegend": true,
         "textposition": "auto",
         "type": "bar",
         "x": [
          "brainhub.eu"
         ],
         "xaxis": "x",
         "y": [
          2
         ],
         "yaxis": "y"
        },
        {
         "alignmentgroup": "True",
         "hovertemplate": "name=%{x}<br>count=%{y}<extra></extra>",
         "legendgroup": "popularmechanics.com",
         "marker": {
          "color": "#EF553B"
         },
         "name": "popularmechanics.com",
         "offsetgroup": "popularmechanics.com",
         "orientation": "v",
         "showlegend": true,
         "textposition": "auto",
         "type": "bar",
         "x": [
          "popularmechanics.com"
         ],
         "xaxis": "x",
         "y": [
          2
         ],
         "yaxis": "y"
        },
        {
         "alignmentgroup": "True",
         "hovertemplate": "name=%{x}<br>count=%{y}<extra></extra>",
         "legendgroup": "washingtonpost.com",
         "marker": {
          "color": "#00cc96"
         },
         "name": "washingtonpost.com",
         "offsetgroup": "washingtonpost.com",
         "orientation": "v",
         "showlegend": true,
         "textposition": "auto",
         "type": "bar",
         "x": [
          "washingtonpost.com"
         ],
         "xaxis": "x",
         "y": [
          2
         ],
         "yaxis": "y"
        },
        {
         "alignmentgroup": "True",
         "hovertemplate": "name=%{x}<br>count=%{y}<extra></extra>",
         "legendgroup": "vans.com",
         "marker": {
          "color": "#ab63fa"
         },
         "name": "vans.com",
         "offsetgroup": "vans.com",
         "orientation": "v",
         "showlegend": true,
         "textposition": "auto",
         "type": "bar",
         "x": [
          "vans.com"
         ],
         "xaxis": "x",
         "y": [
          2
         ],
         "yaxis": "y"
        },
        {
         "alignmentgroup": "True",
         "hovertemplate": "name=%{x}<br>count=%{y}<extra></extra>",
         "legendgroup": "Tinder",
         "marker": {
          "color": "#FFA15A"
         },
         "name": "Tinder",
         "offsetgroup": "Tinder",
         "orientation": "v",
         "showlegend": true,
         "textposition": "auto",
         "type": "bar",
         "x": [
          "Tinder"
         ],
         "xaxis": "x",
         "y": [
          2
         ],
         "yaxis": "y"
        },
        {
         "alignmentgroup": "True",
         "hovertemplate": "name=%{x}<br>count=%{y}<extra></extra>",
         "legendgroup": "usnews.com",
         "marker": {
          "color": "#19d3f3"
         },
         "name": "usnews.com",
         "offsetgroup": "usnews.com",
         "orientation": "v",
         "showlegend": true,
         "textposition": "auto",
         "type": "bar",
         "x": [
          "usnews.com"
         ],
         "xaxis": "x",
         "y": [
          2
         ],
         "yaxis": "y"
        },
        {
         "alignmentgroup": "True",
         "hovertemplate": "name=%{x}<br>count=%{y}<extra></extra>",
         "legendgroup": "macys.com",
         "marker": {
          "color": "#FF6692"
         },
         "name": "macys.com",
         "offsetgroup": "macys.com",
         "orientation": "v",
         "showlegend": true,
         "textposition": "auto",
         "type": "bar",
         "x": [
          "macys.com"
         ],
         "xaxis": "x",
         "y": [
          2
         ],
         "yaxis": "y"
        },
        {
         "alignmentgroup": "True",
         "hovertemplate": "name=%{x}<br>count=%{y}<extra></extra>",
         "legendgroup": "ninjatrader.com",
         "marker": {
          "color": "#B6E880"
         },
         "name": "ninjatrader.com",
         "offsetgroup": "ninjatrader.com",
         "orientation": "v",
         "showlegend": true,
         "textposition": "auto",
         "type": "bar",
         "x": [
          "ninjatrader.com"
         ],
         "xaxis": "x",
         "y": [
          2
         ],
         "yaxis": "y"
        },
        {
         "alignmentgroup": "True",
         "hovertemplate": "name=%{x}<br>count=%{y}<extra></extra>",
         "legendgroup": "ragingbull.com",
         "marker": {
          "color": "#FF97FF"
         },
         "name": "ragingbull.com",
         "offsetgroup": "ragingbull.com",
         "orientation": "v",
         "showlegend": true,
         "textposition": "auto",
         "type": "bar",
         "x": [
          "ragingbull.com"
         ],
         "xaxis": "x",
         "y": [
          2
         ],
         "yaxis": "y"
        },
        {
         "alignmentgroup": "True",
         "hovertemplate": "name=%{x}<br>count=%{y}<extra></extra>",
         "legendgroup": "simpletexting.com",
         "marker": {
          "color": "#FECB52"
         },
         "name": "simpletexting.com",
         "offsetgroup": "simpletexting.com",
         "orientation": "v",
         "showlegend": true,
         "textposition": "auto",
         "type": "bar",
         "x": [
          "simpletexting.com"
         ],
         "xaxis": "x",
         "y": [
          2
         ],
         "yaxis": "y"
        }
       ],
       "layout": {
        "barmode": "relative",
        "legend": {
         "title": {
          "text": "name"
         },
         "tracegroupgap": 0
        },
        "margin": {
         "t": 60
        },
        "showlegend": false,
        "template": {
         "data": {
          "bar": [
           {
            "error_x": {
             "color": "#2a3f5f"
            },
            "error_y": {
             "color": "#2a3f5f"
            },
            "marker": {
             "line": {
              "color": "#E5ECF6",
              "width": 0.5
             }
            },
            "type": "bar"
           }
          ],
          "barpolar": [
           {
            "marker": {
             "line": {
              "color": "#E5ECF6",
              "width": 0.5
             }
            },
            "type": "barpolar"
           }
          ],
          "carpet": [
           {
            "aaxis": {
             "endlinecolor": "#2a3f5f",
             "gridcolor": "white",
             "linecolor": "white",
             "minorgridcolor": "white",
             "startlinecolor": "#2a3f5f"
            },
            "baxis": {
             "endlinecolor": "#2a3f5f",
             "gridcolor": "white",
             "linecolor": "white",
             "minorgridcolor": "white",
             "startlinecolor": "#2a3f5f"
            },
            "type": "carpet"
           }
          ],
          "choropleth": [
           {
            "colorbar": {
             "outlinewidth": 0,
             "ticks": ""
            },
            "type": "choropleth"
           }
          ],
          "contour": [
           {
            "colorbar": {
             "outlinewidth": 0,
             "ticks": ""
            },
            "colorscale": [
             [
              0,
              "#0d0887"
             ],
             [
              0.1111111111111111,
              "#46039f"
             ],
             [
              0.2222222222222222,
              "#7201a8"
             ],
             [
              0.3333333333333333,
              "#9c179e"
             ],
             [
              0.4444444444444444,
              "#bd3786"
             ],
             [
              0.5555555555555556,
              "#d8576b"
             ],
             [
              0.6666666666666666,
              "#ed7953"
             ],
             [
              0.7777777777777778,
              "#fb9f3a"
             ],
             [
              0.8888888888888888,
              "#fdca26"
             ],
             [
              1,
              "#f0f921"
             ]
            ],
            "type": "contour"
           }
          ],
          "contourcarpet": [
           {
            "colorbar": {
             "outlinewidth": 0,
             "ticks": ""
            },
            "type": "contourcarpet"
           }
          ],
          "heatmap": [
           {
            "colorbar": {
             "outlinewidth": 0,
             "ticks": ""
            },
            "colorscale": [
             [
              0,
              "#0d0887"
             ],
             [
              0.1111111111111111,
              "#46039f"
             ],
             [
              0.2222222222222222,
              "#7201a8"
             ],
             [
              0.3333333333333333,
              "#9c179e"
             ],
             [
              0.4444444444444444,
              "#bd3786"
             ],
             [
              0.5555555555555556,
              "#d8576b"
             ],
             [
              0.6666666666666666,
              "#ed7953"
             ],
             [
              0.7777777777777778,
              "#fb9f3a"
             ],
             [
              0.8888888888888888,
              "#fdca26"
             ],
             [
              1,
              "#f0f921"
             ]
            ],
            "type": "heatmap"
           }
          ],
          "heatmapgl": [
           {
            "colorbar": {
             "outlinewidth": 0,
             "ticks": ""
            },
            "colorscale": [
             [
              0,
              "#0d0887"
             ],
             [
              0.1111111111111111,
              "#46039f"
             ],
             [
              0.2222222222222222,
              "#7201a8"
             ],
             [
              0.3333333333333333,
              "#9c179e"
             ],
             [
              0.4444444444444444,
              "#bd3786"
             ],
             [
              0.5555555555555556,
              "#d8576b"
             ],
             [
              0.6666666666666666,
              "#ed7953"
             ],
             [
              0.7777777777777778,
              "#fb9f3a"
             ],
             [
              0.8888888888888888,
              "#fdca26"
             ],
             [
              1,
              "#f0f921"
             ]
            ],
            "type": "heatmapgl"
           }
          ],
          "histogram": [
           {
            "marker": {
             "colorbar": {
              "outlinewidth": 0,
              "ticks": ""
             }
            },
            "type": "histogram"
           }
          ],
          "histogram2d": [
           {
            "colorbar": {
             "outlinewidth": 0,
             "ticks": ""
            },
            "colorscale": [
             [
              0,
              "#0d0887"
             ],
             [
              0.1111111111111111,
              "#46039f"
             ],
             [
              0.2222222222222222,
              "#7201a8"
             ],
             [
              0.3333333333333333,
              "#9c179e"
             ],
             [
              0.4444444444444444,
              "#bd3786"
             ],
             [
              0.5555555555555556,
              "#d8576b"
             ],
             [
              0.6666666666666666,
              "#ed7953"
             ],
             [
              0.7777777777777778,
              "#fb9f3a"
             ],
             [
              0.8888888888888888,
              "#fdca26"
             ],
             [
              1,
              "#f0f921"
             ]
            ],
            "type": "histogram2d"
           }
          ],
          "histogram2dcontour": [
           {
            "colorbar": {
             "outlinewidth": 0,
             "ticks": ""
            },
            "colorscale": [
             [
              0,
              "#0d0887"
             ],
             [
              0.1111111111111111,
              "#46039f"
             ],
             [
              0.2222222222222222,
              "#7201a8"
             ],
             [
              0.3333333333333333,
              "#9c179e"
             ],
             [
              0.4444444444444444,
              "#bd3786"
             ],
             [
              0.5555555555555556,
              "#d8576b"
             ],
             [
              0.6666666666666666,
              "#ed7953"
             ],
             [
              0.7777777777777778,
              "#fb9f3a"
             ],
             [
              0.8888888888888888,
              "#fdca26"
             ],
             [
              1,
              "#f0f921"
             ]
            ],
            "type": "histogram2dcontour"
           }
          ],
          "mesh3d": [
           {
            "colorbar": {
             "outlinewidth": 0,
             "ticks": ""
            },
            "type": "mesh3d"
           }
          ],
          "parcoords": [
           {
            "line": {
             "colorbar": {
              "outlinewidth": 0,
              "ticks": ""
             }
            },
            "type": "parcoords"
           }
          ],
          "pie": [
           {
            "automargin": true,
            "type": "pie"
           }
          ],
          "scatter": [
           {
            "marker": {
             "colorbar": {
              "outlinewidth": 0,
              "ticks": ""
             }
            },
            "type": "scatter"
           }
          ],
          "scatter3d": [
           {
            "line": {
             "colorbar": {
              "outlinewidth": 0,
              "ticks": ""
             }
            },
            "marker": {
             "colorbar": {
              "outlinewidth": 0,
              "ticks": ""
             }
            },
            "type": "scatter3d"
           }
          ],
          "scattercarpet": [
           {
            "marker": {
             "colorbar": {
              "outlinewidth": 0,
              "ticks": ""
             }
            },
            "type": "scattercarpet"
           }
          ],
          "scattergeo": [
           {
            "marker": {
             "colorbar": {
              "outlinewidth": 0,
              "ticks": ""
             }
            },
            "type": "scattergeo"
           }
          ],
          "scattergl": [
           {
            "marker": {
             "colorbar": {
              "outlinewidth": 0,
              "ticks": ""
             }
            },
            "type": "scattergl"
           }
          ],
          "scattermapbox": [
           {
            "marker": {
             "colorbar": {
              "outlinewidth": 0,
              "ticks": ""
             }
            },
            "type": "scattermapbox"
           }
          ],
          "scatterpolar": [
           {
            "marker": {
             "colorbar": {
              "outlinewidth": 0,
              "ticks": ""
             }
            },
            "type": "scatterpolar"
           }
          ],
          "scatterpolargl": [
           {
            "marker": {
             "colorbar": {
              "outlinewidth": 0,
              "ticks": ""
             }
            },
            "type": "scatterpolargl"
           }
          ],
          "scatterternary": [
           {
            "marker": {
             "colorbar": {
              "outlinewidth": 0,
              "ticks": ""
             }
            },
            "type": "scatterternary"
           }
          ],
          "surface": [
           {
            "colorbar": {
             "outlinewidth": 0,
             "ticks": ""
            },
            "colorscale": [
             [
              0,
              "#0d0887"
             ],
             [
              0.1111111111111111,
              "#46039f"
             ],
             [
              0.2222222222222222,
              "#7201a8"
             ],
             [
              0.3333333333333333,
              "#9c179e"
             ],
             [
              0.4444444444444444,
              "#bd3786"
             ],
             [
              0.5555555555555556,
              "#d8576b"
             ],
             [
              0.6666666666666666,
              "#ed7953"
             ],
             [
              0.7777777777777778,
              "#fb9f3a"
             ],
             [
              0.8888888888888888,
              "#fdca26"
             ],
             [
              1,
              "#f0f921"
             ]
            ],
            "type": "surface"
           }
          ],
          "table": [
           {
            "cells": {
             "fill": {
              "color": "#EBF0F8"
             },
             "line": {
              "color": "white"
             }
            },
            "header": {
             "fill": {
              "color": "#C8D4E3"
             },
             "line": {
              "color": "white"
             }
            },
            "type": "table"
           }
          ]
         },
         "layout": {
          "annotationdefaults": {
           "arrowcolor": "#2a3f5f",
           "arrowhead": 0,
           "arrowwidth": 1
          },
          "coloraxis": {
           "colorbar": {
            "outlinewidth": 0,
            "ticks": ""
           }
          },
          "colorscale": {
           "diverging": [
            [
             0,
             "#8e0152"
            ],
            [
             0.1,
             "#c51b7d"
            ],
            [
             0.2,
             "#de77ae"
            ],
            [
             0.3,
             "#f1b6da"
            ],
            [
             0.4,
             "#fde0ef"
            ],
            [
             0.5,
             "#f7f7f7"
            ],
            [
             0.6,
             "#e6f5d0"
            ],
            [
             0.7,
             "#b8e186"
            ],
            [
             0.8,
             "#7fbc41"
            ],
            [
             0.9,
             "#4d9221"
            ],
            [
             1,
             "#276419"
            ]
           ],
           "sequential": [
            [
             0,
             "#0d0887"
            ],
            [
             0.1111111111111111,
             "#46039f"
            ],
            [
             0.2222222222222222,
             "#7201a8"
            ],
            [
             0.3333333333333333,
             "#9c179e"
            ],
            [
             0.4444444444444444,
             "#bd3786"
            ],
            [
             0.5555555555555556,
             "#d8576b"
            ],
            [
             0.6666666666666666,
             "#ed7953"
            ],
            [
             0.7777777777777778,
             "#fb9f3a"
            ],
            [
             0.8888888888888888,
             "#fdca26"
            ],
            [
             1,
             "#f0f921"
            ]
           ],
           "sequentialminus": [
            [
             0,
             "#0d0887"
            ],
            [
             0.1111111111111111,
             "#46039f"
            ],
            [
             0.2222222222222222,
             "#7201a8"
            ],
            [
             0.3333333333333333,
             "#9c179e"
            ],
            [
             0.4444444444444444,
             "#bd3786"
            ],
            [
             0.5555555555555556,
             "#d8576b"
            ],
            [
             0.6666666666666666,
             "#ed7953"
            ],
            [
             0.7777777777777778,
             "#fb9f3a"
            ],
            [
             0.8888888888888888,
             "#fdca26"
            ],
            [
             1,
             "#f0f921"
            ]
           ]
          },
          "colorway": [
           "#636efa",
           "#EF553B",
           "#00cc96",
           "#ab63fa",
           "#FFA15A",
           "#19d3f3",
           "#FF6692",
           "#B6E880",
           "#FF97FF",
           "#FECB52"
          ],
          "font": {
           "color": "#2a3f5f"
          },
          "geo": {
           "bgcolor": "white",
           "lakecolor": "white",
           "landcolor": "#E5ECF6",
           "showlakes": true,
           "showland": true,
           "subunitcolor": "white"
          },
          "hoverlabel": {
           "align": "left"
          },
          "hovermode": "closest",
          "mapbox": {
           "style": "light"
          },
          "paper_bgcolor": "white",
          "plot_bgcolor": "#E5ECF6",
          "polar": {
           "angularaxis": {
            "gridcolor": "white",
            "linecolor": "white",
            "ticks": ""
           },
           "bgcolor": "#E5ECF6",
           "radialaxis": {
            "gridcolor": "white",
            "linecolor": "white",
            "ticks": ""
           }
          },
          "scene": {
           "xaxis": {
            "backgroundcolor": "#E5ECF6",
            "gridcolor": "white",
            "gridwidth": 2,
            "linecolor": "white",
            "showbackground": true,
            "ticks": "",
            "zerolinecolor": "white"
           },
           "yaxis": {
            "backgroundcolor": "#E5ECF6",
            "gridcolor": "white",
            "gridwidth": 2,
            "linecolor": "white",
            "showbackground": true,
            "ticks": "",
            "zerolinecolor": "white"
           },
           "zaxis": {
            "backgroundcolor": "#E5ECF6",
            "gridcolor": "white",
            "gridwidth": 2,
            "linecolor": "white",
            "showbackground": true,
            "ticks": "",
            "zerolinecolor": "white"
           }
          },
          "shapedefaults": {
           "line": {
            "color": "#2a3f5f"
           }
          },
          "ternary": {
           "aaxis": {
            "gridcolor": "white",
            "linecolor": "white",
            "ticks": ""
           },
           "baxis": {
            "gridcolor": "white",
            "linecolor": "white",
            "ticks": ""
           },
           "bgcolor": "#E5ECF6",
           "caxis": {
            "gridcolor": "white",
            "linecolor": "white",
            "ticks": ""
           }
          },
          "title": {
           "x": 0.05
          },
          "xaxis": {
           "automargin": true,
           "gridcolor": "white",
           "linecolor": "white",
           "ticks": "",
           "title": {
            "standoff": 15
           },
           "zerolinecolor": "white",
           "zerolinewidth": 2
          },
          "yaxis": {
           "automargin": true,
           "gridcolor": "white",
           "linecolor": "white",
           "ticks": "",
           "title": {
            "standoff": 15
           },
           "zerolinecolor": "white",
           "zerolinewidth": 2
          }
         }
        },
        "width": 1400,
        "xaxis": {
         "anchor": "y",
         "categoryarray": [
          "gitlab.com",
          "docker.com",
          "TikTok - Make Your Day",
          "elastic.co",
          "TikTok - Real Short Videos",
          "Venmo",
          "digitalocean.com",
          "lmiutil.com",
          "SoundCloud - Music & Audio",
          "cnn.com",
          "zillow.com",
          "Venmo: Send & Receive Money",
          "Sterling Jewelers Inc.",
          "newegg.com",
          "howtogeek.com",
          "gatech.edu",
          "forbes.com",
          "bose.com",
          "alot.com",
          "dailyfeed.co.uk",
          "scrumalliance.org",
          "intuit.com",
          "pluralsight.com",
          "towson.edu",
          "tripadvisor.com",
          "Disney Streaming Services",
          "lifehacker.com",
          "nbcnews.com",
          "Amazon",
          "liquidweb.com",
          "safariland.com",
          "atlantablackstar.com",
          "logrocket.com",
          "unanet.com",
          "medicinenet.com",
          "Discover Financial Services",
          "stitchfix.com",
          "sciencefocus.com",
          "baeldung.com",
          "baltimoresun.com",
          "Invstr: Play. Learn. Invest.",
          "pcworld.com",
          "seekingalpha.com",
          "balena.io",
          "discover.com",
          "Hulu",
          "empower-retirement.com",
          "gradifi.com",
          "buzzfeed.com",
          "brobible.com",
          "investors.com",
          "microsoft.com",
          "microcenter.com",
          "networkworld.com",
          "ticketmaster.com",
          "redhat.com",
          "businessinsider.com",
          "harvard.edu",
          "medicalnewstoday.com",
          "phoenixnap.com",
          "pointstreak.com",
          "webmd.com",
          "fool.com",
          "wbaltv.com",
          "smartasset.com",
          "allaboutvision.com",
          "simplilearn.com",
          "cnbc.com",
          "thenewstack.io",
          "pimylifeup.com",
          "aljazeera.com",
          "thoughtcatalog.com",
          "nationalgeographic.com",
          "eBay Business Manager",
          "nra.org",
          "lastpass.com",
          "healthline.com",
          "change.org",
          "The Home Depot",
          "intersectionalityscore.com",
          "chron.com",
          "fandango.com",
          "eventbrite.com",
          "northroprealty.com",
          "houstonchronicle.com",
          "telegraph.co.uk",
          "wired.com",
          "eToro Cryptocurrency Trading",
          "cnet.com",
          "weave.works",
          "brainhub.eu",
          "popularmechanics.com",
          "washingtonpost.com",
          "vans.com",
          "Tinder",
          "usnews.com",
          "macys.com",
          "ninjatrader.com",
          "ragingbull.com",
          "simpletexting.com"
         ],
         "categoryorder": "array",
         "domain": [
          0,
          1
         ],
         "title": {
          "text": ""
         }
        },
        "yaxis": {
         "anchor": "x",
         "domain": [
          0,
          1
         ],
         "title": {
          "text": ""
         }
        }
       }
      }
     },
     "metadata": {}
    }
   ],
   "source": [
    "\n",
    "off_facebook_file_csv = 'data/{}/ads_and_businesses/your_off-facebook_activity.csv'.format(FACEBOOK_FOLDER)\n",
    "\n",
    "off_facebook_df = pd.read_csv(off_facebook_file_csv)\n",
    "\n",
    "counts_s = off_facebook_df['name'].value_counts()\n",
    "counts_df = pd.DataFrame({'name':counts_s.index, 'count':counts_s.values})[0:100]\n",
    "\n",
    "fig = px.bar(counts_df,x='name',y='count',color='name',width=1400)\n",
    "fig.update_layout(showlegend=False)\n",
    "fig.update_layout(xaxis={'title':''})\n",
    "fig.update_layout(yaxis={'title':''})\n",
    "fig.show()\n",
    "\n",
    "\n",
    "\n",
    "\n",
    "\n"
   ]
  },
  {
   "cell_type": "markdown",
   "metadata": {},
   "source": [
    "### Timeline of 15 most Frequently Recorded Visits"
   ]
  },
  {
   "cell_type": "code",
   "execution_count": 140,
   "metadata": {
    "tags": [
     "outputPrepend"
    ]
   },
   "outputs": [
    {
     "output_type": "display_data",
     "data": {
      "application/vnd.plotly.v1+json": {
       "config": {
        "plotlyServerURL": "https://plot.ly"
       },
       "data": [
        {
         "marker": {
          "symbol": "star-triangle-up"
         },
         "mode": "markers",
         "type": "scatter",
         "x": [
          "2020-05-04T22:43:56",
          "2020-04-02T23:09:18",
          "2020-03-03T11:15:54",
          "2020-03-03T10:53:25",
          "2020-02-10T11:50:21",
          "2020-02-10T10:49:05",
          "2020-02-09T23:17:35",
          "2020-01-19T03:25:53",
          "2020-01-04T16:30:17",
          "2019-12-17T20:05:53",
          "2019-12-15T03:26:26",
          "2019-10-28T15:59:45",
          "2019-10-22T23:36:19"
         ],
         "y": [
          "SoundCloud - Music & Audio",
          "SoundCloud - Music & Audio",
          "SoundCloud - Music & Audio",
          "SoundCloud - Music & Audio",
          "SoundCloud - Music & Audio",
          "SoundCloud - Music & Audio",
          "SoundCloud - Music & Audio",
          "SoundCloud - Music & Audio",
          "SoundCloud - Music & Audio",
          "SoundCloud - Music & Audio",
          "SoundCloud - Music & Audio",
          "SoundCloud - Music & Audio",
          "SoundCloud - Music & Audio"
         ]
        },
        {
         "marker": {
          "symbol": "star-triangle-up"
         },
         "mode": "markers",
         "type": "scatter",
         "x": [
          "2020-04-25T04:44:09",
          "2020-04-25T04:26:35",
          "2020-04-22T19:50:28",
          "2020-04-22T19:31:06",
          "2020-04-17T01:14:43",
          "2020-03-16T14:47:28",
          "2020-03-16T03:07:09",
          "2020-03-16T00:23:01",
          "2020-03-15T23:57:52",
          "2020-03-15T23:36:33",
          "2020-03-15T18:58:00",
          "2020-03-15T18:31:59",
          "2020-03-15T14:03:31",
          "2020-03-13T23:30:18",
          "2020-03-13T23:23:01",
          "2020-03-13T23:11:04",
          "2020-03-01T07:30:22",
          "2020-03-01T07:19:14",
          "2020-03-01T05:25:57",
          "2020-02-10T15:41:49",
          "2020-01-19T17:04:53",
          "2020-01-01T15:24:56",
          "2019-12-24T19:45:44",
          "2019-12-24T11:15:34",
          "2019-12-22T06:02:06",
          "2019-12-22T05:55:25",
          "2019-12-17T19:40:31",
          "2019-11-28T11:02:26",
          "2019-11-28T02:46:34",
          "2019-11-28T02:36:46"
         ],
         "y": [
          "Venmo",
          "Venmo",
          "Venmo",
          "Venmo",
          "Venmo",
          "Venmo",
          "Venmo",
          "Venmo",
          "Venmo",
          "Venmo",
          "Venmo",
          "Venmo",
          "Venmo",
          "Venmo",
          "Venmo",
          "Venmo",
          "Venmo",
          "Venmo",
          "Venmo",
          "Venmo",
          "Venmo",
          "Venmo",
          "Venmo",
          "Venmo",
          "Venmo",
          "Venmo",
          "Venmo",
          "Venmo",
          "Venmo",
          "Venmo"
         ]
        },
        {
         "marker": {
          "symbol": "star-triangle-up"
         },
         "mode": "markers",
         "type": "scatter",
         "x": [
          "2020-03-18T18:37:09",
          "2020-03-18T18:37:07",
          "2020-02-19T12:35:55",
          "2020-02-19T12:35:55",
          "2020-02-19T12:35:51",
          "2020-02-19T12:26:52",
          "2020-02-19T12:26:52",
          "2020-02-19T12:26:48",
          "2020-02-03T19:52:38",
          "2020-02-03T19:52:34"
         ],
         "y": [
          "newegg.com",
          "newegg.com",
          "newegg.com",
          "newegg.com",
          "newegg.com",
          "newegg.com",
          "newegg.com",
          "newegg.com",
          "newegg.com",
          "newegg.com"
         ]
        },
        {
         "marker": {
          "symbol": "star-triangle-up"
         },
         "mode": "markers",
         "type": "scatter",
         "x": [
          "2020-03-18T16:09:20",
          "2020-03-18T16:09:18",
          "2020-03-12T14:58:57",
          "2020-01-15T19:18:41",
          "2020-01-15T19:18:33",
          "2019-12-30T12:31:28",
          "2019-12-30T12:29:26",
          "2019-12-30T12:13:22",
          "2019-12-30T12:13:16",
          "2019-12-30T12:12:45",
          "2019-11-05T16:46:16",
          "2019-11-05T16:46:15",
          "2019-11-05T16:46:13"
         ],
         "y": [
          "cnn.com",
          "cnn.com",
          "cnn.com",
          "cnn.com",
          "cnn.com",
          "cnn.com",
          "cnn.com",
          "cnn.com",
          "cnn.com",
          "cnn.com",
          "cnn.com",
          "cnn.com",
          "cnn.com"
         ]
        },
        {
         "marker": {
          "symbol": "star-triangle-up"
         },
         "mode": "markers",
         "type": "scatter",
         "x": [
          "2020-03-16T17:37:55",
          "2020-03-06T17:57:45",
          "2020-03-06T15:22:19",
          "2020-02-28T17:29:44",
          "2020-02-09T01:22:19",
          "2020-01-31T12:37:34",
          "2020-01-16T12:54:14",
          "2019-12-13T15:15:16",
          "2019-09-14T02:28:52",
          "2019-09-05T23:28:33"
         ],
         "y": [
          "howtogeek.com",
          "howtogeek.com",
          "howtogeek.com",
          "howtogeek.com",
          "howtogeek.com",
          "howtogeek.com",
          "howtogeek.com",
          "howtogeek.com",
          "howtogeek.com",
          "howtogeek.com"
         ]
        },
        {
         "marker": {
          "symbol": "star-triangle-up"
         },
         "mode": "markers",
         "type": "scatter",
         "x": [
          "2020-03-12T18:02:12",
          "2020-03-12T17:56:58",
          "2020-03-12T17:55:54",
          "2020-03-12T16:25:24",
          "2020-03-12T16:00:10",
          "2020-03-12T15:59:40",
          "2020-03-12T14:42:20",
          "2020-03-12T13:24:57",
          "2020-03-12T11:37:14",
          "2020-03-11T16:58:18",
          "2020-03-11T16:44:57",
          "2020-03-11T16:43:33",
          "2020-03-11T15:53:54",
          "2020-03-11T15:53:54",
          "2020-03-11T15:13:04",
          "2020-03-11T15:07:32",
          "2020-03-11T14:57:27",
          "2020-03-11T14:57:19",
          "2020-03-11T13:26:48",
          "2020-03-11T12:58:13",
          "2020-03-11T12:14:51",
          "2020-03-11T11:59:44",
          "2020-03-10T18:33:56",
          "2020-03-10T18:22:14",
          "2020-03-10T18:12:32",
          "2020-03-10T17:53:48",
          "2020-03-10T17:21:56",
          "2020-03-10T17:20:01",
          "2020-03-10T17:14:39",
          "2020-03-10T16:14:26",
          "2020-03-06T14:50:40",
          "2020-03-05T16:21:57",
          "2020-03-02T13:58:14",
          "2020-03-02T13:58:14",
          "2020-03-02T13:41:25",
          "2020-02-28T18:31:56",
          "2020-02-28T18:31:56",
          "2020-01-10T14:42:42",
          "2020-01-03T12:20:46",
          "2019-12-26T16:15:03",
          "2019-12-26T12:21:54",
          "2019-12-18T16:22:35",
          "2019-12-18T13:48:51",
          "2019-12-17T17:36:10",
          "2019-12-17T12:09:21",
          "2019-12-16T15:21:53",
          "2019-12-16T15:05:20",
          "2019-12-16T14:59:42",
          "2019-12-13T17:55:26",
          "2019-12-12T17:24:08",
          "2019-12-12T15:33:13",
          "2019-12-12T15:16:37",
          "2019-12-12T14:51:43",
          "2019-12-12T14:42:17",
          "2019-12-12T14:09:35",
          "2019-12-12T13:32:13",
          "2019-12-11T18:40:22",
          "2019-12-11T18:13:17",
          "2019-12-11T15:51:57"
         ],
         "y": [
          "gitlab.com",
          "gitlab.com",
          "gitlab.com",
          "gitlab.com",
          "gitlab.com",
          "gitlab.com",
          "gitlab.com",
          "gitlab.com",
          "gitlab.com",
          "gitlab.com",
          "gitlab.com",
          "gitlab.com",
          "gitlab.com",
          "gitlab.com",
          "gitlab.com",
          "gitlab.com",
          "gitlab.com",
          "gitlab.com",
          "gitlab.com",
          "gitlab.com",
          "gitlab.com",
          "gitlab.com",
          "gitlab.com",
          "gitlab.com",
          "gitlab.com",
          "gitlab.com",
          "gitlab.com",
          "gitlab.com",
          "gitlab.com",
          "gitlab.com",
          "gitlab.com",
          "gitlab.com",
          "gitlab.com",
          "gitlab.com",
          "gitlab.com",
          "gitlab.com",
          "gitlab.com",
          "gitlab.com",
          "gitlab.com",
          "gitlab.com",
          "gitlab.com",
          "gitlab.com",
          "gitlab.com",
          "gitlab.com",
          "gitlab.com",
          "gitlab.com",
          "gitlab.com",
          "gitlab.com",
          "gitlab.com",
          "gitlab.com",
          "gitlab.com",
          "gitlab.com",
          "gitlab.com",
          "gitlab.com",
          "gitlab.com",
          "gitlab.com",
          "gitlab.com",
          "gitlab.com",
          "gitlab.com"
         ]
        },
        {
         "marker": {
          "symbol": "star-triangle-up"
         },
         "mode": "markers",
         "type": "scatter",
         "x": [
          "2020-03-11T16:05:48",
          "2020-03-09T14:55:53",
          "2020-03-05T18:39:57",
          "2020-02-28T17:26:50",
          "2020-02-13T21:24:54",
          "2020-02-07T14:25:44",
          "2020-01-31T18:43:47",
          "2020-01-16T13:08:36",
          "2020-01-14T17:53:20",
          "2020-01-06T18:44:52",
          "2020-01-06T18:44:52",
          "2020-01-06T16:14:31",
          "2020-01-06T16:14:31",
          "2020-01-06T15:49:14",
          "2020-01-06T15:49:13",
          "2019-12-13T14:03:28",
          "2019-12-13T14:03:28",
          "2019-12-12T15:12:59",
          "2019-12-12T15:12:59",
          "2019-11-11T13:07:09",
          "2019-11-11T13:07:08",
          "2019-10-17T17:38:08",
          "2019-10-17T17:38:07",
          "2019-09-05T23:03:06",
          "2019-09-05T23:03:05",
          "2019-08-09T00:40:43",
          "2019-08-09T00:40:41",
          "2019-08-09T00:25:59",
          "2019-08-09T00:25:58"
         ],
         "y": [
          "digitalocean.com",
          "digitalocean.com",
          "digitalocean.com",
          "digitalocean.com",
          "digitalocean.com",
          "digitalocean.com",
          "digitalocean.com",
          "digitalocean.com",
          "digitalocean.com",
          "digitalocean.com",
          "digitalocean.com",
          "digitalocean.com",
          "digitalocean.com",
          "digitalocean.com",
          "digitalocean.com",
          "digitalocean.com",
          "digitalocean.com",
          "digitalocean.com",
          "digitalocean.com",
          "digitalocean.com",
          "digitalocean.com",
          "digitalocean.com",
          "digitalocean.com",
          "digitalocean.com",
          "digitalocean.com",
          "digitalocean.com",
          "digitalocean.com",
          "digitalocean.com",
          "digitalocean.com"
         ]
        },
        {
         "marker": {
          "symbol": "star-triangle-up"
         },
         "mode": "markers",
         "type": "scatter",
         "x": [
          "2020-03-10T17:14:28",
          "2020-03-10T12:46:42",
          "2020-03-06T14:50:31",
          "2020-03-04T03:04:41",
          "2020-03-03T16:14:27",
          "2020-02-28T19:59:28",
          "2020-02-28T18:52:37",
          "2020-02-28T14:26:21",
          "2020-02-19T16:28:10",
          "2020-02-13T19:44:23",
          "2020-02-13T12:24:03",
          "2020-02-13T04:22:48",
          "2020-02-13T04:10:43",
          "2020-02-10T14:45:25",
          "2020-02-07T16:18:17",
          "2020-02-07T16:14:33",
          "2020-02-05T15:53:13",
          "2020-02-05T14:18:30",
          "2020-02-04T12:46:00",
          "2020-02-03T15:49:44",
          "2020-02-03T15:12:07",
          "2020-02-03T12:20:15",
          "2020-02-03T11:56:09",
          "2020-01-31T14:54:23",
          "2020-01-31T13:48:05",
          "2020-01-20T12:00:41",
          "2020-01-17T16:33:08",
          "2020-01-16T21:41:32",
          "2020-01-16T20:52:18",
          "2020-01-16T19:24:54",
          "2020-01-16T18:19:07",
          "2020-01-16T18:14:37",
          "2020-01-16T16:53:17",
          "2020-01-16T16:20:25",
          "2020-01-15T14:12:47",
          "2020-01-14T19:11:54",
          "2020-01-14T17:08:48",
          "2020-01-14T16:33:13",
          "2020-01-07T16:54:21",
          "2020-01-07T15:42:42",
          "2020-01-06T18:48:25",
          "2020-01-06T17:26:44",
          "2020-01-06T17:08:10",
          "2020-01-06T16:58:15",
          "2020-01-06T16:14:05",
          "2020-01-06T13:53:34",
          "2019-12-19T18:03:18",
          "2019-12-18T16:02:04",
          "2019-12-18T13:10:25",
          "2019-12-17T15:27:06",
          "2019-12-16T16:18:15",
          "2019-12-16T16:05:26",
          "2019-12-16T15:47:56",
          "2019-12-16T15:44:23",
          "2019-12-16T15:20:03",
          "2019-12-16T15:07:41"
         ],
         "y": [
          "docker.com",
          "docker.com",
          "docker.com",
          "docker.com",
          "docker.com",
          "docker.com",
          "docker.com",
          "docker.com",
          "docker.com",
          "docker.com",
          "docker.com",
          "docker.com",
          "docker.com",
          "docker.com",
          "docker.com",
          "docker.com",
          "docker.com",
          "docker.com",
          "docker.com",
          "docker.com",
          "docker.com",
          "docker.com",
          "docker.com",
          "docker.com",
          "docker.com",
          "docker.com",
          "docker.com",
          "docker.com",
          "docker.com",
          "docker.com",
          "docker.com",
          "docker.com",
          "docker.com",
          "docker.com",
          "docker.com",
          "docker.com",
          "docker.com",
          "docker.com",
          "docker.com",
          "docker.com",
          "docker.com",
          "docker.com",
          "docker.com",
          "docker.com",
          "docker.com",
          "docker.com",
          "docker.com",
          "docker.com",
          "docker.com",
          "docker.com",
          "docker.com",
          "docker.com",
          "docker.com",
          "docker.com",
          "docker.com",
          "docker.com"
         ]
        },
        {
         "marker": {
          "symbol": "star-triangle-up"
         },
         "mode": "markers",
         "type": "scatter",
         "x": [
          "2020-03-10T16:17:31",
          "2020-03-10T11:45:11",
          "2020-03-06T14:23:55",
          "2020-02-24T16:45:37",
          "2020-02-21T14:13:07",
          "2020-02-19T13:08:08",
          "2020-02-18T17:00:07",
          "2020-02-18T12:39:53",
          "2020-02-14T18:18:46",
          "2020-02-12T12:45:34"
         ],
         "y": [
          "Sterling Jewelers Inc.",
          "Sterling Jewelers Inc.",
          "Sterling Jewelers Inc.",
          "Sterling Jewelers Inc.",
          "Sterling Jewelers Inc.",
          "Sterling Jewelers Inc.",
          "Sterling Jewelers Inc.",
          "Sterling Jewelers Inc.",
          "Sterling Jewelers Inc.",
          "Sterling Jewelers Inc."
         ]
        },
        {
         "marker": {
          "symbol": "star-triangle-up"
         },
         "mode": "markers",
         "type": "scatter",
         "x": [
          "2020-02-27T18:16:05",
          "2020-02-27T18:14:24",
          "2020-01-08T17:38:41",
          "2020-01-02T15:23:17",
          "2019-12-23T18:41:52",
          "2019-12-12T18:39:52",
          "2019-12-03T12:52:12",
          "2019-12-03T12:41:21",
          "2019-11-20T20:14:57",
          "2019-11-20T19:39:26",
          "2019-11-20T14:00:58",
          "2019-11-20T12:32:58",
          "2019-11-20T12:29:00",
          "2019-11-18T15:22:14",
          "2019-11-15T13:20:52",
          "2019-11-15T13:10:55",
          "2019-11-15T12:20:35",
          "2019-11-14T17:50:41",
          "2019-11-07T19:21:45",
          "2019-11-07T15:50:05",
          "2019-11-07T14:11:33",
          "2019-11-07T13:59:20",
          "2019-11-07T12:01:52",
          "2019-11-06T18:01:47",
          "2019-11-06T17:54:05",
          "2019-11-06T16:47:19",
          "2019-11-06T16:39:01",
          "2019-11-06T13:36:43",
          "2019-11-06T13:21:13",
          "2019-11-06T12:40:21",
          "2019-11-06T12:16:44",
          "2019-11-05T17:34:13",
          "2019-11-05T17:16:35",
          "2019-11-05T17:14:34",
          "2019-11-05T14:07:56",
          "2019-11-05T13:20:10",
          "2019-10-18T14:53:29",
          "2019-10-18T12:52:19",
          "2019-10-18T12:43:45",
          "2019-10-18T12:21:55",
          "2019-10-17T21:47:44",
          "2019-10-17T21:36:48",
          "2019-10-17T16:19:37"
         ],
         "y": [
          "elastic.co",
          "elastic.co",
          "elastic.co",
          "elastic.co",
          "elastic.co",
          "elastic.co",
          "elastic.co",
          "elastic.co",
          "elastic.co",
          "elastic.co",
          "elastic.co",
          "elastic.co",
          "elastic.co",
          "elastic.co",
          "elastic.co",
          "elastic.co",
          "elastic.co",
          "elastic.co",
          "elastic.co",
          "elastic.co",
          "elastic.co",
          "elastic.co",
          "elastic.co",
          "elastic.co",
          "elastic.co",
          "elastic.co",
          "elastic.co",
          "elastic.co",
          "elastic.co",
          "elastic.co",
          "elastic.co",
          "elastic.co",
          "elastic.co",
          "elastic.co",
          "elastic.co",
          "elastic.co",
          "elastic.co",
          "elastic.co",
          "elastic.co",
          "elastic.co",
          "elastic.co",
          "elastic.co",
          "elastic.co"
         ]
        },
        {
         "marker": {
          "symbol": "star-triangle-up"
         },
         "mode": "markers",
         "type": "scatter",
         "x": [
          "2020-02-11T16:24:05",
          "2019-12-27T12:49:34",
          "2019-12-27T12:44:46",
          "2019-12-27T12:41:07",
          "2019-11-18T13:12:21",
          "2019-11-18T12:38:20",
          "2019-11-18T12:26:08",
          "2019-11-18T11:21:43",
          "2019-11-18T02:45:31",
          "2019-11-18T02:38:03",
          "2019-11-18T02:19:28",
          "2019-11-18T01:59:16"
         ],
         "y": [
          "zillow.com",
          "zillow.com",
          "zillow.com",
          "zillow.com",
          "zillow.com",
          "zillow.com",
          "zillow.com",
          "zillow.com",
          "zillow.com",
          "zillow.com",
          "zillow.com",
          "zillow.com"
         ]
        },
        {
         "marker": {
          "symbol": "star-triangle-up"
         },
         "mode": "markers",
         "type": "scatter",
         "x": [
          "2020-01-08T13:51:13",
          "2020-01-08T13:51:13",
          "2019-12-05T21:11:52",
          "2019-11-26T11:50:59",
          "2019-11-26T11:50:58",
          "2019-11-25T02:47:57",
          "2019-11-25T02:47:55",
          "2019-11-25T02:44:14",
          "2019-11-25T02:44:13",
          "2019-11-25T02:44:13",
          "2019-11-21T15:02:55",
          "2019-11-21T15:02:54",
          "2019-11-21T14:56:36",
          "2019-11-21T14:56:36",
          "2019-11-21T14:40:28",
          "2019-11-21T14:40:28",
          "2019-11-21T14:11:58",
          "2019-11-21T14:11:57",
          "2019-11-21T13:56:19",
          "2019-11-21T13:56:19",
          "2019-11-21T13:41:22",
          "2019-11-21T13:41:22"
         ],
         "y": [
          "lmiutil.com",
          "lmiutil.com",
          "lmiutil.com",
          "lmiutil.com",
          "lmiutil.com",
          "lmiutil.com",
          "lmiutil.com",
          "lmiutil.com",
          "lmiutil.com",
          "lmiutil.com",
          "lmiutil.com",
          "lmiutil.com",
          "lmiutil.com",
          "lmiutil.com",
          "lmiutil.com",
          "lmiutil.com",
          "lmiutil.com",
          "lmiutil.com",
          "lmiutil.com",
          "lmiutil.com",
          "lmiutil.com",
          "lmiutil.com"
         ]
        },
        {
         "marker": {
          "symbol": "star-triangle-up"
         },
         "mode": "markers",
         "type": "scatter",
         "x": [
          "2019-11-16T19:21:32",
          "2019-11-10T07:17:22",
          "2019-11-10T07:14:42",
          "2019-11-08T03:06:05",
          "2019-11-07T18:38:16",
          "2019-11-02T07:39:26",
          "2019-11-02T07:09:13",
          "2019-10-25T22:06:26",
          "2019-10-24T17:02:09",
          "2019-10-24T16:17:36"
         ],
         "y": [
          "Venmo: Send & Receive Money",
          "Venmo: Send & Receive Money",
          "Venmo: Send & Receive Money",
          "Venmo: Send & Receive Money",
          "Venmo: Send & Receive Money",
          "Venmo: Send & Receive Money",
          "Venmo: Send & Receive Money",
          "Venmo: Send & Receive Money",
          "Venmo: Send & Receive Money",
          "Venmo: Send & Receive Money"
         ]
        },
        {
         "marker": {
          "symbol": "star-triangle-up"
         },
         "mode": "markers",
         "type": "scatter",
         "x": [
          "2019-10-19T03:47:46",
          "2019-10-19T03:36:03",
          "2019-10-12T22:52:22",
          "2019-10-12T22:34:25",
          "2019-10-09T05:25:35",
          "2019-10-09T05:08:08",
          "2019-10-08T21:38:08",
          "2019-10-08T21:21:03",
          "2019-10-08T21:04:44",
          "2019-10-08T01:30:19",
          "2019-10-03T02:09:17",
          "2019-10-03T01:50:21",
          "2019-09-24T19:03:41",
          "2019-09-23T20:45:59",
          "2019-09-23T20:35:33",
          "2019-09-22T15:32:20",
          "2019-09-22T15:15:42",
          "2019-09-20T21:57:17",
          "2019-09-20T18:33:29",
          "2019-09-20T18:23:02",
          "2019-09-19T11:01:19",
          "2019-09-18T22:48:27",
          "2019-09-18T21:31:00",
          "2019-09-18T21:21:36",
          "2019-09-18T21:04:41",
          "2019-09-18T20:59:56",
          "2019-09-18T20:44:56",
          "2019-09-18T20:29:41",
          "2019-09-18T20:12:45",
          "2019-09-11T20:23:57",
          "2019-09-11T20:09:22",
          "2019-09-09T19:22:05",
          "2019-09-09T19:14:29",
          "2019-09-09T18:57:46",
          "2019-09-09T11:31:53",
          "2019-09-09T11:29:53",
          "2019-09-09T11:14:38",
          "2019-09-09T10:58:40",
          "2019-09-04T03:02:42",
          "2019-09-04T02:45:45",
          "2019-09-02T12:02:06",
          "2019-08-30T11:05:55",
          "2019-08-27T19:40:05",
          "2019-08-27T19:25:54",
          "2019-08-25T21:00:03",
          "2019-08-24T04:56:31",
          "2019-08-24T04:33:02",
          "2019-08-20T00:25:06",
          "2019-08-16T11:55:32",
          "2019-08-16T11:44:45",
          "2019-08-15T10:24:06"
         ],
         "y": [
          "TikTok - Make Your Day",
          "TikTok - Make Your Day",
          "TikTok - Make Your Day",
          "TikTok - Make Your Day",
          "TikTok - Make Your Day",
          "TikTok - Make Your Day",
          "TikTok - Make Your Day",
          "TikTok - Make Your Day",
          "TikTok - Make Your Day",
          "TikTok - Make Your Day",
          "TikTok - Make Your Day",
          "TikTok - Make Your Day",
          "TikTok - Make Your Day",
          "TikTok - Make Your Day",
          "TikTok - Make Your Day",
          "TikTok - Make Your Day",
          "TikTok - Make Your Day",
          "TikTok - Make Your Day",
          "TikTok - Make Your Day",
          "TikTok - Make Your Day",
          "TikTok - Make Your Day",
          "TikTok - Make Your Day",
          "TikTok - Make Your Day",
          "TikTok - Make Your Day",
          "TikTok - Make Your Day",
          "TikTok - Make Your Day",
          "TikTok - Make Your Day",
          "TikTok - Make Your Day",
          "TikTok - Make Your Day",
          "TikTok - Make Your Day",
          "TikTok - Make Your Day",
          "TikTok - Make Your Day",
          "TikTok - Make Your Day",
          "TikTok - Make Your Day",
          "TikTok - Make Your Day",
          "TikTok - Make Your Day",
          "TikTok - Make Your Day",
          "TikTok - Make Your Day",
          "TikTok - Make Your Day",
          "TikTok - Make Your Day",
          "TikTok - Make Your Day",
          "TikTok - Make Your Day",
          "TikTok - Make Your Day",
          "TikTok - Make Your Day",
          "TikTok - Make Your Day",
          "TikTok - Make Your Day",
          "TikTok - Make Your Day",
          "TikTok - Make Your Day",
          "TikTok - Make Your Day",
          "TikTok - Make Your Day",
          "TikTok - Make Your Day"
         ]
        },
        {
         "marker": {
          "symbol": "star-triangle-up"
         },
         "mode": "markers",
         "type": "scatter",
         "x": [
          "2019-08-07T19:37:16",
          "2019-08-07T19:29:50",
          "2019-08-07T19:14:07",
          "2019-08-06T19:16:26",
          "2019-08-06T19:04:28",
          "2019-08-05T20:13:39",
          "2019-08-05T19:59:39",
          "2019-08-05T19:40:11",
          "2019-08-04T23:32:21",
          "2019-08-04T23:04:30",
          "2019-08-04T22:53:17",
          "2019-08-04T14:00:31",
          "2019-08-04T13:59:49",
          "2019-08-02T19:20:02",
          "2019-08-02T19:05:33",
          "2019-08-02T18:23:25",
          "2019-08-02T18:14:40",
          "2019-08-02T17:59:55",
          "2019-08-02T17:34:31",
          "2019-08-02T17:28:44",
          "2019-08-02T17:07:42",
          "2019-08-02T02:18:27",
          "2019-08-02T02:05:14",
          "2019-08-01T19:45:17",
          "2019-08-01T19:36:27",
          "2019-08-01T19:18:32",
          "2019-08-01T19:14:34",
          "2019-07-30T20:10:46",
          "2019-07-30T19:56:58",
          "2019-07-30T19:44:13",
          "2019-07-30T19:25:52",
          "2019-07-30T10:11:10",
          "2019-07-29T21:34:39",
          "2019-07-29T21:17:20",
          "2019-07-29T21:08:23",
          "2019-07-29T20:59:33",
          "2019-07-29T20:34:00",
          "2019-07-29T20:19:04",
          "2019-07-29T19:54:03",
          "2019-07-29T19:44:48",
          "2019-07-29T19:28:37",
          "2019-07-28T06:31:58"
         ],
         "y": [
          "TikTok - Real Short Videos",
          "TikTok - Real Short Videos",
          "TikTok - Real Short Videos",
          "TikTok - Real Short Videos",
          "TikTok - Real Short Videos",
          "TikTok - Real Short Videos",
          "TikTok - Real Short Videos",
          "TikTok - Real Short Videos",
          "TikTok - Real Short Videos",
          "TikTok - Real Short Videos",
          "TikTok - Real Short Videos",
          "TikTok - Real Short Videos",
          "TikTok - Real Short Videos",
          "TikTok - Real Short Videos",
          "TikTok - Real Short Videos",
          "TikTok - Real Short Videos",
          "TikTok - Real Short Videos",
          "TikTok - Real Short Videos",
          "TikTok - Real Short Videos",
          "TikTok - Real Short Videos",
          "TikTok - Real Short Videos",
          "TikTok - Real Short Videos",
          "TikTok - Real Short Videos",
          "TikTok - Real Short Videos",
          "TikTok - Real Short Videos",
          "TikTok - Real Short Videos",
          "TikTok - Real Short Videos",
          "TikTok - Real Short Videos",
          "TikTok - Real Short Videos",
          "TikTok - Real Short Videos",
          "TikTok - Real Short Videos",
          "TikTok - Real Short Videos",
          "TikTok - Real Short Videos",
          "TikTok - Real Short Videos",
          "TikTok - Real Short Videos",
          "TikTok - Real Short Videos",
          "TikTok - Real Short Videos",
          "TikTok - Real Short Videos",
          "TikTok - Real Short Videos",
          "TikTok - Real Short Videos",
          "TikTok - Real Short Videos",
          "TikTok - Real Short Videos"
         ]
        }
       ],
       "layout": {
        "showlegend": false,
        "template": {
         "data": {
          "bar": [
           {
            "error_x": {
             "color": "#2a3f5f"
            },
            "error_y": {
             "color": "#2a3f5f"
            },
            "marker": {
             "line": {
              "color": "#E5ECF6",
              "width": 0.5
             }
            },
            "type": "bar"
           }
          ],
          "barpolar": [
           {
            "marker": {
             "line": {
              "color": "#E5ECF6",
              "width": 0.5
             }
            },
            "type": "barpolar"
           }
          ],
          "carpet": [
           {
            "aaxis": {
             "endlinecolor": "#2a3f5f",
             "gridcolor": "white",
             "linecolor": "white",
             "minorgridcolor": "white",
             "startlinecolor": "#2a3f5f"
            },
            "baxis": {
             "endlinecolor": "#2a3f5f",
             "gridcolor": "white",
             "linecolor": "white",
             "minorgridcolor": "white",
             "startlinecolor": "#2a3f5f"
            },
            "type": "carpet"
           }
          ],
          "choropleth": [
           {
            "colorbar": {
             "outlinewidth": 0,
             "ticks": ""
            },
            "type": "choropleth"
           }
          ],
          "contour": [
           {
            "colorbar": {
             "outlinewidth": 0,
             "ticks": ""
            },
            "colorscale": [
             [
              0,
              "#0d0887"
             ],
             [
              0.1111111111111111,
              "#46039f"
             ],
             [
              0.2222222222222222,
              "#7201a8"
             ],
             [
              0.3333333333333333,
              "#9c179e"
             ],
             [
              0.4444444444444444,
              "#bd3786"
             ],
             [
              0.5555555555555556,
              "#d8576b"
             ],
             [
              0.6666666666666666,
              "#ed7953"
             ],
             [
              0.7777777777777778,
              "#fb9f3a"
             ],
             [
              0.8888888888888888,
              "#fdca26"
             ],
             [
              1,
              "#f0f921"
             ]
            ],
            "type": "contour"
           }
          ],
          "contourcarpet": [
           {
            "colorbar": {
             "outlinewidth": 0,
             "ticks": ""
            },
            "type": "contourcarpet"
           }
          ],
          "heatmap": [
           {
            "colorbar": {
             "outlinewidth": 0,
             "ticks": ""
            },
            "colorscale": [
             [
              0,
              "#0d0887"
             ],
             [
              0.1111111111111111,
              "#46039f"
             ],
             [
              0.2222222222222222,
              "#7201a8"
             ],
             [
              0.3333333333333333,
              "#9c179e"
             ],
             [
              0.4444444444444444,
              "#bd3786"
             ],
             [
              0.5555555555555556,
              "#d8576b"
             ],
             [
              0.6666666666666666,
              "#ed7953"
             ],
             [
              0.7777777777777778,
              "#fb9f3a"
             ],
             [
              0.8888888888888888,
              "#fdca26"
             ],
             [
              1,
              "#f0f921"
             ]
            ],
            "type": "heatmap"
           }
          ],
          "heatmapgl": [
           {
            "colorbar": {
             "outlinewidth": 0,
             "ticks": ""
            },
            "colorscale": [
             [
              0,
              "#0d0887"
             ],
             [
              0.1111111111111111,
              "#46039f"
             ],
             [
              0.2222222222222222,
              "#7201a8"
             ],
             [
              0.3333333333333333,
              "#9c179e"
             ],
             [
              0.4444444444444444,
              "#bd3786"
             ],
             [
              0.5555555555555556,
              "#d8576b"
             ],
             [
              0.6666666666666666,
              "#ed7953"
             ],
             [
              0.7777777777777778,
              "#fb9f3a"
             ],
             [
              0.8888888888888888,
              "#fdca26"
             ],
             [
              1,
              "#f0f921"
             ]
            ],
            "type": "heatmapgl"
           }
          ],
          "histogram": [
           {
            "marker": {
             "colorbar": {
              "outlinewidth": 0,
              "ticks": ""
             }
            },
            "type": "histogram"
           }
          ],
          "histogram2d": [
           {
            "colorbar": {
             "outlinewidth": 0,
             "ticks": ""
            },
            "colorscale": [
             [
              0,
              "#0d0887"
             ],
             [
              0.1111111111111111,
              "#46039f"
             ],
             [
              0.2222222222222222,
              "#7201a8"
             ],
             [
              0.3333333333333333,
              "#9c179e"
             ],
             [
              0.4444444444444444,
              "#bd3786"
             ],
             [
              0.5555555555555556,
              "#d8576b"
             ],
             [
              0.6666666666666666,
              "#ed7953"
             ],
             [
              0.7777777777777778,
              "#fb9f3a"
             ],
             [
              0.8888888888888888,
              "#fdca26"
             ],
             [
              1,
              "#f0f921"
             ]
            ],
            "type": "histogram2d"
           }
          ],
          "histogram2dcontour": [
           {
            "colorbar": {
             "outlinewidth": 0,
             "ticks": ""
            },
            "colorscale": [
             [
              0,
              "#0d0887"
             ],
             [
              0.1111111111111111,
              "#46039f"
             ],
             [
              0.2222222222222222,
              "#7201a8"
             ],
             [
              0.3333333333333333,
              "#9c179e"
             ],
             [
              0.4444444444444444,
              "#bd3786"
             ],
             [
              0.5555555555555556,
              "#d8576b"
             ],
             [
              0.6666666666666666,
              "#ed7953"
             ],
             [
              0.7777777777777778,
              "#fb9f3a"
             ],
             [
              0.8888888888888888,
              "#fdca26"
             ],
             [
              1,
              "#f0f921"
             ]
            ],
            "type": "histogram2dcontour"
           }
          ],
          "mesh3d": [
           {
            "colorbar": {
             "outlinewidth": 0,
             "ticks": ""
            },
            "type": "mesh3d"
           }
          ],
          "parcoords": [
           {
            "line": {
             "colorbar": {
              "outlinewidth": 0,
              "ticks": ""
             }
            },
            "type": "parcoords"
           }
          ],
          "pie": [
           {
            "automargin": true,
            "type": "pie"
           }
          ],
          "scatter": [
           {
            "marker": {
             "colorbar": {
              "outlinewidth": 0,
              "ticks": ""
             }
            },
            "type": "scatter"
           }
          ],
          "scatter3d": [
           {
            "line": {
             "colorbar": {
              "outlinewidth": 0,
              "ticks": ""
             }
            },
            "marker": {
             "colorbar": {
              "outlinewidth": 0,
              "ticks": ""
             }
            },
            "type": "scatter3d"
           }
          ],
          "scattercarpet": [
           {
            "marker": {
             "colorbar": {
              "outlinewidth": 0,
              "ticks": ""
             }
            },
            "type": "scattercarpet"
           }
          ],
          "scattergeo": [
           {
            "marker": {
             "colorbar": {
              "outlinewidth": 0,
              "ticks": ""
             }
            },
            "type": "scattergeo"
           }
          ],
          "scattergl": [
           {
            "marker": {
             "colorbar": {
              "outlinewidth": 0,
              "ticks": ""
             }
            },
            "type": "scattergl"
           }
          ],
          "scattermapbox": [
           {
            "marker": {
             "colorbar": {
              "outlinewidth": 0,
              "ticks": ""
             }
            },
            "type": "scattermapbox"
           }
          ],
          "scatterpolar": [
           {
            "marker": {
             "colorbar": {
              "outlinewidth": 0,
              "ticks": ""
             }
            },
            "type": "scatterpolar"
           }
          ],
          "scatterpolargl": [
           {
            "marker": {
             "colorbar": {
              "outlinewidth": 0,
              "ticks": ""
             }
            },
            "type": "scatterpolargl"
           }
          ],
          "scatterternary": [
           {
            "marker": {
             "colorbar": {
              "outlinewidth": 0,
              "ticks": ""
             }
            },
            "type": "scatterternary"
           }
          ],
          "surface": [
           {
            "colorbar": {
             "outlinewidth": 0,
             "ticks": ""
            },
            "colorscale": [
             [
              0,
              "#0d0887"
             ],
             [
              0.1111111111111111,
              "#46039f"
             ],
             [
              0.2222222222222222,
              "#7201a8"
             ],
             [
              0.3333333333333333,
              "#9c179e"
             ],
             [
              0.4444444444444444,
              "#bd3786"
             ],
             [
              0.5555555555555556,
              "#d8576b"
             ],
             [
              0.6666666666666666,
              "#ed7953"
             ],
             [
              0.7777777777777778,
              "#fb9f3a"
             ],
             [
              0.8888888888888888,
              "#fdca26"
             ],
             [
              1,
              "#f0f921"
             ]
            ],
            "type": "surface"
           }
          ],
          "table": [
           {
            "cells": {
             "fill": {
              "color": "#EBF0F8"
             },
             "line": {
              "color": "white"
             }
            },
            "header": {
             "fill": {
              "color": "#C8D4E3"
             },
             "line": {
              "color": "white"
             }
            },
            "type": "table"
           }
          ]
         },
         "layout": {
          "annotationdefaults": {
           "arrowcolor": "#2a3f5f",
           "arrowhead": 0,
           "arrowwidth": 1
          },
          "coloraxis": {
           "colorbar": {
            "outlinewidth": 0,
            "ticks": ""
           }
          },
          "colorscale": {
           "diverging": [
            [
             0,
             "#8e0152"
            ],
            [
             0.1,
             "#c51b7d"
            ],
            [
             0.2,
             "#de77ae"
            ],
            [
             0.3,
             "#f1b6da"
            ],
            [
             0.4,
             "#fde0ef"
            ],
            [
             0.5,
             "#f7f7f7"
            ],
            [
             0.6,
             "#e6f5d0"
            ],
            [
             0.7,
             "#b8e186"
            ],
            [
             0.8,
             "#7fbc41"
            ],
            [
             0.9,
             "#4d9221"
            ],
            [
             1,
             "#276419"
            ]
           ],
           "sequential": [
            [
             0,
             "#0d0887"
            ],
            [
             0.1111111111111111,
             "#46039f"
            ],
            [
             0.2222222222222222,
             "#7201a8"
            ],
            [
             0.3333333333333333,
             "#9c179e"
            ],
            [
             0.4444444444444444,
             "#bd3786"
            ],
            [
             0.5555555555555556,
             "#d8576b"
            ],
            [
             0.6666666666666666,
             "#ed7953"
            ],
            [
             0.7777777777777778,
             "#fb9f3a"
            ],
            [
             0.8888888888888888,
             "#fdca26"
            ],
            [
             1,
             "#f0f921"
            ]
           ],
           "sequentialminus": [
            [
             0,
             "#0d0887"
            ],
            [
             0.1111111111111111,
             "#46039f"
            ],
            [
             0.2222222222222222,
             "#7201a8"
            ],
            [
             0.3333333333333333,
             "#9c179e"
            ],
            [
             0.4444444444444444,
             "#bd3786"
            ],
            [
             0.5555555555555556,
             "#d8576b"
            ],
            [
             0.6666666666666666,
             "#ed7953"
            ],
            [
             0.7777777777777778,
             "#fb9f3a"
            ],
            [
             0.8888888888888888,
             "#fdca26"
            ],
            [
             1,
             "#f0f921"
            ]
           ]
          },
          "colorway": [
           "#636efa",
           "#EF553B",
           "#00cc96",
           "#ab63fa",
           "#FFA15A",
           "#19d3f3",
           "#FF6692",
           "#B6E880",
           "#FF97FF",
           "#FECB52"
          ],
          "font": {
           "color": "#2a3f5f"
          },
          "geo": {
           "bgcolor": "white",
           "lakecolor": "white",
           "landcolor": "#E5ECF6",
           "showlakes": true,
           "showland": true,
           "subunitcolor": "white"
          },
          "hoverlabel": {
           "align": "left"
          },
          "hovermode": "closest",
          "mapbox": {
           "style": "light"
          },
          "paper_bgcolor": "white",
          "plot_bgcolor": "#E5ECF6",
          "polar": {
           "angularaxis": {
            "gridcolor": "white",
            "linecolor": "white",
            "ticks": ""
           },
           "bgcolor": "#E5ECF6",
           "radialaxis": {
            "gridcolor": "white",
            "linecolor": "white",
            "ticks": ""
           }
          },
          "scene": {
           "xaxis": {
            "backgroundcolor": "#E5ECF6",
            "gridcolor": "white",
            "gridwidth": 2,
            "linecolor": "white",
            "showbackground": true,
            "ticks": "",
            "zerolinecolor": "white"
           },
           "yaxis": {
            "backgroundcolor": "#E5ECF6",
            "gridcolor": "white",
            "gridwidth": 2,
            "linecolor": "white",
            "showbackground": true,
            "ticks": "",
            "zerolinecolor": "white"
           },
           "zaxis": {
            "backgroundcolor": "#E5ECF6",
            "gridcolor": "white",
            "gridwidth": 2,
            "linecolor": "white",
            "showbackground": true,
            "ticks": "",
            "zerolinecolor": "white"
           }
          },
          "shapedefaults": {
           "line": {
            "color": "#2a3f5f"
           }
          },
          "ternary": {
           "aaxis": {
            "gridcolor": "white",
            "linecolor": "white",
            "ticks": ""
           },
           "baxis": {
            "gridcolor": "white",
            "linecolor": "white",
            "ticks": ""
           },
           "bgcolor": "#E5ECF6",
           "caxis": {
            "gridcolor": "white",
            "linecolor": "white",
            "ticks": ""
           }
          },
          "title": {
           "x": 0.05
          },
          "xaxis": {
           "automargin": true,
           "gridcolor": "white",
           "linecolor": "white",
           "ticks": "",
           "title": {
            "standoff": 15
           },
           "zerolinecolor": "white",
           "zerolinewidth": 2
          },
          "yaxis": {
           "automargin": true,
           "gridcolor": "white",
           "linecolor": "white",
           "ticks": "",
           "title": {
            "standoff": 15
           },
           "zerolinecolor": "white",
           "zerolinewidth": 2
          }
         }
        }
       }
      }
     },
     "metadata": {}
    }
   ],
   "source": [
    "\n",
    "fig = go.Figure()\n",
    "top_df = off_facebook_df[off_facebook_df['name'].isin(counts_df[0:15]['name'])]\n",
    "top_df.loc[:,('date')] = pd.to_datetime(top_df['date'],unit='s')\n",
    "for x in top_df.name.unique():\n",
    "    t_df = top_df.loc[top_df['name'] == x]\n",
    "    fig.add_trace(go.Scatter(x=t_df['date'],y=t_df['name'],mode='markers',marker_symbol='star-triangle-up'))\n",
    "fig.update_layout(showlegend=False)\n",
    "fig.show()\n"
   ]
  },
  {
   "cell_type": "markdown",
   "metadata": {},
   "source": [
    "## Messages Data\n",
    "\n",
    "Step 1: Flatten to CSV"
   ]
  },
  {
   "cell_type": "code",
   "execution_count": 127,
   "metadata": {},
   "outputs": [
    {
     "output_type": "display_data",
     "data": {
      "application/vnd.plotly.v1+json": {
       "config": {
        "plotlyServerURL": "https://plot.ly"
       },
       "data": [
        {
         "alignmentgroup": "True",
         "hovertemplate": "title=%{x}<br>count=%{marker.color}<extra></extra>",
         "legendgroup": "",
         "marker": {
          "color": [
           9,
           34,
           11,
           24,
           11,
           15,
           52,
           17,
           4,
           6,
           13,
           17,
           6,
           6,
           68,
           20,
           12,
           6,
           13,
           7,
           11,
           8,
           43,
           20,
           7,
           5,
           34,
           293,
           7,
           32,
           23,
           5,
           26,
           241,
           31,
           11,
           21,
           252,
           26,
           97,
           14,
           30,
           17,
           5
          ],
          "coloraxis": "coloraxis"
         },
         "name": "",
         "offsetgroup": "",
         "orientation": "v",
         "showlegend": false,
         "textposition": "auto",
         "type": "bar",
         "x": [
          "Matthew Shallow",
          "Thirsty Thursday ð»ð¥ð¾ð¹ð¸ð¥ð·",
          "Tyler Â· Room for rent",
          "Jessica Elaine",
          "Aaron Brown",
          "Tyler Â· Snowboards (read ad)",
          "Shadeed Q Drakeford",
          "Nick Cerdeira",
          "Doug Shaner",
          "Kelsey Taylor",
          "Sean Bee",
          "Tasia Demas Schmitz and Erin Mahoney Schmitz",
          "Samantha Stull",
          "Bonny Pokopac Chappell",
          "Hunter Ford",
          "Jeremy Levine",
          "Berkeley King",
          "Mylilallykat Howboutdat",
          "Mary Ann Vacante LeMonnier",
          "Mary Kate McDermott Nolte",
          "Jaron Daulton",
          "Shane Forrey",
          "Michael Hinely",
          "Eric Shaner",
          "Colin Sporer",
          "Tommy Tomcat Luc",
          "Antoinette Podolek Schmitz",
          "Ally Stull",
          "Shane Smith",
          "Jordan Puglisi",
          "Savannah Kirtley",
          "Doug Shaner, Laura Dorsey-Shaner, Allison Shaner and Eric Shaner",
          "Abigail Parisen",
          "Richie Martins",
          "Taylor Windsor",
          "Conor Habiger",
          "Facebook User",
          "Brenton Rampage Ebron",
          "We need food STAT",
          "Kadie Hartman",
          "Alec Wasserman",
          "Tyler Â· to",
          "Ben Schmitz",
          "Coy Horner"
         ],
         "xaxis": "x",
         "y": [
          9,
          34,
          11,
          24,
          11,
          15,
          52,
          17,
          4,
          6,
          13,
          17,
          6,
          6,
          68,
          20,
          12,
          6,
          13,
          7,
          11,
          8,
          43,
          20,
          7,
          5,
          34,
          293,
          7,
          32,
          23,
          5,
          26,
          241,
          31,
          11,
          21,
          252,
          26,
          97,
          14,
          30,
          17,
          5
         ],
         "yaxis": "y"
        }
       ],
       "layout": {
        "barmode": "relative",
        "coloraxis": {
         "colorbar": {
          "title": {
           "text": "count"
          }
         },
         "colorscale": [
          [
           0,
           "#0d0887"
          ],
          [
           0.1111111111111111,
           "#46039f"
          ],
          [
           0.2222222222222222,
           "#7201a8"
          ],
          [
           0.3333333333333333,
           "#9c179e"
          ],
          [
           0.4444444444444444,
           "#bd3786"
          ],
          [
           0.5555555555555556,
           "#d8576b"
          ],
          [
           0.6666666666666666,
           "#ed7953"
          ],
          [
           0.7777777777777778,
           "#fb9f3a"
          ],
          [
           0.8888888888888888,
           "#fdca26"
          ],
          [
           1,
           "#f0f921"
          ]
         ]
        },
        "height": 800,
        "legend": {
         "tracegroupgap": 0
        },
        "margin": {
         "t": 60
        },
        "template": {
         "data": {
          "bar": [
           {
            "error_x": {
             "color": "#2a3f5f"
            },
            "error_y": {
             "color": "#2a3f5f"
            },
            "marker": {
             "line": {
              "color": "#E5ECF6",
              "width": 0.5
             }
            },
            "type": "bar"
           }
          ],
          "barpolar": [
           {
            "marker": {
             "line": {
              "color": "#E5ECF6",
              "width": 0.5
             }
            },
            "type": "barpolar"
           }
          ],
          "carpet": [
           {
            "aaxis": {
             "endlinecolor": "#2a3f5f",
             "gridcolor": "white",
             "linecolor": "white",
             "minorgridcolor": "white",
             "startlinecolor": "#2a3f5f"
            },
            "baxis": {
             "endlinecolor": "#2a3f5f",
             "gridcolor": "white",
             "linecolor": "white",
             "minorgridcolor": "white",
             "startlinecolor": "#2a3f5f"
            },
            "type": "carpet"
           }
          ],
          "choropleth": [
           {
            "colorbar": {
             "outlinewidth": 0,
             "ticks": ""
            },
            "type": "choropleth"
           }
          ],
          "contour": [
           {
            "colorbar": {
             "outlinewidth": 0,
             "ticks": ""
            },
            "colorscale": [
             [
              0,
              "#0d0887"
             ],
             [
              0.1111111111111111,
              "#46039f"
             ],
             [
              0.2222222222222222,
              "#7201a8"
             ],
             [
              0.3333333333333333,
              "#9c179e"
             ],
             [
              0.4444444444444444,
              "#bd3786"
             ],
             [
              0.5555555555555556,
              "#d8576b"
             ],
             [
              0.6666666666666666,
              "#ed7953"
             ],
             [
              0.7777777777777778,
              "#fb9f3a"
             ],
             [
              0.8888888888888888,
              "#fdca26"
             ],
             [
              1,
              "#f0f921"
             ]
            ],
            "type": "contour"
           }
          ],
          "contourcarpet": [
           {
            "colorbar": {
             "outlinewidth": 0,
             "ticks": ""
            },
            "type": "contourcarpet"
           }
          ],
          "heatmap": [
           {
            "colorbar": {
             "outlinewidth": 0,
             "ticks": ""
            },
            "colorscale": [
             [
              0,
              "#0d0887"
             ],
             [
              0.1111111111111111,
              "#46039f"
             ],
             [
              0.2222222222222222,
              "#7201a8"
             ],
             [
              0.3333333333333333,
              "#9c179e"
             ],
             [
              0.4444444444444444,
              "#bd3786"
             ],
             [
              0.5555555555555556,
              "#d8576b"
             ],
             [
              0.6666666666666666,
              "#ed7953"
             ],
             [
              0.7777777777777778,
              "#fb9f3a"
             ],
             [
              0.8888888888888888,
              "#fdca26"
             ],
             [
              1,
              "#f0f921"
             ]
            ],
            "type": "heatmap"
           }
          ],
          "heatmapgl": [
           {
            "colorbar": {
             "outlinewidth": 0,
             "ticks": ""
            },
            "colorscale": [
             [
              0,
              "#0d0887"
             ],
             [
              0.1111111111111111,
              "#46039f"
             ],
             [
              0.2222222222222222,
              "#7201a8"
             ],
             [
              0.3333333333333333,
              "#9c179e"
             ],
             [
              0.4444444444444444,
              "#bd3786"
             ],
             [
              0.5555555555555556,
              "#d8576b"
             ],
             [
              0.6666666666666666,
              "#ed7953"
             ],
             [
              0.7777777777777778,
              "#fb9f3a"
             ],
             [
              0.8888888888888888,
              "#fdca26"
             ],
             [
              1,
              "#f0f921"
             ]
            ],
            "type": "heatmapgl"
           }
          ],
          "histogram": [
           {
            "marker": {
             "colorbar": {
              "outlinewidth": 0,
              "ticks": ""
             }
            },
            "type": "histogram"
           }
          ],
          "histogram2d": [
           {
            "colorbar": {
             "outlinewidth": 0,
             "ticks": ""
            },
            "colorscale": [
             [
              0,
              "#0d0887"
             ],
             [
              0.1111111111111111,
              "#46039f"
             ],
             [
              0.2222222222222222,
              "#7201a8"
             ],
             [
              0.3333333333333333,
              "#9c179e"
             ],
             [
              0.4444444444444444,
              "#bd3786"
             ],
             [
              0.5555555555555556,
              "#d8576b"
             ],
             [
              0.6666666666666666,
              "#ed7953"
             ],
             [
              0.7777777777777778,
              "#fb9f3a"
             ],
             [
              0.8888888888888888,
              "#fdca26"
             ],
             [
              1,
              "#f0f921"
             ]
            ],
            "type": "histogram2d"
           }
          ],
          "histogram2dcontour": [
           {
            "colorbar": {
             "outlinewidth": 0,
             "ticks": ""
            },
            "colorscale": [
             [
              0,
              "#0d0887"
             ],
             [
              0.1111111111111111,
              "#46039f"
             ],
             [
              0.2222222222222222,
              "#7201a8"
             ],
             [
              0.3333333333333333,
              "#9c179e"
             ],
             [
              0.4444444444444444,
              "#bd3786"
             ],
             [
              0.5555555555555556,
              "#d8576b"
             ],
             [
              0.6666666666666666,
              "#ed7953"
             ],
             [
              0.7777777777777778,
              "#fb9f3a"
             ],
             [
              0.8888888888888888,
              "#fdca26"
             ],
             [
              1,
              "#f0f921"
             ]
            ],
            "type": "histogram2dcontour"
           }
          ],
          "mesh3d": [
           {
            "colorbar": {
             "outlinewidth": 0,
             "ticks": ""
            },
            "type": "mesh3d"
           }
          ],
          "parcoords": [
           {
            "line": {
             "colorbar": {
              "outlinewidth": 0,
              "ticks": ""
             }
            },
            "type": "parcoords"
           }
          ],
          "pie": [
           {
            "automargin": true,
            "type": "pie"
           }
          ],
          "scatter": [
           {
            "marker": {
             "colorbar": {
              "outlinewidth": 0,
              "ticks": ""
             }
            },
            "type": "scatter"
           }
          ],
          "scatter3d": [
           {
            "line": {
             "colorbar": {
              "outlinewidth": 0,
              "ticks": ""
             }
            },
            "marker": {
             "colorbar": {
              "outlinewidth": 0,
              "ticks": ""
             }
            },
            "type": "scatter3d"
           }
          ],
          "scattercarpet": [
           {
            "marker": {
             "colorbar": {
              "outlinewidth": 0,
              "ticks": ""
             }
            },
            "type": "scattercarpet"
           }
          ],
          "scattergeo": [
           {
            "marker": {
             "colorbar": {
              "outlinewidth": 0,
              "ticks": ""
             }
            },
            "type": "scattergeo"
           }
          ],
          "scattergl": [
           {
            "marker": {
             "colorbar": {
              "outlinewidth": 0,
              "ticks": ""
             }
            },
            "type": "scattergl"
           }
          ],
          "scattermapbox": [
           {
            "marker": {
             "colorbar": {
              "outlinewidth": 0,
              "ticks": ""
             }
            },
            "type": "scattermapbox"
           }
          ],
          "scatterpolar": [
           {
            "marker": {
             "colorbar": {
              "outlinewidth": 0,
              "ticks": ""
             }
            },
            "type": "scatterpolar"
           }
          ],
          "scatterpolargl": [
           {
            "marker": {
             "colorbar": {
              "outlinewidth": 0,
              "ticks": ""
             }
            },
            "type": "scatterpolargl"
           }
          ],
          "scatterternary": [
           {
            "marker": {
             "colorbar": {
              "outlinewidth": 0,
              "ticks": ""
             }
            },
            "type": "scatterternary"
           }
          ],
          "surface": [
           {
            "colorbar": {
             "outlinewidth": 0,
             "ticks": ""
            },
            "colorscale": [
             [
              0,
              "#0d0887"
             ],
             [
              0.1111111111111111,
              "#46039f"
             ],
             [
              0.2222222222222222,
              "#7201a8"
             ],
             [
              0.3333333333333333,
              "#9c179e"
             ],
             [
              0.4444444444444444,
              "#bd3786"
             ],
             [
              0.5555555555555556,
              "#d8576b"
             ],
             [
              0.6666666666666666,
              "#ed7953"
             ],
             [
              0.7777777777777778,
              "#fb9f3a"
             ],
             [
              0.8888888888888888,
              "#fdca26"
             ],
             [
              1,
              "#f0f921"
             ]
            ],
            "type": "surface"
           }
          ],
          "table": [
           {
            "cells": {
             "fill": {
              "color": "#EBF0F8"
             },
             "line": {
              "color": "white"
             }
            },
            "header": {
             "fill": {
              "color": "#C8D4E3"
             },
             "line": {
              "color": "white"
             }
            },
            "type": "table"
           }
          ]
         },
         "layout": {
          "annotationdefaults": {
           "arrowcolor": "#2a3f5f",
           "arrowhead": 0,
           "arrowwidth": 1
          },
          "coloraxis": {
           "colorbar": {
            "outlinewidth": 0,
            "ticks": ""
           }
          },
          "colorscale": {
           "diverging": [
            [
             0,
             "#8e0152"
            ],
            [
             0.1,
             "#c51b7d"
            ],
            [
             0.2,
             "#de77ae"
            ],
            [
             0.3,
             "#f1b6da"
            ],
            [
             0.4,
             "#fde0ef"
            ],
            [
             0.5,
             "#f7f7f7"
            ],
            [
             0.6,
             "#e6f5d0"
            ],
            [
             0.7,
             "#b8e186"
            ],
            [
             0.8,
             "#7fbc41"
            ],
            [
             0.9,
             "#4d9221"
            ],
            [
             1,
             "#276419"
            ]
           ],
           "sequential": [
            [
             0,
             "#0d0887"
            ],
            [
             0.1111111111111111,
             "#46039f"
            ],
            [
             0.2222222222222222,
             "#7201a8"
            ],
            [
             0.3333333333333333,
             "#9c179e"
            ],
            [
             0.4444444444444444,
             "#bd3786"
            ],
            [
             0.5555555555555556,
             "#d8576b"
            ],
            [
             0.6666666666666666,
             "#ed7953"
            ],
            [
             0.7777777777777778,
             "#fb9f3a"
            ],
            [
             0.8888888888888888,
             "#fdca26"
            ],
            [
             1,
             "#f0f921"
            ]
           ],
           "sequentialminus": [
            [
             0,
             "#0d0887"
            ],
            [
             0.1111111111111111,
             "#46039f"
            ],
            [
             0.2222222222222222,
             "#7201a8"
            ],
            [
             0.3333333333333333,
             "#9c179e"
            ],
            [
             0.4444444444444444,
             "#bd3786"
            ],
            [
             0.5555555555555556,
             "#d8576b"
            ],
            [
             0.6666666666666666,
             "#ed7953"
            ],
            [
             0.7777777777777778,
             "#fb9f3a"
            ],
            [
             0.8888888888888888,
             "#fdca26"
            ],
            [
             1,
             "#f0f921"
            ]
           ]
          },
          "colorway": [
           "#636efa",
           "#EF553B",
           "#00cc96",
           "#ab63fa",
           "#FFA15A",
           "#19d3f3",
           "#FF6692",
           "#B6E880",
           "#FF97FF",
           "#FECB52"
          ],
          "font": {
           "color": "#2a3f5f"
          },
          "geo": {
           "bgcolor": "white",
           "lakecolor": "white",
           "landcolor": "#E5ECF6",
           "showlakes": true,
           "showland": true,
           "subunitcolor": "white"
          },
          "hoverlabel": {
           "align": "left"
          },
          "hovermode": "closest",
          "mapbox": {
           "style": "light"
          },
          "paper_bgcolor": "white",
          "plot_bgcolor": "#E5ECF6",
          "polar": {
           "angularaxis": {
            "gridcolor": "white",
            "linecolor": "white",
            "ticks": ""
           },
           "bgcolor": "#E5ECF6",
           "radialaxis": {
            "gridcolor": "white",
            "linecolor": "white",
            "ticks": ""
           }
          },
          "scene": {
           "xaxis": {
            "backgroundcolor": "#E5ECF6",
            "gridcolor": "white",
            "gridwidth": 2,
            "linecolor": "white",
            "showbackground": true,
            "ticks": "",
            "zerolinecolor": "white"
           },
           "yaxis": {
            "backgroundcolor": "#E5ECF6",
            "gridcolor": "white",
            "gridwidth": 2,
            "linecolor": "white",
            "showbackground": true,
            "ticks": "",
            "zerolinecolor": "white"
           },
           "zaxis": {
            "backgroundcolor": "#E5ECF6",
            "gridcolor": "white",
            "gridwidth": 2,
            "linecolor": "white",
            "showbackground": true,
            "ticks": "",
            "zerolinecolor": "white"
           }
          },
          "shapedefaults": {
           "line": {
            "color": "#2a3f5f"
           }
          },
          "ternary": {
           "aaxis": {
            "gridcolor": "white",
            "linecolor": "white",
            "ticks": ""
           },
           "baxis": {
            "gridcolor": "white",
            "linecolor": "white",
            "ticks": ""
           },
           "bgcolor": "#E5ECF6",
           "caxis": {
            "gridcolor": "white",
            "linecolor": "white",
            "ticks": ""
           }
          },
          "title": {
           "x": 0.05
          },
          "xaxis": {
           "automargin": true,
           "gridcolor": "white",
           "linecolor": "white",
           "ticks": "",
           "title": {
            "standoff": 15
           },
           "zerolinecolor": "white",
           "zerolinewidth": 2
          },
          "yaxis": {
           "automargin": true,
           "gridcolor": "white",
           "linecolor": "white",
           "ticks": "",
           "title": {
            "standoff": 15
           },
           "zerolinecolor": "white",
           "zerolinewidth": 2
          }
         }
        },
        "width": 1400,
        "xaxis": {
         "anchor": "y",
         "domain": [
          0,
          1
         ],
         "title": {
          "text": ""
         }
        },
        "yaxis": {
         "anchor": "x",
         "domain": [
          0,
          1
         ],
         "title": {
          "text": ""
         }
        }
       }
      }
     },
     "metadata": {}
    }
   ],
   "source": [
    "\n",
    "messages_location = 'data/{}/messages/inbox'.format(FACEBOOK_FOLDER)\n",
    "messages_list = []\n",
    "for root,dirs,files in os.walk(messages_location):\n",
    "  for name in dirs:\n",
    "    person_path = os.path.join(root,name,'message_1.json')\n",
    "    try:\n",
    "        f = open(person_path)\n",
    "        raw_json = json.load(f)\n",
    "        if len(raw_json['messages']) > 3:\n",
    "            messages_list.append({\"title\":raw_json['title'],\"count\":len(raw_json['messages'])})\n",
    "        f.close()\n",
    "    except FileNotFoundError:\n",
    "        pass\n",
    "messages_df = pd.DataFrame(messages_list)\n",
    "\n",
    "\n",
    "fig = px.bar(messages_df,x='title',y='count',color='count',width=1400,height=800)\n",
    "fig.update_layout(xaxis={'title':''})\n",
    "fig.update_layout(yaxis={'title':''})\n",
    "fig.show()\n"
   ]
  },
  {
   "cell_type": "markdown",
   "metadata": {},
   "source": [
    "### Complete Timeline of Messages For Top 20"
   ]
  },
  {
   "cell_type": "code",
   "execution_count": 141,
   "metadata": {
    "tags": [
     "outputPrepend"
    ]
   },
   "outputs": [
    {
     "output_type": "display_data",
     "data": {
      "application/vnd.plotly.v1+json": {
       "config": {
        "plotlyServerURL": "https://plot.ly"
       },
       "data": [
        {
         "marker": {
          "symbol": "star-triangle-up"
         },
         "mode": "markers",
         "text": [
          "TOWSON",
          "Lmao where?",
          "Come thru",
          "Itâs lit",
          "Yo",
          "I have one more spot in my car for someone else, leaving at 7:30",
          "Iâm coming Iâll be there later on tho",
          "Iâm down",
          "Can I get a roll call",
          "Roads arenât bad here only the neighborhoods are a little slick but I donât live in a neighborhood so itâs not bad",
          "Im down",
          "Iâll go",
          "Iâll be there",
          "I may try for tomorrow instead because of the roads and work",
          "Iâm ready to die canât wait!",
          "ðââï¸ðââï¸",
          "Last night was a blast tho, shout out to all yâall goons",
          "Uhhhh depends on the roads and shit bro",
          "Hey yâall whose still planning on coming tonight?",
          "Eric Shaner added Zhane' Mahal to the group.",
          "It wonât be crowded till like 11:30-12 anyway!",
          "Iâll meet you guys there driving from a work",
          "Keep me a spot @eric lol",
          "Iâll be driving up at 7:30 from UMBC I have 4 spots is anyone else wants a ride there.  But I have an exam at 9:00AM so if you come with me we need to leave in the morning at 6:30AM",
          "Yuhyuhyuhhhhh",
          "Just so everyone one is aware, beat the clock starts at Greene Turtle 9:30 sharp and it is much better to get there earlier then later",
          "Thanks Kim :)",
          "Eric named the group Thirsty Thursday ð»ð¥ð¾ð¹ð¸ð¥ð·.",
          "happy birthday hubby",
          "Whad up Thursday crew",
          "Eric created the group."
         ],
         "type": "scatter",
         "x": [
          "2018-11-16T07:02:54.420000",
          "2018-11-16T07:02:38.293000",
          "2018-11-16T06:58:38.454000",
          "2018-11-16T06:58:27.823000",
          "2018-11-16T06:58:25.260000",
          "2018-11-15T23:39:33.936000",
          "2018-11-15T23:36:25.415000",
          "2018-11-15T23:32:22.446000",
          "2018-11-15T23:31:55.771000",
          "2018-11-15T21:27:42.744000",
          "2018-11-15T19:53:33.225000",
          "2018-11-15T19:12:15.536000",
          "2018-11-15T19:08:44.184000",
          "2018-11-15T19:04:47.438000",
          "2018-11-15T19:04:33.126000",
          "2018-11-15T19:04:23.073000",
          "2018-11-15T19:04:18.127000",
          "2018-11-15T19:03:55.278000",
          "2018-11-15T19:03:38.960000",
          "2018-11-14T18:18:55.228000",
          "2018-11-14T15:36:18.737000",
          "2018-11-14T15:35:41.749000",
          "2018-11-14T15:03:36.766000",
          "2018-11-14T14:44:08.890000",
          "2018-11-14T14:29:32.844000",
          "2018-11-14T14:24:00.222000",
          "2018-11-14T14:22:33.862000",
          "2018-11-14T14:22:15.287000",
          "2018-11-14T14:19:52.867000",
          "2018-11-14T13:43:13.581000",
          "2018-11-14T13:43:13.357000"
         ],
         "y": [
          "Thirsty Thursday ð»ð¥ð¾ð¹ð¸ð¥ð·",
          "Thirsty Thursday ð»ð¥ð¾ð¹ð¸ð¥ð·",
          "Thirsty Thursday ð»ð¥ð¾ð¹ð¸ð¥ð·",
          "Thirsty Thursday ð»ð¥ð¾ð¹ð¸ð¥ð·",
          "Thirsty Thursday ð»ð¥ð¾ð¹ð¸ð¥ð·",
          "Thirsty Thursday ð»ð¥ð¾ð¹ð¸ð¥ð·",
          "Thirsty Thursday ð»ð¥ð¾ð¹ð¸ð¥ð·",
          "Thirsty Thursday ð»ð¥ð¾ð¹ð¸ð¥ð·",
          "Thirsty Thursday ð»ð¥ð¾ð¹ð¸ð¥ð·",
          "Thirsty Thursday ð»ð¥ð¾ð¹ð¸ð¥ð·",
          "Thirsty Thursday ð»ð¥ð¾ð¹ð¸ð¥ð·",
          "Thirsty Thursday ð»ð¥ð¾ð¹ð¸ð¥ð·",
          "Thirsty Thursday ð»ð¥ð¾ð¹ð¸ð¥ð·",
          "Thirsty Thursday ð»ð¥ð¾ð¹ð¸ð¥ð·",
          "Thirsty Thursday ð»ð¥ð¾ð¹ð¸ð¥ð·",
          "Thirsty Thursday ð»ð¥ð¾ð¹ð¸ð¥ð·",
          "Thirsty Thursday ð»ð¥ð¾ð¹ð¸ð¥ð·",
          "Thirsty Thursday ð»ð¥ð¾ð¹ð¸ð¥ð·",
          "Thirsty Thursday ð»ð¥ð¾ð¹ð¸ð¥ð·",
          "Thirsty Thursday ð»ð¥ð¾ð¹ð¸ð¥ð·",
          "Thirsty Thursday ð»ð¥ð¾ð¹ð¸ð¥ð·",
          "Thirsty Thursday ð»ð¥ð¾ð¹ð¸ð¥ð·",
          "Thirsty Thursday ð»ð¥ð¾ð¹ð¸ð¥ð·",
          "Thirsty Thursday ð»ð¥ð¾ð¹ð¸ð¥ð·",
          "Thirsty Thursday ð»ð¥ð¾ð¹ð¸ð¥ð·",
          "Thirsty Thursday ð»ð¥ð¾ð¹ð¸ð¥ð·",
          "Thirsty Thursday ð»ð¥ð¾ð¹ð¸ð¥ð·",
          "Thirsty Thursday ð»ð¥ð¾ð¹ð¸ð¥ð·",
          "Thirsty Thursday ð»ð¥ð¾ð¹ð¸ð¥ð·",
          "Thirsty Thursday ð»ð¥ð¾ð¹ð¸ð¥ð·",
          "Thirsty Thursday ð»ð¥ð¾ð¹ð¸ð¥ð·"
         ]
        },
        {
         "marker": {
          "symbol": "star-triangle-up"
         },
         "mode": "markers",
         "text": [
          "Yup. See you at Easter",
          "Ok thanks",
          "No problem. Let me know if you need anything else",
          "Oh ok thanks",
          "Forgot to add Ireland, India, and Italy for my dad",
          "That's the plan",
          "you should teach at st. joe or something",
          "But I'll be able to teach either middle or high school",
          "My major is history secondary education with a minor in social studies and another minor in either psychology or political science",
          "what are you trying to teach?",
          "Yea unless I want to go teach abroad (which would be awesome but like nah) I cant do one",
          "Computer Science does not seem to have any it would seem",
          "Yea I was only there for a month. My major doesnt allow time for a full semester one",
          "oh your back already?",
          "But I'm back in Salisbury at the moment",
          "And it was good. Really cold and rainy",
          "Well we've been all over the place",
          "im doing a project about where our family has been, hows england?",
          "why?",
          "I know theres a bunch more but i cant think of anything else right now",
          "Hes been to Japan, Thailand, England, Guam, Russia, Greece, Iran, Germany",
          "Hi",
          "Can you tell me the countries your dad has been to that you know of",
          "hey"
         ],
         "type": "scatter",
         "x": [
          "2016-03-03T03:04:12.093000",
          "2016-03-03T03:03:53.451000",
          "2016-03-03T03:03:47.879000",
          "2016-03-03T03:03:29.257000",
          "2016-03-03T03:02:47.816000",
          "2016-03-03T03:02:34.027000",
          "2016-03-03T02:44:30.550000",
          "2016-03-03T02:33:40.378000",
          "2016-03-03T02:33:25.763000",
          "2016-03-03T02:32:52.970000",
          "2016-03-03T02:32:18.058000",
          "2016-03-03T02:31:48.593000",
          "2016-03-03T02:31:11.172000",
          "2016-03-03T02:30:38.046000",
          "2016-03-03T02:30:35.247000",
          "2016-03-03T02:30:26.545000",
          "2016-03-03T02:30:15.403000",
          "2016-03-03T02:29:56.372000",
          "2016-03-03T02:29:16.214000",
          "2016-03-03T02:29:14.378000",
          "2016-03-03T02:28:59.975000",
          "2016-03-03T02:28:10.646000",
          "2016-03-03T02:27:53.606000",
          "2016-03-03T02:27:23.278000"
         ],
         "y": [
          "Jessica Elaine",
          "Jessica Elaine",
          "Jessica Elaine",
          "Jessica Elaine",
          "Jessica Elaine",
          "Jessica Elaine",
          "Jessica Elaine",
          "Jessica Elaine",
          "Jessica Elaine",
          "Jessica Elaine",
          "Jessica Elaine",
          "Jessica Elaine",
          "Jessica Elaine",
          "Jessica Elaine",
          "Jessica Elaine",
          "Jessica Elaine",
          "Jessica Elaine",
          "Jessica Elaine",
          "Jessica Elaine",
          "Jessica Elaine",
          "Jessica Elaine",
          "Jessica Elaine",
          "Jessica Elaine",
          "Jessica Elaine"
         ]
        },
        {
         "marker": {
          "symbol": "star-triangle-up"
         },
         "mode": "markers",
         "text": [
          "Nice",
          "Haha it wonât be too bad, I get to be a software engineer",
          "Not that",
          "Oh God",
          "Now adult life begins",
          "Fair enough haha, thanks man",
          "I give credit where credit is due",
          "You got better in that area",
          "Ehhhhhh idk about catching",
          "Itâs difficult to find a left handed player that throws well and knows how to catch being that tall",
          "And you would of been around #4-6 easily",
          "Hahaha someone asked who out most underrated person was and Colin post this and they responded âWho?â",
          "Theyâre going to be within the top 12",
          "Right off the bat",
          "Because in my mind, if you play for another team on the east coast",
          "Wait what the actual fuck?",
          "Afterwards Iâm like",
          "As in like 1-4",
          "I was fine with the first portion of the list",
          "And one of the top 12 last year",
          "You should of been considered for honorable mention two years ago",
          "But in all seriousness",
          "Trying to find the chill",
          "And haha thanks man, I do appreciate you saying that stuff though",
          "Canât go that far Tyler",
          "Actually league MVP too, Iâm boutta raise hellð",
          "But at least around #6-7 for sure",
          "Fair enough",
          "Southpaws are always #1",
          "Woah now",
          "Sike #1",
          "Nothing lower than that",
          "6-8 for sure",
          "Thatâs fair",
          "I think maybe 6?",
          "Thatâs what Iâm saying",
          "Beat**",
          "Cory and Shawn best me ??",
          "The actual fuck",
          "#11 Tyler S",
          "Iâm like",
          "Iâm trying to throw hands",
          "Listen",
          "Haha thanks man, I do kinda agree with you on the list placement but Iâll take it either way ð",
          "Sure man, glad I could help",
          "Yeah I'll definitely check that out man",
          "something else you might be interested in https://www.usajobs.gov/GetJob/PrintPreview/454714800",
          "Thanks man",
          "https://www.zintellect.com/Posting/Details/2595",
          "word",
          "Hey, can you give me the details on the job thing?"
         ],
         "type": "scatter",
         "x": [
          "2019-05-09T13:40:05.280000",
          "2019-05-09T13:39:55.723000",
          "2019-05-09T13:39:24.447000",
          "2019-05-09T13:39:20.983000",
          "2019-05-09T13:39:14.879000",
          "2019-05-09T13:39:03.753000",
          "2019-05-09T13:38:39.053000",
          "2019-05-09T13:38:26.449000",
          "2019-05-09T13:38:15.454000",
          "2019-05-09T13:38:01.165000",
          "2019-05-09T13:37:23.178000",
          "2019-05-09T13:37:15.546000",
          "2019-05-09T13:37:07.130000",
          "2019-05-09T13:36:58.569000",
          "2019-05-09T13:36:51.432000",
          "2019-05-09T13:36:14.368000",
          "2019-05-09T13:36:07.290000",
          "2019-05-09T13:36:01.655000",
          "2019-05-09T13:35:56.088000",
          "2019-05-09T13:35:44.231000",
          "2019-05-09T13:35:34.248000",
          "2019-05-09T13:35:21.914000",
          "2019-05-09T13:35:09.353000",
          "2019-05-09T13:35:07.279000",
          "2019-05-09T13:35:00.933000",
          "2019-05-09T13:34:49.472000",
          "2019-05-09T13:34:38.217000",
          "2019-05-09T13:34:26.744000",
          "2019-05-09T13:34:19.240000",
          "2019-05-09T13:34:01.922000",
          "2019-05-09T13:33:57.071000",
          "2019-05-09T13:33:54.760000",
          "2019-05-09T13:33:47.079000",
          "2019-05-09T13:33:38.953000",
          "2019-05-09T13:33:28.295000",
          "2019-05-09T13:32:40.702000",
          "2019-05-09T13:32:38.170000",
          "2019-05-09T13:32:30.623000",
          "2019-05-09T13:32:25.328000",
          "2019-05-09T13:32:18.829000",
          "2019-05-09T13:32:08.816000",
          "2019-05-09T13:31:50.917000",
          "2019-05-09T13:31:42.810000",
          "2019-05-09T13:31:33.671000",
          "2016-11-30T21:53:36.836000",
          "2016-11-30T21:52:54.817000",
          "2016-11-30T21:46:31.562000",
          "2016-11-30T20:59:49.540000",
          "2016-11-30T19:51:51.009000",
          "2016-11-30T19:50:06.396000",
          "2016-11-30T19:49:42.306000"
         ],
         "y": [
          "Shadeed Q Drakeford",
          "Shadeed Q Drakeford",
          "Shadeed Q Drakeford",
          "Shadeed Q Drakeford",
          "Shadeed Q Drakeford",
          "Shadeed Q Drakeford",
          "Shadeed Q Drakeford",
          "Shadeed Q Drakeford",
          "Shadeed Q Drakeford",
          "Shadeed Q Drakeford",
          "Shadeed Q Drakeford",
          "Shadeed Q Drakeford",
          "Shadeed Q Drakeford",
          "Shadeed Q Drakeford",
          "Shadeed Q Drakeford",
          "Shadeed Q Drakeford",
          "Shadeed Q Drakeford",
          "Shadeed Q Drakeford",
          "Shadeed Q Drakeford",
          "Shadeed Q Drakeford",
          "Shadeed Q Drakeford",
          "Shadeed Q Drakeford",
          "Shadeed Q Drakeford",
          "Shadeed Q Drakeford",
          "Shadeed Q Drakeford",
          "Shadeed Q Drakeford",
          "Shadeed Q Drakeford",
          "Shadeed Q Drakeford",
          "Shadeed Q Drakeford",
          "Shadeed Q Drakeford",
          "Shadeed Q Drakeford",
          "Shadeed Q Drakeford",
          "Shadeed Q Drakeford",
          "Shadeed Q Drakeford",
          "Shadeed Q Drakeford",
          "Shadeed Q Drakeford",
          "Shadeed Q Drakeford",
          "Shadeed Q Drakeford",
          "Shadeed Q Drakeford",
          "Shadeed Q Drakeford",
          "Shadeed Q Drakeford",
          "Shadeed Q Drakeford",
          "Shadeed Q Drakeford",
          "Shadeed Q Drakeford",
          "Shadeed Q Drakeford",
          "Shadeed Q Drakeford",
          "Shadeed Q Drakeford",
          "Shadeed Q Drakeford",
          "Shadeed Q Drakeford",
          "Shadeed Q Drakeford",
          "Shadeed Q Drakeford"
         ]
        },
        {
         "marker": {
          "symbol": "star-triangle-up"
         },
         "mode": "markers",
         "text": [
          "ó¾µ",
          "Thanks! We lost our copy somewhere in the basement and I couldn't find it",
          "Here's the picture from the Fish Hatchery; most of my pictures are still in boxes...",
          "ok thanks",
          "I just got home. I'll check...",
          "dang ok",
          "I don't think I ever got a copy of that one",
          "I think it was the first trip we took, it was when we went to the fish farm and colin stuck his finger in the tank and the fish bit him and we had the photo right after",
          "I don't remember that one. When was that?",
          "ok i got them, thanks, is there any chance you have to iowa picture where colin was crying in the schmitz line up?",
          "Check your facebook. I just sent you 2.",
          "ok thanks",
          "Gotcha. I think there is one on my Facebook time line of you with Colin and Kailyn and the Mahoney cousins on my Facebook timeline. I think Kara posted it. That would be a current one of some of us. I'll start hunting.",
          "oh and maybe a photo of all five of you?",
          "just a couple would be fine, I have to give a speech about a tradition my family has and I decided to talk about our tradition of traveling",
          "We packed up all of our old photos when we put the house on the market a couple years ago. I will do my best to find the box. How many do you need? What is the project about?",
          "I have a project due tomorrow and I was wondering if either of you had any of the family photos from when we used to do the Christmas trips of so long ago."
         ],
         "type": "scatter",
         "x": [
          "2016-03-03T00:00:06.385000",
          "2016-03-02T23:57:11.656000",
          "2016-03-02T23:28:21.517000",
          "2016-03-02T21:21:26.673000",
          "2016-03-02T21:21:16.535000",
          "2016-03-02T20:39:02.011000",
          "2016-03-02T20:36:37.235000",
          "2016-03-02T20:32:12.227000",
          "2016-03-02T20:30:11.238000",
          "2016-03-02T20:28:57.068000",
          "2016-03-02T20:28:02.110000",
          "2016-03-02T20:25:44.739000",
          "2016-03-02T20:23:56.092000",
          "2016-03-02T20:21:15.126000",
          "2016-03-02T20:20:00.427000",
          "2016-03-02T20:18:21.119000",
          "2016-03-02T20:05:15.778000"
         ],
         "y": [
          "Tasia Demas Schmitz and Erin Mahoney Schmitz",
          "Tasia Demas Schmitz and Erin Mahoney Schmitz",
          "Tasia Demas Schmitz and Erin Mahoney Schmitz",
          "Tasia Demas Schmitz and Erin Mahoney Schmitz",
          "Tasia Demas Schmitz and Erin Mahoney Schmitz",
          "Tasia Demas Schmitz and Erin Mahoney Schmitz",
          "Tasia Demas Schmitz and Erin Mahoney Schmitz",
          "Tasia Demas Schmitz and Erin Mahoney Schmitz",
          "Tasia Demas Schmitz and Erin Mahoney Schmitz",
          "Tasia Demas Schmitz and Erin Mahoney Schmitz",
          "Tasia Demas Schmitz and Erin Mahoney Schmitz",
          "Tasia Demas Schmitz and Erin Mahoney Schmitz",
          "Tasia Demas Schmitz and Erin Mahoney Schmitz",
          "Tasia Demas Schmitz and Erin Mahoney Schmitz",
          "Tasia Demas Schmitz and Erin Mahoney Schmitz",
          "Tasia Demas Schmitz and Erin Mahoney Schmitz",
          "Tasia Demas Schmitz and Erin Mahoney Schmitz"
         ]
        },
        {
         "marker": {
          "symbol": "star-triangle-up"
         },
         "mode": "markers",
         "text": [
          "You are now connected on Messenger.",
          "I follow every sport. Huge Yankees fan and Giants",
          "And hockey, what about you",
          "And I'm a little into sports, mostly the capitols",
          "I'm majoring in Management and possibly specifically sports management",
          "Nice. Are you a big sports guy? Follow any teams?",
          "Ani idea what your major is?",
          "Every now and then I will",
          "I have before but not consistently. Maybe in college what about u",
          "Drink yes and seldom smoke here and there, dip?",
          "Yea I drink and smoke a lot. What about you",
          "Ok cool, do you drink/ smoka da reefer",
          "I play Baseball and I'm probably going to try out for club",
          "Hockey and rugby but idk if I'll play for Towson, hbu",
          "Do you play any sports?",
          "Montclair nj",
          "Crofton Md how about you?",
          "Where are you from dude",
          "Ok cool, so any question you have about anything",
          "I wanna say sometime in June",
          "Possibly, do you know when this stuff is due by?",
          "You still lookin for a roommate brotha?"
         ],
         "type": "scatter",
         "x": [
          "2017-03-16T19:16:52.497000",
          "2015-05-20T01:14:32.051000",
          "2015-05-20T01:13:58.806000",
          "2015-05-20T01:13:47.294000",
          "2015-05-20T01:13:41.098000",
          "2015-05-20T01:13:17.323000",
          "2015-05-20T01:13:16.330000",
          "2015-05-19T23:00:55.042000",
          "2015-05-19T22:48:08.866000",
          "2015-05-19T19:06:07.288000",
          "2015-05-19T17:40:56.934000",
          "2015-05-19T17:18:02.979000",
          "2015-05-19T16:33:24.099000",
          "2015-05-19T16:08:10.014000",
          "2015-05-19T16:07:14.777000",
          "2015-05-19T16:07:09.726000",
          "2015-05-19T15:59:04.190000",
          "2015-05-19T15:58:16.267000",
          "2015-05-19T14:54:18.718000",
          "2015-05-19T11:18:33.181000",
          "2015-05-19T06:25:05.680000",
          "2015-05-19T01:03:35.322000"
         ],
         "y": [
          "Facebook User",
          "Facebook User",
          "Facebook User",
          "Facebook User",
          "Facebook User",
          "Facebook User",
          "Facebook User",
          "Facebook User",
          "Facebook User",
          "Facebook User",
          "Facebook User",
          "Facebook User",
          "Facebook User",
          "Facebook User",
          "Facebook User",
          "Facebook User",
          "Facebook User",
          "Facebook User",
          "Facebook User",
          "Facebook User",
          "Facebook User",
          "Facebook User"
         ]
        },
        {
         "marker": {
          "symbol": "star-triangle-up"
         },
         "mode": "markers",
         "text": [
          "Definitely",
          "I get it man, Iâm really gonna miss this when I leave. This has been the most fun part of college no question",
          "Iâm a lame old man and enjoy this stuff",
          "At best I could get travel reimbursed but I donât really need it",
          "Volunteer",
          "Damn well It only hurts them, just out of curiosity do you get paid to do any of the NCDA stuff is that all volunteer",
          "They told Colin they were âinterested but canât commitâ and Colin put them on the schedule anyways lmao",
          "They wouldâve probably not done well but you literally could not get better experience at any other tournament",
          "Funny story though",
          "Yeah I was wondering why they ditched",
          "Pussed*",
          "But they passed out",
          "I wanted them to play this weekend",
          "Thatâs what I tried to tell them",
          "That would be good, strong recruiting and playing more is gold",
          "Ike will be in charge next year and Iâm gonna sit down with him and plan everything",
          "But yeah hopefully better next year for them",
          "I never like playing them because they catch well",
          "Like I said, poor leadership",
          "I was about to ask that, I think they could do well if they got out and played more",
          "Only lose one guy",
          "VCU in theory should be really good next year but we need some major offseason work. The current eboard is trash",
          "Yeah I think next year might be a lull but depending on how recruiting goes 2 years should be better but who knows, they could really mature by next year and surprise me",
          "Your sophomore class is good",
          "Itâll be a doosey for sure",
          "Yes to Colin and maybe Dave but Iâm not sure",
          "What about guare and Sporer?",
          "Me, watt, I think KJ",
          "While Iâve got you here, who graduates from your team this year?",
          "To put it nicely",
          "Yeah that was aggravating",
          "We were disappointed with his performance",
          "Jon and I didnât like him haha",
          "Or Kirby indeed",
          "Or Kirby haha",
          "Just donât let Cariello throw alone lol",
          "I sure hope so, they donât throw hard or catch insanely but theyâre just so consistent at keep it together",
          "Youâll get them at nationals",
          "It is what it is. You guys showed theyâre vulnerable",
          "Hahaha, and yeah I should have, I was uneasy on their catching ability. Yeah they were really close games though, GV just held it together better",
          "Upset for you meaning we wanted to see you guys use you more",
          "Shaw and I wanted to see you throw more",
          "I was a little upset for you at times",
          "Yep thatâs it lol",
          "It was when I knocked the camera over throwing at McKoy or however you spell his name",
          "I canât remember",
          "I think that was after you hit my leg",
          "I love the commentary ðð\nâA rare catch from Tyler Schmitzâ and âBasically all you need to know is Tyler has no accuracy whatsoever â",
          "Oh ok haha thanks",
          "Your captain already posted in our Facebook group lol",
          "Hey is there a chance you could ask your guys to vote for Watt on Twitter",
          "ð",
          "Ty",
          "In my opinion both are very good and have a lot of potential but need to take some time to find their rhythm in the game.  Itâs nothing more than learning the game. Alex has been a very good catcher so far but because of numbers he hasnât gotten as much playing time as I think he deserves. I canât speak to Dylan as much though, I havenât watched him enough to give a solid summary but he has a good throw that does need a little fine tuning on accuracy and timing but has a good foundation to build on",
          "Ok",
          "Just whenever you get the chance, I'm in no rush",
          "Ok, when would you want it by, Iâm out looking at apartments rn",
          "It's for the underclassmen of the East Coast",
          "Basically just a paragraph about what they're good out, how they've helped your team, etc.",
          "What do you want to know about them in particular",
          "Ok so Hinely sucks at texting, working on another article, can you tell me about Alex Hussey and Dylan Jungert?",
          "Why I said what I said lol",
          "But yeah Iâm iffy at best",
          "Lmao",
          "Hahaha I didnât realize that was posting to fb",
          "Say hi to your new Facebook friend, Hunter."
         ],
         "type": "scatter",
         "x": [
          "2019-03-30T23:43:32.312000",
          "2019-03-30T23:43:12.012000",
          "2019-03-30T23:40:52.065000",
          "2019-03-30T23:40:31.731000",
          "2019-03-30T23:40:14.303000",
          "2019-03-30T23:39:50.625000",
          "2019-03-30T23:29:45.139000",
          "2019-03-30T23:27:20.451000",
          "2019-03-30T23:26:55.308000",
          "2019-03-30T23:26:44.904000",
          "2019-03-30T23:26:32.429000",
          "2019-03-30T23:26:25.058000",
          "2019-03-30T23:26:21.399000",
          "2019-03-30T23:26:11.978000",
          "2019-03-30T23:25:56.815000",
          "2019-03-30T23:25:30.187000",
          "2019-03-30T23:25:28.355000",
          "2019-03-30T23:25:15.541000",
          "2019-03-30T23:25:10.818000",
          "2019-03-30T23:24:53.007000",
          "2019-03-30T23:20:24.135000",
          "2019-03-30T23:20:17.848000",
          "2019-03-30T23:19:14.246000",
          "2019-03-30T23:17:50.356000",
          "2019-03-30T23:17:34.155000",
          "2019-03-30T23:16:53.311000",
          "2019-03-30T23:16:16.584000",
          "2019-03-30T23:15:56.930000",
          "2019-03-30T23:15:17.947000",
          "2019-03-30T23:14:58.991000",
          "2019-03-30T23:14:51.693000",
          "2019-03-30T23:14:45.446000",
          "2019-03-30T23:14:32.162000",
          "2019-03-30T23:14:21.229000",
          "2019-03-30T23:14:04.876000",
          "2019-03-30T23:13:54.045000",
          "2019-03-30T23:13:36.074000",
          "2019-03-30T23:12:49.074000",
          "2019-03-30T23:12:41.718000",
          "2019-03-30T23:12:08.188000",
          "2019-03-30T23:11:35.964000",
          "2019-03-30T23:10:52.325000",
          "2019-03-30T23:10:37.997000",
          "2019-03-30T23:09:31.343000",
          "2019-03-30T23:09:18.576000",
          "2019-03-30T23:08:51.117000",
          "2019-03-30T23:08:30.725000",
          "2019-03-30T23:07:55.951000",
          "2018-03-14T18:04:45.385000",
          "2018-03-14T17:07:15.478000",
          "2018-03-14T17:06:20.857000",
          "2018-03-02T03:10:39.344000",
          "2018-03-02T03:10:27.071000",
          "2018-03-02T03:10:07.696000",
          "2018-03-01T20:43:02.809000",
          "2018-03-01T20:42:50.484000",
          "2018-03-01T20:42:32.364000",
          "2018-03-01T20:37:58.895000",
          "2018-03-01T20:37:45.536000",
          "2018-03-01T20:37:20.338000",
          "2018-03-01T20:32:45.973000",
          "2017-09-27T00:13:48.857000",
          "2017-09-27T00:08:21.786000",
          "2017-09-27T00:08:14.758000",
          "2017-09-27T00:08:03.525000",
          "2016-11-17T13:24:11.703000"
         ],
         "y": [
          "Hunter Ford",
          "Hunter Ford",
          "Hunter Ford",
          "Hunter Ford",
          "Hunter Ford",
          "Hunter Ford",
          "Hunter Ford",
          "Hunter Ford",
          "Hunter Ford",
          "Hunter Ford",
          "Hunter Ford",
          "Hunter Ford",
          "Hunter Ford",
          "Hunter Ford",
          "Hunter Ford",
          "Hunter Ford",
          "Hunter Ford",
          "Hunter Ford",
          "Hunter Ford",
          "Hunter Ford",
          "Hunter Ford",
          "Hunter Ford",
          "Hunter Ford",
          "Hunter Ford",
          "Hunter Ford",
          "Hunter Ford",
          "Hunter Ford",
          "Hunter Ford",
          "Hunter Ford",
          "Hunter Ford",
          "Hunter Ford",
          "Hunter Ford",
          "Hunter Ford",
          "Hunter Ford",
          "Hunter Ford",
          "Hunter Ford",
          "Hunter Ford",
          "Hunter Ford",
          "Hunter Ford",
          "Hunter Ford",
          "Hunter Ford",
          "Hunter Ford",
          "Hunter Ford",
          "Hunter Ford",
          "Hunter Ford",
          "Hunter Ford",
          "Hunter Ford",
          "Hunter Ford",
          "Hunter Ford",
          "Hunter Ford",
          "Hunter Ford",
          "Hunter Ford",
          "Hunter Ford",
          "Hunter Ford",
          "Hunter Ford",
          "Hunter Ford",
          "Hunter Ford",
          "Hunter Ford",
          "Hunter Ford",
          "Hunter Ford",
          "Hunter Ford",
          "Hunter Ford",
          "Hunter Ford",
          "Hunter Ford",
          "Hunter Ford",
          "Hunter Ford"
         ]
        },
        {
         "marker": {
          "symbol": "star-triangle-up"
         },
         "mode": "markers",
         "text": [
          "Yeah j heard good things- honestly Baltimore js Baltimore. It all not safe but also safe haha",
          "Not too picky but Iâve been checking out the riverside area. Someone recommended it, they said it had good crime reports",
          "You",
          "Literally open to anything",
          "What part of Fed you looking to move into?",
          "maybe we can start looking in a few weeks",
          "okay worx",
          "Ok cool. Yeah as long as nothing drastically changes any time soon I think Iâd be down",
          "really flexible overall",
          "down for whatever",
          "cheaper the better haha no issue there",
          "Ok, I probably lookin to try and cap it at around 800 before utilities. Iâve seen some nice places that were 7-800 range. How many other people you looking to pull in?",
          "Would go higher if nicer but wouldnât wanna go to high, thatâs prob a lot for this area plus it comes with parking",
          "Before utilities",
          "Iâm paying 875 right now",
          "I might be interested, what rent range are you looking at?",
          "My lease is ending July 1 and looking to find a spot",
          "Not 100% sure when I want to but eventually, why whatâs up?",
          "Yo u still looking to move into fed",
          "Say hi to your new Facebook friend, Jeremy."
         ],
         "type": "scatter",
         "x": [
          "2020-05-07T13:06:44.295000",
          "2020-05-07T13:04:49.335000",
          "2020-05-07T13:03:41.826000",
          "2020-05-07T13:03:38.691000",
          "2020-05-07T13:00:16.981000",
          "2020-04-30T20:31:12.182000",
          "2020-04-30T20:31:04.061000",
          "2020-04-30T20:28:48.101000",
          "2020-04-30T20:22:21.788000",
          "2020-04-30T20:22:16.817000",
          "2020-04-30T20:22:14.612000",
          "2020-04-30T20:21:37.707000",
          "2020-04-30T20:07:32.155000",
          "2020-04-30T20:07:11.987000",
          "2020-04-30T20:07:04.545000",
          "2020-04-30T20:05:25.324000",
          "2020-04-30T20:01:37.520000",
          "2020-04-30T19:57:43.949000",
          "2020-04-30T16:48:30.371000",
          "2019-11-02T01:12:03.058000"
         ],
         "y": [
          "Jeremy Levine",
          "Jeremy Levine",
          "Jeremy Levine",
          "Jeremy Levine",
          "Jeremy Levine",
          "Jeremy Levine",
          "Jeremy Levine",
          "Jeremy Levine",
          "Jeremy Levine",
          "Jeremy Levine",
          "Jeremy Levine",
          "Jeremy Levine",
          "Jeremy Levine",
          "Jeremy Levine",
          "Jeremy Levine",
          "Jeremy Levine",
          "Jeremy Levine",
          "Jeremy Levine",
          "Jeremy Levine",
          "Jeremy Levine"
         ]
        },
        {
         "marker": {
          "symbol": "star-triangle-up"
         },
         "mode": "markers",
         "text": [
          "That so sad Hahahaha",
          "ððð",
          "You sent an attachment.",
          "ok",
          "Come down in like 5 mins",
          "have you left yet, if so ill head down",
          "Or whatever the buildings called",
          "ok",
          "The main entrance of York",
          "ok",
          "Construction side",
          "by the construction site or the other side",
          "Iâll just pull right up to the front",
          "i guess just meet at batemans parking lot",
          "ok",
          "Alright i just finished Iâll drop it off in 15",
          "im in york road btw",
          "ok sounds good",
          "Iâll get it to you before then",
          "yeah at 3",
          "God damnit... i forgot your phone, Iâll drop it off right after my final. Do you have a final today",
          "ok where will you be",
          "I have an exam at 12:30 but will be on campus for most of the day prior to that",
          "Yea itâs all good, i can drop it off tomorrow",
          "oh shit, i thought you did the dodgeball stuff earlier, that makes more sense now",
          "Just finished dodgeball you can come get your phone now",
          "hiiiiiiiii",
          "If you want, if you can come drop it off I can buy you qdoba",
          "fuck me, i just realized that my one card is with my phone so i cant ride the bus",
          "are you done with dodgeball stuff today?",
          "im sorry about that, ill have to buy you food sometime",
          "In the building bathroom... i had to clean it up lol",
          "where did i throw up last night",
          "And that works too",
          "Probably like 5:15",
          "im gonna take a nap, i can just stop by tonight when you get back",
          "ok, what time would that be at?",
          "When i go to dodgeball",
          "Actually i can drop it off later",
          "You could come get it now, Iâm at the apartment",
          "I was awful",
          "And Im so sorry for last night",
          "Im back, when will I be able to get it?"
         ],
         "type": "scatter",
         "x": [
          "2018-07-24T02:34:31.646000",
          "2018-07-24T02:34:16.807000",
          "2018-07-24T02:32:08.433000",
          "2018-05-21T17:40:55.446000",
          "2018-05-21T17:40:51.707000",
          "2018-05-21T17:40:42.821000",
          "2018-05-21T17:37:39.283000",
          "2018-05-21T17:37:34.017000",
          "2018-05-21T17:37:29.903000",
          "2018-05-21T17:37:29.231000",
          "2018-05-21T17:37:25.677000",
          "2018-05-21T17:37:13.871000",
          "2018-05-21T17:36:38.437000",
          "2018-05-21T17:34:28.297000",
          "2018-05-21T17:27:55.649000",
          "2018-05-21T17:27:47.872000",
          "2018-05-21T16:52:30.298000",
          "2018-05-21T14:08:07.040000",
          "2018-05-21T14:07:48.444000",
          "2018-05-21T14:07:38.960000",
          "2018-05-21T14:07:29.698000",
          "2018-05-21T14:06:58.290000",
          "2018-05-21T05:57:35.887000",
          "2018-05-21T05:57:19.641000",
          "2018-05-21T05:20:52.735000",
          "2018-05-21T03:39:52.575000",
          "2018-05-21T00:54:39.591000",
          "2018-05-20T23:42:57.619000",
          "2018-05-20T22:42:58.369000",
          "2018-05-20T22:36:15.574000",
          "2018-05-20T22:09:38.419000",
          "2018-05-20T20:24:11.958000",
          "2018-05-20T19:00:50.460000",
          "2018-05-20T18:49:19.008000",
          "2018-05-20T18:49:14.372000",
          "2018-05-20T18:47:55.943000",
          "2018-05-20T18:37:53.517000",
          "2018-05-20T18:37:29.798000",
          "2018-05-20T18:37:25.498000",
          "2018-05-20T18:37:05.575000",
          "2018-05-20T18:35:42.499000",
          "2018-05-20T18:35:28.656000",
          "2018-05-20T18:35:08.579000"
         ],
         "y": [
          "Michael Hinely",
          "Michael Hinely",
          "Michael Hinely",
          "Michael Hinely",
          "Michael Hinely",
          "Michael Hinely",
          "Michael Hinely",
          "Michael Hinely",
          "Michael Hinely",
          "Michael Hinely",
          "Michael Hinely",
          "Michael Hinely",
          "Michael Hinely",
          "Michael Hinely",
          "Michael Hinely",
          "Michael Hinely",
          "Michael Hinely",
          "Michael Hinely",
          "Michael Hinely",
          "Michael Hinely",
          "Michael Hinely",
          "Michael Hinely",
          "Michael Hinely",
          "Michael Hinely",
          "Michael Hinely",
          "Michael Hinely",
          "Michael Hinely",
          "Michael Hinely",
          "Michael Hinely",
          "Michael Hinely",
          "Michael Hinely",
          "Michael Hinely",
          "Michael Hinely",
          "Michael Hinely",
          "Michael Hinely",
          "Michael Hinely",
          "Michael Hinely",
          "Michael Hinely",
          "Michael Hinely",
          "Michael Hinely",
          "Michael Hinely",
          "Michael Hinely",
          "Michael Hinely"
         ]
        },
        {
         "marker": {
          "symbol": "star-triangle-up"
         },
         "mode": "markers",
         "text": [
          "Smh",
          "Lmfao",
          "Eric sent an attachment.",
          "You sent an attachment.",
          "ðð Thatâs funny",
          "Lol hereâs your straight pride",
          "Eric sent a link.",
          "Lmao",
          "You sent an attachment.",
          "You sent an attachment.",
          "Hahaha I liked the Diddy remix",
          "Eric sent an attachment.",
          "ððð",
          "Eric sent an attachment.",
          "Hahahaha",
          "Ayyyy got that T-Mobile life",
          "Eric sent an attachment."
         ],
         "type": "scatter",
         "x": [
          "2020-03-26T19:09:37.459000",
          "2020-03-25T12:48:12.548000",
          "2020-03-25T12:48:05.633000",
          "2020-03-25T11:33:53.110000",
          "2019-06-05T16:17:51.419000",
          "2019-06-05T16:08:46.097000",
          "2019-06-05T16:08:23.611000",
          "2018-02-07T17:28:25.354000",
          "2018-02-07T16:50:26.513000",
          "2018-01-18T02:18:19.625000",
          "2017-11-21T00:04:12.330000",
          "2017-11-20T22:47:34.899000",
          "2017-11-17T03:14:38.706000",
          "2017-11-16T18:13:32.377000",
          "2017-09-25T19:00:48.975000",
          "2017-09-06T22:17:28.757000",
          "2016-01-20T17:49:58.949000"
         ],
         "y": [
          "Eric Shaner",
          "Eric Shaner",
          "Eric Shaner",
          "Eric Shaner",
          "Eric Shaner",
          "Eric Shaner",
          "Eric Shaner",
          "Eric Shaner",
          "Eric Shaner",
          "Eric Shaner",
          "Eric Shaner",
          "Eric Shaner",
          "Eric Shaner",
          "Eric Shaner",
          "Eric Shaner",
          "Eric Shaner",
          "Eric Shaner"
         ]
        },
        {
         "marker": {
          "symbol": "star-triangle-up"
         },
         "mode": "markers",
         "text": [
          "Hi Tyler,\nFacebook now lets people choose a legacy contact to manage their account if something happens to them: https://www.facebook.com/help/1568013990080948\n\nSince you know me well and I trust you, I chose you. Please let me know if you want to talk about this.",
          "Antoinette sent an attachment.",
          "Hi",
          "Howâs it going",
          "Oh I saw that haha, I got my phone back not too long ago",
          "I love love love you",
          "Just wanted to keep you in the loop. Heinley has your phone. Praise be.",
          "I said:\nThis upcoming weekend is Memorial weekend. On Sunday we have two events. We have RJ and Jessica's graduation and then afterwords dad and I have a party down at a beach with two of our girlfriends. You're both welcome to come or I don't have to work and come for a little bit. Whatever you want to do",
          "I'm a professional dad picking up dog s***",
          "Dad posted the above:  ryan said âNice!â",
          "Ryan said:",
          "Dad said:\nOMG, to Future senators. I'm moving to Canada",
          "haha, yeah i was hoping facebook would prevent that but to no avail",
          "I never realized I would have an anxiety attack without you having a phone",
          "Great. Iâm starting to calm down now",
          "got it, thanks",
          "Please confirm you were in Caroll Hall",
          "I am getting the number for the building that you live in. What is your room number? If for example I needed to leave you a message the person could write the note on a piece of paper and slip it under your door. Please provide your room number.",
          "Hey, I don't know if you've messaged me but just to let you know I don't have my phone and I'm having a really hard time getting it.  I just did want you thinking I was ignoring you guys",
          "I even went to her house and met her parents. They were from Ohio.",
          "I am honored.  I can't believe she remembered me, but I remember how sweet she was.  I enjoyed every minute with her.",
          "This is from College.  This little girl is all grown up now.  Her name is Katie Strand.  I tought her at a camp during the summer and she remembered me and sent it to me.",
          "Haha when is that from",
          "What?",
          "Hey Antoinette, there's something about this photo that bothers me. Would you please take it down?",
          "I think it's the â¦ button",
          "There's. No button to delete",
          "Can you tell me how?",
          "Hey Antoinette, there's something about this photo that bothers me. Would you please take it down?"
         ],
         "type": "scatter",
         "x": [
          "2019-10-10T19:49:06.781000",
          "2019-08-15T20:02:23.019000",
          "2018-05-27T19:44:55.178000",
          "2018-05-21T22:52:28.991000",
          "2018-05-21T22:52:25.089000",
          "2018-05-21T22:50:41.508000",
          "2018-05-21T22:50:26.972000",
          "2018-05-21T22:49:50.914000",
          "2018-05-21T22:49:22.217000",
          "2018-05-21T22:48:57.306000",
          "2018-05-21T22:47:32.725000",
          "2018-05-21T22:47:09.854000",
          "2018-05-21T02:58:41.540000",
          "2018-05-21T02:49:51.022000",
          "2018-05-21T02:49:30.599000",
          "2018-05-21T02:48:57.338000",
          "2018-05-21T01:55:17.267000",
          "2018-05-21T01:54:35.736000",
          "2018-05-21T01:29:01.504000",
          "2018-03-02T19:01:03.829000",
          "2018-03-02T19:00:34.397000",
          "2018-03-02T18:59:59.089000",
          "2018-03-02T18:58:33.864000",
          "2017-12-13T01:13:59.587000",
          "2017-12-12T19:43:20.024000",
          "2017-09-10T07:11:18.673000",
          "2017-09-09T20:48:09.604000",
          "2017-09-09T20:47:46.235000",
          "2017-09-03T16:37:25.604000"
         ],
         "y": [
          "Antoinette Podolek Schmitz",
          "Antoinette Podolek Schmitz",
          "Antoinette Podolek Schmitz",
          "Antoinette Podolek Schmitz",
          "Antoinette Podolek Schmitz",
          "Antoinette Podolek Schmitz",
          "Antoinette Podolek Schmitz",
          "Antoinette Podolek Schmitz",
          "Antoinette Podolek Schmitz",
          "Antoinette Podolek Schmitz",
          "Antoinette Podolek Schmitz",
          "Antoinette Podolek Schmitz",
          "Antoinette Podolek Schmitz",
          "Antoinette Podolek Schmitz",
          "Antoinette Podolek Schmitz",
          "Antoinette Podolek Schmitz",
          "Antoinette Podolek Schmitz",
          "Antoinette Podolek Schmitz",
          "Antoinette Podolek Schmitz",
          "Antoinette Podolek Schmitz",
          "Antoinette Podolek Schmitz",
          "Antoinette Podolek Schmitz",
          "Antoinette Podolek Schmitz",
          "Antoinette Podolek Schmitz",
          "Antoinette Podolek Schmitz",
          "Antoinette Podolek Schmitz",
          "Antoinette Podolek Schmitz",
          "Antoinette Podolek Schmitz",
          "Antoinette Podolek Schmitz"
         ]
        },
        {
         "marker": {
          "symbol": "star-triangle-up"
         },
         "mode": "markers",
         "text": [
          "I want to thank you for taking my happiness and destroying it with ease, I am still fucked in the head over our relationship, you turned me into a person I donât recognize and have ruined everything",
          "Ally sent an attachment.",
          "Ally sent a link.",
          "Ally sent an attachment.",
          "Ally sent an attachment.",
          "And thanks for saying thanks",
          "The yellow was really bright and blue was the original color so I just changed it back",
          "Youâre fine, I liked this video and Iâm surprised you didnât change it to yellow, but thank for this video, I really did like it",
          "Also I didnât realize it would notify you that I changed the color. I thought only I could see it",
          "Btw sorry I messaged you. I didnât mean to but I thought this video was really relevant.",
          "You keep saying youâve failed me but I think this video shows what Iâm trying to tell you...that you didnât fail me because it was never your job to fix me. Thatâs only something I can do.",
          "You changed the chat theme.",
          "I like this video, I watched probably 7 times, I think it can be taken several ways so out of curiosity, what way did you intend this video?",
          "Ally changed the chat theme.",
          "Ally changed the chat theme.",
          "Ally changed the chat theme.",
          "Ally sent an attachment.",
          "Haha holy shit thatâs awesome",
          "Ally sent an attachment.",
          "lol",
          "You sent an attachment.",
          "Ally sent an attachment.",
          "Wtf that is too cool",
          "You sent an attachment.",
          "LOL",
          "You sent an attachment.",
          "So true haha",
          "Ally sent an attachment.",
          "ð",
          "Thatâs great",
          "LOL omfg",
          "The video chat ended.",
          "Best ya to it ð",
          "I was just about to send that to you",
          "I peeped",
          "Booze again",
          "And this one has the middle finger",
          "Hey you know there's a pic of you holding alcohol, I saw you were looking for an internship sooooo this could easily kill that",
          "Ally sent an attachment.",
          "Gay, gaaayy! ð¥ð¥ð¥ð¥",
          "Ally sent an attachment.",
          "You sent an attachment.",
          "Hahaha",
          "When the gf says eat me out",
          "The bunny has red lipstick",
          "Ally sent an attachment.",
          "Same",
          "Ass and titties",
          "Ally sent a link.",
          "Hmmmm this seems like you",
          "Ally sent an attachment.",
          "When are you getting your phone back",
          "i will know when i get my phone back",
          "Do you have an estimate of when you are babysitting?",
          "It's over at 5:50",
          "hens your class overrrr im lonelyyyy",
          "wanna hang out with yiou i feel like i havent gotten to actually hang out with you trecently",
          "e got lunch",
          "after class",
          "When did you go there?",
          "You talk about him a lot",
          "didnt know you knew his name",
          "ea",
          "Gersh?",
          "ono",
          "i meant jewish friend",
          "Is this your laptop",
          "m having troubles sending messages too",
          "my computer is fucked yp",
          "the first letters of my messages arent typing sometimes",
          "What is ewish friend",
          "ewish friend",
          "ewish friend",
          "Which friends did you manage to leave it at",
          "h ok and im not sure i dont have my ohne my friend is bringing it back ti me larter",
          "What time are you baby sitting at",
          "I'm in class but maybe after",
          "come overrrr",
          "uz i am a dum dum",
          "How did you managed to do that?",
          "erro i left my phone at a friends",
          "You forgot your phone hereâ¦ it was inside the pillow",
          "Ok",
          "Ok bye no more fb messages I'm leaving",
          "I have a chastity ring",
          "And uh no I don'tâ¦",
          "You fuck me",
          "Yes we do",
          "Well we don't do anything soooo",
          "Remember you asked me not to show people messages",
          "He's not haha",
          "Mr. Stull, if you're reading this we don't do anything",
          "Ok",
          "Yes",
          "We don't do anything soooo",
          "HA",
          "In bed",
          "Like you",
          "HAHA",
          "That emoji is freaky",
          "Wtf",
          "Bye loser",
          "lol funny",
          "ð¬",
          "You won't text me??",
          "I'll ring on your door bell when I'm there",
          "So basically to be safe I'll see you at 6",
          "Sounds swaggin",
          "I'll be at the mall in 5 be home in 15 gimme 5 min at home to go pee then 20 min to your house but five minutes Lee way cuz I'm me so I'll be there in 50 min",
          "Estimate?",
          "I'll be over in a lil",
          "So what is the plan now maam",
          "I got it all figured out",
          "Yes",
          "Is kenderr at work?",
          "Hahaha, I see what you did there",
          "Sports",
          "Save",
          "Ha",
          "Good save",
          "Over the summer",
          "When we play sports together",
          "see ya never",
          "BAAAH BYAAA",
          "What",
          "HELL NO",
          "OOOOOOO NO",
          "I can't win but I can score ð",
          "That's the point",
          "I can't win with you ð",
          "Oh so he doesn't want to marry me then",
          "Well it's not a definite but IF it happens",
          "No the insinuation that you want to marry me",
          "Text evidence of me saying we're waiting till marriage",
          "Screenshot",
          "Now I have text evidence",
          "Ooooo",
          "Once we're married of course",
          "Sounds good",
          "Ok",
          "Hahaha",
          "We shall try everything together",
          "Never tried it",
          "Idk",
          "Hmmm",
          "Lol",
          "If that's what you're into",
          "Ok",
          "Bite me",
          "You suck",
          "Fuck you",
          "I believe it's asshole",
          "Ass hole",
          "I never gave you a time",
          "\"I'm gonna be so on time it's crazy\"",
          "Haha, you should get spare key for times like this",
          "You'd be surprised how often this happens to me",
          "I'm gonna go and see if Kendall is at work",
          "No it's ok I'm sill with my dad",
          "I'm gonna show real quick and I can drop it off, so what are you going to do?",
          "No we don't",
          "And you guys don't have a spare key?",
          "Not even the basement?",
          "Nope",
          "Check and see if a window is open",
          "HA at my life",
          "Hahahaha",
          "And I'm locked out",
          "I can bring it over",
          "So no car",
          "I came home and no one was there",
          "Ok sooo small set back",
          "I'm going to say that now",
          "Yaaassssss boo",
          "Ugh I hate it when botches say that",
          "Yaaaaaaaaas booooooo",
          "Kkk**",
          "lol",
          "Ok so I'm basically home but I gotta go pee before I leave",
          "Yea exactly same difference",
          "Yea I was like df",
          "But yeah it's pretty close",
          "Haha I don't mean to do that",
          "Suck my dick nigger bitch",
          "What do you say ma'am",
          "Well one of them left so now it's just a girl on my floor",
          "Oh I say something similar",
          "These girls on my floor say that",
          "Oh who",
          "I got that from someone else",
          "Or did you make  hat up",
          "Did I say that to you?",
          "Litty titty",
          "Almost home",
          "Chru chru chru",
          "**kkk",
          "Kk roflol",
          "Bye loser",
          "I didn't feel like typing it all out",
          "Ok",
          "lol duck off",
          "Ok, I \"ttyl\" too",
          "And I'm on my fb on his phone so I can log off",
          "Ok I'm getting car sick reading your messages so I gotta ttyl",
          "On**",
          "Are you in your dads phone",
          "I'm good like that",
          "How did you know",
          "Totes",
          "It's a vagina pic",
          "Lol",
          "Haha ok, and I guess you'll have to see",
          "It's probs a Dick pic",
          "I wanna be surprised",
          "Wait don't tell me",
          "So you had to have texted me",
          "For a while",
          "You said I didn't respond",
          "Nope",
          "You are gonna be so proud of me",
          "What do you mean",
          "Lol what did you text me",
          "I'll believe it when I see it",
          "Lies",
          "I'm gonna give you a time I'm coming over and imma be so on time it'll be crazy",
          "Well I woke up at 9 and was like shit, she hasn't responded still, so I went to see if your phone was in the car and it was, so I came back in and went to sleep, and I woke up again a couple hours later and saw your message",
          "You are crazy",
          "Lol",
          "Jesus!",
          "And like 2:30",
          "Meh",
          "When did you wake up",
          "Oh fun",
          "I watched some tv",
          "Nope",
          "Play video games",
          "What did you do nigg",
          "Ikr",
          "Smh you're the aggressive one",
          "Cuz you said nope twice them all the sudden you said no",
          "It was a joke",
          "I was kidding",
          "Yes",
          "Me?",
          "So aggressive",
          "No",
          "I don't think so",
          "Picked your nose",
          "Farted",
          "Nope",
          "Pooped",
          "Nope",
          "Died",
          "Beat off",
          "Well I woke up, andâ¦",
          "Yea fml. How was your day",
          "Hahahaha, so this is the third time you haven't gotten to work",
          "Yea well that didn't happen. My dad had a drs appointment run waaaaay over",
          "How was work",
          "Occasionally",
          "And yo nigs",
          "The only reason I ever use my phone is to text you",
          "I'd be crying on the floor",
          "I don't need it haha",
          "Three days without your phone!?!?!?",
          "I just have to see if there is a car for me to drive or not. If there is none I can just get it when you get back form your trip",
          "Haha ok, that works",
          "I'm On my way home rn and I'll be back by 4:40. I can come get it from your house if that's easier since I'm the dipshit that left it with you",
          "I'll drop it off whenever you get home",
          "Wait you can't get it today?",
          "Sounds Gucci",
          "Y'all good. I feel like such a noob using fb lol but I'll let ya know when I'm heading over",
          "Sorry it took a while to respond haha, I almost never check fb messages",
          "Yeah it's here, basically just come by before like 8:30, I can drop it off too if that helps",
          "If it is in your car, just keep it until I can come pick it up. Maybe tomorrow I can stop by for two seconds to grab it.",
          "hey did i keave my phone in your car?",
          "Lit",
          "idk i just had to show you this",
          "Hahaha what"
         ],
         "type": "scatter",
         "x": [
          "2018-05-23T07:56:45.616000",
          "2018-05-06T13:37:56.443000",
          "2018-05-06T13:37:39.999000",
          "2018-05-06T13:37:25.306000",
          "2018-05-06T13:37:02.499000",
          "2018-04-10T01:03:38.119000",
          "2018-04-10T01:03:18.103000",
          "2018-04-10T01:01:30.885000",
          "2018-04-10T00:54:31.424000",
          "2018-04-10T00:54:02.183000",
          "2018-04-10T00:53:17.484000",
          "2018-04-10T00:44:53.001000",
          "2018-04-10T00:34:49.513000",
          "2018-04-10T00:14:16.529000",
          "2018-04-10T00:13:58.679000",
          "2018-04-10T00:13:46.667000",
          "2018-04-10T00:09:00.188000",
          "2018-03-07T16:40:27.564000",
          "2018-03-07T16:38:50.123000",
          "2018-02-07T17:28:48.352000",
          "2018-02-07T16:50:26.612000",
          "2018-02-02T15:26:01.663000",
          "2018-01-18T02:40:04.765000",
          "2018-01-18T02:18:19.714000",
          "2018-01-04T02:53:11.171000",
          "2018-01-03T21:15:50.484000",
          "2017-12-13T22:20:15.129000",
          "2017-12-13T21:08:57.554000",
          "2017-11-06T20:18:20.576000",
          "2017-11-06T20:18:15.903000",
          "2017-11-06T20:18:10.075000",
          "2017-10-17T05:45:36.551000",
          "2017-10-11T19:22:15.896000",
          "2017-10-11T18:00:52.900000",
          "2017-10-11T18:00:50.663000",
          "2017-09-14T05:49:31.414000",
          "2017-09-14T05:46:25.268000",
          "2017-09-14T05:45:19.837000",
          "2017-09-07T18:15:27.146000",
          "2017-08-08T16:55:52.205000",
          "2017-08-08T13:30:09.468000",
          "2017-07-21T14:09:17.967000",
          "2017-06-29T02:00:28.218000",
          "2017-06-28T23:29:27.364000",
          "2017-06-01T15:00:05.738000",
          "2017-06-01T14:56:45.015000",
          "2017-05-30T15:36:39.011000",
          "2017-05-30T15:34:59.760000",
          "2017-05-30T14:05:41.160000",
          "2017-05-25T21:55:25.102000",
          "2017-05-25T21:33:30.582000",
          "2017-02-09T22:23:15.365000",
          "2017-02-09T22:19:03.644000",
          "2017-02-09T22:11:28.838000",
          "2017-02-09T22:10:14.158000",
          "2017-02-09T21:57:38.264000",
          "2017-02-09T21:49:55.160000",
          "2017-02-09T21:49:07.638000",
          "2017-02-09T21:49:01.819000",
          "2017-02-09T21:48:29.585000",
          "2017-02-09T21:47:42.432000",
          "2017-02-09T21:47:30.839000",
          "2017-02-09T21:47:22.294000",
          "2017-02-09T21:47:17.556000",
          "2017-02-09T21:47:12.251000",
          "2017-02-09T21:47:05.554000",
          "2017-02-09T21:47:04.454000",
          "2017-02-09T21:46:51.797000",
          "2017-02-09T21:46:43.153000",
          "2017-02-09T21:46:21.873000",
          "2017-02-09T21:46:01.633000",
          "2017-02-09T21:44:58.552000",
          "2017-02-09T21:44:48.805000",
          "2017-02-09T21:44:03.105000",
          "2017-02-09T21:42:26.477000",
          "2017-02-09T21:27:00.274000",
          "2017-02-09T21:26:31.733000",
          "2017-02-09T21:12:33.638000",
          "2017-02-09T21:12:12.951000",
          "2017-02-09T21:04:13.801000",
          "2017-02-09T20:45:11.361000",
          "2017-01-14T02:36:24.544000",
          "2017-01-13T22:03:44.534000",
          "2017-01-13T22:03:33.605000",
          "2017-01-13T22:03:27.321000",
          "2017-01-13T22:03:18.043000",
          "2017-01-13T22:03:08.085000",
          "2017-01-13T22:03:05.572000",
          "2017-01-13T22:03:00.541000",
          "2017-01-13T22:02:53.259000",
          "2017-01-13T22:02:43.788000",
          "2017-01-13T22:02:31.956000",
          "2017-01-13T22:01:59.454000",
          "2017-01-13T22:01:56.575000",
          "2017-01-13T22:01:49.053000",
          "2017-01-13T22:01:42.606000",
          "2017-01-13T22:01:40.091000",
          "2017-01-13T22:01:38.583000",
          "2017-01-13T22:01:36.742000",
          "2017-01-13T22:01:31.005000",
          "2017-01-13T22:01:24.832000",
          "2017-01-13T22:01:23.040000",
          "2017-01-13T22:01:19.501000",
          "2017-01-13T22:01:17.358000",
          "2017-01-13T22:01:13.647000",
          "2017-01-13T22:01:01.654000",
          "2017-01-13T22:00:52.868000",
          "2017-01-13T22:00:39.746000",
          "2017-01-13T22:00:15.731000",
          "2017-01-13T21:59:15.534000",
          "2017-01-13T21:59:06.744000",
          "2017-01-13T21:59:03.549000",
          "2017-01-13T21:58:54.162000",
          "2017-01-13T21:58:50.108000",
          "2017-01-13T21:58:04.106000",
          "2017-01-13T21:57:36.718000",
          "2017-01-13T21:57:18.170000",
          "2017-01-13T21:57:15.954000",
          "2017-01-13T21:57:13.675000",
          "2017-01-13T21:57:02.141000",
          "2017-01-13T21:57:01.136000",
          "2017-01-13T21:56:54.599000",
          "2017-01-13T21:56:49.142000",
          "2017-01-13T21:56:42.881000",
          "2017-01-13T21:56:42.352000",
          "2017-01-13T21:56:37.412000",
          "2017-01-13T21:56:35.379000",
          "2017-01-13T21:56:26.246000",
          "2017-01-13T21:56:10.013000",
          "2017-01-13T21:56:03.956000",
          "2017-01-13T21:55:48.252000",
          "2017-01-13T21:55:31.957000",
          "2017-01-13T21:54:57.181000",
          "2017-01-13T21:54:38.856000",
          "2017-01-13T21:54:19.398000",
          "2017-01-13T21:54:16.679000",
          "2017-01-13T21:54:10.144000",
          "2017-01-13T21:54:04.803000",
          "2017-01-13T21:54:03.761000",
          "2017-01-13T21:54:00.551000",
          "2017-01-13T21:53:58.062000",
          "2017-01-13T21:53:52.122000",
          "2017-01-13T21:53:23.840000",
          "2017-01-13T21:53:20.760000",
          "2017-01-13T21:53:19.543000",
          "2017-01-13T21:53:12.319000",
          "2017-01-13T21:53:06.559000",
          "2017-01-13T21:52:59.639000",
          "2017-01-13T21:52:55.789000",
          "2017-01-13T21:52:53.541000",
          "2017-01-13T21:52:48.942000",
          "2017-01-13T21:52:35.705000",
          "2017-01-13T21:52:25.517000",
          "2017-01-13T21:52:22.502000",
          "2017-01-13T21:51:58.967000",
          "2017-01-13T21:49:52.537000",
          "2017-01-13T21:44:25.745000",
          "2017-01-13T21:44:17.188000",
          "2017-01-13T21:44:02.703000",
          "2017-01-13T21:43:43.721000",
          "2017-01-13T21:43:09.267000",
          "2017-01-13T21:43:02.091000",
          "2017-01-13T21:42:30.230000",
          "2017-01-13T21:42:19.620000",
          "2017-01-13T21:42:09.610000",
          "2017-01-13T21:41:55.623000",
          "2017-01-13T21:41:52.903000",
          "2017-01-13T21:41:48.357000",
          "2017-01-13T21:41:48.048000",
          "2017-01-13T21:41:41.289000",
          "2017-01-13T21:41:37.750000",
          "2017-01-13T21:41:29.860000",
          "2017-01-13T21:34:56.709000",
          "2017-01-13T21:34:43.553000",
          "2017-01-13T21:34:16.613000",
          "2017-01-13T21:34:10.277000",
          "2017-01-13T21:34:02.219000",
          "2017-01-13T21:33:57.713000",
          "2017-01-13T21:33:46.421000",
          "2017-01-13T21:33:17.997000",
          "2017-01-13T21:33:09.337000",
          "2017-01-13T21:33:09.283000",
          "2017-01-13T21:32:58.438000",
          "2017-01-13T21:32:43.489000",
          "2017-01-13T21:32:33.516000",
          "2017-01-13T21:32:28.237000",
          "2017-01-13T21:32:26.286000",
          "2017-01-13T21:32:11.616000",
          "2017-01-13T21:31:56.957000",
          "2017-01-13T21:31:43.027000",
          "2017-01-13T21:31:33.291000",
          "2017-01-13T21:31:27.948000",
          "2017-01-13T21:31:14.462000",
          "2017-01-13T21:31:06.564000",
          "2017-01-13T21:07:51.362000",
          "2017-01-13T21:07:44.008000",
          "2017-01-13T21:07:34.701000",
          "2017-01-13T21:07:33.716000",
          "2017-01-13T21:07:24.511000",
          "2017-01-13T21:07:22.601000",
          "2017-01-13T21:07:16.824000",
          "2017-01-13T21:07:11.605000",
          "2017-01-13T21:06:54.961000",
          "2017-01-13T21:06:44.791000",
          "2017-01-13T21:06:35.783000",
          "2017-01-13T21:06:31.471000",
          "2017-01-13T21:06:20.431000",
          "2017-01-13T21:06:11.844000",
          "2017-01-13T21:06:07.126000",
          "2017-01-13T21:06:03.032000",
          "2017-01-13T21:05:56.755000",
          "2017-01-13T21:05:50.561000",
          "2017-01-13T21:05:36.300000",
          "2017-01-13T21:05:31.345000",
          "2017-01-13T21:05:26.977000",
          "2017-01-13T21:05:04.509000",
          "2017-01-13T21:04:57.476000",
          "2017-01-13T21:04:54.238000",
          "2017-01-13T21:04:50.700000",
          "2017-01-13T21:04:46.656000",
          "2017-01-13T21:04:46.249000",
          "2017-01-13T21:04:36.882000",
          "2017-01-13T21:04:36.757000",
          "2017-01-13T21:04:16.334000",
          "2017-01-13T21:04:06.132000",
          "2017-01-13T21:03:59.189000",
          "2017-01-13T21:02:57.983000",
          "2017-01-13T21:02:50.688000",
          "2017-01-13T21:02:35.534000",
          "2017-01-13T21:02:30.978000",
          "2017-01-13T21:02:26.978000",
          "2017-01-13T21:02:25.358000",
          "2017-01-13T21:02:21.476000",
          "2017-01-13T21:02:17.231000",
          "2017-01-13T21:02:11.365000",
          "2017-01-13T21:02:08.264000",
          "2017-01-13T21:02:03.772000",
          "2017-01-13T21:01:53.126000",
          "2017-01-13T21:01:48.519000",
          "2017-01-13T21:01:47.884000",
          "2017-01-13T21:01:37.949000",
          "2017-01-13T21:01:35.325000",
          "2017-01-13T21:01:30.505000",
          "2017-01-13T21:01:24.340000",
          "2017-01-13T21:01:15.670000",
          "2017-01-13T21:01:09.839000",
          "2017-01-13T21:01:07.765000",
          "2017-01-13T21:01:05.923000",
          "2017-01-13T21:01:00.782000",
          "2017-01-13T21:00:59.645000",
          "2017-01-13T21:00:55.070000",
          "2017-01-13T21:00:52.378000",
          "2017-01-13T21:00:52.006000",
          "2017-01-13T21:00:48.564000",
          "2017-01-13T21:00:41.596000",
          "2017-01-13T21:00:21.501000",
          "2017-01-13T21:00:03.972000",
          "2017-01-13T20:58:43.331000",
          "2017-01-13T20:58:15.178000",
          "2017-01-13T20:57:39.157000",
          "2017-01-13T20:57:32.635000",
          "2017-01-13T20:57:16.571000",
          "2017-01-13T20:56:56.936000",
          "2017-01-13T20:56:33.987000",
          "2017-01-13T20:56:09.036000",
          "2017-01-13T20:55:44.453000",
          "2017-01-13T20:55:02.370000",
          "2017-01-13T20:54:27.567000",
          "2017-01-13T20:49:23.084000",
          "2017-01-13T20:48:18.076000",
          "2017-01-13T19:15:36.675000",
          "2017-01-13T18:28:21.336000",
          "2017-01-13T14:26:34.695000",
          "2017-01-13T14:25:50.474000",
          "2017-01-13T02:45:48.910000",
          "2017-01-13T02:21:43.531000",
          "2016-12-20T04:12:55.446000",
          "2016-12-19T23:35:41.568000",
          "2016-12-16T21:04:49.941000"
         ],
         "y": [
          "Ally Stull",
          "Ally Stull",
          "Ally Stull",
          "Ally Stull",
          "Ally Stull",
          "Ally Stull",
          "Ally Stull",
          "Ally Stull",
          "Ally Stull",
          "Ally Stull",
          "Ally Stull",
          "Ally Stull",
          "Ally Stull",
          "Ally Stull",
          "Ally Stull",
          "Ally Stull",
          "Ally Stull",
          "Ally Stull",
          "Ally Stull",
          "Ally Stull",
          "Ally Stull",
          "Ally Stull",
          "Ally Stull",
          "Ally Stull",
          "Ally Stull",
          "Ally Stull",
          "Ally Stull",
          "Ally Stull",
          "Ally Stull",
          "Ally Stull",
          "Ally Stull",
          "Ally Stull",
          "Ally Stull",
          "Ally Stull",
          "Ally Stull",
          "Ally Stull",
          "Ally Stull",
          "Ally Stull",
          "Ally Stull",
          "Ally Stull",
          "Ally Stull",
          "Ally Stull",
          "Ally Stull",
          "Ally Stull",
          "Ally Stull",
          "Ally Stull",
          "Ally Stull",
          "Ally Stull",
          "Ally Stull",
          "Ally Stull",
          "Ally Stull",
          "Ally Stull",
          "Ally Stull",
          "Ally Stull",
          "Ally Stull",
          "Ally Stull",
          "Ally Stull",
          "Ally Stull",
          "Ally Stull",
          "Ally Stull",
          "Ally Stull",
          "Ally Stull",
          "Ally Stull",
          "Ally Stull",
          "Ally Stull",
          "Ally Stull",
          "Ally Stull",
          "Ally Stull",
          "Ally Stull",
          "Ally Stull",
          "Ally Stull",
          "Ally Stull",
          "Ally Stull",
          "Ally Stull",
          "Ally Stull",
          "Ally Stull",
          "Ally Stull",
          "Ally Stull",
          "Ally Stull",
          "Ally Stull",
          "Ally Stull",
          "Ally Stull",
          "Ally Stull",
          "Ally Stull",
          "Ally Stull",
          "Ally Stull",
          "Ally Stull",
          "Ally Stull",
          "Ally Stull",
          "Ally Stull",
          "Ally Stull",
          "Ally Stull",
          "Ally Stull",
          "Ally Stull",
          "Ally Stull",
          "Ally Stull",
          "Ally Stull",
          "Ally Stull",
          "Ally Stull",
          "Ally Stull",
          "Ally Stull",
          "Ally Stull",
          "Ally Stull",
          "Ally Stull",
          "Ally Stull",
          "Ally Stull",
          "Ally Stull",
          "Ally Stull",
          "Ally Stull",
          "Ally Stull",
          "Ally Stull",
          "Ally Stull",
          "Ally Stull",
          "Ally Stull",
          "Ally Stull",
          "Ally Stull",
          "Ally Stull",
          "Ally Stull",
          "Ally Stull",
          "Ally Stull",
          "Ally Stull",
          "Ally Stull",
          "Ally Stull",
          "Ally Stull",
          "Ally Stull",
          "Ally Stull",
          "Ally Stull",
          "Ally Stull",
          "Ally Stull",
          "Ally Stull",
          "Ally Stull",
          "Ally Stull",
          "Ally Stull",
          "Ally Stull",
          "Ally Stull",
          "Ally Stull",
          "Ally Stull",
          "Ally Stull",
          "Ally Stull",
          "Ally Stull",
          "Ally Stull",
          "Ally Stull",
          "Ally Stull",
          "Ally Stull",
          "Ally Stull",
          "Ally Stull",
          "Ally Stull",
          "Ally Stull",
          "Ally Stull",
          "Ally Stull",
          "Ally Stull",
          "Ally Stull",
          "Ally Stull",
          "Ally Stull",
          "Ally Stull",
          "Ally Stull",
          "Ally Stull",
          "Ally Stull",
          "Ally Stull",
          "Ally Stull",
          "Ally Stull",
          "Ally Stull",
          "Ally Stull",
          "Ally Stull",
          "Ally Stull",
          "Ally Stull",
          "Ally Stull",
          "Ally Stull",
          "Ally Stull",
          "Ally Stull",
          "Ally Stull",
          "Ally Stull",
          "Ally Stull",
          "Ally Stull",
          "Ally Stull",
          "Ally Stull",
          "Ally Stull",
          "Ally Stull",
          "Ally Stull",
          "Ally Stull",
          "Ally Stull",
          "Ally Stull",
          "Ally Stull",
          "Ally Stull",
          "Ally Stull",
          "Ally Stull",
          "Ally Stull",
          "Ally Stull",
          "Ally Stull",
          "Ally Stull",
          "Ally Stull",
          "Ally Stull",
          "Ally Stull",
          "Ally Stull",
          "Ally Stull",
          "Ally Stull",
          "Ally Stull",
          "Ally Stull",
          "Ally Stull",
          "Ally Stull",
          "Ally Stull",
          "Ally Stull",
          "Ally Stull",
          "Ally Stull",
          "Ally Stull",
          "Ally Stull",
          "Ally Stull",
          "Ally Stull",
          "Ally Stull",
          "Ally Stull",
          "Ally Stull",
          "Ally Stull",
          "Ally Stull",
          "Ally Stull",
          "Ally Stull",
          "Ally Stull",
          "Ally Stull",
          "Ally Stull",
          "Ally Stull",
          "Ally Stull",
          "Ally Stull",
          "Ally Stull",
          "Ally Stull",
          "Ally Stull",
          "Ally Stull",
          "Ally Stull",
          "Ally Stull",
          "Ally Stull",
          "Ally Stull",
          "Ally Stull",
          "Ally Stull",
          "Ally Stull",
          "Ally Stull",
          "Ally Stull",
          "Ally Stull",
          "Ally Stull",
          "Ally Stull",
          "Ally Stull",
          "Ally Stull",
          "Ally Stull",
          "Ally Stull",
          "Ally Stull",
          "Ally Stull",
          "Ally Stull",
          "Ally Stull",
          "Ally Stull",
          "Ally Stull",
          "Ally Stull",
          "Ally Stull",
          "Ally Stull",
          "Ally Stull",
          "Ally Stull",
          "Ally Stull",
          "Ally Stull",
          "Ally Stull",
          "Ally Stull",
          "Ally Stull",
          "Ally Stull",
          "Ally Stull",
          "Ally Stull",
          "Ally Stull",
          "Ally Stull",
          "Ally Stull",
          "Ally Stull",
          "Ally Stull",
          "Ally Stull",
          "Ally Stull",
          "Ally Stull",
          "Ally Stull",
          "Ally Stull",
          "Ally Stull",
          "Ally Stull",
          "Ally Stull",
          "Ally Stull",
          "Ally Stull",
          "Ally Stull",
          "Ally Stull",
          "Ally Stull",
          "Ally Stull"
         ]
        },
        {
         "marker": {
          "symbol": "star-triangle-up"
         },
         "mode": "markers",
         "text": [
          "Oof",
          "Jordan sent an attachment.",
          "That is some Ashley ass shiz right there",
          "Jordan sent an attachment.",
          "ok",
          "Here",
          "Ok cool",
          "ill just finish the video there",
          "yeah sure",
          "Want a ride?",
          "ok, imma finish this video and head over",
          "Leaving now",
          "ok haha, just let me know",
          "If I really need to study I just have to go somewhere cause I get distracted here so easily durrr haha",
          "ok cool, ill probably come",
          "Ok cool",
          "Thinking noon or 1",
          "i might study with you",
          "when are you going to york",
          "Yeah itâs a nice curve",
          "ah that makes more sense, and damn, thats really low",
          "Like 65-67 is a C",
          "Nah in general",
          "for me personally?",
          "Yeah so for a B you need a 75-77ish he said",
          "oops, caps lock",
          "oh ok that pretty good, i should probably figure out qhT I NEED TO GET",
          "Nice Iâve been texting you all day lol but I need like. 60 to get a B so Iâm chillin. Went to the review. Main thing to know is rsa",
          "I left my phone at my friends house, hows studying goinig",
          "You and Jordan waved at each other!",
          "Jordan is waving at you!",
          "Say hi to your new Facebook friend, Jordan."
         ],
         "type": "scatter",
         "x": [
          "2020-04-11T15:56:16.863000",
          "2020-04-08T12:39:39.094000",
          "2019-11-12T04:21:55.834000",
          "2019-11-11T23:46:52.679000",
          "2018-05-21T16:38:48.719000",
          "2018-05-21T16:38:35.812000",
          "2018-05-21T16:33:32.336000",
          "2018-05-21T16:33:10.018000",
          "2018-05-21T16:32:56.687000",
          "2018-05-21T16:32:50.013000",
          "2018-05-21T16:32:38.310000",
          "2018-05-21T16:32:20.200000",
          "2018-05-21T15:06:00.915000",
          "2018-05-21T15:05:43.631000",
          "2018-05-21T15:05:13.978000",
          "2018-05-21T15:04:59.582000",
          "2018-05-21T15:04:44.550000",
          "2018-05-21T15:04:32.417000",
          "2018-05-21T15:04:25.354000",
          "2018-05-21T00:54:17.532000",
          "2018-05-21T00:52:15.385000",
          "2018-05-21T00:52:02.620000",
          "2018-05-21T00:51:54.942000",
          "2018-05-21T00:51:45.874000",
          "2018-05-21T00:51:27.723000",
          "2018-05-21T00:43:49.736000",
          "2018-05-21T00:43:35.770000",
          "2018-05-21T00:28:26.611000",
          "2018-05-21T00:24:59.784000",
          "2018-05-21T00:24:29.749000",
          "2018-05-21T00:24:16.752000",
          "2018-05-21T00:23:06.919000"
         ],
         "y": [
          "Jordan Puglisi",
          "Jordan Puglisi",
          "Jordan Puglisi",
          "Jordan Puglisi",
          "Jordan Puglisi",
          "Jordan Puglisi",
          "Jordan Puglisi",
          "Jordan Puglisi",
          "Jordan Puglisi",
          "Jordan Puglisi",
          "Jordan Puglisi",
          "Jordan Puglisi",
          "Jordan Puglisi",
          "Jordan Puglisi",
          "Jordan Puglisi",
          "Jordan Puglisi",
          "Jordan Puglisi",
          "Jordan Puglisi",
          "Jordan Puglisi",
          "Jordan Puglisi",
          "Jordan Puglisi",
          "Jordan Puglisi",
          "Jordan Puglisi",
          "Jordan Puglisi",
          "Jordan Puglisi",
          "Jordan Puglisi",
          "Jordan Puglisi",
          "Jordan Puglisi",
          "Jordan Puglisi",
          "Jordan Puglisi",
          "Jordan Puglisi",
          "Jordan Puglisi"
         ]
        },
        {
         "marker": {
          "symbol": "star-triangle-up"
         },
         "mode": "markers",
         "text": [
          "Lol also my phone works again so you can text me on there",
          "Omfg I'm dyingðððð yeah for sure I'll let you know when I'm not working.",
          "Wanna get lunch someday",
          "I ain't trash, hell no, I am from Crofton ðð©ðµð°",
          "It's so close",
          "Oh my god true don't you live in laurel?",
          "That's like 15 mins from me",
          "ððð",
          "We moved to Bowie",
          "Lmao I've been back in MD since June 15th",
          "Oh I was just curious, idk why I thought of it but I did, how's the hot hell hole?",
          "Either Marshall or Millennium. What's up",
          "Where are you living next year again?",
          "Loser",
          "I'd win giant baby",
          "Fight me teenie tiny terrorist",
          "ðððboi",
          "Smh",
          "I'm in jordan so my SIM card isn't in",
          "And how is Jordan so far",
          "Why can't you text",
          "ðð Thanks",
          "Happy birthday loser, love you"
         ],
         "type": "scatter",
         "x": [
          "2017-07-12T13:25:30.304000",
          "2017-07-12T13:25:20.585000",
          "2017-07-12T13:20:00.032000",
          "2017-07-12T13:19:08.777000",
          "2017-07-12T13:18:04.255000",
          "2017-07-12T13:18:01.624000",
          "2017-07-12T13:17:39.384000",
          "2017-07-12T13:17:17.940000",
          "2017-07-12T13:16:27.543000",
          "2017-07-12T13:16:24.019000",
          "2017-07-12T13:16:04.911000",
          "2017-07-12T13:15:26.540000",
          "2017-07-12T10:53:43.218000",
          "2017-05-27T13:17:11.874000",
          "2017-05-26T21:07:51.558000",
          "2017-05-26T21:07:18.439000",
          "2017-05-26T20:52:41.009000",
          "2017-05-26T20:52:27.118000",
          "2017-05-26T20:51:58.745000",
          "2017-05-26T20:42:13.509000",
          "2017-05-26T20:39:25.100000",
          "2017-05-26T20:39:18.937000",
          "2017-05-26T20:19:18.746000"
         ],
         "y": [
          "Savannah Kirtley",
          "Savannah Kirtley",
          "Savannah Kirtley",
          "Savannah Kirtley",
          "Savannah Kirtley",
          "Savannah Kirtley",
          "Savannah Kirtley",
          "Savannah Kirtley",
          "Savannah Kirtley",
          "Savannah Kirtley",
          "Savannah Kirtley",
          "Savannah Kirtley",
          "Savannah Kirtley",
          "Savannah Kirtley",
          "Savannah Kirtley",
          "Savannah Kirtley",
          "Savannah Kirtley",
          "Savannah Kirtley",
          "Savannah Kirtley",
          "Savannah Kirtley",
          "Savannah Kirtley",
          "Savannah Kirtley",
          "Savannah Kirtley"
         ]
        },
        {
         "marker": {
          "symbol": "star-triangle-up"
         },
         "mode": "markers",
         "text": [
          "Ok!",
          "Iâm in 159 whenever you get here",
          "Iâm bout to be On my wayBack",
          "Ok I should b back tho",
          "Iâll be leaving not too long after, i can just leave it if youâre not there",
          "Will u be there past 6 or r u going somewhere else",
          "Whenever Iâm back from working out so yeah it might b around 6",
          "Ohh ok",
          "I didnât check because i didnât want to open it in case she wasnât answering because she just got out of the shower or something",
          "Was the door open?",
          "Hey no one was home when I went up earlier, will you be there around 6ish",
          "Ok thanks !!!!",
          "Ok Iâll check when Iâm back from the gym",
          "Are u there then? Or my door may be open cuz my roommate never locks the door - itâs 358",
          "Okay Iâm not back today until 250.",
          "Yeah I can bring it up to you",
          "Do u live there too",
          "I was freaking out",
          "And I found it by the door",
          "Yes",
          "Are you in 7705?",
          "Was it on top of my car",
          "Thank you",
          "You can now call each other and see information like Active Status and when you've read messages.",
          "Omg !!!!",
          "Hey I think I found your wallet and cheese"
         ],
         "type": "scatter",
         "x": [
          "2019-04-17T22:11:44.564000",
          "2019-04-17T22:11:31.912000",
          "2019-04-17T22:08:05.932000",
          "2019-04-17T18:57:53.104000",
          "2019-04-17T18:52:05.658000",
          "2019-04-17T18:51:04.974000",
          "2019-04-17T18:48:55.285000",
          "2019-04-17T18:48:33.570000",
          "2019-04-17T18:48:12.547000",
          "2019-04-17T18:47:19.771000",
          "2019-04-17T18:47:03.405000",
          "2019-04-17T13:49:33.908000",
          "2019-04-17T13:41:15.157000",
          "2019-04-17T13:40:46.307000",
          "2019-04-17T13:40:16.386000",
          "2019-04-17T13:39:59.496000",
          "2019-04-17T13:39:49.358000",
          "2019-04-17T13:39:46.510000",
          "2019-04-17T13:39:25.074000",
          "2019-04-17T13:39:17.811000",
          "2019-04-17T13:39:15.383000",
          "2019-04-17T13:39:08.945000",
          "2019-04-17T13:39:04.371000",
          "2019-04-17T13:39:01.094000",
          "2019-04-17T13:39:01.016000",
          "2019-04-17T13:38:48.624000"
         ],
         "y": [
          "Abigail Parisen",
          "Abigail Parisen",
          "Abigail Parisen",
          "Abigail Parisen",
          "Abigail Parisen",
          "Abigail Parisen",
          "Abigail Parisen",
          "Abigail Parisen",
          "Abigail Parisen",
          "Abigail Parisen",
          "Abigail Parisen",
          "Abigail Parisen",
          "Abigail Parisen",
          "Abigail Parisen",
          "Abigail Parisen",
          "Abigail Parisen",
          "Abigail Parisen",
          "Abigail Parisen",
          "Abigail Parisen",
          "Abigail Parisen",
          "Abigail Parisen",
          "Abigail Parisen",
          "Abigail Parisen",
          "Abigail Parisen",
          "Abigail Parisen",
          "Abigail Parisen"
         ]
        },
        {
         "marker": {
          "symbol": "star-triangle-up"
         },
         "mode": "markers",
         "text": [
          "You sent an attachment.",
          "You sent an attachment.",
          "You sent an attachment.",
          "Maybe she just from Canada ðððð",
          "Richie sent an attachment.",
          "Hahaha I loved that one",
          "ððð I just watched the pulling out video",
          "ðððð I just saw the getting caught with your fake fiancÃ©",
          "Hahaha that too",
          "I liked when it said eat GAY love",
          "Toe shoes",
          "I loved the last one the most ððð",
          "Hahaha truuuuuu",
          "But thatâs funny af",
          "Honestly reminded me of inter-dimensional television",
          "You sent an attachment.",
          "You sent an attachment.",
          "Hahaha true",
          "Thatâs one of the pros and cons of a gf. Always takin pics",
          "Hahaha ya I know what you mean",
          "I have so few pictures without Ally",
          "Richie sent an attachment.",
          "Oh tru",
          "You and Ali",
          "What is it",
          "Change your profile picture",
          "ðððððð I knew the brick was going to show up again",
          "Just wait till the end ð",
          "Richie sent an attachment.",
          "Thatâs so sad hahaha",
          "Richie sent an attachment.",
          "Iâm fucking laughing my ass off in class and canât stop ðððð",
          "You sent an attachment.",
          "ððððð",
          "You sent an attachment.",
          "You sent an attachment.",
          "You sent an attachment.",
          "You sent an attachment.",
          "You sent an attachment.",
          "You sent an attachment.",
          "The last one",
          "ððð",
          "Richie sent an attachment.",
          "This is you",
          "Richie sent an attachment.",
          "Liiiiiiiit",
          "Richie sent an attachment.",
          "Lawlz haha",
          "Just look at the comments ððð",
          "You sent an attachment.",
          "Richie sent an attachment.",
          "The end ððð",
          "Hereâs the circle not closing",
          "I feel like this would be like you and Ryan",
          "Wtf haha",
          "Richie sent an attachment.",
          "I know haha",
          "At first I was thinking âwhat a fucking waste of timeâ",
          "After i saw them lay flat",
          "You sent an attachment.",
          "Richie sent an attachment.",
          "Iâve seen that shit, thatâs so fucking cool",
          "Richie sent an attachment.",
          "What the fuck hahahaha hahahaha",
          "Richie sent an attachment.",
          "Richie sent an attachment.",
          "You sent an attachment.",
          "Youâve been invited by Richie to play Super Bowling.",
          "Richie sent an attachment.",
          "Richie sent an attachment.",
          "Richie sent an attachment.",
          "Richie sent an attachment.",
          "Richie sent an attachment.",
          "ðð Wtf",
          "You sent an attachment.",
          "Eric is too I think",
          "Hell fucking yes",
          "Tryna go to that hoodie concert?",
          "I'm gonna start a schedule to get off dip",
          "Truuuu",
          "SAY WHAT YA NEED TO SAY",
          "SAY WHAT YA NEED TO SAY",
          "I'm crying now",
          "Cus it will be you",
          "Then report it",
          "I'm gonna make a fake MySpace account",
          "Instagram",
          "And twitter",
          "I'm reporting you on facebook",
          "Lick ma balls",
          "Take a hint",
          "I even got a restraining order",
          "I told you to stop talking to me",
          "Hey bae",
          "Hey",
          "Lucky",
          "I got food",
          "Yaa",
          "I want food",
          "I wish",
          "Nah",
          "Are you high? ",
          "i was almost in tears",
          "I didn't find it amusing",
          "Ya",
          "did you watch it?",
          "watch this https://www.youtube.com/watch?v=fCQcFM4xrbI",
          "No",
          "Contact *",
          "I'm sleeping. Don't connect me for the next 1738 hours plesse",
          "Truuuu",
          "Dude. I feel so like drained but at the same time I don't. The vyvanse is making me have this like euphoric feeling ",
          "Truuuuuu",
          "Fam",
          "Good morning",
          "Ya I feel you",
          "Night fam",
          "It's so good but sleep > any food",
          "Oh sweet",
          "Aww bekfast",
          "Go to glen, and where they have pizza normally is an egg and pancake made to order bar",
          "But tyler",
          "It is so good tho",
          "I can't just stay up for no reason tho",
          "Fuck. I was so excited",
          "I finished all my hw",
          "Sowwy",
          "What about breakfast",
          "Wait",
          "Sleep time",
          "My baby",
          "Aaaahhhh. Vyvanse",
          "i can only focus on this awesome fucking musoic",
          "Haha. I'm almost in tears at how little I can focus",
          "if i could fall into the sky do you think time would pass me by",
          "I am almost in tears these songs are so good",
          "caught in betwenn ten and twenty",
          "im 15 for a moment",
          "idk mane",
          "When does the glen open?",
          "damn son, good for him",
          "Didn't see it",
          "face?",
          "Da booty on point ",
          "I swear. She had a nice body",
          "shit",
          "bull",
          "Trell just brought a woman in his room",
          "Breaking news",
          "and just forget the world",
          "would you just stay with me",
          "if i just stay here",
          "If i stay here",
          "And now I'm tryna get baaaaaaccckkk",
          "I felt right through the cracks",
          "I tried to beat you but you so hot that I melted",
          "I <3 Jason Moraz",
          "Baby you done done me and you bet I felt ",
          "open up your mind and see like me",
          "One of the greatest songs of our time",
          "im youuuuuuurs",
          "And I'm gonna watch an episode of the office ",
          "go for it",
          "Fuck it I'm taking a vyvanse ",
          "Hahaha",
          "wasnt me",
          "That song literally just ended",
          "picture this we were both buttnaked banging on the bathroom floor",
          "I HAVENT HEARD IT IN SO LONG",
          "I FUCKING LOVE THIS SONG",
          "just to turn it around",
          "I'm just sitting here humming it",
          "sing a sad song",
          "I know the beat but not the owrds",
          "ya taken one down",
          "day",
          "you had a bad",
          "I might take this vyvanse and if I get sick I have an excuse to get out of class",
          "Dang son",
          "im running out soon too",
          "i know fam, i know",
          "Why can't my brain produce or trigger correct amounts of dopamine",
          "Same",
          "i hate this",
          "All I've written is meaningless words",
          "I have to finish this three page paper by 7. And all I've written down meaningless worda",
          "and ii dont wanna be up until 9 on my drugs",
          "i cant focus for shit either, its aweful",
          "I can not fucking focus and I feel kinda sick so I don't wanna take a vyvanse",
          "ayyy i told you",
          "Promiscuous giiirrrrrrrl. Wherever you arrrrre.  I'm aaaall alone. And it's you that I want",
          "I IM TURNING THE STATION ON",
          "GOLDDIGGER JUST CAME ON",
          "shes chill af, she knows i dip too",
          "I've never really talked to her",
          "I thought you would make a joke about it haha",
          "but shes still cool",
          "calm down",
          "i know what you meant",
          "I meant your bae",
          "shes cool",
          "I did not mean that one",
          "Shit",
          "Shit",
          "Shit",
          "the red head",
          "Oh",
          "She's mine ",
          "its the one you know",
          "Babe",
          "i dont think they can see in common rooms and i want to but brianna is here",
          "Are there cameras in the commons. Bout to pack a lip",
          "backstreet boys fam",
          "its good",
          "Okay I'll give that a shot ",
          "on pandora",
          "im listening to 2000's summer radio",
          "What music should I listen to",
          "i know things",
          "That my phone is almost dead",
          "how do i know what",
          "How do you know",
          "I shut snapchat down cus joe was sleeping and I didn't want to wake him up",
          "that and its almost dead",
          "My phone is being weird"
         ],
         "type": "scatter",
         "x": [
          "2018-10-10T03:28:30.463000",
          "2018-08-30T04:20:41.350000",
          "2018-07-24T02:32:07.353000",
          "2018-05-04T04:54:37.434000",
          "2018-05-03T20:40:09.242000",
          "2018-04-25T17:35:00.988000",
          "2018-04-25T17:16:40.837000",
          "2018-04-25T17:06:49.236000",
          "2018-04-25T17:00:32.676000",
          "2018-04-25T17:00:20.665000",
          "2018-04-25T17:00:06.896000",
          "2018-04-25T17:00:02.391000",
          "2018-04-25T16:59:51.161000",
          "2018-04-25T16:59:39.505000",
          "2018-04-25T16:59:33.698000",
          "2018-04-25T16:56:45.987000",
          "2018-04-18T03:39:27.770000",
          "2018-04-17T14:54:51.979000",
          "2018-04-17T14:54:38.872000",
          "2018-04-17T14:54:09.240000",
          "2018-04-17T14:53:43.478000",
          "2018-04-17T14:53:29.581000",
          "2018-04-17T14:47:08.823000",
          "2018-04-17T14:46:58.034000",
          "2018-04-17T14:46:47.481000",
          "2018-04-17T14:46:38.149000",
          "2018-04-17T14:46:14.751000",
          "2018-04-17T14:40:09.841000",
          "2018-04-17T14:39:38.837000",
          "2018-04-15T21:33:19.327000",
          "2018-04-15T19:44:03.911000",
          "2018-04-11T17:18:21.998000",
          "2018-04-11T17:12:30.063000",
          "2018-03-29T03:22:38.104000",
          "2018-03-29T02:14:47.201000",
          "2018-03-29T02:07:50.301000",
          "2018-03-07T05:21:02.692000",
          "2018-03-07T05:03:40.387000",
          "2018-03-07T03:56:02.781000",
          "2018-03-07T03:51:35.713000",
          "2018-02-26T06:46:56.796000",
          "2018-02-26T06:46:50.391000",
          "2018-02-26T06:18:49.017000",
          "2018-02-25T19:40:50.779000",
          "2018-02-23T21:05:01.273000",
          "2018-02-21T06:40:47.018000",
          "2018-02-21T06:36:51.035000",
          "2018-02-14T06:24:35.250000",
          "2018-02-14T06:21:09.670000",
          "2018-02-07T16:50:26.511000",
          "2018-02-03T21:01:29.909000",
          "2018-02-03T20:54:02.805000",
          "2018-02-02T21:40:24.532000",
          "2018-02-02T21:26:55.118000",
          "2018-02-02T21:24:31.354000",
          "2018-02-02T21:15:55.218000",
          "2018-01-19T20:58:31.405000",
          "2018-01-19T08:05:15.136000",
          "2018-01-19T08:04:58.418000",
          "2018-01-18T02:18:19.031000",
          "2018-01-11T07:42:34.765000",
          "2017-11-30T23:48:58.223000",
          "2017-11-29T20:39:09.311000",
          "2017-11-27T17:20:41.025000",
          "2017-11-27T14:47:06.258000",
          "2017-11-20T00:38:23.113000",
          "2017-11-14T05:35:25.714000",
          "2017-11-01T19:08:19.030000",
          "2017-10-10T21:00:24.084000",
          "2017-10-10T20:49:41.614000",
          "2017-10-10T20:48:24.502000",
          "2017-10-10T20:12:27.133000",
          "2017-10-02T15:04:12.718000",
          "2017-09-14T14:57:47.530000",
          "2017-04-18T02:16:21.050000",
          "2015-11-20T09:08:22.161000",
          "2015-11-20T09:08:12.372000",
          "2015-11-19T23:34:04.802000",
          "2015-11-19T04:40:36.152000",
          "2015-11-19T04:38:50.990000",
          "2015-11-19T03:52:48.852000",
          "2015-11-19T03:52:38.662000",
          "2015-11-19T00:24:43.661000",
          "2015-11-19T00:08:11.911000",
          "2015-11-19T00:08:08.051000",
          "2015-11-19T00:07:59.402000",
          "2015-11-19T00:07:49.518000",
          "2015-11-19T00:07:46.579000",
          "2015-11-19T00:07:42.146000",
          "2015-11-19T00:06:14.206000",
          "2015-11-19T00:05:39.770000",
          "2015-11-19T00:05:36.372000",
          "2015-11-19T00:05:30.359000",
          "2015-11-19T00:04:46.814000",
          "2015-11-18T20:45:20.577000",
          "2015-11-18T05:01:10.383000",
          "2015-11-18T04:59:30.250000",
          "2015-11-18T04:51:21.250000",
          "2015-11-18T03:26:47.646000",
          "2015-11-18T03:06:47.737000",
          "2015-11-18T03:06:44.362000",
          "2015-11-18T03:02:05.242000",
          "2015-11-18T03:01:10.645000",
          "2015-11-18T02:36:48.978000",
          "2015-11-18T02:35:48.495000",
          "2015-11-18T02:35:40.061000",
          "2015-11-18T01:39:41.847000",
          "2015-11-18T01:12:17.542000",
          "2015-11-17T19:40:16.593000",
          "2015-11-17T19:40:09.350000",
          "2015-11-17T19:39:09.239000",
          "2015-11-17T09:48:51.360000",
          "2015-11-17T09:40:30.775000",
          "2015-11-17T09:40:23.041000",
          "2015-11-17T09:40:19.933000",
          "2015-11-17T09:40:15.401000",
          "2015-11-17T09:40:11.079000",
          "2015-11-17T09:39:46.516000",
          "2015-11-17T09:39:22.097000",
          "2015-11-17T09:39:19.551000",
          "2015-11-17T09:38:51.190000",
          "2015-11-17T09:38:30.458000",
          "2015-11-17T09:38:14.741000",
          "2015-11-17T09:38:03.335000",
          "2015-11-17T09:37:47.707000",
          "2015-11-17T09:37:44.821000",
          "2015-11-17T09:37:36.052000",
          "2015-11-17T09:37:17.882000",
          "2015-11-17T09:37:12.735000",
          "2015-11-17T09:36:58.376000",
          "2015-11-17T09:36:41.348000",
          "2015-11-17T09:36:22.875000",
          "2015-11-17T08:52:47.502000",
          "2015-11-17T08:52:30.221000",
          "2015-11-17T08:52:26.197000",
          "2015-11-17T08:52:03.765000",
          "2015-11-17T08:45:54.559000",
          "2015-11-17T08:45:44.783000",
          "2015-11-17T08:35:55.774000",
          "2015-11-17T08:34:40.419000",
          "2015-11-17T08:31:18.517000",
          "2015-11-17T08:31:04.747000",
          "2015-11-17T08:30:50.932000",
          "2015-11-17T08:30:40.519000",
          "2015-11-17T08:30:29.447000",
          "2015-11-17T08:29:43.177000",
          "2015-11-17T08:29:41.174000",
          "2015-11-17T08:28:52.434000",
          "2015-11-17T08:28:42.629000",
          "2015-11-17T08:28:07.128000",
          "2015-11-17T08:27:56.878000",
          "2015-11-17T08:27:40.404000",
          "2015-11-17T08:27:34.114000",
          "2015-11-17T08:25:03.043000",
          "2015-11-17T08:24:55.604000",
          "2015-11-17T08:24:41.281000",
          "2015-11-17T08:24:40.647000",
          "2015-11-17T08:24:31.403000",
          "2015-11-17T08:24:21.465000",
          "2015-11-17T08:24:11.592000",
          "2015-11-17T08:23:56.405000",
          "2015-11-17T08:22:14.784000",
          "2015-11-17T08:22:12.460000",
          "2015-11-17T08:22:03.025000",
          "2015-11-17T08:21:54.565000",
          "2015-11-17T08:20:11.055000",
          "2015-11-17T08:20:03.273000",
          "2015-11-17T08:19:39.767000",
          "2015-11-17T08:12:56.766000",
          "2015-11-17T08:12:47.304000",
          "2015-11-17T08:12:23.906000",
          "2015-11-17T08:12:21.885000",
          "2015-11-17T08:12:15.317000",
          "2015-11-17T08:12:12.101000",
          "2015-11-17T08:11:55.682000",
          "2015-11-17T08:11:36.771000",
          "2015-11-17T08:11:33.678000",
          "2015-11-17T08:11:33.640000",
          "2015-11-17T08:11:09.142000",
          "2015-11-17T08:10:56.837000",
          "2015-11-17T08:10:47.537000",
          "2015-11-17T08:05:08.523000",
          "2015-11-17T08:04:36.085000",
          "2015-11-17T08:04:23.931000",
          "2015-11-17T08:04:06.442000",
          "2015-11-17T08:03:49.411000",
          "2015-11-17T08:02:58.776000",
          "2015-11-17T08:02:40.744000",
          "2015-11-17T08:02:15.349000",
          "2015-11-17T07:53:39.190000",
          "2015-11-17T07:53:20.840000",
          "2015-11-17T07:51:27.631000",
          "2015-11-17T07:43:19.667000",
          "2015-11-17T07:42:55.781000",
          "2015-11-17T07:42:31.648000",
          "2015-11-17T07:42:18.680000",
          "2015-11-17T07:42:11.201000",
          "2015-11-17T07:42:03.604000",
          "2015-11-17T07:41:59.001000",
          "2015-11-17T07:41:50.687000",
          "2015-11-17T07:41:47.902000",
          "2015-11-17T07:41:46.470000",
          "2015-11-17T07:41:42.125000",
          "2015-11-17T07:41:40.587000",
          "2015-11-17T07:41:38.635000",
          "2015-11-17T07:41:37.810000",
          "2015-11-17T07:41:37.119000",
          "2015-11-17T07:41:34.169000",
          "2015-11-17T07:41:33.648000",
          "2015-11-17T07:41:28.428000",
          "2015-11-17T07:41:19.512000",
          "2015-11-17T07:40:49.236000",
          "2015-11-17T07:40:29.904000",
          "2015-11-17T07:40:19.583000",
          "2015-11-17T07:38:46.587000",
          "2015-11-17T07:38:25.607000",
          "2015-11-17T07:38:21.443000",
          "2015-11-17T07:38:03.672000",
          "2015-11-17T07:37:31.511000",
          "2015-11-17T07:36:50.640000",
          "2015-11-17T07:36:03.166000",
          "2015-11-17T07:35:02.847000",
          "2015-11-17T07:34:51.309000",
          "2015-11-17T07:34:45.040000",
          "2015-11-17T07:34:11.829000"
         ],
         "y": [
          "Richie Martins",
          "Richie Martins",
          "Richie Martins",
          "Richie Martins",
          "Richie Martins",
          "Richie Martins",
          "Richie Martins",
          "Richie Martins",
          "Richie Martins",
          "Richie Martins",
          "Richie Martins",
          "Richie Martins",
          "Richie Martins",
          "Richie Martins",
          "Richie Martins",
          "Richie Martins",
          "Richie Martins",
          "Richie Martins",
          "Richie Martins",
          "Richie Martins",
          "Richie Martins",
          "Richie Martins",
          "Richie Martins",
          "Richie Martins",
          "Richie Martins",
          "Richie Martins",
          "Richie Martins",
          "Richie Martins",
          "Richie Martins",
          "Richie Martins",
          "Richie Martins",
          "Richie Martins",
          "Richie Martins",
          "Richie Martins",
          "Richie Martins",
          "Richie Martins",
          "Richie Martins",
          "Richie Martins",
          "Richie Martins",
          "Richie Martins",
          "Richie Martins",
          "Richie Martins",
          "Richie Martins",
          "Richie Martins",
          "Richie Martins",
          "Richie Martins",
          "Richie Martins",
          "Richie Martins",
          "Richie Martins",
          "Richie Martins",
          "Richie Martins",
          "Richie Martins",
          "Richie Martins",
          "Richie Martins",
          "Richie Martins",
          "Richie Martins",
          "Richie Martins",
          "Richie Martins",
          "Richie Martins",
          "Richie Martins",
          "Richie Martins",
          "Richie Martins",
          "Richie Martins",
          "Richie Martins",
          "Richie Martins",
          "Richie Martins",
          "Richie Martins",
          "Richie Martins",
          "Richie Martins",
          "Richie Martins",
          "Richie Martins",
          "Richie Martins",
          "Richie Martins",
          "Richie Martins",
          "Richie Martins",
          "Richie Martins",
          "Richie Martins",
          "Richie Martins",
          "Richie Martins",
          "Richie Martins",
          "Richie Martins",
          "Richie Martins",
          "Richie Martins",
          "Richie Martins",
          "Richie Martins",
          "Richie Martins",
          "Richie Martins",
          "Richie Martins",
          "Richie Martins",
          "Richie Martins",
          "Richie Martins",
          "Richie Martins",
          "Richie Martins",
          "Richie Martins",
          "Richie Martins",
          "Richie Martins",
          "Richie Martins",
          "Richie Martins",
          "Richie Martins",
          "Richie Martins",
          "Richie Martins",
          "Richie Martins",
          "Richie Martins",
          "Richie Martins",
          "Richie Martins",
          "Richie Martins",
          "Richie Martins",
          "Richie Martins",
          "Richie Martins",
          "Richie Martins",
          "Richie Martins",
          "Richie Martins",
          "Richie Martins",
          "Richie Martins",
          "Richie Martins",
          "Richie Martins",
          "Richie Martins",
          "Richie Martins",
          "Richie Martins",
          "Richie Martins",
          "Richie Martins",
          "Richie Martins",
          "Richie Martins",
          "Richie Martins",
          "Richie Martins",
          "Richie Martins",
          "Richie Martins",
          "Richie Martins",
          "Richie Martins",
          "Richie Martins",
          "Richie Martins",
          "Richie Martins",
          "Richie Martins",
          "Richie Martins",
          "Richie Martins",
          "Richie Martins",
          "Richie Martins",
          "Richie Martins",
          "Richie Martins",
          "Richie Martins",
          "Richie Martins",
          "Richie Martins",
          "Richie Martins",
          "Richie Martins",
          "Richie Martins",
          "Richie Martins",
          "Richie Martins",
          "Richie Martins",
          "Richie Martins",
          "Richie Martins",
          "Richie Martins",
          "Richie Martins",
          "Richie Martins",
          "Richie Martins",
          "Richie Martins",
          "Richie Martins",
          "Richie Martins",
          "Richie Martins",
          "Richie Martins",
          "Richie Martins",
          "Richie Martins",
          "Richie Martins",
          "Richie Martins",
          "Richie Martins",
          "Richie Martins",
          "Richie Martins",
          "Richie Martins",
          "Richie Martins",
          "Richie Martins",
          "Richie Martins",
          "Richie Martins",
          "Richie Martins",
          "Richie Martins",
          "Richie Martins",
          "Richie Martins",
          "Richie Martins",
          "Richie Martins",
          "Richie Martins",
          "Richie Martins",
          "Richie Martins",
          "Richie Martins",
          "Richie Martins",
          "Richie Martins",
          "Richie Martins",
          "Richie Martins",
          "Richie Martins",
          "Richie Martins",
          "Richie Martins",
          "Richie Martins",
          "Richie Martins",
          "Richie Martins",
          "Richie Martins",
          "Richie Martins",
          "Richie Martins",
          "Richie Martins",
          "Richie Martins",
          "Richie Martins",
          "Richie Martins",
          "Richie Martins",
          "Richie Martins",
          "Richie Martins",
          "Richie Martins",
          "Richie Martins",
          "Richie Martins",
          "Richie Martins",
          "Richie Martins",
          "Richie Martins",
          "Richie Martins",
          "Richie Martins",
          "Richie Martins",
          "Richie Martins",
          "Richie Martins",
          "Richie Martins",
          "Richie Martins",
          "Richie Martins",
          "Richie Martins",
          "Richie Martins",
          "Richie Martins",
          "Richie Martins",
          "Richie Martins",
          "Richie Martins",
          "Richie Martins",
          "Richie Martins",
          "Richie Martins",
          "Richie Martins"
         ]
        },
        {
         "marker": {
          "symbol": "star-triangle-up"
         },
         "mode": "markers",
         "text": [
          "Lol happy friendversay to you too",
          "Happy friendversary!",
          "You and Taylor Windsor are celebrating 9 years of friendship on Facebook",
          "Hey what's up?",
          "Hi",
          "I havenât tried it yet but this is the one I plan to try",
          "http://www.widriksson.com/raspberry-pi-hadoop-cluster/",
          "thanks!",
          "Yeah sure, just use my number 4434542827",
          "Can you send me that article you found about putting the hadoop database on a pi?",
          "Of York? First floor",
          "What floor are you on",
          "I think I did pretty good, I think I did everything right",
          "How did you do",
          "Oh sweet ok",
          "Also in Conover",
          "What about you?",
          "It's the one that starts with a c, conover or something? I'm not sure",
          "who are you taking for cosc 336?",
          "Yes I have also heard this ",
          "That's pretty cool, I know a kid who took Zimond for 236 and 237, he said she will make you into good programmer",
          "He is alright, I'm taking him because he does A.I. research that I want to get into",
          "Huh are they good?",
          "Deirbach",
          "Zimond you?",
          "Sure did! Who are you taking for cosc?",
          "Yeah you?",
          "Did you get into Hughes' class for Calc 2?",
          "Alright",
          "I just looked and I am the 2-2:50 lab",
          "Are you in the 3-3:50 lab?"
         ],
         "type": "scatter",
         "x": [
          "2019-07-07T18:56:06.093000",
          "2019-07-07T18:45:15.893000",
          "2019-07-07T13:57:08.042000",
          "2019-03-13T17:39:12.566000",
          "2019-03-13T17:38:55.431000",
          "2017-10-07T23:27:37.696000",
          "2017-10-07T23:27:21.647000",
          "2017-10-07T23:26:55.983000",
          "2017-10-07T23:26:36.226000",
          "2017-10-07T16:02:34.532000",
          "2017-09-27T18:35:56.347000",
          "2017-09-27T18:35:36.185000",
          "2017-09-27T18:35:21.361000",
          "2017-09-27T18:33:54.163000",
          "2016-11-20T04:50:17.777000",
          "2016-11-20T00:59:47.139000",
          "2016-11-20T00:49:31.417000",
          "2016-11-20T00:49:25.386000",
          "2016-11-19T23:56:17.405000",
          "2016-04-22T16:32:13.927000",
          "2016-04-22T16:18:28.585000",
          "2016-04-22T16:02:20.800000",
          "2016-04-22T15:59:14.205000",
          "2016-04-22T15:56:27.378000",
          "2016-04-22T15:53:13.351000",
          "2016-04-22T14:37:40.270000",
          "2016-04-22T14:37:03.439000",
          "2016-04-22T14:19:19.908000",
          "2015-08-26T21:17:58.362000",
          "2015-08-26T21:07:44.752000",
          "2015-08-26T19:27:13.646000"
         ],
         "y": [
          "Taylor Windsor",
          "Taylor Windsor",
          "Taylor Windsor",
          "Taylor Windsor",
          "Taylor Windsor",
          "Taylor Windsor",
          "Taylor Windsor",
          "Taylor Windsor",
          "Taylor Windsor",
          "Taylor Windsor",
          "Taylor Windsor",
          "Taylor Windsor",
          "Taylor Windsor",
          "Taylor Windsor",
          "Taylor Windsor",
          "Taylor Windsor",
          "Taylor Windsor",
          "Taylor Windsor",
          "Taylor Windsor",
          "Taylor Windsor",
          "Taylor Windsor",
          "Taylor Windsor",
          "Taylor Windsor",
          "Taylor Windsor",
          "Taylor Windsor",
          "Taylor Windsor",
          "Taylor Windsor",
          "Taylor Windsor",
          "Taylor Windsor",
          "Taylor Windsor",
          "Taylor Windsor"
         ]
        },
        {
         "marker": {
          "symbol": "star-triangle-up"
         },
         "mode": "markers",
         "text": [
          "You better come uptown before I graduate",
          "ððð",
          "Bro it's all good I'll hit you up",
          "Hey I gotta get going man, I needa get to sleep here soon but Iâll hit you up soon",
          "Of course ahahaha",
          "I have never gotten this much attention from women",
          "Be a damn good Daddy",
          "Bro I'm not even trying to gas myself up",
          "I'm so serious",
          "ðððð",
          "If I looked the way I do now my senior year I probably would be a dad",
          "Girls just give me anxiety",
          "Hopefully Iâll pick up the patterns",
          "Yeah bro that's what I'm saying ð¤£ð¤£ð¤£",
          "Hahahaha true asf, I just gotta read this book some more haha",
          "So I really had to be smooth",
          "And it was harder for me because I was a fat fuck",
          "But it worked because I understood women and patterns",
          "And I've gotten some BADDIES at towson. Why you think I did every organization?!ð¤£ð¤£ Scheme !",
          "Slayed **",
          "You slated bro",
          "Bro it was so funny because nobody thought I got girls",
          "LMAOOOO",
          "That was youâre defining feature",
          "Especially my senior year",
          "And I was slaying dawg",
          "Hahahaha",
          "Like NOBODY would think I'm a player",
          "I was doing this as a fat black dude",
          "Yeah RIP to all of the girls I was playing the long game on",
          "Trust me",
          "I have faith bro. It's not that hard",
          "Damn T lol",
          "I sure hope so",
          "It'll be a wrap!",
          "But once you start to learn more",
          "Literally i was chasing this girl from freshman year and got her to make out with me and I completely fucked it up",
          "You'll have more failures tbh",
          "Just be yourself but in a more calm smooth way",
          "You're about to be going ham soon",
          "Bro it's all good",
          "Like it pisses me off because I was trying for months in these girls and had a little success and fucked it all up",
          "Just to keep her guessing",
          "Sometimes I talk to a girl for days and then I'll go MIA for a bit",
          "Iâll give it a show and I donât, I show a lot of interest in the girls I like this year a failed every time",
          "See how you start giving them attention and how they act pressed if you don't respond for a few days",
          "As far as pushing and pulling",
          "TBH, if you have any women that like you right now. Try some of it with them",
          "It's literally all a game bro. You'll see the more you put yourself out there",
          "Read people's body language and mannerisms",
          "I do that at clubs or dance socials",
          "But I've had a higher success rate after I notice who's checking me out",
          "Like it happens IDC",
          "Now I get curved too",
          "But that's pretty much what I do",
          "YESSSSSS",
          "Ahahahahaaha",
          "You just have to play around with it and put your own flavor into it",
          "Adapted from jcole",
          "âJust like the sugar in that mixed drink Iâm going straight for your hipsâ",
          "Something along those lines",
          "And then ask for her name",
          "Or make a joke about what Shes drinking",
          "Like if she's at the bar ask her what she's getting and get the same thing",
          "Or wherever",
          "It can be at the bar",
          "Yes or find a way to start a conversation",
          "But don't be obvious just a surveillance of the room",
          "Say hi?",
          "And then what",
          "The key is to see the ones that are checking you out low-key",
          "I rarely look for the girls that are interested",
          "Peep this , you're saying that your getting more fit right ? And you're tall. Women will always see you first",
          "Thatâs actually good advice",
          "You can still be goofy but be smooth",
          "But it's just being aware of who's checking you out so you know who to push up on",
          "Haha yeah see if I donât say dumb shit idk what imma say",
          "But like for me, I'm naturally extroverted and extremely extra in public. So I have no problem talking to people",
          "You know I love you ð¤£",
          "I say a lotta dumb shit",
          "Lol true",
          "Just don't say dumb shit LMAO",
          "You say dumb shit",
          "You can",
          "Bro stfu",
          "Idk bout that",
          "Ehhhhh",
          "You can literally talk to anyone",
          "True",
          "But YOU",
          "And look, my methods are slightly different because of our personalities",
          "Iâll give it a shot, Iâm gonna start trying for girls a lot more",
          "Kind of like a push and pull",
          "But not too much",
          "The ones who are kid of humble but you can kind of tell that they like what you're saying ....you have to push up on them",
          "The ones who thrive off it are EASY to fuck with. You saw the example I gave above",
          "And you have to see how she feeds off attention",
          "Like I understand how to play the game sorta but idk how to get them interested",
          "Even if it's a little bit",
          "Well you have to see that she's kind of interested in you",
          "Ohhhhhh",
          "All that",
          "But how do you start it",
          "Legit would send good morning texts",
          "Tyler , before I turned 23 I was a bitch",
          "But the key is to not do too much",
          "You have to show them SOME attention",
          "But also let them know you're attracted",
          "Yeah but you have to get them interested some how",
          "Give that to them",
          "The same energy you give Women that you're not thinking about",
          "Play hard to get",
          "By what you're doing",
          "How do you initiate the chase tho",
          "They have bigger egos than we do",
          "You'll see how dumb they really are",
          "Once you start sitting back and letting them chase you",
          "Why are girls so dumb",
          "Tru chainz fam",
          "Alpha male shit",
          "Yeah but you have to treat them all like that until YOU'RE ready",
          "Girls make no sense",
          "Itâs funny tho, the girls Iâm not interested in are the ones that like me",
          "But you have to be the mouse",
          "And the game IS the chase",
          "Bro it's a game bro",
          "Yup",
          "Iâm liking the book so far, I read the first 3 chapters last night, but Iâve had girls tell me that before, as soon as you act interested they lose interest",
          "We get chased",
          "We're the mouse",
          "But WE don't do that .",
          "Because the average guy will just go over and that will feed her ego",
          "So she trys to catch me slipping but I play it super duper cool",
          "Or alluded to it",
          "So in this case, she thinks she's hot shit because guys keep trying to hit . But I haven't even asked",
          "He feeds off her ego",
          "That's the key that iceberg slim uses",
          "You see the humbling factor ??",
          "Haha youâll have to come show me sometime",
          "It's hard to explain",
          "You'd have to see me do it in person",
          "Sometimes I'll go from that and then ask what her name is",
          "You can use that to start another convo",
          "Where does it flow from there though",
          "\"You have very nice eyebrows...you do them yourself?\" And then let everything else flow",
          "I got a fish on the line tn so weâll see",
          "Literally you should see me in action ð¤£ð¤£ I literally start off convos like that and go from there",
          "Hahaha ok Iâll try it",
          "And you noticing will cause them to ovulate",
          "The vast majority of women take care of shit like that",
          "Itâs ironic, the more in shape I get the more girls talk to me, but girls give me anxiety ðð",
          "Spark conversations about that",
          "The little things",
          "Bro compliment a woman's eyebrows",
          "Shits easy",
          "Like all you have to do is get some confidence",
          "Bro, and you can literally talk to anyone",
          "Iâm actually kinda excited to read it",
          "I mean I still do ok but Iâm sure I could do better",
          "You just have to read that book, and put your own swag into it",
          "Maybe .1% of all hookups have been them lol",
          "Bro it's all good, you're still a yougin",
          "Yeah, and same with about 90% of my makeouts",
          "Whaaaaaaaaatttttt",
          "I sure hope so, I donât think Iâve ever approached a girl and succeeded, out all 5 girls i fucked they all approached me",
          "Forreal bro , you'll literally see how easy it is bro.  Even the ones who are \"smart\" fall victim lol",
          "Iâll be sure to take Hell notes haha, I need help",
          "It's lit",
          "That he uses to have them on lock",
          "But just look at the mind games and control",
          "Now bro, the book is very graphic. Like this dude was a legit pimp",
          "Yessir!",
          "That would be lit",
          "Bro win nationals",
          "And grand valley",
          "Ahahaha fuck them man",
          "I guess we could do it a fourth time",
          "Again?",
          "But bro please go Fuck JMU up",
          "Get the strap !",
          "Iâll be waiting for it",
          "Have these hoes ovulating",
          "Hahaha bet",
          "I'm going to literally break the internet bro",
          "Wait until you see this transformation shoot",
          "Oh damn, Iâm 210 ððð",
          "I'm like 205 now",
          "Like wtf",
          "Bro slim fit jeans are baggy now",
          "I can see it in the pictures",
          "Dude you look so different",
          "You'll seen at your tourney",
          "Mann I look way different yo",
          "I ainât got close to abs tho",
          "Shit man I feel that tho, Iâve lost weight too and got in shape and it helps so much",
          "Brooooooo it's insane",
          "With abs",
          "They just see the new transformed mw",
          "But I've been hooking up with women that I already know of",
          "Now I have to use dating apps",
          "Trust me , it's Alot harder getting ass after college",
          "But yeah yo I got you",
          "This is why I'm getting head right now",
          "Bro it's easssssy",
          "I donât know the game at all",
          "And that book helped",
          "I just know the game",
          "I'm not a pretty boy",
          "Iâm in a dry spell",
          "It's the reason why I'm the way I am",
          "Iâll look into it",
          "Seriously the mind games he uses is what I use",
          "But read that book",
          "Tyler now it's GAME OVER",
          "I was getting ass when I was fat",
          "That book was handed down by another slayer",
          "I'm so serious",
          "Bruh Iâm dead ððð",
          "Deadass",
          "How df do you slay so hard",
          "Yes I'm dying",
          "ð¤£ð¤£ð¤£ð¤£ð¤£ð¤£ððððððð",
          "I saw ððð",
          "I SNT THE VIDEO",
          "Rn??????",
          "Ahahaha",
          "Head",
          "I'm getting heaf",
          "Youâre in New York now?",
          "Sending vid noe",
          "Mukt task",
          "Brooooooo",
          "I'm also getting the head of ny life",
          "Haha I love ya man, how ya been",
          "Seriously",
          "You've always been a real one",
          "My guy",
          "ððð",
          "Happy friendversary!",
          "You and Brenton Rampage Ebron are celebrating 4 years of friendship on Facebook",
          "ððð",
          "UP",
          "IM NOT GETTING CAUGHT U",
          "BRO",
          "LMAO",
          "I remember you were excited for sundress season, so I thought I ought to warn you"
         ],
         "type": "scatter",
         "x": [
          "2019-03-06T06:14:25.886000",
          "2019-03-06T06:14:13.378000",
          "2019-03-06T06:14:04.018000",
          "2019-03-06T06:13:53.460000",
          "2019-03-06T06:13:48.235000",
          "2019-03-06T06:13:37.407000",
          "2019-03-06T06:13:32.284000",
          "2019-03-06T06:13:24.964000",
          "2019-03-06T06:13:16.796000",
          "2019-03-06T06:13:11.973000",
          "2019-03-06T06:13:03.393000",
          "2019-03-06T06:13:00.343000",
          "2019-03-06T06:12:46.432000",
          "2019-03-06T06:12:41.102000",
          "2019-03-06T06:12:27.756000",
          "2019-03-06T06:12:27.301000",
          "2019-03-06T06:12:21.731000",
          "2019-03-06T06:12:07.673000",
          "2019-03-06T06:11:55.817000",
          "2019-03-06T06:11:48.803000",
          "2019-03-06T06:11:42.932000",
          "2019-03-06T06:11:21.754000",
          "2019-03-06T06:11:07.242000",
          "2019-03-06T06:10:58.940000",
          "2019-03-06T06:10:56.220000",
          "2019-03-06T06:10:51.119000",
          "2019-03-06T06:10:42.935000",
          "2019-03-06T06:10:40.273000",
          "2019-03-06T06:10:26.198000",
          "2019-03-06T06:10:18.265000",
          "2019-03-06T06:10:14.146000",
          "2019-03-06T06:10:11.949000",
          "2019-03-06T06:09:55.317000",
          "2019-03-06T06:09:54.636000",
          "2019-03-06T06:09:42.825000",
          "2019-03-06T06:09:34.752000",
          "2019-03-06T06:09:31.109000",
          "2019-03-06T06:09:28.528000",
          "2019-03-06T06:09:10.428000",
          "2019-03-06T06:08:50.347000",
          "2019-03-06T06:08:41.436000",
          "2019-03-06T06:08:32.007000",
          "2019-03-06T06:08:31.545000",
          "2019-03-06T06:08:26.730000",
          "2019-03-06T06:07:53.379000",
          "2019-03-06T06:07:49.299000",
          "2019-03-06T06:07:18.615000",
          "2019-03-06T06:07:11.237000",
          "2019-03-06T06:06:49.863000",
          "2019-03-06T06:06:35.373000",
          "2019-03-06T06:06:27.123000",
          "2019-03-06T06:06:12.518000",
          "2019-03-06T06:05:49.605000",
          "2019-03-06T06:05:44.311000",
          "2019-03-06T06:05:39.616000",
          "2019-03-06T06:05:30.312000",
          "2019-03-06T06:05:24.092000",
          "2019-03-06T06:05:21.198000",
          "2019-03-06T06:05:15.767000",
          "2019-03-06T06:05:04.953000",
          "2019-03-06T06:04:45.834000",
          "2019-03-06T06:04:35.494000",
          "2019-03-06T06:04:27.395000",
          "2019-03-06T06:04:10.098000",
          "2019-03-06T06:03:43.599000",
          "2019-03-06T06:03:39.229000",
          "2019-03-06T06:03:35.166000",
          "2019-03-06T06:03:27.542000",
          "2019-03-06T06:03:17.700000",
          "2019-03-06T06:03:13.668000",
          "2019-03-06T06:03:03.433000",
          "2019-03-06T06:02:45.224000",
          "2019-03-06T06:02:44.059000",
          "2019-03-06T06:02:24.193000",
          "2019-03-06T06:02:16.879000",
          "2019-03-06T06:02:04.391000",
          "2019-03-06T06:02:00.567000",
          "2019-03-06T06:01:45.882000",
          "2019-03-06T06:01:06.776000",
          "2019-03-06T06:01:05.884000",
          "2019-03-06T06:00:56.785000",
          "2019-03-06T06:00:51.842000",
          "2019-03-06T06:00:46.535000",
          "2019-03-06T06:00:41.598000",
          "2019-03-06T06:00:39.549000",
          "2019-03-06T06:00:29.382000",
          "2019-03-06T06:00:25.600000",
          "2019-03-06T06:00:21.566000",
          "2019-03-06T06:00:19.990000",
          "2019-03-06T06:00:15.791000",
          "2019-03-06T06:00:12.225000",
          "2019-03-06T05:59:42.797000",
          "2019-03-06T05:59:21.218000",
          "2019-03-06T05:59:13.668000",
          "2019-03-06T05:59:09.455000",
          "2019-03-06T05:58:39.808000",
          "2019-03-06T05:58:06.097000",
          "2019-03-06T05:57:51.952000",
          "2019-03-06T05:57:46.897000",
          "2019-03-06T05:57:39.825000",
          "2019-03-06T05:57:17.800000",
          "2019-03-06T05:56:55.784000",
          "2019-03-06T05:56:54.824000",
          "2019-03-06T05:56:53.713000",
          "2019-03-06T05:56:46.327000",
          "2019-03-06T05:56:31.528000",
          "2019-03-06T05:56:10.282000",
          "2019-03-06T05:56:00.139000",
          "2019-03-06T05:55:54.685000",
          "2019-03-06T05:55:46.629000",
          "2019-03-06T05:55:41.847000",
          "2019-03-06T05:55:19.195000",
          "2019-03-06T05:55:08.504000",
          "2019-03-06T05:54:58.550000",
          "2019-03-06T05:54:52.983000",
          "2019-03-06T05:54:26.901000",
          "2019-03-06T05:54:15.504000",
          "2019-03-06T05:53:49.429000",
          "2019-03-06T05:53:40.914000",
          "2019-03-06T05:53:28.905000",
          "2019-03-06T05:53:17.197000",
          "2019-03-06T05:52:47.469000",
          "2019-03-06T05:52:40.665000",
          "2019-03-06T05:11:57.364000",
          "2019-03-06T05:11:50.352000",
          "2019-03-06T05:11:44.795000",
          "2019-03-06T05:11:39.998000",
          "2019-03-06T04:14:05.480000",
          "2019-03-06T03:37:56.653000",
          "2019-03-06T03:37:47.299000",
          "2019-03-06T03:37:43.265000",
          "2019-03-06T03:37:37.791000",
          "2019-03-06T03:37:24.325000",
          "2019-03-06T03:37:11.132000",
          "2019-03-06T03:37:07.857000",
          "2019-03-06T03:36:40.519000",
          "2019-03-06T03:36:30.826000",
          "2019-03-06T03:36:15.002000",
          "2019-03-03T01:22:54.111000",
          "2019-03-03T00:54:32.288000",
          "2019-03-03T00:54:24.840000",
          "2019-03-03T00:53:43.110000",
          "2019-03-03T00:53:32.926000",
          "2019-03-03T00:52:40.212000",
          "2019-03-03T00:52:27.247000",
          "2019-03-03T00:52:12.302000",
          "2019-03-03T00:52:01.305000",
          "2019-03-03T00:51:56.340000",
          "2019-03-03T00:51:39.608000",
          "2019-03-03T00:51:24.200000",
          "2019-03-03T00:51:19.806000",
          "2019-03-03T00:51:07.939000",
          "2019-03-03T00:51:02.413000",
          "2019-03-03T00:50:56.018000",
          "2019-03-03T00:50:46.443000",
          "2019-03-03T00:50:43.528000",
          "2019-03-03T00:50:33.004000",
          "2019-03-03T00:50:26.589000",
          "2019-03-03T00:50:10.763000",
          "2019-03-03T00:50:07.045000",
          "2019-03-03T00:49:50.802000",
          "2019-03-03T00:49:43.280000",
          "2019-03-03T00:49:25.808000",
          "2019-03-03T00:49:04.883000",
          "2019-03-03T00:48:49.582000",
          "2019-03-03T00:47:33.879000",
          "2019-03-02T21:04:29.677000",
          "2019-03-02T13:55:47.266000",
          "2019-03-02T13:55:29.511000",
          "2019-03-02T13:55:17.577000",
          "2019-03-02T13:55:00.389000",
          "2019-03-02T13:54:43.145000",
          "2019-03-02T06:11:01.670000",
          "2019-03-02T06:10:58.092000",
          "2019-03-02T06:10:53.824000",
          "2019-03-02T06:10:48.649000",
          "2019-03-02T06:10:09.518000",
          "2019-03-02T06:09:49.388000",
          "2019-03-02T06:09:40.253000",
          "2019-03-02T06:09:31.102000",
          "2019-03-02T06:09:28.858000",
          "2019-03-02T06:09:26.383000",
          "2019-03-02T06:09:20.138000",
          "2019-03-02T06:09:19.010000",
          "2019-03-02T06:09:10.841000",
          "2019-03-02T06:08:55.567000",
          "2019-03-02T06:08:42.071000",
          "2019-03-02T06:08:34.391000",
          "2019-03-02T06:08:32.376000",
          "2019-03-02T06:08:25.517000",
          "2019-03-02T06:08:10.378000",
          "2019-03-02T06:08:05.984000",
          "2019-03-02T06:07:54.640000",
          "2019-03-02T06:07:44.337000",
          "2019-03-02T06:07:35.176000",
          "2019-03-02T06:07:12.200000",
          "2019-03-02T06:07:04.055000",
          "2019-03-02T06:07:01.556000",
          "2019-03-02T06:06:44.860000",
          "2019-03-02T06:06:30.368000",
          "2019-03-02T06:06:17.291000",
          "2019-03-02T06:06:06.586000",
          "2019-03-02T06:05:48.713000",
          "2019-03-02T06:05:38.666000",
          "2019-03-02T06:05:29.219000",
          "2019-03-02T06:05:23.538000",
          "2019-03-02T06:05:11.817000",
          "2019-03-02T06:05:06.260000",
          "2019-03-02T06:04:58.388000",
          "2019-03-02T06:04:58.157000",
          "2019-03-02T06:04:48.268000",
          "2019-03-02T06:04:42.957000",
          "2019-03-02T06:04:28.697000",
          "2019-03-02T06:04:12.761000",
          "2019-03-02T06:04:03.841000",
          "2019-03-02T06:03:48.857000",
          "2019-03-02T06:03:23.809000",
          "2019-03-02T06:03:09.056000",
          "2019-03-02T06:02:57.527000",
          "2019-03-02T06:02:10.755000",
          "2019-03-02T06:02:08.507000",
          "2019-03-02T06:02:03.856000",
          "2019-03-02T06:01:54.612000",
          "2019-03-02T06:01:41.355000",
          "2019-03-02T06:01:21.214000",
          "2019-03-02T06:01:11.236000",
          "2019-03-02T06:01:08.433000",
          "2019-03-02T06:01:06.426000",
          "2019-03-02T06:00:29.344000",
          "2019-03-02T06:00:17.405000",
          "2019-03-02T06:00:06.595000",
          "2019-03-02T05:59:59.752000",
          "2019-03-02T05:59:57.346000",
          "2019-03-02T05:59:42.944000",
          "2019-03-02T05:59:28.767000",
          "2019-03-02T05:59:23.991000",
          "2019-03-02T05:59:14.459000",
          "2019-03-02T05:58:47.291000",
          "2019-03-02T05:58:31.957000",
          "2019-03-02T05:40:10.009000",
          "2018-05-16T22:24:20.761000",
          "2018-05-16T22:24:12.204000",
          "2018-05-16T22:24:09.641000",
          "2018-05-16T22:24:01.270000",
          "2018-05-16T22:23:59.893000",
          "2018-05-16T22:23:54.506000"
         ],
         "y": [
          "Brenton Rampage Ebron",
          "Brenton Rampage Ebron",
          "Brenton Rampage Ebron",
          "Brenton Rampage Ebron",
          "Brenton Rampage Ebron",
          "Brenton Rampage Ebron",
          "Brenton Rampage Ebron",
          "Brenton Rampage Ebron",
          "Brenton Rampage Ebron",
          "Brenton Rampage Ebron",
          "Brenton Rampage Ebron",
          "Brenton Rampage Ebron",
          "Brenton Rampage Ebron",
          "Brenton Rampage Ebron",
          "Brenton Rampage Ebron",
          "Brenton Rampage Ebron",
          "Brenton Rampage Ebron",
          "Brenton Rampage Ebron",
          "Brenton Rampage Ebron",
          "Brenton Rampage Ebron",
          "Brenton Rampage Ebron",
          "Brenton Rampage Ebron",
          "Brenton Rampage Ebron",
          "Brenton Rampage Ebron",
          "Brenton Rampage Ebron",
          "Brenton Rampage Ebron",
          "Brenton Rampage Ebron",
          "Brenton Rampage Ebron",
          "Brenton Rampage Ebron",
          "Brenton Rampage Ebron",
          "Brenton Rampage Ebron",
          "Brenton Rampage Ebron",
          "Brenton Rampage Ebron",
          "Brenton Rampage Ebron",
          "Brenton Rampage Ebron",
          "Brenton Rampage Ebron",
          "Brenton Rampage Ebron",
          "Brenton Rampage Ebron",
          "Brenton Rampage Ebron",
          "Brenton Rampage Ebron",
          "Brenton Rampage Ebron",
          "Brenton Rampage Ebron",
          "Brenton Rampage Ebron",
          "Brenton Rampage Ebron",
          "Brenton Rampage Ebron",
          "Brenton Rampage Ebron",
          "Brenton Rampage Ebron",
          "Brenton Rampage Ebron",
          "Brenton Rampage Ebron",
          "Brenton Rampage Ebron",
          "Brenton Rampage Ebron",
          "Brenton Rampage Ebron",
          "Brenton Rampage Ebron",
          "Brenton Rampage Ebron",
          "Brenton Rampage Ebron",
          "Brenton Rampage Ebron",
          "Brenton Rampage Ebron",
          "Brenton Rampage Ebron",
          "Brenton Rampage Ebron",
          "Brenton Rampage Ebron",
          "Brenton Rampage Ebron",
          "Brenton Rampage Ebron",
          "Brenton Rampage Ebron",
          "Brenton Rampage Ebron",
          "Brenton Rampage Ebron",
          "Brenton Rampage Ebron",
          "Brenton Rampage Ebron",
          "Brenton Rampage Ebron",
          "Brenton Rampage Ebron",
          "Brenton Rampage Ebron",
          "Brenton Rampage Ebron",
          "Brenton Rampage Ebron",
          "Brenton Rampage Ebron",
          "Brenton Rampage Ebron",
          "Brenton Rampage Ebron",
          "Brenton Rampage Ebron",
          "Brenton Rampage Ebron",
          "Brenton Rampage Ebron",
          "Brenton Rampage Ebron",
          "Brenton Rampage Ebron",
          "Brenton Rampage Ebron",
          "Brenton Rampage Ebron",
          "Brenton Rampage Ebron",
          "Brenton Rampage Ebron",
          "Brenton Rampage Ebron",
          "Brenton Rampage Ebron",
          "Brenton Rampage Ebron",
          "Brenton Rampage Ebron",
          "Brenton Rampage Ebron",
          "Brenton Rampage Ebron",
          "Brenton Rampage Ebron",
          "Brenton Rampage Ebron",
          "Brenton Rampage Ebron",
          "Brenton Rampage Ebron",
          "Brenton Rampage Ebron",
          "Brenton Rampage Ebron",
          "Brenton Rampage Ebron",
          "Brenton Rampage Ebron",
          "Brenton Rampage Ebron",
          "Brenton Rampage Ebron",
          "Brenton Rampage Ebron",
          "Brenton Rampage Ebron",
          "Brenton Rampage Ebron",
          "Brenton Rampage Ebron",
          "Brenton Rampage Ebron",
          "Brenton Rampage Ebron",
          "Brenton Rampage Ebron",
          "Brenton Rampage Ebron",
          "Brenton Rampage Ebron",
          "Brenton Rampage Ebron",
          "Brenton Rampage Ebron",
          "Brenton Rampage Ebron",
          "Brenton Rampage Ebron",
          "Brenton Rampage Ebron",
          "Brenton Rampage Ebron",
          "Brenton Rampage Ebron",
          "Brenton Rampage Ebron",
          "Brenton Rampage Ebron",
          "Brenton Rampage Ebron",
          "Brenton Rampage Ebron",
          "Brenton Rampage Ebron",
          "Brenton Rampage Ebron",
          "Brenton Rampage Ebron",
          "Brenton Rampage Ebron",
          "Brenton Rampage Ebron",
          "Brenton Rampage Ebron",
          "Brenton Rampage Ebron",
          "Brenton Rampage Ebron",
          "Brenton Rampage Ebron",
          "Brenton Rampage Ebron",
          "Brenton Rampage Ebron",
          "Brenton Rampage Ebron",
          "Brenton Rampage Ebron",
          "Brenton Rampage Ebron",
          "Brenton Rampage Ebron",
          "Brenton Rampage Ebron",
          "Brenton Rampage Ebron",
          "Brenton Rampage Ebron",
          "Brenton Rampage Ebron",
          "Brenton Rampage Ebron",
          "Brenton Rampage Ebron",
          "Brenton Rampage Ebron",
          "Brenton Rampage Ebron",
          "Brenton Rampage Ebron",
          "Brenton Rampage Ebron",
          "Brenton Rampage Ebron",
          "Brenton Rampage Ebron",
          "Brenton Rampage Ebron",
          "Brenton Rampage Ebron",
          "Brenton Rampage Ebron",
          "Brenton Rampage Ebron",
          "Brenton Rampage Ebron",
          "Brenton Rampage Ebron",
          "Brenton Rampage Ebron",
          "Brenton Rampage Ebron",
          "Brenton Rampage Ebron",
          "Brenton Rampage Ebron",
          "Brenton Rampage Ebron",
          "Brenton Rampage Ebron",
          "Brenton Rampage Ebron",
          "Brenton Rampage Ebron",
          "Brenton Rampage Ebron",
          "Brenton Rampage Ebron",
          "Brenton Rampage Ebron",
          "Brenton Rampage Ebron",
          "Brenton Rampage Ebron",
          "Brenton Rampage Ebron",
          "Brenton Rampage Ebron",
          "Brenton Rampage Ebron",
          "Brenton Rampage Ebron",
          "Brenton Rampage Ebron",
          "Brenton Rampage Ebron",
          "Brenton Rampage Ebron",
          "Brenton Rampage Ebron",
          "Brenton Rampage Ebron",
          "Brenton Rampage Ebron",
          "Brenton Rampage Ebron",
          "Brenton Rampage Ebron",
          "Brenton Rampage Ebron",
          "Brenton Rampage Ebron",
          "Brenton Rampage Ebron",
          "Brenton Rampage Ebron",
          "Brenton Rampage Ebron",
          "Brenton Rampage Ebron",
          "Brenton Rampage Ebron",
          "Brenton Rampage Ebron",
          "Brenton Rampage Ebron",
          "Brenton Rampage Ebron",
          "Brenton Rampage Ebron",
          "Brenton Rampage Ebron",
          "Brenton Rampage Ebron",
          "Brenton Rampage Ebron",
          "Brenton Rampage Ebron",
          "Brenton Rampage Ebron",
          "Brenton Rampage Ebron",
          "Brenton Rampage Ebron",
          "Brenton Rampage Ebron",
          "Brenton Rampage Ebron",
          "Brenton Rampage Ebron",
          "Brenton Rampage Ebron",
          "Brenton Rampage Ebron",
          "Brenton Rampage Ebron",
          "Brenton Rampage Ebron",
          "Brenton Rampage Ebron",
          "Brenton Rampage Ebron",
          "Brenton Rampage Ebron",
          "Brenton Rampage Ebron",
          "Brenton Rampage Ebron",
          "Brenton Rampage Ebron",
          "Brenton Rampage Ebron",
          "Brenton Rampage Ebron",
          "Brenton Rampage Ebron",
          "Brenton Rampage Ebron",
          "Brenton Rampage Ebron",
          "Brenton Rampage Ebron",
          "Brenton Rampage Ebron",
          "Brenton Rampage Ebron",
          "Brenton Rampage Ebron",
          "Brenton Rampage Ebron",
          "Brenton Rampage Ebron",
          "Brenton Rampage Ebron",
          "Brenton Rampage Ebron",
          "Brenton Rampage Ebron",
          "Brenton Rampage Ebron",
          "Brenton Rampage Ebron",
          "Brenton Rampage Ebron",
          "Brenton Rampage Ebron",
          "Brenton Rampage Ebron",
          "Brenton Rampage Ebron",
          "Brenton Rampage Ebron",
          "Brenton Rampage Ebron",
          "Brenton Rampage Ebron",
          "Brenton Rampage Ebron",
          "Brenton Rampage Ebron",
          "Brenton Rampage Ebron",
          "Brenton Rampage Ebron",
          "Brenton Rampage Ebron",
          "Brenton Rampage Ebron",
          "Brenton Rampage Ebron",
          "Brenton Rampage Ebron",
          "Brenton Rampage Ebron",
          "Brenton Rampage Ebron",
          "Brenton Rampage Ebron",
          "Brenton Rampage Ebron",
          "Brenton Rampage Ebron",
          "Brenton Rampage Ebron"
         ]
        },
        {
         "marker": {
          "symbol": "star-triangle-up"
         },
         "mode": "markers",
         "text": [
          "I'm bringing oreos.",
          "who is bringing the Jews?",
          "I will bring juice",
          "I can come help you carry it. Might need some more people",
          "bring half a ton",
          "I have a ton of cups at my house",
          "I bought 24 donuts",
          "I will get drinks",
          "Sooo, who's bringing what",
          "Andrew Bledsoe added Connor Spedding to the group.",
          "Then donuts?",
          "Yeah that's kind of early",
          "Pizza places might not be open yet during stats time",
          "I will bring drinks",
          "We would just need drinks",
          "That would make it easier",
          "I'm down for that. And I'm sure it is",
          "Is that allowed",
          "Can we just all pitch in for pizza and have it delivered at that time",
          "Got it, I will bring something",
          "We are having a shindig for finishing the book",
          "But we're having a party tomorrow in stat Quentin",
          "I like the pun for the name",
          "Wait what is this for, I've been away in Tennessee",
          "David named the group We need food STAT.",
          "Hey guys, who is bringing what tomorrow? I'll bring donuts and juice. (unless someone else brings juice). I think i got everyone in the class in this message but if i forgot someone, add them"
         ],
         "type": "scatter",
         "x": [
          "2015-03-30T01:56:11.101000",
          "2015-03-30T00:02:44.924000",
          "2015-03-30T00:02:29.284000",
          "2015-03-30T00:02:24.096000",
          "2015-03-30T00:02:00.350000",
          "2015-03-30T00:01:48.885000",
          "2015-03-30T00:01:19.721000",
          "2015-03-29T19:48:20.602000",
          "2015-03-29T19:47:17.609000",
          "2015-03-29T19:20:16.780000",
          "2015-03-29T19:18:57.926000",
          "2015-03-29T19:18:45.722000",
          "2015-03-29T19:11:04.731000",
          "2015-03-29T17:24:33.140000",
          "2015-03-29T17:24:12.279000",
          "2015-03-29T17:24:06.593000",
          "2015-03-29T17:23:40.194000",
          "2015-03-29T17:23:30.568000",
          "2015-03-29T17:23:17.926000",
          "2015-03-29T17:22:42.824000",
          "2015-03-29T17:22:29.185000",
          "2015-03-29T17:22:19.533000",
          "2015-03-29T17:21:58.590000",
          "2015-03-29T17:21:26.231000",
          "2015-03-29T17:20:53.712000",
          "2015-03-29T17:20:15.379000"
         ],
         "y": [
          "We need food STAT",
          "We need food STAT",
          "We need food STAT",
          "We need food STAT",
          "We need food STAT",
          "We need food STAT",
          "We need food STAT",
          "We need food STAT",
          "We need food STAT",
          "We need food STAT",
          "We need food STAT",
          "We need food STAT",
          "We need food STAT",
          "We need food STAT",
          "We need food STAT",
          "We need food STAT",
          "We need food STAT",
          "We need food STAT",
          "We need food STAT",
          "We need food STAT",
          "We need food STAT",
          "We need food STAT",
          "We need food STAT",
          "We need food STAT",
          "We need food STAT",
          "We need food STAT"
         ]
        },
        {
         "marker": {
          "symbol": "star-triangle-up"
         },
         "mode": "markers",
         "text": [
          "Okay it's 443-257-5842",
          "If you give me number I could send it to you",
          "Haha I hope not, but I was just joking around and stuff and talking like it was NPR",
          "I think she's really just crushing on you...",
          "Hahaha she actually responded to you! What was your humor?",
          "And haha look at this",
          "I think I got a ton of brownie points for the study thing",
          "Graham got an 18/20 and rob got 18.60/20",
          "Damn, what did graham and rob get?",
          "haha yes the one that is a princess on her dads boat",
          "The creepy one?",
          "It's entertaining, you defintely had one of the highest scores! That girl summer got a 99",
          "Lucky af, I would love to look at other peoples grades",
          "i'm surprised Joe didn't get lower",
          "You probably had one of the highest scores! Hold on i am going to look at the grade center and see ahha",
          "Oh woops, I didn't see that, it might have been auto correct, but yeah I was expecting a 75 or something but she loved it, she gave everyone 90s except Joe, he got a 86 or something",
          "did you intentionally spell my last name heartman ahhaha",
          "what!!? Good job!! Man i'm really dissapointed in myself now",
          "Hahaha, next time I see my TA I'll let her know she's a disappointment, but I guess this means that I am better than the great Kadie Heartman because I got a 97",
          "i think i got a 92%, and i was pissed cause i thought it was better than that haha",
          "What a slacker TA you have! Someone should tell her off",
          "Oh and what did you get on your final?",
          "It was pretty boring with out her",
          "So awful, our TA never came",
          "How was the last Tsem class??",
          "That's a long time, wow",
          "Yes, we went to high school together and started dating junior year",
          "Is he a freshman?",
          "He goes here!",
          "Haha, I guess I could say it would be nice sometimes to be organized, but alas, I can't, where does your bf go?",
          "That's not a bad way to be. I wish I could think like that, I'm the opposite ahha I have to have a plan or I freak out",
          "So far I don't have any plans, but probably something like that, I'm a fan of just taking things as they come so I'll find out eventually what I'm doing",
          "I'm just going to stay here, and then go somewhere for graduate school after. How about you?",
          "You think you are gonna transfer from towson at some point or just stay here?",
          "I guess I didn't have high enough sat score or wasn't well rounded enough ahah",
          "Why didn't you get in?",
          "No, honestly my parents didn't do anything with helping me apply to colleges and all. They kinda let me figure it out ahah. But I asked my dad if he was okay with paying extra for housing, and he said that was fine so I applied to west village. I wanted to go to UNC, but didn't get in, so I was saving a lot of money by going here haha",
          "Haha, no, did you have to convince your parents to let you room in west village?",
          "res isn't even safe in pretty sure",
          "My mom wanted me to live like that, she was actually trying to find the worst housing so I could gain experience or something, I neglected to tell her about res tho so it all worked out",
          "My mom thinks it's weird how guys and girls can live on the same floor, cause in her day that was not allowed",
          "My mom was joking about signing me up for \"gender neutral housing\" because she thought it meant I could be roomed with a girl",
          "Barton 1st floor ahah",
          "Oh no way, I was wondering the other day where on campus that was",
          "Honestly I don't really know many of the people on my floor. But there's some weird kids. The first floor of my building is actually the \"lgbt floor\", so to live there you had to sign an agreement saying you were okay with it",
          "She doesn't like me, but that's ok, any fun people like that on your floor?",
          "That is quite a combination",
          "We have this girl on my floor who is a Jewish bisexual feminist, and I mean feminist",
          "I mean some people are in to it I guess. But personally not my thing",
          "I'm glad my mom made me switch but how would you minor in that, I feel like you can learn it all in ten minutes",
          "You can minor in LGBT",
          "ðð I feel like the IDHP 300 is more useful for life than lgbt 101",
          "I figured why not, plus I mentioned to my mom I might take lgbt 101 as a easy blow off class and my mom said I can't waste her money like that",
          "Oh that's awesome! I didn't realize that was that class but I've heard of it. My friend took it and she liked it",
          "Sike it's a class on autism and you do service stuff",
          "At a very skilled level",
          "I learn how to flip pancakes",
          "What is IHOP 300?",
          "Haha Cosc 109, but I'm also taking calc2 cosc 237 and IDHP 300",
          "That's kind of random, I guess stars and software go together. I'm also doing Phil 103 and cosc 109. you?",
          "Wow, that sounds hard, oddly enough, software engineering accepts astronomy as a science so I'm taking that, what other classes are you taking",
          "Oh nice, that's probably cool. I have to take anatomy and microbiology for nursing.. I've already taken biology and chemistry",
          "Pretty good, I got all the classes I wanted, what science are you taking, I'm in astronomy",
          "Good! I'm only doing 4 classes, cause 2 are sciences, and the times are good so I'm happy. How about for you?",
          "I meant to ask, how did picking classes go",
          "My screen saver",
          "Good luck in the last 2 Tsem classes. You will have survived bagel",
          "Thank you Tyler! I'm sure you will, we still have another 3 years here haha",
          "Yeah that's fine, well you were a great TA btw, I hope to see you around",
          "I just don't want to risk anything with my boyfriend. I'm crazy, in general, but especially when it comes to him being with others girls so he would probably see that as hypocriticalð nothing personal towards you at all!",
          "Ok, that's fine I get that completely, if you don't want to I won't be offended, but I you are nice to talk to and it could just be once",
          "that's true. I just don't want you to get the wrong idea because I have a boyfriend who I adore more than anything and I don't like him to hangout with other girls and I don't want to be hypocritical",
          "A short walk just isn't enough to catch up",
          "Sooooo, how about food after class?",
          "Hey sorry I was asleep, I have to work on that project so I won't be able too. Im sorry!",
          "Hey do you think you'll be able to go tomorrow for lunch?",
          "Ok sounds good",
          "I may have to work on a project for theatre but I'll let you know",
          "Damn, if that's the case, any chance you would wanna get lunch during class time?",
          "I don't think there's class Tuesday!!",
          "That will make it a whole month then, you have to come next Tuesday",
          "I was supposed too! But then she said not too because she is rushing to New York after the class or something I don't even know with her",
          "Oooo, looks like someone knows more than I thought, and you should come Thursday to make up for it",
          "But you also skipped that thursday 4/7ð and technically I'm not skipping today I just wasn't needed sadly",
          "I don't know, you skipped the week before that",
          "She said she didn't need me this week ð but you skipped last week so now we are even",
          "Smh you skipped again",
          "Haha oh yes",
          "Sounds like you're the real winner in end",
          "I asked if she wanted me too but she said that she wants me to meet her at 2:30 Thursday so it will just be me and her planning the final presentationó¾°",
          "Now my whole week is ruined, you should try to go Thursday",
          "You guys will survive until next Tuesday. It may not be fun in the process though",
          "You have to go, you'll be leaving us to die of boredom",
          "I have to register for housing! So I told her I couldn't go ahah",
          "Daaaamn, why are you going?"
         ],
         "type": "scatter",
         "x": [
          "2016-05-10T23:45:12.637000",
          "2016-05-10T23:44:57.960000",
          "2016-05-10T23:44:19.772000",
          "2016-05-10T23:43:04.764000",
          "2016-05-10T23:23:43.580000",
          "2016-05-10T23:18:56.557000",
          "2016-05-10T23:18:47.753000",
          "2016-05-10T23:14:55.607000",
          "2016-05-10T23:04:18.570000",
          "2016-05-10T22:28:26.930000",
          "2016-05-10T22:27:30.262000",
          "2016-05-10T22:20:25.589000",
          "2016-05-10T22:18:10.797000",
          "2016-05-10T22:09:55.173000",
          "2016-05-10T22:09:41.259000",
          "2016-05-10T22:08:51.688000",
          "2016-05-10T22:06:04.929000",
          "2016-05-10T22:05:49.162000",
          "2016-05-10T22:04:41.332000",
          "2016-05-10T22:00:58.145000",
          "2016-05-10T22:00:25.741000",
          "2016-05-10T21:02:07.670000",
          "2016-05-10T20:36:15.505000",
          "2016-05-10T20:34:37.900000",
          "2016-05-10T19:35:33.775000",
          "2016-05-05T03:19:00.378000",
          "2016-05-05T01:04:31.308000",
          "2016-05-05T00:54:48.164000",
          "2016-05-04T21:31:01.465000",
          "2016-05-04T19:53:33.658000",
          "2016-05-04T19:43:39.649000",
          "2016-05-04T18:37:13.540000",
          "2016-05-04T16:02:41.916000",
          "2016-05-04T15:31:43.581000",
          "2016-05-04T12:40:45.713000",
          "2016-05-04T04:13:09.953000",
          "2016-05-04T02:19:18.912000",
          "2016-05-04T02:14:04.047000",
          "2016-05-04T01:42:03.535000",
          "2016-05-04T01:39:55.159000",
          "2016-05-04T01:25:42.935000",
          "2016-05-04T01:08:11.943000",
          "2016-05-04T01:06:43.058000",
          "2016-05-04T01:03:46.061000",
          "2016-05-04T01:01:59.858000",
          "2016-05-04T00:57:44.217000",
          "2016-05-04T00:55:39.520000",
          "2016-05-04T00:44:56.752000",
          "2016-05-04T00:43:49.643000",
          "2016-05-04T00:33:49.871000",
          "2016-05-04T00:31:29.237000",
          "2016-05-04T00:31:23.023000",
          "2016-05-04T00:13:15.803000",
          "2016-05-04T00:11:48.461000",
          "2016-05-03T22:56:39.888000",
          "2016-05-03T22:24:39.667000",
          "2016-05-03T22:24:20.559000",
          "2016-05-03T22:19:14.912000",
          "2016-05-03T21:53:45.195000",
          "2016-05-03T20:53:26.742000",
          "2016-05-03T20:14:21.731000",
          "2016-05-03T20:11:35.034000",
          "2016-05-03T20:01:49.253000",
          "2016-05-03T19:59:35.928000",
          "2016-05-03T19:54:46.741000",
          "2016-05-03T19:48:54.623000",
          "2016-05-03T19:40:40.262000",
          "2016-05-03T19:39:11.234000",
          "2016-05-03T19:38:11.878000",
          "2016-05-03T19:36:40.139000",
          "2016-05-03T18:44:01.598000",
          "2016-05-03T18:38:17.597000",
          "2016-05-03T16:17:08.207000",
          "2016-05-03T16:16:16.382000",
          "2016-04-26T11:14:13.432000",
          "2016-04-26T03:11:03.395000",
          "2016-04-19T18:15:58.908000",
          "2016-04-19T17:51:04.024000",
          "2016-04-19T16:48:48.932000",
          "2016-04-19T16:30:37.297000",
          "2016-04-19T16:07:31.181000",
          "2016-04-19T16:03:41.574000",
          "2016-04-19T15:58:19.104000",
          "2016-04-19T15:35:10.404000",
          "2016-04-19T15:25:52.849000",
          "2016-04-19T15:23:23.222000",
          "2016-04-19T15:18:31.031000",
          "2016-04-04T00:14:17.277000",
          "2016-04-04T00:04:22.543000",
          "2016-04-03T23:02:27.241000",
          "2016-04-03T22:55:36.203000",
          "2016-04-03T22:42:44.938000",
          "2016-04-03T22:27:40.644000",
          "2016-04-03T21:57:29.747000",
          "2016-04-03T21:55:54.046000"
         ],
         "y": [
          "Kadie Hartman",
          "Kadie Hartman",
          "Kadie Hartman",
          "Kadie Hartman",
          "Kadie Hartman",
          "Kadie Hartman",
          "Kadie Hartman",
          "Kadie Hartman",
          "Kadie Hartman",
          "Kadie Hartman",
          "Kadie Hartman",
          "Kadie Hartman",
          "Kadie Hartman",
          "Kadie Hartman",
          "Kadie Hartman",
          "Kadie Hartman",
          "Kadie Hartman",
          "Kadie Hartman",
          "Kadie Hartman",
          "Kadie Hartman",
          "Kadie Hartman",
          "Kadie Hartman",
          "Kadie Hartman",
          "Kadie Hartman",
          "Kadie Hartman",
          "Kadie Hartman",
          "Kadie Hartman",
          "Kadie Hartman",
          "Kadie Hartman",
          "Kadie Hartman",
          "Kadie Hartman",
          "Kadie Hartman",
          "Kadie Hartman",
          "Kadie Hartman",
          "Kadie Hartman",
          "Kadie Hartman",
          "Kadie Hartman",
          "Kadie Hartman",
          "Kadie Hartman",
          "Kadie Hartman",
          "Kadie Hartman",
          "Kadie Hartman",
          "Kadie Hartman",
          "Kadie Hartman",
          "Kadie Hartman",
          "Kadie Hartman",
          "Kadie Hartman",
          "Kadie Hartman",
          "Kadie Hartman",
          "Kadie Hartman",
          "Kadie Hartman",
          "Kadie Hartman",
          "Kadie Hartman",
          "Kadie Hartman",
          "Kadie Hartman",
          "Kadie Hartman",
          "Kadie Hartman",
          "Kadie Hartman",
          "Kadie Hartman",
          "Kadie Hartman",
          "Kadie Hartman",
          "Kadie Hartman",
          "Kadie Hartman",
          "Kadie Hartman",
          "Kadie Hartman",
          "Kadie Hartman",
          "Kadie Hartman",
          "Kadie Hartman",
          "Kadie Hartman",
          "Kadie Hartman",
          "Kadie Hartman",
          "Kadie Hartman",
          "Kadie Hartman",
          "Kadie Hartman",
          "Kadie Hartman",
          "Kadie Hartman",
          "Kadie Hartman",
          "Kadie Hartman",
          "Kadie Hartman",
          "Kadie Hartman",
          "Kadie Hartman",
          "Kadie Hartman",
          "Kadie Hartman",
          "Kadie Hartman",
          "Kadie Hartman",
          "Kadie Hartman",
          "Kadie Hartman",
          "Kadie Hartman",
          "Kadie Hartman",
          "Kadie Hartman",
          "Kadie Hartman",
          "Kadie Hartman",
          "Kadie Hartman",
          "Kadie Hartman",
          "Kadie Hartman"
         ]
        },
        {
         "marker": {
          "symbol": "star-triangle-up"
         },
         "mode": "markers",
         "text": [
          "Hey Iâm here",
          "Cool ðð¼ ill be here",
          "Just to keep you in the loop itâs looking closer to 5",
          "Sounds good",
          "Just let me know when youâre coming through",
          "Sounds good! Itâs at 11 e heath st",
          "Does around 4-5 work?",
          "Yeah just let me know when",
          "You around Saturday afternoon/evening?",
          "Yep. The basement room is the cheaper than the other rooms. Upstairs are both $700",
          "And ok Iâll find a good time to come up and let you know",
          "Oh so youâre just moving upstairs?",
          "Im the only person staying in the house for this next lease. So i cant speak for the other guy that will most likely be moving in",
          "I like to think im really clean. I always clean my pots and pans after cooking and dont let dishes stack up or anything. I do other random cleaning when i can but im not a stickler about it",
          "Yeah man. I can try to be available this weekend aside from saturday morning",
          "Ok. Could I come up and check it out sometime? Also what do you roommates do for work/ and how clean are they?",
          "Yeah. The laundry room is actually accessible through the basement. It can be a pro and a con. I live in the room now and have an understanding with my roommates that they can usually come down to do laundry whenever",
          "Oh ok cool. It looked like it didnât have one. Is that laundry room for everyone?",
          "Yep. Itâs a double door that locks",
          "Is there a door to that room?",
          "Let me know if youâre still interested!",
          "Still interested? Reply to: Can be hard to find parking if you come home really late, but thatâs with anywhere in the city",
          "Stefan changed the listing description.",
          "Stefan changed the listing title to 3 Beds 3 Baths - Townhouse.",
          "Can be hard to find parking if you come home really late, but thatâs with anywhere in the city",
          "Area 30 parking",
          "Pretty much standard fed hill stuff. There is street parking available in front of the house and throughout the neighborhood. Itâs $20 per year",
          "Hey what is the parking like for this house?",
          "You changed the group photo.",
          "You named the group Tyler Â· to."
         ],
         "type": "scatter",
         "x": [
          "2020-02-15T22:12:06.088000",
          "2020-02-15T21:43:35.634000",
          "2020-02-15T20:41:35.814000",
          "2020-02-15T17:54:49.794000",
          "2020-02-15T17:54:38.927000",
          "2020-02-15T17:54:18.357000",
          "2020-02-15T17:51:50.552000",
          "2020-02-15T15:02:57.718000",
          "2020-02-14T13:45:41.005000",
          "2020-02-12T19:41:43.352000",
          "2020-02-12T19:41:28.487000",
          "2020-02-12T19:41:00.312000",
          "2020-02-12T18:01:23.900000",
          "2020-02-12T18:00:42.955000",
          "2020-02-12T17:59:34.998000",
          "2020-02-12T16:30:43.473000",
          "2020-02-12T02:53:20.115000",
          "2020-02-12T02:39:40.025000",
          "2020-02-12T02:34:32.079000",
          "2020-02-11T19:15:48.674000",
          "2020-02-11T18:18:32.240000",
          "2020-02-11T11:08:00.809000",
          "2020-02-11T00:54:16.443000",
          "2020-02-11T00:54:16.008000",
          "2020-02-11T00:47:02",
          "2020-02-11T00:46:33.205000",
          "2020-02-11T00:46:24.294000",
          "2020-02-10T21:19:52.084000",
          "2020-02-10T21:19:50.348000",
          "2020-02-10T21:19:49.943000"
         ],
         "y": [
          "Tyler Â· to",
          "Tyler Â· to",
          "Tyler Â· to",
          "Tyler Â· to",
          "Tyler Â· to",
          "Tyler Â· to",
          "Tyler Â· to",
          "Tyler Â· to",
          "Tyler Â· to",
          "Tyler Â· to",
          "Tyler Â· to",
          "Tyler Â· to",
          "Tyler Â· to",
          "Tyler Â· to",
          "Tyler Â· to",
          "Tyler Â· to",
          "Tyler Â· to",
          "Tyler Â· to",
          "Tyler Â· to",
          "Tyler Â· to",
          "Tyler Â· to",
          "Tyler Â· to",
          "Tyler Â· to",
          "Tyler Â· to",
          "Tyler Â· to",
          "Tyler Â· to",
          "Tyler Â· to",
          "Tyler Â· to",
          "Tyler Â· to",
          "Tyler Â· to"
         ]
        }
       ],
       "layout": {
        "height": 700,
        "showlegend": false,
        "template": {
         "data": {
          "bar": [
           {
            "error_x": {
             "color": "#2a3f5f"
            },
            "error_y": {
             "color": "#2a3f5f"
            },
            "marker": {
             "line": {
              "color": "#E5ECF6",
              "width": 0.5
             }
            },
            "type": "bar"
           }
          ],
          "barpolar": [
           {
            "marker": {
             "line": {
              "color": "#E5ECF6",
              "width": 0.5
             }
            },
            "type": "barpolar"
           }
          ],
          "carpet": [
           {
            "aaxis": {
             "endlinecolor": "#2a3f5f",
             "gridcolor": "white",
             "linecolor": "white",
             "minorgridcolor": "white",
             "startlinecolor": "#2a3f5f"
            },
            "baxis": {
             "endlinecolor": "#2a3f5f",
             "gridcolor": "white",
             "linecolor": "white",
             "minorgridcolor": "white",
             "startlinecolor": "#2a3f5f"
            },
            "type": "carpet"
           }
          ],
          "choropleth": [
           {
            "colorbar": {
             "outlinewidth": 0,
             "ticks": ""
            },
            "type": "choropleth"
           }
          ],
          "contour": [
           {
            "colorbar": {
             "outlinewidth": 0,
             "ticks": ""
            },
            "colorscale": [
             [
              0,
              "#0d0887"
             ],
             [
              0.1111111111111111,
              "#46039f"
             ],
             [
              0.2222222222222222,
              "#7201a8"
             ],
             [
              0.3333333333333333,
              "#9c179e"
             ],
             [
              0.4444444444444444,
              "#bd3786"
             ],
             [
              0.5555555555555556,
              "#d8576b"
             ],
             [
              0.6666666666666666,
              "#ed7953"
             ],
             [
              0.7777777777777778,
              "#fb9f3a"
             ],
             [
              0.8888888888888888,
              "#fdca26"
             ],
             [
              1,
              "#f0f921"
             ]
            ],
            "type": "contour"
           }
          ],
          "contourcarpet": [
           {
            "colorbar": {
             "outlinewidth": 0,
             "ticks": ""
            },
            "type": "contourcarpet"
           }
          ],
          "heatmap": [
           {
            "colorbar": {
             "outlinewidth": 0,
             "ticks": ""
            },
            "colorscale": [
             [
              0,
              "#0d0887"
             ],
             [
              0.1111111111111111,
              "#46039f"
             ],
             [
              0.2222222222222222,
              "#7201a8"
             ],
             [
              0.3333333333333333,
              "#9c179e"
             ],
             [
              0.4444444444444444,
              "#bd3786"
             ],
             [
              0.5555555555555556,
              "#d8576b"
             ],
             [
              0.6666666666666666,
              "#ed7953"
             ],
             [
              0.7777777777777778,
              "#fb9f3a"
             ],
             [
              0.8888888888888888,
              "#fdca26"
             ],
             [
              1,
              "#f0f921"
             ]
            ],
            "type": "heatmap"
           }
          ],
          "heatmapgl": [
           {
            "colorbar": {
             "outlinewidth": 0,
             "ticks": ""
            },
            "colorscale": [
             [
              0,
              "#0d0887"
             ],
             [
              0.1111111111111111,
              "#46039f"
             ],
             [
              0.2222222222222222,
              "#7201a8"
             ],
             [
              0.3333333333333333,
              "#9c179e"
             ],
             [
              0.4444444444444444,
              "#bd3786"
             ],
             [
              0.5555555555555556,
              "#d8576b"
             ],
             [
              0.6666666666666666,
              "#ed7953"
             ],
             [
              0.7777777777777778,
              "#fb9f3a"
             ],
             [
              0.8888888888888888,
              "#fdca26"
             ],
             [
              1,
              "#f0f921"
             ]
            ],
            "type": "heatmapgl"
           }
          ],
          "histogram": [
           {
            "marker": {
             "colorbar": {
              "outlinewidth": 0,
              "ticks": ""
             }
            },
            "type": "histogram"
           }
          ],
          "histogram2d": [
           {
            "colorbar": {
             "outlinewidth": 0,
             "ticks": ""
            },
            "colorscale": [
             [
              0,
              "#0d0887"
             ],
             [
              0.1111111111111111,
              "#46039f"
             ],
             [
              0.2222222222222222,
              "#7201a8"
             ],
             [
              0.3333333333333333,
              "#9c179e"
             ],
             [
              0.4444444444444444,
              "#bd3786"
             ],
             [
              0.5555555555555556,
              "#d8576b"
             ],
             [
              0.6666666666666666,
              "#ed7953"
             ],
             [
              0.7777777777777778,
              "#fb9f3a"
             ],
             [
              0.8888888888888888,
              "#fdca26"
             ],
             [
              1,
              "#f0f921"
             ]
            ],
            "type": "histogram2d"
           }
          ],
          "histogram2dcontour": [
           {
            "colorbar": {
             "outlinewidth": 0,
             "ticks": ""
            },
            "colorscale": [
             [
              0,
              "#0d0887"
             ],
             [
              0.1111111111111111,
              "#46039f"
             ],
             [
              0.2222222222222222,
              "#7201a8"
             ],
             [
              0.3333333333333333,
              "#9c179e"
             ],
             [
              0.4444444444444444,
              "#bd3786"
             ],
             [
              0.5555555555555556,
              "#d8576b"
             ],
             [
              0.6666666666666666,
              "#ed7953"
             ],
             [
              0.7777777777777778,
              "#fb9f3a"
             ],
             [
              0.8888888888888888,
              "#fdca26"
             ],
             [
              1,
              "#f0f921"
             ]
            ],
            "type": "histogram2dcontour"
           }
          ],
          "mesh3d": [
           {
            "colorbar": {
             "outlinewidth": 0,
             "ticks": ""
            },
            "type": "mesh3d"
           }
          ],
          "parcoords": [
           {
            "line": {
             "colorbar": {
              "outlinewidth": 0,
              "ticks": ""
             }
            },
            "type": "parcoords"
           }
          ],
          "pie": [
           {
            "automargin": true,
            "type": "pie"
           }
          ],
          "scatter": [
           {
            "marker": {
             "colorbar": {
              "outlinewidth": 0,
              "ticks": ""
             }
            },
            "type": "scatter"
           }
          ],
          "scatter3d": [
           {
            "line": {
             "colorbar": {
              "outlinewidth": 0,
              "ticks": ""
             }
            },
            "marker": {
             "colorbar": {
              "outlinewidth": 0,
              "ticks": ""
             }
            },
            "type": "scatter3d"
           }
          ],
          "scattercarpet": [
           {
            "marker": {
             "colorbar": {
              "outlinewidth": 0,
              "ticks": ""
             }
            },
            "type": "scattercarpet"
           }
          ],
          "scattergeo": [
           {
            "marker": {
             "colorbar": {
              "outlinewidth": 0,
              "ticks": ""
             }
            },
            "type": "scattergeo"
           }
          ],
          "scattergl": [
           {
            "marker": {
             "colorbar": {
              "outlinewidth": 0,
              "ticks": ""
             }
            },
            "type": "scattergl"
           }
          ],
          "scattermapbox": [
           {
            "marker": {
             "colorbar": {
              "outlinewidth": 0,
              "ticks": ""
             }
            },
            "type": "scattermapbox"
           }
          ],
          "scatterpolar": [
           {
            "marker": {
             "colorbar": {
              "outlinewidth": 0,
              "ticks": ""
             }
            },
            "type": "scatterpolar"
           }
          ],
          "scatterpolargl": [
           {
            "marker": {
             "colorbar": {
              "outlinewidth": 0,
              "ticks": ""
             }
            },
            "type": "scatterpolargl"
           }
          ],
          "scatterternary": [
           {
            "marker": {
             "colorbar": {
              "outlinewidth": 0,
              "ticks": ""
             }
            },
            "type": "scatterternary"
           }
          ],
          "surface": [
           {
            "colorbar": {
             "outlinewidth": 0,
             "ticks": ""
            },
            "colorscale": [
             [
              0,
              "#0d0887"
             ],
             [
              0.1111111111111111,
              "#46039f"
             ],
             [
              0.2222222222222222,
              "#7201a8"
             ],
             [
              0.3333333333333333,
              "#9c179e"
             ],
             [
              0.4444444444444444,
              "#bd3786"
             ],
             [
              0.5555555555555556,
              "#d8576b"
             ],
             [
              0.6666666666666666,
              "#ed7953"
             ],
             [
              0.7777777777777778,
              "#fb9f3a"
             ],
             [
              0.8888888888888888,
              "#fdca26"
             ],
             [
              1,
              "#f0f921"
             ]
            ],
            "type": "surface"
           }
          ],
          "table": [
           {
            "cells": {
             "fill": {
              "color": "#EBF0F8"
             },
             "line": {
              "color": "white"
             }
            },
            "header": {
             "fill": {
              "color": "#C8D4E3"
             },
             "line": {
              "color": "white"
             }
            },
            "type": "table"
           }
          ]
         },
         "layout": {
          "annotationdefaults": {
           "arrowcolor": "#2a3f5f",
           "arrowhead": 0,
           "arrowwidth": 1
          },
          "coloraxis": {
           "colorbar": {
            "outlinewidth": 0,
            "ticks": ""
           }
          },
          "colorscale": {
           "diverging": [
            [
             0,
             "#8e0152"
            ],
            [
             0.1,
             "#c51b7d"
            ],
            [
             0.2,
             "#de77ae"
            ],
            [
             0.3,
             "#f1b6da"
            ],
            [
             0.4,
             "#fde0ef"
            ],
            [
             0.5,
             "#f7f7f7"
            ],
            [
             0.6,
             "#e6f5d0"
            ],
            [
             0.7,
             "#b8e186"
            ],
            [
             0.8,
             "#7fbc41"
            ],
            [
             0.9,
             "#4d9221"
            ],
            [
             1,
             "#276419"
            ]
           ],
           "sequential": [
            [
             0,
             "#0d0887"
            ],
            [
             0.1111111111111111,
             "#46039f"
            ],
            [
             0.2222222222222222,
             "#7201a8"
            ],
            [
             0.3333333333333333,
             "#9c179e"
            ],
            [
             0.4444444444444444,
             "#bd3786"
            ],
            [
             0.5555555555555556,
             "#d8576b"
            ],
            [
             0.6666666666666666,
             "#ed7953"
            ],
            [
             0.7777777777777778,
             "#fb9f3a"
            ],
            [
             0.8888888888888888,
             "#fdca26"
            ],
            [
             1,
             "#f0f921"
            ]
           ],
           "sequentialminus": [
            [
             0,
             "#0d0887"
            ],
            [
             0.1111111111111111,
             "#46039f"
            ],
            [
             0.2222222222222222,
             "#7201a8"
            ],
            [
             0.3333333333333333,
             "#9c179e"
            ],
            [
             0.4444444444444444,
             "#bd3786"
            ],
            [
             0.5555555555555556,
             "#d8576b"
            ],
            [
             0.6666666666666666,
             "#ed7953"
            ],
            [
             0.7777777777777778,
             "#fb9f3a"
            ],
            [
             0.8888888888888888,
             "#fdca26"
            ],
            [
             1,
             "#f0f921"
            ]
           ]
          },
          "colorway": [
           "#636efa",
           "#EF553B",
           "#00cc96",
           "#ab63fa",
           "#FFA15A",
           "#19d3f3",
           "#FF6692",
           "#B6E880",
           "#FF97FF",
           "#FECB52"
          ],
          "font": {
           "color": "#2a3f5f"
          },
          "geo": {
           "bgcolor": "white",
           "lakecolor": "white",
           "landcolor": "#E5ECF6",
           "showlakes": true,
           "showland": true,
           "subunitcolor": "white"
          },
          "hoverlabel": {
           "align": "left"
          },
          "hovermode": "closest",
          "mapbox": {
           "style": "light"
          },
          "paper_bgcolor": "white",
          "plot_bgcolor": "#E5ECF6",
          "polar": {
           "angularaxis": {
            "gridcolor": "white",
            "linecolor": "white",
            "ticks": ""
           },
           "bgcolor": "#E5ECF6",
           "radialaxis": {
            "gridcolor": "white",
            "linecolor": "white",
            "ticks": ""
           }
          },
          "scene": {
           "xaxis": {
            "backgroundcolor": "#E5ECF6",
            "gridcolor": "white",
            "gridwidth": 2,
            "linecolor": "white",
            "showbackground": true,
            "ticks": "",
            "zerolinecolor": "white"
           },
           "yaxis": {
            "backgroundcolor": "#E5ECF6",
            "gridcolor": "white",
            "gridwidth": 2,
            "linecolor": "white",
            "showbackground": true,
            "ticks": "",
            "zerolinecolor": "white"
           },
           "zaxis": {
            "backgroundcolor": "#E5ECF6",
            "gridcolor": "white",
            "gridwidth": 2,
            "linecolor": "white",
            "showbackground": true,
            "ticks": "",
            "zerolinecolor": "white"
           }
          },
          "shapedefaults": {
           "line": {
            "color": "#2a3f5f"
           }
          },
          "ternary": {
           "aaxis": {
            "gridcolor": "white",
            "linecolor": "white",
            "ticks": ""
           },
           "baxis": {
            "gridcolor": "white",
            "linecolor": "white",
            "ticks": ""
           },
           "bgcolor": "#E5ECF6",
           "caxis": {
            "gridcolor": "white",
            "linecolor": "white",
            "ticks": ""
           }
          },
          "title": {
           "x": 0.05
          },
          "xaxis": {
           "automargin": true,
           "gridcolor": "white",
           "linecolor": "white",
           "ticks": "",
           "title": {
            "standoff": 15
           },
           "zerolinecolor": "white",
           "zerolinewidth": 2
          },
          "yaxis": {
           "automargin": true,
           "gridcolor": "white",
           "linecolor": "white",
           "ticks": "",
           "title": {
            "standoff": 15
           },
           "zerolinecolor": "white",
           "zerolinewidth": 2
          }
         }
        },
        "width": 900,
        "xaxis": {
         "rangeselector": {
          "buttons": [
           {
            "count": 1,
            "label": "1m",
            "step": "month",
            "stepmode": "backward"
           },
           {
            "count": 6,
            "label": "6m",
            "step": "month",
            "stepmode": "backward"
           },
           {
            "count": 1,
            "label": "YTD",
            "step": "year",
            "stepmode": "todate"
           },
           {
            "count": 1,
            "label": "1y",
            "step": "year",
            "stepmode": "backward"
           },
           {
            "step": "all"
           }
          ]
         },
         "rangeslider": {
          "visible": true
         },
         "type": "date"
        }
       }
      }
     },
     "metadata": {}
    }
   ],
   "source": [
    "fig = go.Figure()\n",
    "top_df = messages_df.sort_values(by=['count'], ascending=False)[0:20]\n",
    "whole_ass_df = pd.read_csv('data/{}/messages/messages_flat.csv'.format(FACEBOOK_FOLDER))\n",
    "keys = list(top_df.title.values)\n",
    "temp_ass_df = whole_ass_df[whole_ass_df['title'].isin(keys)]\n",
    "\n",
    "temp_ass_df['timestamp_ms'] = pd.to_datetime(temp_ass_df['timestamp_ms'],unit='ms')\n",
    "for x in temp_ass_df.title.unique():\n",
    "    t_df = temp_ass_df.loc[temp_ass_df['title'] == x]\n",
    "    fig.add_trace(go.Scatter(x=t_df['timestamp_ms'],y=t_df['title'],text=t_df['content'],mode='markers',marker_symbol='star-triangle-up'))\n",
    "fig.update_layout(showlegend=False,height=700,width=900)\n",
    "\n",
    "fig.update_layout(\n",
    "    xaxis=dict(\n",
    "        rangeselector=dict(\n",
    "            buttons=list([\n",
    "                dict(count=1,\n",
    "                     label=\"1m\",\n",
    "                     step=\"month\",\n",
    "                     stepmode=\"backward\"),\n",
    "                dict(count=6,\n",
    "                     label=\"6m\",\n",
    "                     step=\"month\",\n",
    "                     stepmode=\"backward\"),\n",
    "                dict(count=1,\n",
    "                     label=\"YTD\",\n",
    "                     step=\"year\",\n",
    "                     stepmode=\"todate\"),\n",
    "                dict(count=1,\n",
    "                     label=\"1y\",\n",
    "                     step=\"year\",\n",
    "                     stepmode=\"backward\"),\n",
    "                dict(step=\"all\")\n",
    "            ])\n",
    "        ),\n",
    "        rangeslider=dict(\n",
    "            visible=True\n",
    "        ),\n",
    "        type=\"date\"\n",
    "    )\n",
    ")\n",
    "fig.show()"
   ]
  },
  {
   "cell_type": "markdown",
   "metadata": {},
   "source": [
    "## Likes and Reactions\n",
    "\n",
    "Step 1: Flatten to CSV"
   ]
  },
  {
   "cell_type": "code",
   "execution_count": 142,
   "metadata": {},
   "outputs": [],
   "source": [
    "likes_and_comments_location = 'data/{}/likes_and_reactions/posts_and_comments'.format(FACEBOOK_FOLDER)\n",
    "\n",
    "with open(likes_and_comments_location + '.csv','w') as file:\n",
    "  writer = csv.writer(file)\n",
    "  writer.writerow(['actor','recipient','timestamp','reaction'])    \n",
    "  try:\n",
    "    f = open(likes_and_comments_location + '.json')\n",
    "    raw_json = json.load(f)\n",
    "  \n",
    "    reactions = (raw_json['reactions'])\n",
    "    for reaction in reactions:\n",
    "      try:\n",
    "        timestamp = reaction['timestamp']\n",
    "        data = reaction['data'][0]\n",
    "        actor = data['reaction']['actor']\n",
    "        action = data['reaction']['reaction']\n",
    "        title = reaction['title']\n",
    "\n",
    "        if len(title.split('likes')) > 1:\n",
    "          recipient = title.split('likes')\n",
    "          recipient = recipient[1].split('\\'s')[0]\n",
    "          writer.writerow([actor,recipient,action,timestamp])\n",
    "        elif len(title.split('liked')) > 1:\n",
    "          recipient = title.split('liked')\n",
    "          recipient = recipient[1].split('\\'s')[0]\n",
    "          writer.writerow([actor,recipient,action,timestamp])\n",
    "        elif len(title.split('reacted to')) > 1:\n",
    "          recipient = title.split('reacted to')[1]\n",
    "          recipient = recipient.split('\\'s')[0]\n",
    "          writer.writerow([actor,recipient,action,timestamp])\n",
    "        else:\n",
    "          print(title)\n",
    "      except KeyError as e:\n",
    "        pass\n",
    "    f.close()\n",
    "  except FileNotFoundError:\n",
    "    f.close()\n",
    "    print(\"File Not Found\")\n",
    "\n"
   ]
  },
  {
   "cell_type": "markdown",
   "metadata": {},
   "source": [
    "### Your most frequent Interactions"
   ]
  },
  {
   "cell_type": "code",
   "execution_count": 145,
   "metadata": {},
   "outputs": [
    {
     "output_type": "display_data",
     "data": {
      "application/vnd.plotly.v1+json": {
       "config": {
        "plotlyServerURL": "https://plot.ly"
       },
       "data": [
        {
         "alignmentgroup": "True",
         "hovertemplate": "recipient=%{x}<br>count=%{marker.color}<extra></extra>",
         "legendgroup": "",
         "marker": {
          "color": [
           344,
           89,
           83,
           78,
           57,
           53,
           44,
           42,
           37,
           36,
           35,
           34,
           28,
           26,
           25,
           25,
           23,
           23,
           22,
           20,
           19,
           18,
           18,
           17,
           16,
           16,
           16,
           15,
           15,
           14,
           13,
           13,
           13,
           12,
           12,
           12,
           12,
           11,
           11,
           11,
           10,
           10,
           10,
           10,
           10,
           9,
           9,
           9,
           8,
           8,
           8,
           8,
           8,
           8,
           8,
           7,
           7,
           7,
           7,
           7,
           7,
           7,
           7,
           7,
           7,
           6,
           6,
           6,
           6,
           6,
           6,
           6,
           6,
           6,
           6,
           5,
           5,
           5,
           5,
           5,
           5,
           5,
           5,
           5,
           5,
           5,
           5,
           5,
           5,
           4,
           4,
           4,
           4,
           4,
           4,
           4,
           4,
           4,
           4,
           4
          ],
          "coloraxis": "coloraxis"
         },
         "name": "",
         "offsetgroup": "",
         "orientation": "v",
         "showlegend": false,
         "textposition": "auto",
         "type": "bar",
         "x": [
          " Kj Daniels",
          " Shadeed Q Drakeford",
          " Todd Givens Jr.",
          " Brenton Rampage Ebron",
          " Software Engineers",
          " Antoinette Podolek Schmitz",
          " Nicholas Hewitt",
          " Erin Mahoney Schmitz",
          " Riley Cahill",
          " Wesley Ross",
          " Hunter Ford",
          " Jordan Haxton",
          " Sean Smith",
          " a video.",
          " Alexander Jos",
          " James A. Hudlow",
          " National Collegiate Dodgeball Association",
          " Jacob Stodghill",
          " Kanji Takeno",
          " Ally Stull",
          " Tasia Demas Schmitz",
          " David Hanlon",
          " Andrew Brown",
          " Jaron Daulton",
          " Eric Shaner",
          " Alex Coajou",
          " Mark Podolek",
          " Patrick Carroll",
          " Michele Marx",
          " Doug Shaner",
          " Ben Shapiro",
          " Kelly Shaner Paparazzo",
          " Ben Schmitz",
          " Michael Hinely",
          " Drew Neal",
          " Eric",
          " Sidney Heier",
          " a link.",
          " Emily Schmitz",
          " Christine Dorsey",
          " Laura Dorsey-Shaner",
          " Brian Risch",
          " Kadie Hartman",
          " Colin Sporer",
          " Savannah Kirtley",
          " Chloe Burgess",
          " Evan Sheppard",
          " Jordan Watt",
          " Colin Schmitz",
          " Cj Duvall",
          " Emily Rowe",
          " Towson University Club Dodgeball",
          " Columbus Gamecocks",
          " Tim Wells",
          " SubjectPolitics",
          " Caryl Finnerty",
          " Katie Ford",
          " David Schmitz",
          " Samantha Santarpia",
          " Chris Thomas",
          " Alec Wasserman",
          " Allison Shaner",
          " Bob Schmitz",
          " Bonny Pokopac Chappell",
          " Elliot Lowe",
          " Josh Godbold",
          " Ashley McDonaugh",
          " J.r. Murray",
          " a post.",
          " CollegeHumor",
          " Matt Johnson",
          " RossCreations",
          " Samantha Stull",
          " UNILAD",
          " Nick Cerdeira",
          " Memes",
          " Chet Brown II",
          " Mount Saint Joseph High School",
          " Mylilallykat Howboutdat",
          " Donald J. Trump",
          " Lexi Harrison",
          " Men",
          " Christopher Ford",
          " Anthony LeMonnier",
          " Kevin Bailey",
          " Danielle Lloyd",
          " âØ¹Ø¨Ø¯ Ø§ÙØ³ÙØ§Ù Ø§ÙØ´Ø§ÙØ¨â",
          " Aaron Brown",
          " Isabelle Linder",
          " The Joe Rogan Experience Podcast",
          " The Comical Conservative",
          " Amanda Kondash",
          " Nicholas Whittaker",
          " John Finnerty",
          " Jeremy Ryan",
          " Brianna Sims",
          " Kendall Stull",
          " Taylor Windsor",
          " Matthew Boulay",
          " Hannah Cook"
         ],
         "xaxis": "x",
         "y": [
          344,
          89,
          83,
          78,
          57,
          53,
          44,
          42,
          37,
          36,
          35,
          34,
          28,
          26,
          25,
          25,
          23,
          23,
          22,
          20,
          19,
          18,
          18,
          17,
          16,
          16,
          16,
          15,
          15,
          14,
          13,
          13,
          13,
          12,
          12,
          12,
          12,
          11,
          11,
          11,
          10,
          10,
          10,
          10,
          10,
          9,
          9,
          9,
          8,
          8,
          8,
          8,
          8,
          8,
          8,
          7,
          7,
          7,
          7,
          7,
          7,
          7,
          7,
          7,
          7,
          6,
          6,
          6,
          6,
          6,
          6,
          6,
          6,
          6,
          6,
          5,
          5,
          5,
          5,
          5,
          5,
          5,
          5,
          5,
          5,
          5,
          5,
          5,
          5,
          4,
          4,
          4,
          4,
          4,
          4,
          4,
          4,
          4,
          4,
          4
         ],
         "yaxis": "y"
        }
       ],
       "layout": {
        "barmode": "relative",
        "coloraxis": {
         "colorbar": {
          "title": {
           "text": "count"
          }
         },
         "colorscale": [
          [
           0,
           "#0d0887"
          ],
          [
           0.1111111111111111,
           "#46039f"
          ],
          [
           0.2222222222222222,
           "#7201a8"
          ],
          [
           0.3333333333333333,
           "#9c179e"
          ],
          [
           0.4444444444444444,
           "#bd3786"
          ],
          [
           0.5555555555555556,
           "#d8576b"
          ],
          [
           0.6666666666666666,
           "#ed7953"
          ],
          [
           0.7777777777777778,
           "#fb9f3a"
          ],
          [
           0.8888888888888888,
           "#fdca26"
          ],
          [
           1,
           "#f0f921"
          ]
         ]
        },
        "height": 800,
        "legend": {
         "tracegroupgap": 0
        },
        "margin": {
         "t": 60
        },
        "template": {
         "data": {
          "bar": [
           {
            "error_x": {
             "color": "#2a3f5f"
            },
            "error_y": {
             "color": "#2a3f5f"
            },
            "marker": {
             "line": {
              "color": "#E5ECF6",
              "width": 0.5
             }
            },
            "type": "bar"
           }
          ],
          "barpolar": [
           {
            "marker": {
             "line": {
              "color": "#E5ECF6",
              "width": 0.5
             }
            },
            "type": "barpolar"
           }
          ],
          "carpet": [
           {
            "aaxis": {
             "endlinecolor": "#2a3f5f",
             "gridcolor": "white",
             "linecolor": "white",
             "minorgridcolor": "white",
             "startlinecolor": "#2a3f5f"
            },
            "baxis": {
             "endlinecolor": "#2a3f5f",
             "gridcolor": "white",
             "linecolor": "white",
             "minorgridcolor": "white",
             "startlinecolor": "#2a3f5f"
            },
            "type": "carpet"
           }
          ],
          "choropleth": [
           {
            "colorbar": {
             "outlinewidth": 0,
             "ticks": ""
            },
            "type": "choropleth"
           }
          ],
          "contour": [
           {
            "colorbar": {
             "outlinewidth": 0,
             "ticks": ""
            },
            "colorscale": [
             [
              0,
              "#0d0887"
             ],
             [
              0.1111111111111111,
              "#46039f"
             ],
             [
              0.2222222222222222,
              "#7201a8"
             ],
             [
              0.3333333333333333,
              "#9c179e"
             ],
             [
              0.4444444444444444,
              "#bd3786"
             ],
             [
              0.5555555555555556,
              "#d8576b"
             ],
             [
              0.6666666666666666,
              "#ed7953"
             ],
             [
              0.7777777777777778,
              "#fb9f3a"
             ],
             [
              0.8888888888888888,
              "#fdca26"
             ],
             [
              1,
              "#f0f921"
             ]
            ],
            "type": "contour"
           }
          ],
          "contourcarpet": [
           {
            "colorbar": {
             "outlinewidth": 0,
             "ticks": ""
            },
            "type": "contourcarpet"
           }
          ],
          "heatmap": [
           {
            "colorbar": {
             "outlinewidth": 0,
             "ticks": ""
            },
            "colorscale": [
             [
              0,
              "#0d0887"
             ],
             [
              0.1111111111111111,
              "#46039f"
             ],
             [
              0.2222222222222222,
              "#7201a8"
             ],
             [
              0.3333333333333333,
              "#9c179e"
             ],
             [
              0.4444444444444444,
              "#bd3786"
             ],
             [
              0.5555555555555556,
              "#d8576b"
             ],
             [
              0.6666666666666666,
              "#ed7953"
             ],
             [
              0.7777777777777778,
              "#fb9f3a"
             ],
             [
              0.8888888888888888,
              "#fdca26"
             ],
             [
              1,
              "#f0f921"
             ]
            ],
            "type": "heatmap"
           }
          ],
          "heatmapgl": [
           {
            "colorbar": {
             "outlinewidth": 0,
             "ticks": ""
            },
            "colorscale": [
             [
              0,
              "#0d0887"
             ],
             [
              0.1111111111111111,
              "#46039f"
             ],
             [
              0.2222222222222222,
              "#7201a8"
             ],
             [
              0.3333333333333333,
              "#9c179e"
             ],
             [
              0.4444444444444444,
              "#bd3786"
             ],
             [
              0.5555555555555556,
              "#d8576b"
             ],
             [
              0.6666666666666666,
              "#ed7953"
             ],
             [
              0.7777777777777778,
              "#fb9f3a"
             ],
             [
              0.8888888888888888,
              "#fdca26"
             ],
             [
              1,
              "#f0f921"
             ]
            ],
            "type": "heatmapgl"
           }
          ],
          "histogram": [
           {
            "marker": {
             "colorbar": {
              "outlinewidth": 0,
              "ticks": ""
             }
            },
            "type": "histogram"
           }
          ],
          "histogram2d": [
           {
            "colorbar": {
             "outlinewidth": 0,
             "ticks": ""
            },
            "colorscale": [
             [
              0,
              "#0d0887"
             ],
             [
              0.1111111111111111,
              "#46039f"
             ],
             [
              0.2222222222222222,
              "#7201a8"
             ],
             [
              0.3333333333333333,
              "#9c179e"
             ],
             [
              0.4444444444444444,
              "#bd3786"
             ],
             [
              0.5555555555555556,
              "#d8576b"
             ],
             [
              0.6666666666666666,
              "#ed7953"
             ],
             [
              0.7777777777777778,
              "#fb9f3a"
             ],
             [
              0.8888888888888888,
              "#fdca26"
             ],
             [
              1,
              "#f0f921"
             ]
            ],
            "type": "histogram2d"
           }
          ],
          "histogram2dcontour": [
           {
            "colorbar": {
             "outlinewidth": 0,
             "ticks": ""
            },
            "colorscale": [
             [
              0,
              "#0d0887"
             ],
             [
              0.1111111111111111,
              "#46039f"
             ],
             [
              0.2222222222222222,
              "#7201a8"
             ],
             [
              0.3333333333333333,
              "#9c179e"
             ],
             [
              0.4444444444444444,
              "#bd3786"
             ],
             [
              0.5555555555555556,
              "#d8576b"
             ],
             [
              0.6666666666666666,
              "#ed7953"
             ],
             [
              0.7777777777777778,
              "#fb9f3a"
             ],
             [
              0.8888888888888888,
              "#fdca26"
             ],
             [
              1,
              "#f0f921"
             ]
            ],
            "type": "histogram2dcontour"
           }
          ],
          "mesh3d": [
           {
            "colorbar": {
             "outlinewidth": 0,
             "ticks": ""
            },
            "type": "mesh3d"
           }
          ],
          "parcoords": [
           {
            "line": {
             "colorbar": {
              "outlinewidth": 0,
              "ticks": ""
             }
            },
            "type": "parcoords"
           }
          ],
          "pie": [
           {
            "automargin": true,
            "type": "pie"
           }
          ],
          "scatter": [
           {
            "marker": {
             "colorbar": {
              "outlinewidth": 0,
              "ticks": ""
             }
            },
            "type": "scatter"
           }
          ],
          "scatter3d": [
           {
            "line": {
             "colorbar": {
              "outlinewidth": 0,
              "ticks": ""
             }
            },
            "marker": {
             "colorbar": {
              "outlinewidth": 0,
              "ticks": ""
             }
            },
            "type": "scatter3d"
           }
          ],
          "scattercarpet": [
           {
            "marker": {
             "colorbar": {
              "outlinewidth": 0,
              "ticks": ""
             }
            },
            "type": "scattercarpet"
           }
          ],
          "scattergeo": [
           {
            "marker": {
             "colorbar": {
              "outlinewidth": 0,
              "ticks": ""
             }
            },
            "type": "scattergeo"
           }
          ],
          "scattergl": [
           {
            "marker": {
             "colorbar": {
              "outlinewidth": 0,
              "ticks": ""
             }
            },
            "type": "scattergl"
           }
          ],
          "scattermapbox": [
           {
            "marker": {
             "colorbar": {
              "outlinewidth": 0,
              "ticks": ""
             }
            },
            "type": "scattermapbox"
           }
          ],
          "scatterpolar": [
           {
            "marker": {
             "colorbar": {
              "outlinewidth": 0,
              "ticks": ""
             }
            },
            "type": "scatterpolar"
           }
          ],
          "scatterpolargl": [
           {
            "marker": {
             "colorbar": {
              "outlinewidth": 0,
              "ticks": ""
             }
            },
            "type": "scatterpolargl"
           }
          ],
          "scatterternary": [
           {
            "marker": {
             "colorbar": {
              "outlinewidth": 0,
              "ticks": ""
             }
            },
            "type": "scatterternary"
           }
          ],
          "surface": [
           {
            "colorbar": {
             "outlinewidth": 0,
             "ticks": ""
            },
            "colorscale": [
             [
              0,
              "#0d0887"
             ],
             [
              0.1111111111111111,
              "#46039f"
             ],
             [
              0.2222222222222222,
              "#7201a8"
             ],
             [
              0.3333333333333333,
              "#9c179e"
             ],
             [
              0.4444444444444444,
              "#bd3786"
             ],
             [
              0.5555555555555556,
              "#d8576b"
             ],
             [
              0.6666666666666666,
              "#ed7953"
             ],
             [
              0.7777777777777778,
              "#fb9f3a"
             ],
             [
              0.8888888888888888,
              "#fdca26"
             ],
             [
              1,
              "#f0f921"
             ]
            ],
            "type": "surface"
           }
          ],
          "table": [
           {
            "cells": {
             "fill": {
              "color": "#EBF0F8"
             },
             "line": {
              "color": "white"
             }
            },
            "header": {
             "fill": {
              "color": "#C8D4E3"
             },
             "line": {
              "color": "white"
             }
            },
            "type": "table"
           }
          ]
         },
         "layout": {
          "annotationdefaults": {
           "arrowcolor": "#2a3f5f",
           "arrowhead": 0,
           "arrowwidth": 1
          },
          "coloraxis": {
           "colorbar": {
            "outlinewidth": 0,
            "ticks": ""
           }
          },
          "colorscale": {
           "diverging": [
            [
             0,
             "#8e0152"
            ],
            [
             0.1,
             "#c51b7d"
            ],
            [
             0.2,
             "#de77ae"
            ],
            [
             0.3,
             "#f1b6da"
            ],
            [
             0.4,
             "#fde0ef"
            ],
            [
             0.5,
             "#f7f7f7"
            ],
            [
             0.6,
             "#e6f5d0"
            ],
            [
             0.7,
             "#b8e186"
            ],
            [
             0.8,
             "#7fbc41"
            ],
            [
             0.9,
             "#4d9221"
            ],
            [
             1,
             "#276419"
            ]
           ],
           "sequential": [
            [
             0,
             "#0d0887"
            ],
            [
             0.1111111111111111,
             "#46039f"
            ],
            [
             0.2222222222222222,
             "#7201a8"
            ],
            [
             0.3333333333333333,
             "#9c179e"
            ],
            [
             0.4444444444444444,
             "#bd3786"
            ],
            [
             0.5555555555555556,
             "#d8576b"
            ],
            [
             0.6666666666666666,
             "#ed7953"
            ],
            [
             0.7777777777777778,
             "#fb9f3a"
            ],
            [
             0.8888888888888888,
             "#fdca26"
            ],
            [
             1,
             "#f0f921"
            ]
           ],
           "sequentialminus": [
            [
             0,
             "#0d0887"
            ],
            [
             0.1111111111111111,
             "#46039f"
            ],
            [
             0.2222222222222222,
             "#7201a8"
            ],
            [
             0.3333333333333333,
             "#9c179e"
            ],
            [
             0.4444444444444444,
             "#bd3786"
            ],
            [
             0.5555555555555556,
             "#d8576b"
            ],
            [
             0.6666666666666666,
             "#ed7953"
            ],
            [
             0.7777777777777778,
             "#fb9f3a"
            ],
            [
             0.8888888888888888,
             "#fdca26"
            ],
            [
             1,
             "#f0f921"
            ]
           ]
          },
          "colorway": [
           "#636efa",
           "#EF553B",
           "#00cc96",
           "#ab63fa",
           "#FFA15A",
           "#19d3f3",
           "#FF6692",
           "#B6E880",
           "#FF97FF",
           "#FECB52"
          ],
          "font": {
           "color": "#2a3f5f"
          },
          "geo": {
           "bgcolor": "white",
           "lakecolor": "white",
           "landcolor": "#E5ECF6",
           "showlakes": true,
           "showland": true,
           "subunitcolor": "white"
          },
          "hoverlabel": {
           "align": "left"
          },
          "hovermode": "closest",
          "mapbox": {
           "style": "light"
          },
          "paper_bgcolor": "white",
          "plot_bgcolor": "#E5ECF6",
          "polar": {
           "angularaxis": {
            "gridcolor": "white",
            "linecolor": "white",
            "ticks": ""
           },
           "bgcolor": "#E5ECF6",
           "radialaxis": {
            "gridcolor": "white",
            "linecolor": "white",
            "ticks": ""
           }
          },
          "scene": {
           "xaxis": {
            "backgroundcolor": "#E5ECF6",
            "gridcolor": "white",
            "gridwidth": 2,
            "linecolor": "white",
            "showbackground": true,
            "ticks": "",
            "zerolinecolor": "white"
           },
           "yaxis": {
            "backgroundcolor": "#E5ECF6",
            "gridcolor": "white",
            "gridwidth": 2,
            "linecolor": "white",
            "showbackground": true,
            "ticks": "",
            "zerolinecolor": "white"
           },
           "zaxis": {
            "backgroundcolor": "#E5ECF6",
            "gridcolor": "white",
            "gridwidth": 2,
            "linecolor": "white",
            "showbackground": true,
            "ticks": "",
            "zerolinecolor": "white"
           }
          },
          "shapedefaults": {
           "line": {
            "color": "#2a3f5f"
           }
          },
          "ternary": {
           "aaxis": {
            "gridcolor": "white",
            "linecolor": "white",
            "ticks": ""
           },
           "baxis": {
            "gridcolor": "white",
            "linecolor": "white",
            "ticks": ""
           },
           "bgcolor": "#E5ECF6",
           "caxis": {
            "gridcolor": "white",
            "linecolor": "white",
            "ticks": ""
           }
          },
          "title": {
           "x": 0.05
          },
          "xaxis": {
           "automargin": true,
           "gridcolor": "white",
           "linecolor": "white",
           "ticks": "",
           "title": {
            "standoff": 15
           },
           "zerolinecolor": "white",
           "zerolinewidth": 2
          },
          "yaxis": {
           "automargin": true,
           "gridcolor": "white",
           "linecolor": "white",
           "ticks": "",
           "title": {
            "standoff": 15
           },
           "zerolinecolor": "white",
           "zerolinewidth": 2
          }
         }
        },
        "width": 1400,
        "xaxis": {
         "anchor": "y",
         "domain": [
          0,
          1
         ],
         "title": {
          "text": ""
         }
        },
        "yaxis": {
         "anchor": "x",
         "domain": [
          0,
          1
         ],
         "title": {
          "text": ""
         }
        }
       }
      }
     },
     "metadata": {}
    }
   ],
   "source": [
    "posts_and_comments_csv = 'data/{}/likes_and_reactions/posts_and_comments.csv'.format(FACEBOOK_FOLDER)\n",
    "p_and_c_df = pd.read_csv(posts_and_comments_csv)\n",
    "\n",
    "counts_s = p_and_c_df['recipient'].value_counts()\n",
    "counts_df = pd.DataFrame({'recipient':counts_s.index, 'count':counts_s.values})[0:100]\n",
    "\n",
    "fig = px.bar(counts_df,x='recipient',y='count',color='count',width=1400,height=800)\n",
    "fig.update_layout(xaxis={'title':''})\n",
    "fig.update_layout(yaxis={'title':''})\n",
    "fig.show()"
   ]
  },
  {
   "cell_type": "code",
   "execution_count": null,
   "metadata": {},
   "outputs": [],
   "source": []
  }
 ],
 "metadata": {
  "language_info": {
   "codemirror_mode": {
    "name": "ipython",
    "version": 3
   },
   "file_extension": ".py",
   "mimetype": "text/x-python",
   "name": "python",
   "nbconvert_exporter": "python",
   "pygments_lexer": "ipython3",
   "version": "3.6.9-final"
  },
  "orig_nbformat": 2,
  "kernelspec": {
   "name": "python36964bitvenvvenva871d53600814b51b81e1f3ca82b98ab",
   "display_name": "Python 3.6.9 64-bit ('venv': venv)"
  }
 },
 "nbformat": 4,
 "nbformat_minor": 2
}