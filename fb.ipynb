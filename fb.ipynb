{
 "cells": [
  {
   "cell_type": "markdown",
   "metadata": {},
   "source": [
    "# Facebook Data"
   ]
  },
  {
   "cell_type": "code",
   "execution_count": 124,
   "metadata": {},
   "outputs": [],
   "source": [
    "import pandas as pd\n",
    "import json\n",
    "import os\n",
    "import plotly.express as px\n",
    "import plotly.graph_objects as go\n",
    "\n",
    "pandas.options.display.max_rows = None\n",
    "\n"
   ]
  },
  {
   "cell_type": "markdown",
   "metadata": {},
   "source": [
    "## Off Facebook Data\n",
    "\n",
    "PreReq: Convert To CSV using scripts/off_facebook_to_csv.py"
   ]
  },
  {
   "cell_type": "markdown",
   "metadata": {},
   "source": [
    "\n",
    "### Bar Chart of Recorded Visits"
   ]
  },
  {
   "cell_type": "code",
   "execution_count": 125,
   "metadata": {
    "tags": [
     "outputPrepend"
    ]
   },
   "outputs": [
    {
     "output_type": "display_data",
     "data": {
      "application/vnd.plotly.v1+json": {
       "config": {
        "plotlyServerURL": "https://plot.ly"
       },
       "data": [
        {
         "alignmentgroup": "True",
         "hovertemplate": "name=%{x}<br>count=%{y}<extra></extra>",
         "legendgroup": "gitlab.com",
         "marker": {
          "color": "#636efa"
         },
         "name": "gitlab.com",
         "offsetgroup": "gitlab.com",
         "orientation": "v",
         "showlegend": true,
         "textposition": "auto",
         "type": "bar",
         "x": [
          "gitlab.com"
         ],
         "xaxis": "x",
         "y": [
          59
         ],
         "yaxis": "y"
        },
        {
         "alignmentgroup": "True",
         "hovertemplate": "name=%{x}<br>count=%{y}<extra></extra>",
         "legendgroup": "docker.com",
         "marker": {
          "color": "#EF553B"
         },
         "name": "docker.com",
         "offsetgroup": "docker.com",
         "orientation": "v",
         "showlegend": true,
         "textposition": "auto",
         "type": "bar",
         "x": [
          "docker.com"
         ],
         "xaxis": "x",
         "y": [
          56
         ],
         "yaxis": "y"
        },
        {
         "alignmentgroup": "True",
         "hovertemplate": "name=%{x}<br>count=%{y}<extra></extra>",
         "legendgroup": "TikTok - Make Your Day",
         "marker": {
          "color": "#00cc96"
         },
         "name": "TikTok - Make Your Day",
         "offsetgroup": "TikTok - Make Your Day",
         "orientation": "v",
         "showlegend": true,
         "textposition": "auto",
         "type": "bar",
         "x": [
          "TikTok - Make Your Day"
         ],
         "xaxis": "x",
         "y": [
          51
         ],
         "yaxis": "y"
        },
        {
         "alignmentgroup": "True",
         "hovertemplate": "name=%{x}<br>count=%{y}<extra></extra>",
         "legendgroup": "elastic.co",
         "marker": {
          "color": "#ab63fa"
         },
         "name": "elastic.co",
         "offsetgroup": "elastic.co",
         "orientation": "v",
         "showlegend": true,
         "textposition": "auto",
         "type": "bar",
         "x": [
          "elastic.co"
         ],
         "xaxis": "x",
         "y": [
          43
         ],
         "yaxis": "y"
        },
        {
         "alignmentgroup": "True",
         "hovertemplate": "name=%{x}<br>count=%{y}<extra></extra>",
         "legendgroup": "TikTok - Real Short Videos",
         "marker": {
          "color": "#FFA15A"
         },
         "name": "TikTok - Real Short Videos",
         "offsetgroup": "TikTok - Real Short Videos",
         "orientation": "v",
         "showlegend": true,
         "textposition": "auto",
         "type": "bar",
         "x": [
          "TikTok - Real Short Videos"
         ],
         "xaxis": "x",
         "y": [
          42
         ],
         "yaxis": "y"
        },
        {
         "alignmentgroup": "True",
         "hovertemplate": "name=%{x}<br>count=%{y}<extra></extra>",
         "legendgroup": "Venmo",
         "marker": {
          "color": "#19d3f3"
         },
         "name": "Venmo",
         "offsetgroup": "Venmo",
         "orientation": "v",
         "showlegend": true,
         "textposition": "auto",
         "type": "bar",
         "x": [
          "Venmo"
         ],
         "xaxis": "x",
         "y": [
          30
         ],
         "yaxis": "y"
        },
        {
         "alignmentgroup": "True",
         "hovertemplate": "name=%{x}<br>count=%{y}<extra></extra>",
         "legendgroup": "digitalocean.com",
         "marker": {
          "color": "#FF6692"
         },
         "name": "digitalocean.com",
         "offsetgroup": "digitalocean.com",
         "orientation": "v",
         "showlegend": true,
         "textposition": "auto",
         "type": "bar",
         "x": [
          "digitalocean.com"
         ],
         "xaxis": "x",
         "y": [
          29
         ],
         "yaxis": "y"
        },
        {
         "alignmentgroup": "True",
         "hovertemplate": "name=%{x}<br>count=%{y}<extra></extra>",
         "legendgroup": "lmiutil.com",
         "marker": {
          "color": "#B6E880"
         },
         "name": "lmiutil.com",
         "offsetgroup": "lmiutil.com",
         "orientation": "v",
         "showlegend": true,
         "textposition": "auto",
         "type": "bar",
         "x": [
          "lmiutil.com"
         ],
         "xaxis": "x",
         "y": [
          22
         ],
         "yaxis": "y"
        },
        {
         "alignmentgroup": "True",
         "hovertemplate": "name=%{x}<br>count=%{y}<extra></extra>",
         "legendgroup": "cnn.com",
         "marker": {
          "color": "#FF97FF"
         },
         "name": "cnn.com",
         "offsetgroup": "cnn.com",
         "orientation": "v",
         "showlegend": true,
         "textposition": "auto",
         "type": "bar",
         "x": [
          "cnn.com"
         ],
         "xaxis": "x",
         "y": [
          13
         ],
         "yaxis": "y"
        },
        {
         "alignmentgroup": "True",
         "hovertemplate": "name=%{x}<br>count=%{y}<extra></extra>",
         "legendgroup": "SoundCloud - Music & Audio",
         "marker": {
          "color": "#FECB52"
         },
         "name": "SoundCloud - Music & Audio",
         "offsetgroup": "SoundCloud - Music & Audio",
         "orientation": "v",
         "showlegend": true,
         "textposition": "auto",
         "type": "bar",
         "x": [
          "SoundCloud - Music & Audio"
         ],
         "xaxis": "x",
         "y": [
          13
         ],
         "yaxis": "y"
        },
        {
         "alignmentgroup": "True",
         "hovertemplate": "name=%{x}<br>count=%{y}<extra></extra>",
         "legendgroup": "zillow.com",
         "marker": {
          "color": "#636efa"
         },
         "name": "zillow.com",
         "offsetgroup": "zillow.com",
         "orientation": "v",
         "showlegend": true,
         "textposition": "auto",
         "type": "bar",
         "x": [
          "zillow.com"
         ],
         "xaxis": "x",
         "y": [
          12
         ],
         "yaxis": "y"
        },
        {
         "alignmentgroup": "True",
         "hovertemplate": "name=%{x}<br>count=%{y}<extra></extra>",
         "legendgroup": "newegg.com",
         "marker": {
          "color": "#EF553B"
         },
         "name": "newegg.com",
         "offsetgroup": "newegg.com",
         "orientation": "v",
         "showlegend": true,
         "textposition": "auto",
         "type": "bar",
         "x": [
          "newegg.com"
         ],
         "xaxis": "x",
         "y": [
          10
         ],
         "yaxis": "y"
        },
        {
         "alignmentgroup": "True",
         "hovertemplate": "name=%{x}<br>count=%{y}<extra></extra>",
         "legendgroup": "howtogeek.com",
         "marker": {
          "color": "#00cc96"
         },
         "name": "howtogeek.com",
         "offsetgroup": "howtogeek.com",
         "orientation": "v",
         "showlegend": true,
         "textposition": "auto",
         "type": "bar",
         "x": [
          "howtogeek.com"
         ],
         "xaxis": "x",
         "y": [
          10
         ],
         "yaxis": "y"
        },
        {
         "alignmentgroup": "True",
         "hovertemplate": "name=%{x}<br>count=%{y}<extra></extra>",
         "legendgroup": "Venmo: Send & Receive Money",
         "marker": {
          "color": "#ab63fa"
         },
         "name": "Venmo: Send & Receive Money",
         "offsetgroup": "Venmo: Send & Receive Money",
         "orientation": "v",
         "showlegend": true,
         "textposition": "auto",
         "type": "bar",
         "x": [
          "Venmo: Send & Receive Money"
         ],
         "xaxis": "x",
         "y": [
          10
         ],
         "yaxis": "y"
        },
        {
         "alignmentgroup": "True",
         "hovertemplate": "name=%{x}<br>count=%{y}<extra></extra>",
         "legendgroup": "Sterling Jewelers Inc.",
         "marker": {
          "color": "#FFA15A"
         },
         "name": "Sterling Jewelers Inc.",
         "offsetgroup": "Sterling Jewelers Inc.",
         "orientation": "v",
         "showlegend": true,
         "textposition": "auto",
         "type": "bar",
         "x": [
          "Sterling Jewelers Inc."
         ],
         "xaxis": "x",
         "y": [
          10
         ],
         "yaxis": "y"
        },
        {
         "alignmentgroup": "True",
         "hovertemplate": "name=%{x}<br>count=%{y}<extra></extra>",
         "legendgroup": "alot.com",
         "marker": {
          "color": "#19d3f3"
         },
         "name": "alot.com",
         "offsetgroup": "alot.com",
         "orientation": "v",
         "showlegend": true,
         "textposition": "auto",
         "type": "bar",
         "x": [
          "alot.com"
         ],
         "xaxis": "x",
         "y": [
          8
         ],
         "yaxis": "y"
        },
        {
         "alignmentgroup": "True",
         "hovertemplate": "name=%{x}<br>count=%{y}<extra></extra>",
         "legendgroup": "dailyfeed.co.uk",
         "marker": {
          "color": "#FF6692"
         },
         "name": "dailyfeed.co.uk",
         "offsetgroup": "dailyfeed.co.uk",
         "orientation": "v",
         "showlegend": true,
         "textposition": "auto",
         "type": "bar",
         "x": [
          "dailyfeed.co.uk"
         ],
         "xaxis": "x",
         "y": [
          8
         ],
         "yaxis": "y"
        },
        {
         "alignmentgroup": "True",
         "hovertemplate": "name=%{x}<br>count=%{y}<extra></extra>",
         "legendgroup": "forbes.com",
         "marker": {
          "color": "#B6E880"
         },
         "name": "forbes.com",
         "offsetgroup": "forbes.com",
         "orientation": "v",
         "showlegend": true,
         "textposition": "auto",
         "type": "bar",
         "x": [
          "forbes.com"
         ],
         "xaxis": "x",
         "y": [
          8
         ],
         "yaxis": "y"
        },
        {
         "alignmentgroup": "True",
         "hovertemplate": "name=%{x}<br>count=%{y}<extra></extra>",
         "legendgroup": "bose.com",
         "marker": {
          "color": "#FF97FF"
         },
         "name": "bose.com",
         "offsetgroup": "bose.com",
         "orientation": "v",
         "showlegend": true,
         "textposition": "auto",
         "type": "bar",
         "x": [
          "bose.com"
         ],
         "xaxis": "x",
         "y": [
          8
         ],
         "yaxis": "y"
        },
        {
         "alignmentgroup": "True",
         "hovertemplate": "name=%{x}<br>count=%{y}<extra></extra>",
         "legendgroup": "gatech.edu",
         "marker": {
          "color": "#FECB52"
         },
         "name": "gatech.edu",
         "offsetgroup": "gatech.edu",
         "orientation": "v",
         "showlegend": true,
         "textposition": "auto",
         "type": "bar",
         "x": [
          "gatech.edu"
         ],
         "xaxis": "x",
         "y": [
          8
         ],
         "yaxis": "y"
        },
        {
         "alignmentgroup": "True",
         "hovertemplate": "name=%{x}<br>count=%{y}<extra></extra>",
         "legendgroup": "pluralsight.com",
         "marker": {
          "color": "#636efa"
         },
         "name": "pluralsight.com",
         "offsetgroup": "pluralsight.com",
         "orientation": "v",
         "showlegend": true,
         "textposition": "auto",
         "type": "bar",
         "x": [
          "pluralsight.com"
         ],
         "xaxis": "x",
         "y": [
          7
         ],
         "yaxis": "y"
        },
        {
         "alignmentgroup": "True",
         "hovertemplate": "name=%{x}<br>count=%{y}<extra></extra>",
         "legendgroup": "intuit.com",
         "marker": {
          "color": "#EF553B"
         },
         "name": "intuit.com",
         "offsetgroup": "intuit.com",
         "orientation": "v",
         "showlegend": true,
         "textposition": "auto",
         "type": "bar",
         "x": [
          "intuit.com"
         ],
         "xaxis": "x",
         "y": [
          7
         ],
         "yaxis": "y"
        },
        {
         "alignmentgroup": "True",
         "hovertemplate": "name=%{x}<br>count=%{y}<extra></extra>",
         "legendgroup": "tripadvisor.com",
         "marker": {
          "color": "#00cc96"
         },
         "name": "tripadvisor.com",
         "offsetgroup": "tripadvisor.com",
         "orientation": "v",
         "showlegend": true,
         "textposition": "auto",
         "type": "bar",
         "x": [
          "tripadvisor.com"
         ],
         "xaxis": "x",
         "y": [
          7
         ],
         "yaxis": "y"
        },
        {
         "alignmentgroup": "True",
         "hovertemplate": "name=%{x}<br>count=%{y}<extra></extra>",
         "legendgroup": "towson.edu",
         "marker": {
          "color": "#ab63fa"
         },
         "name": "towson.edu",
         "offsetgroup": "towson.edu",
         "orientation": "v",
         "showlegend": true,
         "textposition": "auto",
         "type": "bar",
         "x": [
          "towson.edu"
         ],
         "xaxis": "x",
         "y": [
          7
         ],
         "yaxis": "y"
        },
        {
         "alignmentgroup": "True",
         "hovertemplate": "name=%{x}<br>count=%{y}<extra></extra>",
         "legendgroup": "scrumalliance.org",
         "marker": {
          "color": "#FFA15A"
         },
         "name": "scrumalliance.org",
         "offsetgroup": "scrumalliance.org",
         "orientation": "v",
         "showlegend": true,
         "textposition": "auto",
         "type": "bar",
         "x": [
          "scrumalliance.org"
         ],
         "xaxis": "x",
         "y": [
          7
         ],
         "yaxis": "y"
        },
        {
         "alignmentgroup": "True",
         "hovertemplate": "name=%{x}<br>count=%{y}<extra></extra>",
         "legendgroup": "unanet.com",
         "marker": {
          "color": "#19d3f3"
         },
         "name": "unanet.com",
         "offsetgroup": "unanet.com",
         "orientation": "v",
         "showlegend": true,
         "textposition": "auto",
         "type": "bar",
         "x": [
          "unanet.com"
         ],
         "xaxis": "x",
         "y": [
          6
         ],
         "yaxis": "y"
        },
        {
         "alignmentgroup": "True",
         "hovertemplate": "name=%{x}<br>count=%{y}<extra></extra>",
         "legendgroup": "lifehacker.com",
         "marker": {
          "color": "#FF6692"
         },
         "name": "lifehacker.com",
         "offsetgroup": "lifehacker.com",
         "orientation": "v",
         "showlegend": true,
         "textposition": "auto",
         "type": "bar",
         "x": [
          "lifehacker.com"
         ],
         "xaxis": "x",
         "y": [
          6
         ],
         "yaxis": "y"
        },
        {
         "alignmentgroup": "True",
         "hovertemplate": "name=%{x}<br>count=%{y}<extra></extra>",
         "legendgroup": "Disney Streaming Services",
         "marker": {
          "color": "#B6E880"
         },
         "name": "Disney Streaming Services",
         "offsetgroup": "Disney Streaming Services",
         "orientation": "v",
         "showlegend": true,
         "textposition": "auto",
         "type": "bar",
         "x": [
          "Disney Streaming Services"
         ],
         "xaxis": "x",
         "y": [
          6
         ],
         "yaxis": "y"
        },
        {
         "alignmentgroup": "True",
         "hovertemplate": "name=%{x}<br>count=%{y}<extra></extra>",
         "legendgroup": "nbcnews.com",
         "marker": {
          "color": "#FF97FF"
         },
         "name": "nbcnews.com",
         "offsetgroup": "nbcnews.com",
         "orientation": "v",
         "showlegend": true,
         "textposition": "auto",
         "type": "bar",
         "x": [
          "nbcnews.com"
         ],
         "xaxis": "x",
         "y": [
          6
         ],
         "yaxis": "y"
        },
        {
         "alignmentgroup": "True",
         "hovertemplate": "name=%{x}<br>count=%{y}<extra></extra>",
         "legendgroup": "Amazon",
         "marker": {
          "color": "#FECB52"
         },
         "name": "Amazon",
         "offsetgroup": "Amazon",
         "orientation": "v",
         "showlegend": true,
         "textposition": "auto",
         "type": "bar",
         "x": [
          "Amazon"
         ],
         "xaxis": "x",
         "y": [
          6
         ],
         "yaxis": "y"
        },
        {
         "alignmentgroup": "True",
         "hovertemplate": "name=%{x}<br>count=%{y}<extra></extra>",
         "legendgroup": "safariland.com",
         "marker": {
          "color": "#636efa"
         },
         "name": "safariland.com",
         "offsetgroup": "safariland.com",
         "orientation": "v",
         "showlegend": true,
         "textposition": "auto",
         "type": "bar",
         "x": [
          "safariland.com"
         ],
         "xaxis": "x",
         "y": [
          6
         ],
         "yaxis": "y"
        },
        {
         "alignmentgroup": "True",
         "hovertemplate": "name=%{x}<br>count=%{y}<extra></extra>",
         "legendgroup": "liquidweb.com",
         "marker": {
          "color": "#EF553B"
         },
         "name": "liquidweb.com",
         "offsetgroup": "liquidweb.com",
         "orientation": "v",
         "showlegend": true,
         "textposition": "auto",
         "type": "bar",
         "x": [
          "liquidweb.com"
         ],
         "xaxis": "x",
         "y": [
          6
         ],
         "yaxis": "y"
        },
        {
         "alignmentgroup": "True",
         "hovertemplate": "name=%{x}<br>count=%{y}<extra></extra>",
         "legendgroup": "atlantablackstar.com",
         "marker": {
          "color": "#00cc96"
         },
         "name": "atlantablackstar.com",
         "offsetgroup": "atlantablackstar.com",
         "orientation": "v",
         "showlegend": true,
         "textposition": "auto",
         "type": "bar",
         "x": [
          "atlantablackstar.com"
         ],
         "xaxis": "x",
         "y": [
          6
         ],
         "yaxis": "y"
        },
        {
         "alignmentgroup": "True",
         "hovertemplate": "name=%{x}<br>count=%{y}<extra></extra>",
         "legendgroup": "logrocket.com",
         "marker": {
          "color": "#ab63fa"
         },
         "name": "logrocket.com",
         "offsetgroup": "logrocket.com",
         "orientation": "v",
         "showlegend": true,
         "textposition": "auto",
         "type": "bar",
         "x": [
          "logrocket.com"
         ],
         "xaxis": "x",
         "y": [
          6
         ],
         "yaxis": "y"
        },
        {
         "alignmentgroup": "True",
         "hovertemplate": "name=%{x}<br>count=%{y}<extra></extra>",
         "legendgroup": "Discover Financial Services",
         "marker": {
          "color": "#FFA15A"
         },
         "name": "Discover Financial Services",
         "offsetgroup": "Discover Financial Services",
         "orientation": "v",
         "showlegend": true,
         "textposition": "auto",
         "type": "bar",
         "x": [
          "Discover Financial Services"
         ],
         "xaxis": "x",
         "y": [
          5
         ],
         "yaxis": "y"
        },
        {
         "alignmentgroup": "True",
         "hovertemplate": "name=%{x}<br>count=%{y}<extra></extra>",
         "legendgroup": "sciencefocus.com",
         "marker": {
          "color": "#19d3f3"
         },
         "name": "sciencefocus.com",
         "offsetgroup": "sciencefocus.com",
         "orientation": "v",
         "showlegend": true,
         "textposition": "auto",
         "type": "bar",
         "x": [
          "sciencefocus.com"
         ],
         "xaxis": "x",
         "y": [
          5
         ],
         "yaxis": "y"
        },
        {
         "alignmentgroup": "True",
         "hovertemplate": "name=%{x}<br>count=%{y}<extra></extra>",
         "legendgroup": "medicinenet.com",
         "marker": {
          "color": "#FF6692"
         },
         "name": "medicinenet.com",
         "offsetgroup": "medicinenet.com",
         "orientation": "v",
         "showlegend": true,
         "textposition": "auto",
         "type": "bar",
         "x": [
          "medicinenet.com"
         ],
         "xaxis": "x",
         "y": [
          5
         ],
         "yaxis": "y"
        },
        {
         "alignmentgroup": "True",
         "hovertemplate": "name=%{x}<br>count=%{y}<extra></extra>",
         "legendgroup": "stitchfix.com",
         "marker": {
          "color": "#B6E880"
         },
         "name": "stitchfix.com",
         "offsetgroup": "stitchfix.com",
         "orientation": "v",
         "showlegend": true,
         "textposition": "auto",
         "type": "bar",
         "x": [
          "stitchfix.com"
         ],
         "xaxis": "x",
         "y": [
          5
         ],
         "yaxis": "y"
        },
        {
         "alignmentgroup": "True",
         "hovertemplate": "name=%{x}<br>count=%{y}<extra></extra>",
         "legendgroup": "baeldung.com",
         "marker": {
          "color": "#FF97FF"
         },
         "name": "baeldung.com",
         "offsetgroup": "baeldung.com",
         "orientation": "v",
         "showlegend": true,
         "textposition": "auto",
         "type": "bar",
         "x": [
          "baeldung.com"
         ],
         "xaxis": "x",
         "y": [
          5
         ],
         "yaxis": "y"
        },
        {
         "alignmentgroup": "True",
         "hovertemplate": "name=%{x}<br>count=%{y}<extra></extra>",
         "legendgroup": "balena.io",
         "marker": {
          "color": "#FECB52"
         },
         "name": "balena.io",
         "offsetgroup": "balena.io",
         "orientation": "v",
         "showlegend": true,
         "textposition": "auto",
         "type": "bar",
         "x": [
          "balena.io"
         ],
         "xaxis": "x",
         "y": [
          4
         ],
         "yaxis": "y"
        },
        {
         "alignmentgroup": "True",
         "hovertemplate": "name=%{x}<br>count=%{y}<extra></extra>",
         "legendgroup": "networkworld.com",
         "marker": {
          "color": "#636efa"
         },
         "name": "networkworld.com",
         "offsetgroup": "networkworld.com",
         "orientation": "v",
         "showlegend": true,
         "textposition": "auto",
         "type": "bar",
         "x": [
          "networkworld.com"
         ],
         "xaxis": "x",
         "y": [
          4
         ],
         "yaxis": "y"
        },
        {
         "alignmentgroup": "True",
         "hovertemplate": "name=%{x}<br>count=%{y}<extra></extra>",
         "legendgroup": "empower-retirement.com",
         "marker": {
          "color": "#EF553B"
         },
         "name": "empower-retirement.com",
         "offsetgroup": "empower-retirement.com",
         "orientation": "v",
         "showlegend": true,
         "textposition": "auto",
         "type": "bar",
         "x": [
          "empower-retirement.com"
         ],
         "xaxis": "x",
         "y": [
          4
         ],
         "yaxis": "y"
        },
        {
         "alignmentgroup": "True",
         "hovertemplate": "name=%{x}<br>count=%{y}<extra></extra>",
         "legendgroup": "businessinsider.com",
         "marker": {
          "color": "#00cc96"
         },
         "name": "businessinsider.com",
         "offsetgroup": "businessinsider.com",
         "orientation": "v",
         "showlegend": true,
         "textposition": "auto",
         "type": "bar",
         "x": [
          "businessinsider.com"
         ],
         "xaxis": "x",
         "y": [
          4
         ],
         "yaxis": "y"
        },
        {
         "alignmentgroup": "True",
         "hovertemplate": "name=%{x}<br>count=%{y}<extra></extra>",
         "legendgroup": "buzzfeed.com",
         "marker": {
          "color": "#ab63fa"
         },
         "name": "buzzfeed.com",
         "offsetgroup": "buzzfeed.com",
         "orientation": "v",
         "showlegend": true,
         "textposition": "auto",
         "type": "bar",
         "x": [
          "buzzfeed.com"
         ],
         "xaxis": "x",
         "y": [
          4
         ],
         "yaxis": "y"
        },
        {
         "alignmentgroup": "True",
         "hovertemplate": "name=%{x}<br>count=%{y}<extra></extra>",
         "legendgroup": "Invstr: Play. Learn. Invest.",
         "marker": {
          "color": "#FFA15A"
         },
         "name": "Invstr: Play. Learn. Invest.",
         "offsetgroup": "Invstr: Play. Learn. Invest.",
         "orientation": "v",
         "showlegend": true,
         "textposition": "auto",
         "type": "bar",
         "x": [
          "Invstr: Play. Learn. Invest."
         ],
         "xaxis": "x",
         "y": [
          4
         ],
         "yaxis": "y"
        },
        {
         "alignmentgroup": "True",
         "hovertemplate": "name=%{x}<br>count=%{y}<extra></extra>",
         "legendgroup": "microcenter.com",
         "marker": {
          "color": "#19d3f3"
         },
         "name": "microcenter.com",
         "offsetgroup": "microcenter.com",
         "orientation": "v",
         "showlegend": true,
         "textposition": "auto",
         "type": "bar",
         "x": [
          "microcenter.com"
         ],
         "xaxis": "x",
         "y": [
          4
         ],
         "yaxis": "y"
        },
        {
         "alignmentgroup": "True",
         "hovertemplate": "name=%{x}<br>count=%{y}<extra></extra>",
         "legendgroup": "harvard.edu",
         "marker": {
          "color": "#FF6692"
         },
         "name": "harvard.edu",
         "offsetgroup": "harvard.edu",
         "orientation": "v",
         "showlegend": true,
         "textposition": "auto",
         "type": "bar",
         "x": [
          "harvard.edu"
         ],
         "xaxis": "x",
         "y": [
          4
         ],
         "yaxis": "y"
        },
        {
         "alignmentgroup": "True",
         "hovertemplate": "name=%{x}<br>count=%{y}<extra></extra>",
         "legendgroup": "ticketmaster.com",
         "marker": {
          "color": "#B6E880"
         },
         "name": "ticketmaster.com",
         "offsetgroup": "ticketmaster.com",
         "orientation": "v",
         "showlegend": true,
         "textposition": "auto",
         "type": "bar",
         "x": [
          "ticketmaster.com"
         ],
         "xaxis": "x",
         "y": [
          4
         ],
         "yaxis": "y"
        },
        {
         "alignmentgroup": "True",
         "hovertemplate": "name=%{x}<br>count=%{y}<extra></extra>",
         "legendgroup": "gradifi.com",
         "marker": {
          "color": "#FF97FF"
         },
         "name": "gradifi.com",
         "offsetgroup": "gradifi.com",
         "orientation": "v",
         "showlegend": true,
         "textposition": "auto",
         "type": "bar",
         "x": [
          "gradifi.com"
         ],
         "xaxis": "x",
         "y": [
          4
         ],
         "yaxis": "y"
        },
        {
         "alignmentgroup": "True",
         "hovertemplate": "name=%{x}<br>count=%{y}<extra></extra>",
         "legendgroup": "seekingalpha.com",
         "marker": {
          "color": "#FECB52"
         },
         "name": "seekingalpha.com",
         "offsetgroup": "seekingalpha.com",
         "orientation": "v",
         "showlegend": true,
         "textposition": "auto",
         "type": "bar",
         "x": [
          "seekingalpha.com"
         ],
         "xaxis": "x",
         "y": [
          4
         ],
         "yaxis": "y"
        },
        {
         "alignmentgroup": "True",
         "hovertemplate": "name=%{x}<br>count=%{y}<extra></extra>",
         "legendgroup": "redhat.com",
         "marker": {
          "color": "#636efa"
         },
         "name": "redhat.com",
         "offsetgroup": "redhat.com",
         "orientation": "v",
         "showlegend": true,
         "textposition": "auto",
         "type": "bar",
         "x": [
          "redhat.com"
         ],
         "xaxis": "x",
         "y": [
          4
         ],
         "yaxis": "y"
        },
        {
         "alignmentgroup": "True",
         "hovertemplate": "name=%{x}<br>count=%{y}<extra></extra>",
         "legendgroup": "baltimoresun.com",
         "marker": {
          "color": "#EF553B"
         },
         "name": "baltimoresun.com",
         "offsetgroup": "baltimoresun.com",
         "orientation": "v",
         "showlegend": true,
         "textposition": "auto",
         "type": "bar",
         "x": [
          "baltimoresun.com"
         ],
         "xaxis": "x",
         "y": [
          4
         ],
         "yaxis": "y"
        },
        {
         "alignmentgroup": "True",
         "hovertemplate": "name=%{x}<br>count=%{y}<extra></extra>",
         "legendgroup": "microsoft.com",
         "marker": {
          "color": "#00cc96"
         },
         "name": "microsoft.com",
         "offsetgroup": "microsoft.com",
         "orientation": "v",
         "showlegend": true,
         "textposition": "auto",
         "type": "bar",
         "x": [
          "microsoft.com"
         ],
         "xaxis": "x",
         "y": [
          4
         ],
         "yaxis": "y"
        },
        {
         "alignmentgroup": "True",
         "hovertemplate": "name=%{x}<br>count=%{y}<extra></extra>",
         "legendgroup": "investors.com",
         "marker": {
          "color": "#ab63fa"
         },
         "name": "investors.com",
         "offsetgroup": "investors.com",
         "orientation": "v",
         "showlegend": true,
         "textposition": "auto",
         "type": "bar",
         "x": [
          "investors.com"
         ],
         "xaxis": "x",
         "y": [
          4
         ],
         "yaxis": "y"
        },
        {
         "alignmentgroup": "True",
         "hovertemplate": "name=%{x}<br>count=%{y}<extra></extra>",
         "legendgroup": "brobible.com",
         "marker": {
          "color": "#FFA15A"
         },
         "name": "brobible.com",
         "offsetgroup": "brobible.com",
         "orientation": "v",
         "showlegend": true,
         "textposition": "auto",
         "type": "bar",
         "x": [
          "brobible.com"
         ],
         "xaxis": "x",
         "y": [
          4
         ],
         "yaxis": "y"
        },
        {
         "alignmentgroup": "True",
         "hovertemplate": "name=%{x}<br>count=%{y}<extra></extra>",
         "legendgroup": "Hulu",
         "marker": {
          "color": "#19d3f3"
         },
         "name": "Hulu",
         "offsetgroup": "Hulu",
         "orientation": "v",
         "showlegend": true,
         "textposition": "auto",
         "type": "bar",
         "x": [
          "Hulu"
         ],
         "xaxis": "x",
         "y": [
          4
         ],
         "yaxis": "y"
        },
        {
         "alignmentgroup": "True",
         "hovertemplate": "name=%{x}<br>count=%{y}<extra></extra>",
         "legendgroup": "discover.com",
         "marker": {
          "color": "#FF6692"
         },
         "name": "discover.com",
         "offsetgroup": "discover.com",
         "orientation": "v",
         "showlegend": true,
         "textposition": "auto",
         "type": "bar",
         "x": [
          "discover.com"
         ],
         "xaxis": "x",
         "y": [
          4
         ],
         "yaxis": "y"
        },
        {
         "alignmentgroup": "True",
         "hovertemplate": "name=%{x}<br>count=%{y}<extra></extra>",
         "legendgroup": "pcworld.com",
         "marker": {
          "color": "#B6E880"
         },
         "name": "pcworld.com",
         "offsetgroup": "pcworld.com",
         "orientation": "v",
         "showlegend": true,
         "textposition": "auto",
         "type": "bar",
         "x": [
          "pcworld.com"
         ],
         "xaxis": "x",
         "y": [
          4
         ],
         "yaxis": "y"
        },
        {
         "alignmentgroup": "True",
         "hovertemplate": "name=%{x}<br>count=%{y}<extra></extra>",
         "legendgroup": "northroprealty.com",
         "marker": {
          "color": "#FF97FF"
         },
         "name": "northroprealty.com",
         "offsetgroup": "northroprealty.com",
         "orientation": "v",
         "showlegend": true,
         "textposition": "auto",
         "type": "bar",
         "x": [
          "northroprealty.com"
         ],
         "xaxis": "x",
         "y": [
          3
         ],
         "yaxis": "y"
        },
        {
         "alignmentgroup": "True",
         "hovertemplate": "name=%{x}<br>count=%{y}<extra></extra>",
         "legendgroup": "aljazeera.com",
         "marker": {
          "color": "#FECB52"
         },
         "name": "aljazeera.com",
         "offsetgroup": "aljazeera.com",
         "orientation": "v",
         "showlegend": true,
         "textposition": "auto",
         "type": "bar",
         "x": [
          "aljazeera.com"
         ],
         "xaxis": "x",
         "y": [
          3
         ],
         "yaxis": "y"
        },
        {
         "alignmentgroup": "True",
         "hovertemplate": "name=%{x}<br>count=%{y}<extra></extra>",
         "legendgroup": "cnbc.com",
         "marker": {
          "color": "#636efa"
         },
         "name": "cnbc.com",
         "offsetgroup": "cnbc.com",
         "orientation": "v",
         "showlegend": true,
         "textposition": "auto",
         "type": "bar",
         "x": [
          "cnbc.com"
         ],
         "xaxis": "x",
         "y": [
          3
         ],
         "yaxis": "y"
        },
        {
         "alignmentgroup": "True",
         "hovertemplate": "name=%{x}<br>count=%{y}<extra></extra>",
         "legendgroup": "lastpass.com",
         "marker": {
          "color": "#EF553B"
         },
         "name": "lastpass.com",
         "offsetgroup": "lastpass.com",
         "orientation": "v",
         "showlegend": true,
         "textposition": "auto",
         "type": "bar",
         "x": [
          "lastpass.com"
         ],
         "xaxis": "x",
         "y": [
          3
         ],
         "yaxis": "y"
        },
        {
         "alignmentgroup": "True",
         "hovertemplate": "name=%{x}<br>count=%{y}<extra></extra>",
         "legendgroup": "webmd.com",
         "marker": {
          "color": "#00cc96"
         },
         "name": "webmd.com",
         "offsetgroup": "webmd.com",
         "orientation": "v",
         "showlegend": true,
         "textposition": "auto",
         "type": "bar",
         "x": [
          "webmd.com"
         ],
         "xaxis": "x",
         "y": [
          3
         ],
         "yaxis": "y"
        },
        {
         "alignmentgroup": "True",
         "hovertemplate": "name=%{x}<br>count=%{y}<extra></extra>",
         "legendgroup": "change.org",
         "marker": {
          "color": "#ab63fa"
         },
         "name": "change.org",
         "offsetgroup": "change.org",
         "orientation": "v",
         "showlegend": true,
         "textposition": "auto",
         "type": "bar",
         "x": [
          "change.org"
         ],
         "xaxis": "x",
         "y": [
          3
         ],
         "yaxis": "y"
        },
        {
         "alignmentgroup": "True",
         "hovertemplate": "name=%{x}<br>count=%{y}<extra></extra>",
         "legendgroup": "fool.com",
         "marker": {
          "color": "#FFA15A"
         },
         "name": "fool.com",
         "offsetgroup": "fool.com",
         "orientation": "v",
         "showlegend": true,
         "textposition": "auto",
         "type": "bar",
         "x": [
          "fool.com"
         ],
         "xaxis": "x",
         "y": [
          3
         ],
         "yaxis": "y"
        },
        {
         "alignmentgroup": "True",
         "hovertemplate": "name=%{x}<br>count=%{y}<extra></extra>",
         "legendgroup": "wired.com",
         "marker": {
          "color": "#19d3f3"
         },
         "name": "wired.com",
         "offsetgroup": "wired.com",
         "orientation": "v",
         "showlegend": true,
         "textposition": "auto",
         "type": "bar",
         "x": [
          "wired.com"
         ],
         "xaxis": "x",
         "y": [
          3
         ],
         "yaxis": "y"
        },
        {
         "alignmentgroup": "True",
         "hovertemplate": "name=%{x}<br>count=%{y}<extra></extra>",
         "legendgroup": "The Home Depot",
         "marker": {
          "color": "#FF6692"
         },
         "name": "The Home Depot",
         "offsetgroup": "The Home Depot",
         "orientation": "v",
         "showlegend": true,
         "textposition": "auto",
         "type": "bar",
         "x": [
          "The Home Depot"
         ],
         "xaxis": "x",
         "y": [
          3
         ],
         "yaxis": "y"
        },
        {
         "alignmentgroup": "True",
         "hovertemplate": "name=%{x}<br>count=%{y}<extra></extra>",
         "legendgroup": "pointstreak.com",
         "marker": {
          "color": "#B6E880"
         },
         "name": "pointstreak.com",
         "offsetgroup": "pointstreak.com",
         "orientation": "v",
         "showlegend": true,
         "textposition": "auto",
         "type": "bar",
         "x": [
          "pointstreak.com"
         ],
         "xaxis": "x",
         "y": [
          3
         ],
         "yaxis": "y"
        },
        {
         "alignmentgroup": "True",
         "hovertemplate": "name=%{x}<br>count=%{y}<extra></extra>",
         "legendgroup": "pimylifeup.com",
         "marker": {
          "color": "#FF97FF"
         },
         "name": "pimylifeup.com",
         "offsetgroup": "pimylifeup.com",
         "orientation": "v",
         "showlegend": true,
         "textposition": "auto",
         "type": "bar",
         "x": [
          "pimylifeup.com"
         ],
         "xaxis": "x",
         "y": [
          3
         ],
         "yaxis": "y"
        },
        {
         "alignmentgroup": "True",
         "hovertemplate": "name=%{x}<br>count=%{y}<extra></extra>",
         "legendgroup": "thoughtcatalog.com",
         "marker": {
          "color": "#FECB52"
         },
         "name": "thoughtcatalog.com",
         "offsetgroup": "thoughtcatalog.com",
         "orientation": "v",
         "showlegend": true,
         "textposition": "auto",
         "type": "bar",
         "x": [
          "thoughtcatalog.com"
         ],
         "xaxis": "x",
         "y": [
          3
         ],
         "yaxis": "y"
        },
        {
         "alignmentgroup": "True",
         "hovertemplate": "name=%{x}<br>count=%{y}<extra></extra>",
         "legendgroup": "eventbrite.com",
         "marker": {
          "color": "#636efa"
         },
         "name": "eventbrite.com",
         "offsetgroup": "eventbrite.com",
         "orientation": "v",
         "showlegend": true,
         "textposition": "auto",
         "type": "bar",
         "x": [
          "eventbrite.com"
         ],
         "xaxis": "x",
         "y": [
          3
         ],
         "yaxis": "y"
        },
        {
         "alignmentgroup": "True",
         "hovertemplate": "name=%{x}<br>count=%{y}<extra></extra>",
         "legendgroup": "intersectionalityscore.com",
         "marker": {
          "color": "#EF553B"
         },
         "name": "intersectionalityscore.com",
         "offsetgroup": "intersectionalityscore.com",
         "orientation": "v",
         "showlegend": true,
         "textposition": "auto",
         "type": "bar",
         "x": [
          "intersectionalityscore.com"
         ],
         "xaxis": "x",
         "y": [
          3
         ],
         "yaxis": "y"
        },
        {
         "alignmentgroup": "True",
         "hovertemplate": "name=%{x}<br>count=%{y}<extra></extra>",
         "legendgroup": "nra.org",
         "marker": {
          "color": "#00cc96"
         },
         "name": "nra.org",
         "offsetgroup": "nra.org",
         "orientation": "v",
         "showlegend": true,
         "textposition": "auto",
         "type": "bar",
         "x": [
          "nra.org"
         ],
         "xaxis": "x",
         "y": [
          3
         ],
         "yaxis": "y"
        },
        {
         "alignmentgroup": "True",
         "hovertemplate": "name=%{x}<br>count=%{y}<extra></extra>",
         "legendgroup": "phoenixnap.com",
         "marker": {
          "color": "#ab63fa"
         },
         "name": "phoenixnap.com",
         "offsetgroup": "phoenixnap.com",
         "orientation": "v",
         "showlegend": true,
         "textposition": "auto",
         "type": "bar",
         "x": [
          "phoenixnap.com"
         ],
         "xaxis": "x",
         "y": [
          3
         ],
         "yaxis": "y"
        },
        {
         "alignmentgroup": "True",
         "hovertemplate": "name=%{x}<br>count=%{y}<extra></extra>",
         "legendgroup": "fandango.com",
         "marker": {
          "color": "#FFA15A"
         },
         "name": "fandango.com",
         "offsetgroup": "fandango.com",
         "orientation": "v",
         "showlegend": true,
         "textposition": "auto",
         "type": "bar",
         "x": [
          "fandango.com"
         ],
         "xaxis": "x",
         "y": [
          3
         ],
         "yaxis": "y"
        },
        {
         "alignmentgroup": "True",
         "hovertemplate": "name=%{x}<br>count=%{y}<extra></extra>",
         "legendgroup": "medicalnewstoday.com",
         "marker": {
          "color": "#19d3f3"
         },
         "name": "medicalnewstoday.com",
         "offsetgroup": "medicalnewstoday.com",
         "orientation": "v",
         "showlegend": true,
         "textposition": "auto",
         "type": "bar",
         "x": [
          "medicalnewstoday.com"
         ],
         "xaxis": "x",
         "y": [
          3
         ],
         "yaxis": "y"
        },
        {
         "alignmentgroup": "True",
         "hovertemplate": "name=%{x}<br>count=%{y}<extra></extra>",
         "legendgroup": "eBay Business Manager",
         "marker": {
          "color": "#FF6692"
         },
         "name": "eBay Business Manager",
         "offsetgroup": "eBay Business Manager",
         "orientation": "v",
         "showlegend": true,
         "textposition": "auto",
         "type": "bar",
         "x": [
          "eBay Business Manager"
         ],
         "xaxis": "x",
         "y": [
          3
         ],
         "yaxis": "y"
        },
        {
         "alignmentgroup": "True",
         "hovertemplate": "name=%{x}<br>count=%{y}<extra></extra>",
         "legendgroup": "allaboutvision.com",
         "marker": {
          "color": "#B6E880"
         },
         "name": "allaboutvision.com",
         "offsetgroup": "allaboutvision.com",
         "orientation": "v",
         "showlegend": true,
         "textposition": "auto",
         "type": "bar",
         "x": [
          "allaboutvision.com"
         ],
         "xaxis": "x",
         "y": [
          3
         ],
         "yaxis": "y"
        },
        {
         "alignmentgroup": "True",
         "hovertemplate": "name=%{x}<br>count=%{y}<extra></extra>",
         "legendgroup": "houstonchronicle.com",
         "marker": {
          "color": "#FF97FF"
         },
         "name": "houstonchronicle.com",
         "offsetgroup": "houstonchronicle.com",
         "orientation": "v",
         "showlegend": true,
         "textposition": "auto",
         "type": "bar",
         "x": [
          "houstonchronicle.com"
         ],
         "xaxis": "x",
         "y": [
          3
         ],
         "yaxis": "y"
        },
        {
         "alignmentgroup": "True",
         "hovertemplate": "name=%{x}<br>count=%{y}<extra></extra>",
         "legendgroup": "nationalgeographic.com",
         "marker": {
          "color": "#FECB52"
         },
         "name": "nationalgeographic.com",
         "offsetgroup": "nationalgeographic.com",
         "orientation": "v",
         "showlegend": true,
         "textposition": "auto",
         "type": "bar",
         "x": [
          "nationalgeographic.com"
         ],
         "xaxis": "x",
         "y": [
          3
         ],
         "yaxis": "y"
        },
        {
         "alignmentgroup": "True",
         "hovertemplate": "name=%{x}<br>count=%{y}<extra></extra>",
         "legendgroup": "telegraph.co.uk",
         "marker": {
          "color": "#636efa"
         },
         "name": "telegraph.co.uk",
         "offsetgroup": "telegraph.co.uk",
         "orientation": "v",
         "showlegend": true,
         "textposition": "auto",
         "type": "bar",
         "x": [
          "telegraph.co.uk"
         ],
         "xaxis": "x",
         "y": [
          3
         ],
         "yaxis": "y"
        },
        {
         "alignmentgroup": "True",
         "hovertemplate": "name=%{x}<br>count=%{y}<extra></extra>",
         "legendgroup": "healthline.com",
         "marker": {
          "color": "#EF553B"
         },
         "name": "healthline.com",
         "offsetgroup": "healthline.com",
         "orientation": "v",
         "showlegend": true,
         "textposition": "auto",
         "type": "bar",
         "x": [
          "healthline.com"
         ],
         "xaxis": "x",
         "y": [
          3
         ],
         "yaxis": "y"
        },
        {
         "alignmentgroup": "True",
         "hovertemplate": "name=%{x}<br>count=%{y}<extra></extra>",
         "legendgroup": "cnet.com",
         "marker": {
          "color": "#00cc96"
         },
         "name": "cnet.com",
         "offsetgroup": "cnet.com",
         "orientation": "v",
         "showlegend": true,
         "textposition": "auto",
         "type": "bar",
         "x": [
          "cnet.com"
         ],
         "xaxis": "x",
         "y": [
          3
         ],
         "yaxis": "y"
        },
        {
         "alignmentgroup": "True",
         "hovertemplate": "name=%{x}<br>count=%{y}<extra></extra>",
         "legendgroup": "eToro Cryptocurrency Trading",
         "marker": {
          "color": "#ab63fa"
         },
         "name": "eToro Cryptocurrency Trading",
         "offsetgroup": "eToro Cryptocurrency Trading",
         "orientation": "v",
         "showlegend": true,
         "textposition": "auto",
         "type": "bar",
         "x": [
          "eToro Cryptocurrency Trading"
         ],
         "xaxis": "x",
         "y": [
          3
         ],
         "yaxis": "y"
        },
        {
         "alignmentgroup": "True",
         "hovertemplate": "name=%{x}<br>count=%{y}<extra></extra>",
         "legendgroup": "simplilearn.com",
         "marker": {
          "color": "#FFA15A"
         },
         "name": "simplilearn.com",
         "offsetgroup": "simplilearn.com",
         "orientation": "v",
         "showlegend": true,
         "textposition": "auto",
         "type": "bar",
         "x": [
          "simplilearn.com"
         ],
         "xaxis": "x",
         "y": [
          3
         ],
         "yaxis": "y"
        },
        {
         "alignmentgroup": "True",
         "hovertemplate": "name=%{x}<br>count=%{y}<extra></extra>",
         "legendgroup": "smartasset.com",
         "marker": {
          "color": "#19d3f3"
         },
         "name": "smartasset.com",
         "offsetgroup": "smartasset.com",
         "orientation": "v",
         "showlegend": true,
         "textposition": "auto",
         "type": "bar",
         "x": [
          "smartasset.com"
         ],
         "xaxis": "x",
         "y": [
          3
         ],
         "yaxis": "y"
        },
        {
         "alignmentgroup": "True",
         "hovertemplate": "name=%{x}<br>count=%{y}<extra></extra>",
         "legendgroup": "chron.com",
         "marker": {
          "color": "#FF6692"
         },
         "name": "chron.com",
         "offsetgroup": "chron.com",
         "orientation": "v",
         "showlegend": true,
         "textposition": "auto",
         "type": "bar",
         "x": [
          "chron.com"
         ],
         "xaxis": "x",
         "y": [
          3
         ],
         "yaxis": "y"
        },
        {
         "alignmentgroup": "True",
         "hovertemplate": "name=%{x}<br>count=%{y}<extra></extra>",
         "legendgroup": "wbaltv.com",
         "marker": {
          "color": "#B6E880"
         },
         "name": "wbaltv.com",
         "offsetgroup": "wbaltv.com",
         "orientation": "v",
         "showlegend": true,
         "textposition": "auto",
         "type": "bar",
         "x": [
          "wbaltv.com"
         ],
         "xaxis": "x",
         "y": [
          3
         ],
         "yaxis": "y"
        },
        {
         "alignmentgroup": "True",
         "hovertemplate": "name=%{x}<br>count=%{y}<extra></extra>",
         "legendgroup": "thenewstack.io",
         "marker": {
          "color": "#FF97FF"
         },
         "name": "thenewstack.io",
         "offsetgroup": "thenewstack.io",
         "orientation": "v",
         "showlegend": true,
         "textposition": "auto",
         "type": "bar",
         "x": [
          "thenewstack.io"
         ],
         "xaxis": "x",
         "y": [
          3
         ],
         "yaxis": "y"
        },
        {
         "alignmentgroup": "True",
         "hovertemplate": "name=%{x}<br>count=%{y}<extra></extra>",
         "legendgroup": "puppet.com",
         "marker": {
          "color": "#FECB52"
         },
         "name": "puppet.com",
         "offsetgroup": "puppet.com",
         "orientation": "v",
         "showlegend": true,
         "textposition": "auto",
         "type": "bar",
         "x": [
          "puppet.com"
         ],
         "xaxis": "x",
         "y": [
          2
         ],
         "yaxis": "y"
        },
        {
         "alignmentgroup": "True",
         "hovertemplate": "name=%{x}<br>count=%{y}<extra></extra>",
         "legendgroup": "kennychesney.com",
         "marker": {
          "color": "#636efa"
         },
         "name": "kennychesney.com",
         "offsetgroup": "kennychesney.com",
         "orientation": "v",
         "showlegend": true,
         "textposition": "auto",
         "type": "bar",
         "x": [
          "kennychesney.com"
         ],
         "xaxis": "x",
         "y": [
          2
         ],
         "yaxis": "y"
        },
        {
         "alignmentgroup": "True",
         "hovertemplate": "name=%{x}<br>count=%{y}<extra></extra>",
         "legendgroup": "popularmechanics.com",
         "marker": {
          "color": "#EF553B"
         },
         "name": "popularmechanics.com",
         "offsetgroup": "popularmechanics.com",
         "orientation": "v",
         "showlegend": true,
         "textposition": "auto",
         "type": "bar",
         "x": [
          "popularmechanics.com"
         ],
         "xaxis": "x",
         "y": [
          2
         ],
         "yaxis": "y"
        },
        {
         "alignmentgroup": "True",
         "hovertemplate": "name=%{x}<br>count=%{y}<extra></extra>",
         "legendgroup": "verdehowardsquare.com",
         "marker": {
          "color": "#00cc96"
         },
         "name": "verdehowardsquare.com",
         "offsetgroup": "verdehowardsquare.com",
         "orientation": "v",
         "showlegend": true,
         "textposition": "auto",
         "type": "bar",
         "x": [
          "verdehowardsquare.com"
         ],
         "xaxis": "x",
         "y": [
          2
         ],
         "yaxis": "y"
        },
        {
         "alignmentgroup": "True",
         "hovertemplate": "name=%{x}<br>count=%{y}<extra></extra>",
         "legendgroup": "geforce.com",
         "marker": {
          "color": "#ab63fa"
         },
         "name": "geforce.com",
         "offsetgroup": "geforce.com",
         "orientation": "v",
         "showlegend": true,
         "textposition": "auto",
         "type": "bar",
         "x": [
          "geforce.com"
         ],
         "xaxis": "x",
         "y": [
          2
         ],
         "yaxis": "y"
        },
        {
         "alignmentgroup": "True",
         "hovertemplate": "name=%{x}<br>count=%{y}<extra></extra>",
         "legendgroup": "Tinder",
         "marker": {
          "color": "#FFA15A"
         },
         "name": "Tinder",
         "offsetgroup": "Tinder",
         "orientation": "v",
         "showlegend": true,
         "textposition": "auto",
         "type": "bar",
         "x": [
          "Tinder"
         ],
         "xaxis": "x",
         "y": [
          2
         ],
         "yaxis": "y"
        },
        {
         "alignmentgroup": "True",
         "hovertemplate": "name=%{x}<br>count=%{y}<extra></extra>",
         "legendgroup": "weave.works",
         "marker": {
          "color": "#19d3f3"
         },
         "name": "weave.works",
         "offsetgroup": "weave.works",
         "orientation": "v",
         "showlegend": true,
         "textposition": "auto",
         "type": "bar",
         "x": [
          "weave.works"
         ],
         "xaxis": "x",
         "y": [
          2
         ],
         "yaxis": "y"
        },
        {
         "alignmentgroup": "True",
         "hovertemplate": "name=%{x}<br>count=%{y}<extra></extra>",
         "legendgroup": "dailymail.co.uk",
         "marker": {
          "color": "#FF6692"
         },
         "name": "dailymail.co.uk",
         "offsetgroup": "dailymail.co.uk",
         "orientation": "v",
         "showlegend": true,
         "textposition": "auto",
         "type": "bar",
         "x": [
          "dailymail.co.uk"
         ],
         "xaxis": "x",
         "y": [
          2
         ],
         "yaxis": "y"
        },
        {
         "alignmentgroup": "True",
         "hovertemplate": "name=%{x}<br>count=%{y}<extra></extra>",
         "legendgroup": "elitedaily.com",
         "marker": {
          "color": "#B6E880"
         },
         "name": "elitedaily.com",
         "offsetgroup": "elitedaily.com",
         "orientation": "v",
         "showlegend": true,
         "textposition": "auto",
         "type": "bar",
         "x": [
          "elitedaily.com"
         ],
         "xaxis": "x",
         "y": [
          2
         ],
         "yaxis": "y"
        },
        {
         "alignmentgroup": "True",
         "hovertemplate": "name=%{x}<br>count=%{y}<extra></extra>",
         "legendgroup": "cloudflare.com",
         "marker": {
          "color": "#FF97FF"
         },
         "name": "cloudflare.com",
         "offsetgroup": "cloudflare.com",
         "orientation": "v",
         "showlegend": true,
         "textposition": "auto",
         "type": "bar",
         "x": [
          "cloudflare.com"
         ],
         "xaxis": "x",
         "y": [
          2
         ],
         "yaxis": "y"
        },
        {
         "alignmentgroup": "True",
         "hovertemplate": "name=%{x}<br>count=%{y}<extra></extra>",
         "legendgroup": "simpletexting.com",
         "marker": {
          "color": "#FECB52"
         },
         "name": "simpletexting.com",
         "offsetgroup": "simpletexting.com",
         "orientation": "v",
         "showlegend": true,
         "textposition": "auto",
         "type": "bar",
         "x": [
          "simpletexting.com"
         ],
         "xaxis": "x",
         "y": [
          2
         ],
         "yaxis": "y"
        },
        {
         "alignmentgroup": "True",
         "hovertemplate": "name=%{x}<br>count=%{y}<extra></extra>",
         "legendgroup": "donaldjtrump.com",
         "marker": {
          "color": "#636efa"
         },
         "name": "donaldjtrump.com",
         "offsetgroup": "donaldjtrump.com",
         "orientation": "v",
         "showlegend": true,
         "textposition": "auto",
         "type": "bar",
         "x": [
          "donaldjtrump.com"
         ],
         "xaxis": "x",
         "y": [
          2
         ],
         "yaxis": "y"
        },
        {
         "alignmentgroup": "True",
         "hovertemplate": "name=%{x}<br>count=%{y}<extra></extra>",
         "legendgroup": "equimanagement.com",
         "marker": {
          "color": "#EF553B"
         },
         "name": "equimanagement.com",
         "offsetgroup": "equimanagement.com",
         "orientation": "v",
         "showlegend": true,
         "textposition": "auto",
         "type": "bar",
         "x": [
          "equimanagement.com"
         ],
         "xaxis": "x",
         "y": [
          2
         ],
         "yaxis": "y"
        },
        {
         "alignmentgroup": "True",
         "hovertemplate": "name=%{x}<br>count=%{y}<extra></extra>",
         "legendgroup": "burton.com",
         "marker": {
          "color": "#00cc96"
         },
         "name": "burton.com",
         "offsetgroup": "burton.com",
         "orientation": "v",
         "showlegend": true,
         "textposition": "auto",
         "type": "bar",
         "x": [
          "burton.com"
         ],
         "xaxis": "x",
         "y": [
          2
         ],
         "yaxis": "y"
        },
        {
         "alignmentgroup": "True",
         "hovertemplate": "name=%{x}<br>count=%{y}<extra></extra>",
         "legendgroup": "theatlantic.com",
         "marker": {
          "color": "#ab63fa"
         },
         "name": "theatlantic.com",
         "offsetgroup": "theatlantic.com",
         "orientation": "v",
         "showlegend": true,
         "textposition": "auto",
         "type": "bar",
         "x": [
          "theatlantic.com"
         ],
         "xaxis": "x",
         "y": [
          2
         ],
         "yaxis": "y"
        },
        {
         "alignmentgroup": "True",
         "hovertemplate": "name=%{x}<br>count=%{y}<extra></extra>",
         "legendgroup": "jendcosafety.com",
         "marker": {
          "color": "#FFA15A"
         },
         "name": "jendcosafety.com",
         "offsetgroup": "jendcosafety.com",
         "orientation": "v",
         "showlegend": true,
         "textposition": "auto",
         "type": "bar",
         "x": [
          "jendcosafety.com"
         ],
         "xaxis": "x",
         "y": [
          2
         ],
         "yaxis": "y"
        },
        {
         "alignmentgroup": "True",
         "hovertemplate": "name=%{x}<br>count=%{y}<extra></extra>",
         "legendgroup": "robinhood.com",
         "marker": {
          "color": "#19d3f3"
         },
         "name": "robinhood.com",
         "offsetgroup": "robinhood.com",
         "orientation": "v",
         "showlegend": true,
         "textposition": "auto",
         "type": "bar",
         "x": [
          "robinhood.com"
         ],
         "xaxis": "x",
         "y": [
          2
         ],
         "yaxis": "y"
        },
        {
         "alignmentgroup": "True",
         "hovertemplate": "name=%{x}<br>count=%{y}<extra></extra>",
         "legendgroup": "ragingbull.com",
         "marker": {
          "color": "#FF6692"
         },
         "name": "ragingbull.com",
         "offsetgroup": "ragingbull.com",
         "orientation": "v",
         "showlegend": true,
         "textposition": "auto",
         "type": "bar",
         "x": [
          "ragingbull.com"
         ],
         "xaxis": "x",
         "y": [
          2
         ],
         "yaxis": "y"
        },
        {
         "alignmentgroup": "True",
         "hovertemplate": "name=%{x}<br>count=%{y}<extra></extra>",
         "legendgroup": "sun-sentinel.com",
         "marker": {
          "color": "#B6E880"
         },
         "name": "sun-sentinel.com",
         "offsetgroup": "sun-sentinel.com",
         "orientation": "v",
         "showlegend": true,
         "textposition": "auto",
         "type": "bar",
         "x": [
          "sun-sentinel.com"
         ],
         "xaxis": "x",
         "y": [
          2
         ],
         "yaxis": "y"
        },
        {
         "alignmentgroup": "True",
         "hovertemplate": "name=%{x}<br>count=%{y}<extra></extra>",
         "legendgroup": "eurogamer.net",
         "marker": {
          "color": "#FF97FF"
         },
         "name": "eurogamer.net",
         "offsetgroup": "eurogamer.net",
         "orientation": "v",
         "showlegend": true,
         "textposition": "auto",
         "type": "bar",
         "x": [
          "eurogamer.net"
         ],
         "xaxis": "x",
         "y": [
          2
         ],
         "yaxis": "y"
        },
        {
         "alignmentgroup": "True",
         "hovertemplate": "name=%{x}<br>count=%{y}<extra></extra>",
         "legendgroup": "ninjatrader.com",
         "marker": {
          "color": "#FECB52"
         },
         "name": "ninjatrader.com",
         "offsetgroup": "ninjatrader.com",
         "orientation": "v",
         "showlegend": true,
         "textposition": "auto",
         "type": "bar",
         "x": [
          "ninjatrader.com"
         ],
         "xaxis": "x",
         "y": [
          2
         ],
         "yaxis": "y"
        },
        {
         "alignmentgroup": "True",
         "hovertemplate": "name=%{x}<br>count=%{y}<extra></extra>",
         "legendgroup": "thenest.com",
         "marker": {
          "color": "#636efa"
         },
         "name": "thenest.com",
         "offsetgroup": "thenest.com",
         "orientation": "v",
         "showlegend": true,
         "textposition": "auto",
         "type": "bar",
         "x": [
          "thenest.com"
         ],
         "xaxis": "x",
         "y": [
          2
         ],
         "yaxis": "y"
        },
        {
         "alignmentgroup": "True",
         "hovertemplate": "name=%{x}<br>count=%{y}<extra></extra>",
         "legendgroup": "isidewith.com",
         "marker": {
          "color": "#EF553B"
         },
         "name": "isidewith.com",
         "offsetgroup": "isidewith.com",
         "orientation": "v",
         "showlegend": true,
         "textposition": "auto",
         "type": "bar",
         "x": [
          "isidewith.com"
         ],
         "xaxis": "x",
         "y": [
          2
         ],
         "yaxis": "y"
        },
        {
         "alignmentgroup": "True",
         "hovertemplate": "name=%{x}<br>count=%{y}<extra></extra>",
         "legendgroup": "homedepot.com",
         "marker": {
          "color": "#00cc96"
         },
         "name": "homedepot.com",
         "offsetgroup": "homedepot.com",
         "orientation": "v",
         "showlegend": true,
         "textposition": "auto",
         "type": "bar",
         "x": [
          "homedepot.com"
         ],
         "xaxis": "x",
         "y": [
          2
         ],
         "yaxis": "y"
        },
        {
         "alignmentgroup": "True",
         "hovertemplate": "name=%{x}<br>count=%{y}<extra></extra>",
         "legendgroup": "caranddriver.com",
         "marker": {
          "color": "#ab63fa"
         },
         "name": "caranddriver.com",
         "offsetgroup": "caranddriver.com",
         "orientation": "v",
         "showlegend": true,
         "textposition": "auto",
         "type": "bar",
         "x": [
          "caranddriver.com"
         ],
         "xaxis": "x",
         "y": [
          2
         ],
         "yaxis": "y"
        },
        {
         "alignmentgroup": "True",
         "hovertemplate": "name=%{x}<br>count=%{y}<extra></extra>",
         "legendgroup": "blackhawk.com",
         "marker": {
          "color": "#FFA15A"
         },
         "name": "blackhawk.com",
         "offsetgroup": "blackhawk.com",
         "orientation": "v",
         "showlegend": true,
         "textposition": "auto",
         "type": "bar",
         "x": [
          "blackhawk.com"
         ],
         "xaxis": "x",
         "y": [
          2
         ],
         "yaxis": "y"
        },
        {
         "alignmentgroup": "True",
         "hovertemplate": "name=%{x}<br>count=%{y}<extra></extra>",
         "legendgroup": "theonion.com",
         "marker": {
          "color": "#19d3f3"
         },
         "name": "theonion.com",
         "offsetgroup": "theonion.com",
         "orientation": "v",
         "showlegend": true,
         "textposition": "auto",
         "type": "bar",
         "x": [
          "theonion.com"
         ],
         "xaxis": "x",
         "y": [
          2
         ],
         "yaxis": "y"
        },
        {
         "alignmentgroup": "True",
         "hovertemplate": "name=%{x}<br>count=%{y}<extra></extra>",
         "legendgroup": "snowshoemtn.com",
         "marker": {
          "color": "#FF6692"
         },
         "name": "snowshoemtn.com",
         "offsetgroup": "snowshoemtn.com",
         "orientation": "v",
         "showlegend": true,
         "textposition": "auto",
         "type": "bar",
         "x": [
          "snowshoemtn.com"
         ],
         "xaxis": "x",
         "y": [
          2
         ],
         "yaxis": "y"
        },
        {
         "alignmentgroup": "True",
         "hovertemplate": "name=%{x}<br>count=%{y}<extra></extra>",
         "legendgroup": "fortune.com",
         "marker": {
          "color": "#B6E880"
         },
         "name": "fortune.com",
         "offsetgroup": "fortune.com",
         "orientation": "v",
         "showlegend": true,
         "textposition": "auto",
         "type": "bar",
         "x": [
          "fortune.com"
         ],
         "xaxis": "x",
         "y": [
          2
         ],
         "yaxis": "y"
        },
        {
         "alignmentgroup": "True",
         "hovertemplate": "name=%{x}<br>count=%{y}<extra></extra>",
         "legendgroup": "ign.com",
         "marker": {
          "color": "#FF97FF"
         },
         "name": "ign.com",
         "offsetgroup": "ign.com",
         "orientation": "v",
         "showlegend": true,
         "textposition": "auto",
         "type": "bar",
         "x": [
          "ign.com"
         ],
         "xaxis": "x",
         "y": [
          2
         ],
         "yaxis": "y"
        },
        {
         "alignmentgroup": "True",
         "hovertemplate": "name=%{x}<br>count=%{y}<extra></extra>",
         "legendgroup": "vans.com",
         "marker": {
          "color": "#FECB52"
         },
         "name": "vans.com",
         "offsetgroup": "vans.com",
         "orientation": "v",
         "showlegend": true,
         "textposition": "auto",
         "type": "bar",
         "x": [
          "vans.com"
         ],
         "xaxis": "x",
         "y": [
          2
         ],
         "yaxis": "y"
        },
        {
         "alignmentgroup": "True",
         "hovertemplate": "name=%{x}<br>count=%{y}<extra></extra>",
         "legendgroup": "redfin.com",
         "marker": {
          "color": "#636efa"
         },
         "name": "redfin.com",
         "offsetgroup": "redfin.com",
         "orientation": "v",
         "showlegend": true,
         "textposition": "auto",
         "type": "bar",
         "x": [
          "redfin.com"
         ],
         "xaxis": "x",
         "y": [
          2
         ],
         "yaxis": "y"
        },
        {
         "alignmentgroup": "True",
         "hovertemplate": "name=%{x}<br>count=%{y}<extra></extra>",
         "legendgroup": "infosecinstitute.com",
         "marker": {
          "color": "#EF553B"
         },
         "name": "infosecinstitute.com",
         "offsetgroup": "infosecinstitute.com",
         "orientation": "v",
         "showlegend": true,
         "textposition": "auto",
         "type": "bar",
         "x": [
          "infosecinstitute.com"
         ],
         "xaxis": "x",
         "y": [
          2
         ],
         "yaxis": "y"
        },
        {
         "alignmentgroup": "True",
         "hovertemplate": "name=%{x}<br>count=%{y}<extra></extra>",
         "legendgroup": "usatoday.com",
         "marker": {
          "color": "#00cc96"
         },
         "name": "usatoday.com",
         "offsetgroup": "usatoday.com",
         "orientation": "v",
         "showlegend": true,
         "textposition": "auto",
         "type": "bar",
         "x": [
          "usatoday.com"
         ],
         "xaxis": "x",
         "y": [
          2
         ],
         "yaxis": "y"
        },
        {
         "alignmentgroup": "True",
         "hovertemplate": "name=%{x}<br>count=%{y}<extra></extra>",
         "legendgroup": "mercurynews.com",
         "marker": {
          "color": "#ab63fa"
         },
         "name": "mercurynews.com",
         "offsetgroup": "mercurynews.com",
         "orientation": "v",
         "showlegend": true,
         "textposition": "auto",
         "type": "bar",
         "x": [
          "mercurynews.com"
         ],
         "xaxis": "x",
         "y": [
          2
         ],
         "yaxis": "y"
        },
        {
         "alignmentgroup": "True",
         "hovertemplate": "name=%{x}<br>count=%{y}<extra></extra>",
         "legendgroup": "Bed Bath & Beyond",
         "marker": {
          "color": "#FFA15A"
         },
         "name": "Bed Bath & Beyond",
         "offsetgroup": "Bed Bath & Beyond",
         "orientation": "v",
         "showlegend": true,
         "textposition": "auto",
         "type": "bar",
         "x": [
          "Bed Bath & Beyond"
         ],
         "xaxis": "x",
         "y": [
          2
         ],
         "yaxis": "y"
        },
        {
         "alignmentgroup": "True",
         "hovertemplate": "name=%{x}<br>count=%{y}<extra></extra>",
         "legendgroup": "atlassian.com",
         "marker": {
          "color": "#19d3f3"
         },
         "name": "atlassian.com",
         "offsetgroup": "atlassian.com",
         "orientation": "v",
         "showlegend": true,
         "textposition": "auto",
         "type": "bar",
         "x": [
          "atlassian.com"
         ],
         "xaxis": "x",
         "y": [
          2
         ],
         "yaxis": "y"
        },
        {
         "alignmentgroup": "True",
         "hovertemplate": "name=%{x}<br>count=%{y}<extra></extra>",
         "legendgroup": "Vanguard Group",
         "marker": {
          "color": "#FF6692"
         },
         "name": "Vanguard Group",
         "offsetgroup": "Vanguard Group",
         "orientation": "v",
         "showlegend": true,
         "textposition": "auto",
         "type": "bar",
         "x": [
          "Vanguard Group"
         ],
         "xaxis": "x",
         "y": [
          2
         ],
         "yaxis": "y"
        },
        {
         "alignmentgroup": "True",
         "hovertemplate": "name=%{x}<br>count=%{y}<extra></extra>",
         "legendgroup": "macys.com",
         "marker": {
          "color": "#B6E880"
         },
         "name": "macys.com",
         "offsetgroup": "macys.com",
         "orientation": "v",
         "showlegend": true,
         "textposition": "auto",
         "type": "bar",
         "x": [
          "macys.com"
         ],
         "xaxis": "x",
         "y": [
          2
         ],
         "yaxis": "y"
        },
        {
         "alignmentgroup": "True",
         "hovertemplate": "name=%{x}<br>count=%{y}<extra></extra>",
         "legendgroup": "cars.com",
         "marker": {
          "color": "#FF97FF"
         },
         "name": "cars.com",
         "offsetgroup": "cars.com",
         "orientation": "v",
         "showlegend": true,
         "textposition": "auto",
         "type": "bar",
         "x": [
          "cars.com"
         ],
         "xaxis": "x",
         "y": [
          2
         ],
         "yaxis": "y"
        },
        {
         "alignmentgroup": "True",
         "hovertemplate": "name=%{x}<br>count=%{y}<extra></extra>",
         "legendgroup": "spiceworks.com",
         "marker": {
          "color": "#FECB52"
         },
         "name": "spiceworks.com",
         "offsetgroup": "spiceworks.com",
         "orientation": "v",
         "showlegend": true,
         "textposition": "auto",
         "type": "bar",
         "x": [
          "spiceworks.com"
         ],
         "xaxis": "x",
         "y": [
          2
         ],
         "yaxis": "y"
        },
        {
         "alignmentgroup": "True",
         "hovertemplate": "name=%{x}<br>count=%{y}<extra></extra>",
         "legendgroup": "csmonitor.com",
         "marker": {
          "color": "#636efa"
         },
         "name": "csmonitor.com",
         "offsetgroup": "csmonitor.com",
         "orientation": "v",
         "showlegend": true,
         "textposition": "auto",
         "type": "bar",
         "x": [
          "csmonitor.com"
         ],
         "xaxis": "x",
         "y": [
          2
         ],
         "yaxis": "y"
        },
        {
         "alignmentgroup": "True",
         "hovertemplate": "name=%{x}<br>count=%{y}<extra></extra>",
         "legendgroup": "nhl.com",
         "marker": {
          "color": "#EF553B"
         },
         "name": "nhl.com",
         "offsetgroup": "nhl.com",
         "orientation": "v",
         "showlegend": true,
         "textposition": "auto",
         "type": "bar",
         "x": [
          "nhl.com"
         ],
         "xaxis": "x",
         "y": [
          2
         ],
         "yaxis": "y"
        },
        {
         "alignmentgroup": "True",
         "hovertemplate": "name=%{x}<br>count=%{y}<extra></extra>",
         "legendgroup": "refinery29.com",
         "marker": {
          "color": "#00cc96"
         },
         "name": "refinery29.com",
         "offsetgroup": "refinery29.com",
         "orientation": "v",
         "showlegend": true,
         "textposition": "auto",
         "type": "bar",
         "x": [
          "refinery29.com"
         ],
         "xaxis": "x",
         "y": [
          2
         ],
         "yaxis": "y"
        },
        {
         "alignmentgroup": "True",
         "hovertemplate": "name=%{x}<br>count=%{y}<extra></extra>",
         "legendgroup": "mensjournal.com",
         "marker": {
          "color": "#ab63fa"
         },
         "name": "mensjournal.com",
         "offsetgroup": "mensjournal.com",
         "orientation": "v",
         "showlegend": true,
         "textposition": "auto",
         "type": "bar",
         "x": [
          "mensjournal.com"
         ],
         "xaxis": "x",
         "y": [
          2
         ],
         "yaxis": "y"
        },
        {
         "alignmentgroup": "True",
         "hovertemplate": "name=%{x}<br>count=%{y}<extra></extra>",
         "legendgroup": "goldderby.com",
         "marker": {
          "color": "#FFA15A"
         },
         "name": "goldderby.com",
         "offsetgroup": "goldderby.com",
         "orientation": "v",
         "showlegend": true,
         "textposition": "auto",
         "type": "bar",
         "x": [
          "goldderby.com"
         ],
         "xaxis": "x",
         "y": [
          2
         ],
         "yaxis": "y"
        },
        {
         "alignmentgroup": "True",
         "hovertemplate": "name=%{x}<br>count=%{y}<extra></extra>",
         "legendgroup": "autoanything.com",
         "marker": {
          "color": "#19d3f3"
         },
         "name": "autoanything.com",
         "offsetgroup": "autoanything.com",
         "orientation": "v",
         "showlegend": true,
         "textposition": "auto",
         "type": "bar",
         "x": [
          "autoanything.com"
         ],
         "xaxis": "x",
         "y": [
          2
         ],
         "yaxis": "y"
        },
        {
         "alignmentgroup": "True",
         "hovertemplate": "name=%{x}<br>count=%{y}<extra></extra>",
         "legendgroup": "auslogics.com",
         "marker": {
          "color": "#FF6692"
         },
         "name": "auslogics.com",
         "offsetgroup": "auslogics.com",
         "orientation": "v",
         "showlegend": true,
         "textposition": "auto",
         "type": "bar",
         "x": [
          "auslogics.com"
         ],
         "xaxis": "x",
         "y": [
          2
         ],
         "yaxis": "y"
        },
        {
         "alignmentgroup": "True",
         "hovertemplate": "name=%{x}<br>count=%{y}<extra></extra>",
         "legendgroup": "ehealthinsurance.com",
         "marker": {
          "color": "#B6E880"
         },
         "name": "ehealthinsurance.com",
         "offsetgroup": "ehealthinsurance.com",
         "orientation": "v",
         "showlegend": true,
         "textposition": "auto",
         "type": "bar",
         "x": [
          "ehealthinsurance.com"
         ],
         "xaxis": "x",
         "y": [
          2
         ],
         "yaxis": "y"
        },
        {
         "alignmentgroup": "True",
         "hovertemplate": "name=%{x}<br>count=%{y}<extra></extra>",
         "legendgroup": "itsfoss.com",
         "marker": {
          "color": "#FF97FF"
         },
         "name": "itsfoss.com",
         "offsetgroup": "itsfoss.com",
         "orientation": "v",
         "showlegend": true,
         "textposition": "auto",
         "type": "bar",
         "x": [
          "itsfoss.com"
         ],
         "xaxis": "x",
         "y": [
          2
         ],
         "yaxis": "y"
        },
        {
         "alignmentgroup": "True",
         "hovertemplate": "name=%{x}<br>count=%{y}<extra></extra>",
         "legendgroup": "accuwebhosting.com",
         "marker": {
          "color": "#FECB52"
         },
         "name": "accuwebhosting.com",
         "offsetgroup": "accuwebhosting.com",
         "orientation": "v",
         "showlegend": true,
         "textposition": "auto",
         "type": "bar",
         "x": [
          "accuwebhosting.com"
         ],
         "xaxis": "x",
         "y": [
          2
         ],
         "yaxis": "y"
        },
        {
         "alignmentgroup": "True",
         "hovertemplate": "name=%{x}<br>count=%{y}<extra></extra>",
         "legendgroup": "fastcompany.com",
         "marker": {
          "color": "#636efa"
         },
         "name": "fastcompany.com",
         "offsetgroup": "fastcompany.com",
         "orientation": "v",
         "showlegend": true,
         "textposition": "auto",
         "type": "bar",
         "x": [
          "fastcompany.com"
         ],
         "xaxis": "x",
         "y": [
          2
         ],
         "yaxis": "y"
        },
        {
         "alignmentgroup": "True",
         "hovertemplate": "name=%{x}<br>count=%{y}<extra></extra>",
         "legendgroup": "fatherly.com",
         "marker": {
          "color": "#EF553B"
         },
         "name": "fatherly.com",
         "offsetgroup": "fatherly.com",
         "orientation": "v",
         "showlegend": true,
         "textposition": "auto",
         "type": "bar",
         "x": [
          "fatherly.com"
         ],
         "xaxis": "x",
         "y": [
          2
         ],
         "yaxis": "y"
        },
        {
         "alignmentgroup": "True",
         "hovertemplate": "name=%{x}<br>count=%{y}<extra></extra>",
         "legendgroup": "247sports.com",
         "marker": {
          "color": "#00cc96"
         },
         "name": "247sports.com",
         "offsetgroup": "247sports.com",
         "orientation": "v",
         "showlegend": true,
         "textposition": "auto",
         "type": "bar",
         "x": [
          "247sports.com"
         ],
         "xaxis": "x",
         "y": [
          2
         ],
         "yaxis": "y"
        },
        {
         "alignmentgroup": "True",
         "hovertemplate": "name=%{x}<br>count=%{y}<extra></extra>",
         "legendgroup": "brainhub.eu",
         "marker": {
          "color": "#ab63fa"
         },
         "name": "brainhub.eu",
         "offsetgroup": "brainhub.eu",
         "orientation": "v",
         "showlegend": true,
         "textposition": "auto",
         "type": "bar",
         "x": [
          "brainhub.eu"
         ],
         "xaxis": "x",
         "y": [
          2
         ],
         "yaxis": "y"
        },
        {
         "alignmentgroup": "True",
         "hovertemplate": "name=%{x}<br>count=%{y}<extra></extra>",
         "legendgroup": "espn.com",
         "marker": {
          "color": "#FFA15A"
         },
         "name": "espn.com",
         "offsetgroup": "espn.com",
         "orientation": "v",
         "showlegend": true,
         "textposition": "auto",
         "type": "bar",
         "x": [
          "espn.com"
         ],
         "xaxis": "x",
         "y": [
          2
         ],
         "yaxis": "y"
        },
        {
         "alignmentgroup": "True",
         "hovertemplate": "name=%{x}<br>count=%{y}<extra></extra>",
         "legendgroup": "moneycrashers.com",
         "marker": {
          "color": "#19d3f3"
         },
         "name": "moneycrashers.com",
         "offsetgroup": "moneycrashers.com",
         "orientation": "v",
         "showlegend": true,
         "textposition": "auto",
         "type": "bar",
         "x": [
          "moneycrashers.com"
         ],
         "xaxis": "x",
         "y": [
          2
         ],
         "yaxis": "y"
        },
        {
         "alignmentgroup": "True",
         "hovertemplate": "name=%{x}<br>count=%{y}<extra></extra>",
         "legendgroup": "latimes.com",
         "marker": {
          "color": "#FF6692"
         },
         "name": "latimes.com",
         "offsetgroup": "latimes.com",
         "orientation": "v",
         "showlegend": true,
         "textposition": "auto",
         "type": "bar",
         "x": [
          "latimes.com"
         ],
         "xaxis": "x",
         "y": [
          2
         ],
         "yaxis": "y"
        },
        {
         "alignmentgroup": "True",
         "hovertemplate": "name=%{x}<br>count=%{y}<extra></extra>",
         "legendgroup": "mercari.com",
         "marker": {
          "color": "#B6E880"
         },
         "name": "mercari.com",
         "offsetgroup": "mercari.com",
         "orientation": "v",
         "showlegend": true,
         "textposition": "auto",
         "type": "bar",
         "x": [
          "mercari.com"
         ],
         "xaxis": "x",
         "y": [
          2
         ],
         "yaxis": "y"
        },
        {
         "alignmentgroup": "True",
         "hovertemplate": "name=%{x}<br>count=%{y}<extra></extra>",
         "legendgroup": "washingtonpost.com",
         "marker": {
          "color": "#FF97FF"
         },
         "name": "washingtonpost.com",
         "offsetgroup": "washingtonpost.com",
         "orientation": "v",
         "showlegend": true,
         "textposition": "auto",
         "type": "bar",
         "x": [
          "washingtonpost.com"
         ],
         "xaxis": "x",
         "y": [
          2
         ],
         "yaxis": "y"
        },
        {
         "alignmentgroup": "True",
         "hovertemplate": "name=%{x}<br>count=%{y}<extra></extra>",
         "legendgroup": "drugfreeworld.org",
         "marker": {
          "color": "#FECB52"
         },
         "name": "drugfreeworld.org",
         "offsetgroup": "drugfreeworld.org",
         "orientation": "v",
         "showlegend": true,
         "textposition": "auto",
         "type": "bar",
         "x": [
          "drugfreeworld.org"
         ],
         "xaxis": "x",
         "y": [
          2
         ],
         "yaxis": "y"
        },
        {
         "alignmentgroup": "True",
         "hovertemplate": "name=%{x}<br>count=%{y}<extra></extra>",
         "legendgroup": "depaula.com",
         "marker": {
          "color": "#636efa"
         },
         "name": "depaula.com",
         "offsetgroup": "depaula.com",
         "orientation": "v",
         "showlegend": true,
         "textposition": "auto",
         "type": "bar",
         "x": [
          "depaula.com"
         ],
         "xaxis": "x",
         "y": [
          2
         ],
         "yaxis": "y"
        },
        {
         "alignmentgroup": "True",
         "hovertemplate": "name=%{x}<br>count=%{y}<extra></extra>",
         "legendgroup": "thekitchn.com",
         "marker": {
          "color": "#EF553B"
         },
         "name": "thekitchn.com",
         "offsetgroup": "thekitchn.com",
         "orientation": "v",
         "showlegend": true,
         "textposition": "auto",
         "type": "bar",
         "x": [
          "thekitchn.com"
         ],
         "xaxis": "x",
         "y": [
          2
         ],
         "yaxis": "y"
        },
        {
         "alignmentgroup": "True",
         "hovertemplate": "name=%{x}<br>count=%{y}<extra></extra>",
         "legendgroup": "thestockdork.com",
         "marker": {
          "color": "#00cc96"
         },
         "name": "thestockdork.com",
         "offsetgroup": "thestockdork.com",
         "orientation": "v",
         "showlegend": true,
         "textposition": "auto",
         "type": "bar",
         "x": [
          "thestockdork.com"
         ],
         "xaxis": "x",
         "y": [
          2
         ],
         "yaxis": "y"
        },
        {
         "alignmentgroup": "True",
         "hovertemplate": "name=%{x}<br>count=%{y}<extra></extra>",
         "legendgroup": "abc7chicago.com",
         "marker": {
          "color": "#ab63fa"
         },
         "name": "abc7chicago.com",
         "offsetgroup": "abc7chicago.com",
         "orientation": "v",
         "showlegend": true,
         "textposition": "auto",
         "type": "bar",
         "x": [
          "abc7chicago.com"
         ],
         "xaxis": "x",
         "y": [
          2
         ],
         "yaxis": "y"
        },
        {
         "alignmentgroup": "True",
         "hovertemplate": "name=%{x}<br>count=%{y}<extra></extra>",
         "legendgroup": "techrepublic.com",
         "marker": {
          "color": "#FFA15A"
         },
         "name": "techrepublic.com",
         "offsetgroup": "techrepublic.com",
         "orientation": "v",
         "showlegend": true,
         "textposition": "auto",
         "type": "bar",
         "x": [
          "techrepublic.com"
         ],
         "xaxis": "x",
         "y": [
          2
         ],
         "yaxis": "y"
        },
        {
         "alignmentgroup": "True",
         "hovertemplate": "name=%{x}<br>count=%{y}<extra></extra>",
         "legendgroup": "Macy's",
         "marker": {
          "color": "#19d3f3"
         },
         "name": "Macy's",
         "offsetgroup": "Macy's",
         "orientation": "v",
         "showlegend": true,
         "textposition": "auto",
         "type": "bar",
         "x": [
          "Macy's"
         ],
         "xaxis": "x",
         "y": [
          2
         ],
         "yaxis": "y"
        },
        {
         "alignmentgroup": "True",
         "hovertemplate": "name=%{x}<br>count=%{y}<extra></extra>",
         "legendgroup": "popbuzz.com",
         "marker": {
          "color": "#FF6692"
         },
         "name": "popbuzz.com",
         "offsetgroup": "popbuzz.com",
         "orientation": "v",
         "showlegend": true,
         "textposition": "auto",
         "type": "bar",
         "x": [
          "popbuzz.com"
         ],
         "xaxis": "x",
         "y": [
          2
         ],
         "yaxis": "y"
        },
        {
         "alignmentgroup": "True",
         "hovertemplate": "name=%{x}<br>count=%{y}<extra></extra>",
         "legendgroup": "wsj.com",
         "marker": {
          "color": "#B6E880"
         },
         "name": "wsj.com",
         "offsetgroup": "wsj.com",
         "orientation": "v",
         "showlegend": true,
         "textposition": "auto",
         "type": "bar",
         "x": [
          "wsj.com"
         ],
         "xaxis": "x",
         "y": [
          2
         ],
         "yaxis": "y"
        },
        {
         "alignmentgroup": "True",
         "hovertemplate": "name=%{x}<br>count=%{y}<extra></extra>",
         "legendgroup": "vultr.com",
         "marker": {
          "color": "#FF97FF"
         },
         "name": "vultr.com",
         "offsetgroup": "vultr.com",
         "orientation": "v",
         "showlegend": true,
         "textposition": "auto",
         "type": "bar",
         "x": [
          "vultr.com"
         ],
         "xaxis": "x",
         "y": [
          2
         ],
         "yaxis": "y"
        },
        {
         "alignmentgroup": "True",
         "hovertemplate": "name=%{x}<br>count=%{y}<extra></extra>",
         "legendgroup": "hypervibe.com",
         "marker": {
          "color": "#FECB52"
         },
         "name": "hypervibe.com",
         "offsetgroup": "hypervibe.com",
         "orientation": "v",
         "showlegend": true,
         "textposition": "auto",
         "type": "bar",
         "x": [
          "hypervibe.com"
         ],
         "xaxis": "x",
         "y": [
          2
         ],
         "yaxis": "y"
        },
        {
         "alignmentgroup": "True",
         "hovertemplate": "name=%{x}<br>count=%{y}<extra></extra>",
         "legendgroup": "autotrader.com",
         "marker": {
          "color": "#636efa"
         },
         "name": "autotrader.com",
         "offsetgroup": "autotrader.com",
         "orientation": "v",
         "showlegend": true,
         "textposition": "auto",
         "type": "bar",
         "x": [
          "autotrader.com"
         ],
         "xaxis": "x",
         "y": [
          2
         ],
         "yaxis": "y"
        },
        {
         "alignmentgroup": "True",
         "hovertemplate": "name=%{x}<br>count=%{y}<extra></extra>",
         "legendgroup": "southwest.com",
         "marker": {
          "color": "#EF553B"
         },
         "name": "southwest.com",
         "offsetgroup": "southwest.com",
         "orientation": "v",
         "showlegend": true,
         "textposition": "auto",
         "type": "bar",
         "x": [
          "southwest.com"
         ],
         "xaxis": "x",
         "y": [
          2
         ],
         "yaxis": "y"
        },
        {
         "alignmentgroup": "True",
         "hovertemplate": "name=%{x}<br>count=%{y}<extra></extra>",
         "legendgroup": "usnews.com",
         "marker": {
          "color": "#00cc96"
         },
         "name": "usnews.com",
         "offsetgroup": "usnews.com",
         "orientation": "v",
         "showlegend": true,
         "textposition": "auto",
         "type": "bar",
         "x": [
          "usnews.com"
         ],
         "xaxis": "x",
         "y": [
          2
         ],
         "yaxis": "y"
        },
        {
         "alignmentgroup": "True",
         "hovertemplate": "name=%{x}<br>count=%{y}<extra></extra>",
         "legendgroup": "hired.com",
         "marker": {
          "color": "#ab63fa"
         },
         "name": "hired.com",
         "offsetgroup": "hired.com",
         "orientation": "v",
         "showlegend": true,
         "textposition": "auto",
         "type": "bar",
         "x": [
          "hired.com"
         ],
         "xaxis": "x",
         "y": [
          2
         ],
         "yaxis": "y"
        },
        {
         "alignmentgroup": "True",
         "hovertemplate": "name=%{x}<br>count=%{y}<extra></extra>",
         "legendgroup": "Waze Navigation & Live Traffic",
         "marker": {
          "color": "#FFA15A"
         },
         "name": "Waze Navigation & Live Traffic",
         "offsetgroup": "Waze Navigation & Live Traffic",
         "orientation": "v",
         "showlegend": true,
         "textposition": "auto",
         "type": "bar",
         "x": [
          "Waze Navigation & Live Traffic"
         ],
         "xaxis": "x",
         "y": [
          2
         ],
         "yaxis": "y"
        },
        {
         "alignmentgroup": "True",
         "hovertemplate": "name=%{x}<br>count=%{y}<extra></extra>",
         "legendgroup": "stackify.com",
         "marker": {
          "color": "#19d3f3"
         },
         "name": "stackify.com",
         "offsetgroup": "stackify.com",
         "orientation": "v",
         "showlegend": true,
         "textposition": "auto",
         "type": "bar",
         "x": [
          "stackify.com"
         ],
         "xaxis": "x",
         "y": [
          2
         ],
         "yaxis": "y"
        },
        {
         "alignmentgroup": "True",
         "hovertemplate": "name=%{x}<br>count=%{y}<extra></extra>",
         "legendgroup": "auvik.com",
         "marker": {
          "color": "#FF6692"
         },
         "name": "auvik.com",
         "offsetgroup": "auvik.com",
         "orientation": "v",
         "showlegend": true,
         "textposition": "auto",
         "type": "bar",
         "x": [
          "auvik.com"
         ],
         "xaxis": "x",
         "y": [
          2
         ],
         "yaxis": "y"
        },
        {
         "alignmentgroup": "True",
         "hovertemplate": "name=%{x}<br>count=%{y}<extra></extra>",
         "legendgroup": "ironsrc.com",
         "marker": {
          "color": "#B6E880"
         },
         "name": "ironsrc.com",
         "offsetgroup": "ironsrc.com",
         "orientation": "v",
         "showlegend": true,
         "textposition": "auto",
         "type": "bar",
         "x": [
          "ironsrc.com"
         ],
         "xaxis": "x",
         "y": [
          1
         ],
         "yaxis": "y"
        },
        {
         "alignmentgroup": "True",
         "hovertemplate": "name=%{x}<br>count=%{y}<extra></extra>",
         "legendgroup": "soundguys.com",
         "marker": {
          "color": "#FF97FF"
         },
         "name": "soundguys.com",
         "offsetgroup": "soundguys.com",
         "orientation": "v",
         "showlegend": true,
         "textposition": "auto",
         "type": "bar",
         "x": [
          "soundguys.com"
         ],
         "xaxis": "x",
         "y": [
          1
         ],
         "yaxis": "y"
        },
        {
         "alignmentgroup": "True",
         "hovertemplate": "name=%{x}<br>count=%{y}<extra></extra>",
         "legendgroup": "linode.com",
         "marker": {
          "color": "#FECB52"
         },
         "name": "linode.com",
         "offsetgroup": "linode.com",
         "orientation": "v",
         "showlegend": true,
         "textposition": "auto",
         "type": "bar",
         "x": [
          "linode.com"
         ],
         "xaxis": "x",
         "y": [
          1
         ],
         "yaxis": "y"
        },
        {
         "alignmentgroup": "True",
         "hovertemplate": "name=%{x}<br>count=%{y}<extra></extra>",
         "legendgroup": "Publicis Media",
         "marker": {
          "color": "#636efa"
         },
         "name": "Publicis Media",
         "offsetgroup": "Publicis Media",
         "orientation": "v",
         "showlegend": true,
         "textposition": "auto",
         "type": "bar",
         "x": [
          "Publicis Media"
         ],
         "xaxis": "x",
         "y": [
          1
         ],
         "yaxis": "y"
        },
        {
         "alignmentgroup": "True",
         "hovertemplate": "name=%{x}<br>count=%{y}<extra></extra>",
         "legendgroup": "stor.re",
         "marker": {
          "color": "#EF553B"
         },
         "name": "stor.re",
         "offsetgroup": "stor.re",
         "orientation": "v",
         "showlegend": true,
         "textposition": "auto",
         "type": "bar",
         "x": [
          "stor.re"
         ],
         "xaxis": "x",
         "y": [
          1
         ],
         "yaxis": "y"
        },
        {
         "alignmentgroup": "True",
         "hovertemplate": "name=%{x}<br>count=%{y}<extra></extra>",
         "legendgroup": "Navy Federal Credit Union",
         "marker": {
          "color": "#00cc96"
         },
         "name": "Navy Federal Credit Union",
         "offsetgroup": "Navy Federal Credit Union",
         "orientation": "v",
         "showlegend": true,
         "textposition": "auto",
         "type": "bar",
         "x": [
          "Navy Federal Credit Union"
         ],
         "xaxis": "x",
         "y": [
          1
         ],
         "yaxis": "y"
        },
        {
         "alignmentgroup": "True",
         "hovertemplate": "name=%{x}<br>count=%{y}<extra></extra>",
         "legendgroup": "softonic.com",
         "marker": {
          "color": "#ab63fa"
         },
         "name": "softonic.com",
         "offsetgroup": "softonic.com",
         "orientation": "v",
         "showlegend": true,
         "textposition": "auto",
         "type": "bar",
         "x": [
          "softonic.com"
         ],
         "xaxis": "x",
         "y": [
          1
         ],
         "yaxis": "y"
        },
        {
         "alignmentgroup": "True",
         "hovertemplate": "name=%{x}<br>count=%{y}<extra></extra>",
         "legendgroup": "theverge.com",
         "marker": {
          "color": "#FFA15A"
         },
         "name": "theverge.com",
         "offsetgroup": "theverge.com",
         "orientation": "v",
         "showlegend": true,
         "textposition": "auto",
         "type": "bar",
         "x": [
          "theverge.com"
         ],
         "xaxis": "x",
         "y": [
          1
         ],
         "yaxis": "y"
        },
        {
         "alignmentgroup": "True",
         "hovertemplate": "name=%{x}<br>count=%{y}<extra></extra>",
         "legendgroup": "guinnessworldrecords.com",
         "marker": {
          "color": "#19d3f3"
         },
         "name": "guinnessworldrecords.com",
         "offsetgroup": "guinnessworldrecords.com",
         "orientation": "v",
         "showlegend": true,
         "textposition": "auto",
         "type": "bar",
         "x": [
          "guinnessworldrecords.com"
         ],
         "xaxis": "x",
         "y": [
          1
         ],
         "yaxis": "y"
        },
        {
         "alignmentgroup": "True",
         "hovertemplate": "name=%{x}<br>count=%{y}<extra></extra>",
         "legendgroup": "hartenergy.com",
         "marker": {
          "color": "#FF6692"
         },
         "name": "hartenergy.com",
         "offsetgroup": "hartenergy.com",
         "orientation": "v",
         "showlegend": true,
         "textposition": "auto",
         "type": "bar",
         "x": [
          "hartenergy.com"
         ],
         "xaxis": "x",
         "y": [
          1
         ],
         "yaxis": "y"
        },
        {
         "alignmentgroup": "True",
         "hovertemplate": "name=%{x}<br>count=%{y}<extra></extra>",
         "legendgroup": "history.com",
         "marker": {
          "color": "#B6E880"
         },
         "name": "history.com",
         "offsetgroup": "history.com",
         "orientation": "v",
         "showlegend": true,
         "textposition": "auto",
         "type": "bar",
         "x": [
          "history.com"
         ],
         "xaxis": "x",
         "y": [
          1
         ],
         "yaxis": "y"
        },
        {
         "alignmentgroup": "True",
         "hovertemplate": "name=%{x}<br>count=%{y}<extra></extra>",
         "legendgroup": "vice.com",
         "marker": {
          "color": "#FF97FF"
         },
         "name": "vice.com",
         "offsetgroup": "vice.com",
         "orientation": "v",
         "showlegend": true,
         "textposition": "auto",
         "type": "bar",
         "x": [
          "vice.com"
         ],
         "xaxis": "x",
         "y": [
          1
         ],
         "yaxis": "y"
        },
        {
         "alignmentgroup": "True",
         "hovertemplate": "name=%{x}<br>count=%{y}<extra></extra>",
         "legendgroup": "loopnet.com",
         "marker": {
          "color": "#FECB52"
         },
         "name": "loopnet.com",
         "offsetgroup": "loopnet.com",
         "orientation": "v",
         "showlegend": true,
         "textposition": "auto",
         "type": "bar",
         "x": [
          "loopnet.com"
         ],
         "xaxis": "x",
         "y": [
          1
         ],
         "yaxis": "y"
        },
        {
         "alignmentgroup": "True",
         "hovertemplate": "name=%{x}<br>count=%{y}<extra></extra>",
         "legendgroup": "d8rk54i4mohrb.cloudfront.net",
         "marker": {
          "color": "#636efa"
         },
         "name": "d8rk54i4mohrb.cloudfront.net",
         "offsetgroup": "d8rk54i4mohrb.cloudfront.net",
         "orientation": "v",
         "showlegend": true,
         "textposition": "auto",
         "type": "bar",
         "x": [
          "d8rk54i4mohrb.cloudfront.net"
         ],
         "xaxis": "x",
         "y": [
          1
         ],
         "yaxis": "y"
        },
        {
         "alignmentgroup": "True",
         "hovertemplate": "name=%{x}<br>count=%{y}<extra></extra>",
         "legendgroup": "inmotionhosting.com",
         "marker": {
          "color": "#EF553B"
         },
         "name": "inmotionhosting.com",
         "offsetgroup": "inmotionhosting.com",
         "orientation": "v",
         "showlegend": true,
         "textposition": "auto",
         "type": "bar",
         "x": [
          "inmotionhosting.com"
         ],
         "xaxis": "x",
         "y": [
          1
         ],
         "yaxis": "y"
        },
        {
         "alignmentgroup": "True",
         "hovertemplate": "name=%{x}<br>count=%{y}<extra></extra>",
         "legendgroup": "pepboys.com",
         "marker": {
          "color": "#00cc96"
         },
         "name": "pepboys.com",
         "offsetgroup": "pepboys.com",
         "orientation": "v",
         "showlegend": true,
         "textposition": "auto",
         "type": "bar",
         "x": [
          "pepboys.com"
         ],
         "xaxis": "x",
         "y": [
          1
         ],
         "yaxis": "y"
        },
        {
         "alignmentgroup": "True",
         "hovertemplate": "name=%{x}<br>count=%{y}<extra></extra>",
         "legendgroup": "stackabuse.com",
         "marker": {
          "color": "#ab63fa"
         },
         "name": "stackabuse.com",
         "offsetgroup": "stackabuse.com",
         "orientation": "v",
         "showlegend": true,
         "textposition": "auto",
         "type": "bar",
         "x": [
          "stackabuse.com"
         ],
         "xaxis": "x",
         "y": [
          1
         ],
         "yaxis": "y"
        },
        {
         "alignmentgroup": "True",
         "hovertemplate": "name=%{x}<br>count=%{y}<extra></extra>",
         "legendgroup": "startribune.com",
         "marker": {
          "color": "#FFA15A"
         },
         "name": "startribune.com",
         "offsetgroup": "startribune.com",
         "orientation": "v",
         "showlegend": true,
         "textposition": "auto",
         "type": "bar",
         "x": [
          "startribune.com"
         ],
         "xaxis": "x",
         "y": [
          1
         ],
         "yaxis": "y"
        },
        {
         "alignmentgroup": "True",
         "hovertemplate": "name=%{x}<br>count=%{y}<extra></extra>",
         "legendgroup": "wesbos.com",
         "marker": {
          "color": "#19d3f3"
         },
         "name": "wesbos.com",
         "offsetgroup": "wesbos.com",
         "orientation": "v",
         "showlegend": true,
         "textposition": "auto",
         "type": "bar",
         "x": [
          "wesbos.com"
         ],
         "xaxis": "x",
         "y": [
          1
         ],
         "yaxis": "y"
        },
        {
         "alignmentgroup": "True",
         "hovertemplate": "name=%{x}<br>count=%{y}<extra></extra>",
         "legendgroup": "civo.com",
         "marker": {
          "color": "#FF6692"
         },
         "name": "civo.com",
         "offsetgroup": "civo.com",
         "orientation": "v",
         "showlegend": true,
         "textposition": "auto",
         "type": "bar",
         "x": [
          "civo.com"
         ],
         "xaxis": "x",
         "y": [
          1
         ],
         "yaxis": "y"
        },
        {
         "alignmentgroup": "True",
         "hovertemplate": "name=%{x}<br>count=%{y}<extra></extra>",
         "legendgroup": "idahostatejournal.com",
         "marker": {
          "color": "#B6E880"
         },
         "name": "idahostatejournal.com",
         "offsetgroup": "idahostatejournal.com",
         "orientation": "v",
         "showlegend": true,
         "textposition": "auto",
         "type": "bar",
         "x": [
          "idahostatejournal.com"
         ],
         "xaxis": "x",
         "y": [
          1
         ],
         "yaxis": "y"
        },
        {
         "alignmentgroup": "True",
         "hovertemplate": "name=%{x}<br>count=%{y}<extra></extra>",
         "legendgroup": "soapui.org",
         "marker": {
          "color": "#FF97FF"
         },
         "name": "soapui.org",
         "offsetgroup": "soapui.org",
         "orientation": "v",
         "showlegend": true,
         "textposition": "auto",
         "type": "bar",
         "x": [
          "soapui.org"
         ],
         "xaxis": "x",
         "y": [
          1
         ],
         "yaxis": "y"
        },
        {
         "alignmentgroup": "True",
         "hovertemplate": "name=%{x}<br>count=%{y}<extra></extra>",
         "legendgroup": "headphonesty.com",
         "marker": {
          "color": "#FECB52"
         },
         "name": "headphonesty.com",
         "offsetgroup": "headphonesty.com",
         "orientation": "v",
         "showlegend": true,
         "textposition": "auto",
         "type": "bar",
         "x": [
          "headphonesty.com"
         ],
         "xaxis": "x",
         "y": [
          1
         ],
         "yaxis": "y"
        },
        {
         "alignmentgroup": "True",
         "hovertemplate": "name=%{x}<br>count=%{y}<extra></extra>",
         "legendgroup": "mentalfloss.com",
         "marker": {
          "color": "#636efa"
         },
         "name": "mentalfloss.com",
         "offsetgroup": "mentalfloss.com",
         "orientation": "v",
         "showlegend": true,
         "textposition": "auto",
         "type": "bar",
         "x": [
          "mentalfloss.com"
         ],
         "xaxis": "x",
         "y": [
          1
         ],
         "yaxis": "y"
        },
        {
         "alignmentgroup": "True",
         "hovertemplate": "name=%{x}<br>count=%{y}<extra></extra>",
         "legendgroup": "hubspot.com",
         "marker": {
          "color": "#EF553B"
         },
         "name": "hubspot.com",
         "offsetgroup": "hubspot.com",
         "orientation": "v",
         "showlegend": true,
         "textposition": "auto",
         "type": "bar",
         "x": [
          "hubspot.com"
         ],
         "xaxis": "x",
         "y": [
          1
         ],
         "yaxis": "y"
        },
        {
         "alignmentgroup": "True",
         "hovertemplate": "name=%{x}<br>count=%{y}<extra></extra>",
         "legendgroup": "elizabethwarren.com",
         "marker": {
          "color": "#00cc96"
         },
         "name": "elizabethwarren.com",
         "offsetgroup": "elizabethwarren.com",
         "orientation": "v",
         "showlegend": true,
         "textposition": "auto",
         "type": "bar",
         "x": [
          "elizabethwarren.com"
         ],
         "xaxis": "x",
         "y": [
          1
         ],
         "yaxis": "y"
        },
        {
         "alignmentgroup": "True",
         "hovertemplate": "name=%{x}<br>count=%{y}<extra></extra>",
         "legendgroup": "menshealth.com",
         "marker": {
          "color": "#ab63fa"
         },
         "name": "menshealth.com",
         "offsetgroup": "menshealth.com",
         "orientation": "v",
         "showlegend": true,
         "textposition": "auto",
         "type": "bar",
         "x": [
          "menshealth.com"
         ],
         "xaxis": "x",
         "y": [
          1
         ],
         "yaxis": "y"
        },
        {
         "alignmentgroup": "True",
         "hovertemplate": "name=%{x}<br>count=%{y}<extra></extra>",
         "legendgroup": "cults3d.com",
         "marker": {
          "color": "#FFA15A"
         },
         "name": "cults3d.com",
         "offsetgroup": "cults3d.com",
         "orientation": "v",
         "showlegend": true,
         "textposition": "auto",
         "type": "bar",
         "x": [
          "cults3d.com"
         ],
         "xaxis": "x",
         "y": [
          1
         ],
         "yaxis": "y"
        },
        {
         "alignmentgroup": "True",
         "hovertemplate": "name=%{x}<br>count=%{y}<extra></extra>",
         "legendgroup": "mdbootstrap.com",
         "marker": {
          "color": "#19d3f3"
         },
         "name": "mdbootstrap.com",
         "offsetgroup": "mdbootstrap.com",
         "orientation": "v",
         "showlegend": true,
         "textposition": "auto",
         "type": "bar",
         "x": [
          "mdbootstrap.com"
         ],
         "xaxis": "x",
         "y": [
          1
         ],
         "yaxis": "y"
        },
        {
         "alignmentgroup": "True",
         "hovertemplate": "name=%{x}<br>count=%{y}<extra></extra>",
         "legendgroup": "dictionary.com",
         "marker": {
          "color": "#FF6692"
         },
         "name": "dictionary.com",
         "offsetgroup": "dictionary.com",
         "orientation": "v",
         "showlegend": true,
         "textposition": "auto",
         "type": "bar",
         "x": [
          "dictionary.com"
         ],
         "xaxis": "x",
         "y": [
          1
         ],
         "yaxis": "y"
        },
        {
         "alignmentgroup": "True",
         "hovertemplate": "name=%{x}<br>count=%{y}<extra></extra>",
         "legendgroup": "androidcentral.com",
         "marker": {
          "color": "#B6E880"
         },
         "name": "androidcentral.com",
         "offsetgroup": "androidcentral.com",
         "orientation": "v",
         "showlegend": true,
         "textposition": "auto",
         "type": "bar",
         "x": [
          "androidcentral.com"
         ],
         "xaxis": "x",
         "y": [
          1
         ],
         "yaxis": "y"
        },
        {
         "alignmentgroup": "True",
         "hovertemplate": "name=%{x}<br>count=%{y}<extra></extra>",
         "legendgroup": "priceline.com",
         "marker": {
          "color": "#FF97FF"
         },
         "name": "priceline.com",
         "offsetgroup": "priceline.com",
         "orientation": "v",
         "showlegend": true,
         "textposition": "auto",
         "type": "bar",
         "x": [
          "priceline.com"
         ],
         "xaxis": "x",
         "y": [
          1
         ],
         "yaxis": "y"
        },
        {
         "alignmentgroup": "True",
         "hovertemplate": "name=%{x}<br>count=%{y}<extra></extra>",
         "legendgroup": "slime.com",
         "marker": {
          "color": "#FECB52"
         },
         "name": "slime.com",
         "offsetgroup": "slime.com",
         "orientation": "v",
         "showlegend": true,
         "textposition": "auto",
         "type": "bar",
         "x": [
          "slime.com"
         ],
         "xaxis": "x",
         "y": [
          1
         ],
         "yaxis": "y"
        },
        {
         "alignmentgroup": "True",
         "hovertemplate": "name=%{x}<br>count=%{y}<extra></extra>",
         "legendgroup": "sony.com",
         "marker": {
          "color": "#636efa"
         },
         "name": "sony.com",
         "offsetgroup": "sony.com",
         "orientation": "v",
         "showlegend": true,
         "textposition": "auto",
         "type": "bar",
         "x": [
          "sony.com"
         ],
         "xaxis": "x",
         "y": [
          1
         ],
         "yaxis": "y"
        },
        {
         "alignmentgroup": "True",
         "hovertemplate": "name=%{x}<br>count=%{y}<extra></extra>",
         "legendgroup": "t-mobile.com",
         "marker": {
          "color": "#EF553B"
         },
         "name": "t-mobile.com",
         "offsetgroup": "t-mobile.com",
         "orientation": "v",
         "showlegend": true,
         "textposition": "auto",
         "type": "bar",
         "x": [
          "t-mobile.com"
         ],
         "xaxis": "x",
         "y": [
          1
         ],
         "yaxis": "y"
        },
        {
         "alignmentgroup": "True",
         "hovertemplate": "name=%{x}<br>count=%{y}<extra></extra>",
         "legendgroup": "laptopmag.com",
         "marker": {
          "color": "#00cc96"
         },
         "name": "laptopmag.com",
         "offsetgroup": "laptopmag.com",
         "orientation": "v",
         "showlegend": true,
         "textposition": "auto",
         "type": "bar",
         "x": [
          "laptopmag.com"
         ],
         "xaxis": "x",
         "y": [
          1
         ],
         "yaxis": "y"
        },
        {
         "alignmentgroup": "True",
         "hovertemplate": "name=%{x}<br>count=%{y}<extra></extra>",
         "legendgroup": "pucksystems2.com",
         "marker": {
          "color": "#ab63fa"
         },
         "name": "pucksystems2.com",
         "offsetgroup": "pucksystems2.com",
         "orientation": "v",
         "showlegend": true,
         "textposition": "auto",
         "type": "bar",
         "x": [
          "pucksystems2.com"
         ],
         "xaxis": "x",
         "y": [
          1
         ],
         "yaxis": "y"
        },
        {
         "alignmentgroup": "True",
         "hovertemplate": "name=%{x}<br>count=%{y}<extra></extra>",
         "legendgroup": "Ford Motor Company",
         "marker": {
          "color": "#FFA15A"
         },
         "name": "Ford Motor Company",
         "offsetgroup": "Ford Motor Company",
         "orientation": "v",
         "showlegend": true,
         "textposition": "auto",
         "type": "bar",
         "x": [
          "Ford Motor Company"
         ],
         "xaxis": "x",
         "y": [
          1
         ],
         "yaxis": "y"
        },
        {
         "alignmentgroup": "True",
         "hovertemplate": "name=%{x}<br>count=%{y}<extra></extra>",
         "legendgroup": "halloweencostumes.com",
         "marker": {
          "color": "#19d3f3"
         },
         "name": "halloweencostumes.com",
         "offsetgroup": "halloweencostumes.com",
         "orientation": "v",
         "showlegend": true,
         "textposition": "auto",
         "type": "bar",
         "x": [
          "halloweencostumes.com"
         ],
         "xaxis": "x",
         "y": [
          1
         ],
         "yaxis": "y"
        },
        {
         "alignmentgroup": "True",
         "hovertemplate": "name=%{x}<br>count=%{y}<extra></extra>",
         "legendgroup": "axios.com",
         "marker": {
          "color": "#FF6692"
         },
         "name": "axios.com",
         "offsetgroup": "axios.com",
         "orientation": "v",
         "showlegend": true,
         "textposition": "auto",
         "type": "bar",
         "x": [
          "axios.com"
         ],
         "xaxis": "x",
         "y": [
          1
         ],
         "yaxis": "y"
        },
        {
         "alignmentgroup": "True",
         "hovertemplate": "name=%{x}<br>count=%{y}<extra></extra>",
         "legendgroup": "brembo.com",
         "marker": {
          "color": "#B6E880"
         },
         "name": "brembo.com",
         "offsetgroup": "brembo.com",
         "orientation": "v",
         "showlegend": true,
         "textposition": "auto",
         "type": "bar",
         "x": [
          "brembo.com"
         ],
         "xaxis": "x",
         "y": [
          1
         ],
         "yaxis": "y"
        },
        {
         "alignmentgroup": "True",
         "hovertemplate": "name=%{x}<br>count=%{y}<extra></extra>",
         "legendgroup": "sematext.com",
         "marker": {
          "color": "#FF97FF"
         },
         "name": "sematext.com",
         "offsetgroup": "sematext.com",
         "orientation": "v",
         "showlegend": true,
         "textposition": "auto",
         "type": "bar",
         "x": [
          "sematext.com"
         ],
         "xaxis": "x",
         "y": [
          1
         ],
         "yaxis": "y"
        },
        {
         "alignmentgroup": "True",
         "hovertemplate": "name=%{x}<br>count=%{y}<extra></extra>",
         "legendgroup": "allpennystocks.com",
         "marker": {
          "color": "#FECB52"
         },
         "name": "allpennystocks.com",
         "offsetgroup": "allpennystocks.com",
         "orientation": "v",
         "showlegend": true,
         "textposition": "auto",
         "type": "bar",
         "x": [
          "allpennystocks.com"
         ],
         "xaxis": "x",
         "y": [
          1
         ],
         "yaxis": "y"
        },
        {
         "alignmentgroup": "True",
         "hovertemplate": "name=%{x}<br>count=%{y}<extra></extra>",
         "legendgroup": "a2hosting.com",
         "marker": {
          "color": "#636efa"
         },
         "name": "a2hosting.com",
         "offsetgroup": "a2hosting.com",
         "orientation": "v",
         "showlegend": true,
         "textposition": "auto",
         "type": "bar",
         "x": [
          "a2hosting.com"
         ],
         "xaxis": "x",
         "y": [
          1
         ],
         "yaxis": "y"
        },
        {
         "alignmentgroup": "True",
         "hovertemplate": "name=%{x}<br>count=%{y}<extra></extra>",
         "legendgroup": "wfmynews2.com",
         "marker": {
          "color": "#EF553B"
         },
         "name": "wfmynews2.com",
         "offsetgroup": "wfmynews2.com",
         "orientation": "v",
         "showlegend": true,
         "textposition": "auto",
         "type": "bar",
         "x": [
          "wfmynews2.com"
         ],
         "xaxis": "x",
         "y": [
          1
         ],
         "yaxis": "y"
        },
        {
         "alignmentgroup": "True",
         "hovertemplate": "name=%{x}<br>count=%{y}<extra></extra>",
         "legendgroup": "corsair.com",
         "marker": {
          "color": "#00cc96"
         },
         "name": "corsair.com",
         "offsetgroup": "corsair.com",
         "orientation": "v",
         "showlegend": true,
         "textposition": "auto",
         "type": "bar",
         "x": [
          "corsair.com"
         ],
         "xaxis": "x",
         "y": [
          1
         ],
         "yaxis": "y"
        },
        {
         "alignmentgroup": "True",
         "hovertemplate": "name=%{x}<br>count=%{y}<extra></extra>",
         "legendgroup": "brembostoreusa.com",
         "marker": {
          "color": "#ab63fa"
         },
         "name": "brembostoreusa.com",
         "offsetgroup": "brembostoreusa.com",
         "orientation": "v",
         "showlegend": true,
         "textposition": "auto",
         "type": "bar",
         "x": [
          "brembostoreusa.com"
         ],
         "xaxis": "x",
         "y": [
          1
         ],
         "yaxis": "y"
        },
        {
         "alignmentgroup": "True",
         "hovertemplate": "name=%{x}<br>count=%{y}<extra></extra>",
         "legendgroup": "Camelot Strategic Marketing and Media",
         "marker": {
          "color": "#FFA15A"
         },
         "name": "Camelot Strategic Marketing and Media",
         "offsetgroup": "Camelot Strategic Marketing and Media",
         "orientation": "v",
         "showlegend": true,
         "textposition": "auto",
         "type": "bar",
         "x": [
          "Camelot Strategic Marketing and Media"
         ],
         "xaxis": "x",
         "y": [
          1
         ],
         "yaxis": "y"
        },
        {
         "alignmentgroup": "True",
         "hovertemplate": "name=%{x}<br>count=%{y}<extra></extra>",
         "legendgroup": "urbanaxes.com",
         "marker": {
          "color": "#19d3f3"
         },
         "name": "urbanaxes.com",
         "offsetgroup": "urbanaxes.com",
         "orientation": "v",
         "showlegend": true,
         "textposition": "auto",
         "type": "bar",
         "x": [
          "urbanaxes.com"
         ],
         "xaxis": "x",
         "y": [
          1
         ],
         "yaxis": "y"
        },
        {
         "alignmentgroup": "True",
         "hovertemplate": "name=%{x}<br>count=%{y}<extra></extra>",
         "legendgroup": "hiphopdx.com",
         "marker": {
          "color": "#FF6692"
         },
         "name": "hiphopdx.com",
         "offsetgroup": "hiphopdx.com",
         "orientation": "v",
         "showlegend": true,
         "textposition": "auto",
         "type": "bar",
         "x": [
          "hiphopdx.com"
         ],
         "xaxis": "x",
         "y": [
          1
         ],
         "yaxis": "y"
        },
        {
         "alignmentgroup": "True",
         "hovertemplate": "name=%{x}<br>count=%{y}<extra></extra>",
         "legendgroup": "thrillist.com",
         "marker": {
          "color": "#B6E880"
         },
         "name": "thrillist.com",
         "offsetgroup": "thrillist.com",
         "orientation": "v",
         "showlegend": true,
         "textposition": "auto",
         "type": "bar",
         "x": [
          "thrillist.com"
         ],
         "xaxis": "x",
         "y": [
          1
         ],
         "yaxis": "y"
        },
        {
         "alignmentgroup": "True",
         "hovertemplate": "name=%{x}<br>count=%{y}<extra></extra>",
         "legendgroup": "skyscanner.com",
         "marker": {
          "color": "#FF97FF"
         },
         "name": "skyscanner.com",
         "offsetgroup": "skyscanner.com",
         "orientation": "v",
         "showlegend": true,
         "textposition": "auto",
         "type": "bar",
         "x": [
          "skyscanner.com"
         ],
         "xaxis": "x",
         "y": [
          1
         ],
         "yaxis": "y"
        },
        {
         "alignmentgroup": "True",
         "hovertemplate": "name=%{x}<br>count=%{y}<extra></extra>",
         "legendgroup": "GoDaddy",
         "marker": {
          "color": "#FECB52"
         },
         "name": "GoDaddy",
         "offsetgroup": "GoDaddy",
         "orientation": "v",
         "showlegend": true,
         "textposition": "auto",
         "type": "bar",
         "x": [
          "GoDaddy"
         ],
         "xaxis": "x",
         "y": [
          1
         ],
         "yaxis": "y"
        },
        {
         "alignmentgroup": "True",
         "hovertemplate": "name=%{x}<br>count=%{y}<extra></extra>",
         "legendgroup": "imperva.com",
         "marker": {
          "color": "#636efa"
         },
         "name": "imperva.com",
         "offsetgroup": "imperva.com",
         "orientation": "v",
         "showlegend": true,
         "textposition": "auto",
         "type": "bar",
         "x": [
          "imperva.com"
         ],
         "xaxis": "x",
         "y": [
          1
         ],
         "yaxis": "y"
        },
        {
         "alignmentgroup": "True",
         "hovertemplate": "name=%{x}<br>count=%{y}<extra></extra>",
         "legendgroup": "gridscale.io",
         "marker": {
          "color": "#EF553B"
         },
         "name": "gridscale.io",
         "offsetgroup": "gridscale.io",
         "orientation": "v",
         "showlegend": true,
         "textposition": "auto",
         "type": "bar",
         "x": [
          "gridscale.io"
         ],
         "xaxis": "x",
         "y": [
          1
         ],
         "yaxis": "y"
        },
        {
         "alignmentgroup": "True",
         "hovertemplate": "name=%{x}<br>count=%{y}<extra></extra>",
         "legendgroup": "ipsy.com",
         "marker": {
          "color": "#00cc96"
         },
         "name": "ipsy.com",
         "offsetgroup": "ipsy.com",
         "orientation": "v",
         "showlegend": true,
         "textposition": "auto",
         "type": "bar",
         "x": [
          "ipsy.com"
         ],
         "xaxis": "x",
         "y": [
          1
         ],
         "yaxis": "y"
        },
        {
         "alignmentgroup": "True",
         "hovertemplate": "name=%{x}<br>count=%{y}<extra></extra>",
         "legendgroup": "realfastspanish.com",
         "marker": {
          "color": "#ab63fa"
         },
         "name": "realfastspanish.com",
         "offsetgroup": "realfastspanish.com",
         "orientation": "v",
         "showlegend": true,
         "textposition": "auto",
         "type": "bar",
         "x": [
          "realfastspanish.com"
         ],
         "xaxis": "x",
         "y": [
          1
         ],
         "yaxis": "y"
        },
        {
         "alignmentgroup": "True",
         "hovertemplate": "name=%{x}<br>count=%{y}<extra></extra>",
         "legendgroup": "babylonbee.com",
         "marker": {
          "color": "#FFA15A"
         },
         "name": "babylonbee.com",
         "offsetgroup": "babylonbee.com",
         "orientation": "v",
         "showlegend": true,
         "textposition": "auto",
         "type": "bar",
         "x": [
          "babylonbee.com"
         ],
         "xaxis": "x",
         "y": [
          1
         ],
         "yaxis": "y"
        },
        {
         "alignmentgroup": "True",
         "hovertemplate": "name=%{x}<br>count=%{y}<extra></extra>",
         "legendgroup": "reactkungfu.com",
         "marker": {
          "color": "#19d3f3"
         },
         "name": "reactkungfu.com",
         "offsetgroup": "reactkungfu.com",
         "orientation": "v",
         "showlegend": true,
         "textposition": "auto",
         "type": "bar",
         "x": [
          "reactkungfu.com"
         ],
         "xaxis": "x",
         "y": [
          1
         ],
         "yaxis": "y"
        },
        {
         "alignmentgroup": "True",
         "hovertemplate": "name=%{x}<br>count=%{y}<extra></extra>",
         "legendgroup": "mashable.com",
         "marker": {
          "color": "#FF6692"
         },
         "name": "mashable.com",
         "offsetgroup": "mashable.com",
         "orientation": "v",
         "showlegend": true,
         "textposition": "auto",
         "type": "bar",
         "x": [
          "mashable.com"
         ],
         "xaxis": "x",
         "y": [
          1
         ],
         "yaxis": "y"
        },
        {
         "alignmentgroup": "True",
         "hovertemplate": "name=%{x}<br>count=%{y}<extra></extra>",
         "legendgroup": "divein.com",
         "marker": {
          "color": "#B6E880"
         },
         "name": "divein.com",
         "offsetgroup": "divein.com",
         "orientation": "v",
         "showlegend": true,
         "textposition": "auto",
         "type": "bar",
         "x": [
          "divein.com"
         ],
         "xaxis": "x",
         "y": [
          1
         ],
         "yaxis": "y"
        },
        {
         "alignmentgroup": "True",
         "hovertemplate": "name=%{x}<br>count=%{y}<extra></extra>",
         "legendgroup": "Data Trust",
         "marker": {
          "color": "#FF97FF"
         },
         "name": "Data Trust",
         "offsetgroup": "Data Trust",
         "orientation": "v",
         "showlegend": true,
         "textposition": "auto",
         "type": "bar",
         "x": [
          "Data Trust"
         ],
         "xaxis": "x",
         "y": [
          1
         ],
         "yaxis": "y"
        },
        {
         "alignmentgroup": "True",
         "hovertemplate": "name=%{x}<br>count=%{y}<extra></extra>",
         "legendgroup": "tvseriesfinale.com",
         "marker": {
          "color": "#FECB52"
         },
         "name": "tvseriesfinale.com",
         "offsetgroup": "tvseriesfinale.com",
         "orientation": "v",
         "showlegend": true,
         "textposition": "auto",
         "type": "bar",
         "x": [
          "tvseriesfinale.com"
         ],
         "xaxis": "x",
         "y": [
          1
         ],
         "yaxis": "y"
        },
        {
         "alignmentgroup": "True",
         "hovertemplate": "name=%{x}<br>count=%{y}<extra></extra>",
         "legendgroup": "asus.com",
         "marker": {
          "color": "#636efa"
         },
         "name": "asus.com",
         "offsetgroup": "asus.com",
         "orientation": "v",
         "showlegend": true,
         "textposition": "auto",
         "type": "bar",
         "x": [
          "asus.com"
         ],
         "xaxis": "x",
         "y": [
          1
         ],
         "yaxis": "y"
        },
        {
         "alignmentgroup": "True",
         "hovertemplate": "name=%{x}<br>count=%{y}<extra></extra>",
         "legendgroup": "thefire.org",
         "marker": {
          "color": "#EF553B"
         },
         "name": "thefire.org",
         "offsetgroup": "thefire.org",
         "orientation": "v",
         "showlegend": true,
         "textposition": "auto",
         "type": "bar",
         "x": [
          "thefire.org"
         ],
         "xaxis": "x",
         "y": [
          1
         ],
         "yaxis": "y"
        },
        {
         "alignmentgroup": "True",
         "hovertemplate": "name=%{x}<br>count=%{y}<extra></extra>",
         "legendgroup": "love2dev.com",
         "marker": {
          "color": "#00cc96"
         },
         "name": "love2dev.com",
         "offsetgroup": "love2dev.com",
         "orientation": "v",
         "showlegend": true,
         "textposition": "auto",
         "type": "bar",
         "x": [
          "love2dev.com"
         ],
         "xaxis": "x",
         "y": [
          1
         ],
         "yaxis": "y"
        },
        {
         "alignmentgroup": "True",
         "hovertemplate": "name=%{x}<br>count=%{y}<extra></extra>",
         "legendgroup": "godaddy.com",
         "marker": {
          "color": "#ab63fa"
         },
         "name": "godaddy.com",
         "offsetgroup": "godaddy.com",
         "orientation": "v",
         "showlegend": true,
         "textposition": "auto",
         "type": "bar",
         "x": [
          "godaddy.com"
         ],
         "xaxis": "x",
         "y": [
          1
         ],
         "yaxis": "y"
        },
        {
         "alignmentgroup": "True",
         "hovertemplate": "name=%{x}<br>count=%{y}<extra></extra>",
         "legendgroup": "irobot.com",
         "marker": {
          "color": "#FFA15A"
         },
         "name": "irobot.com",
         "offsetgroup": "irobot.com",
         "orientation": "v",
         "showlegend": true,
         "textposition": "auto",
         "type": "bar",
         "x": [
          "irobot.com"
         ],
         "xaxis": "x",
         "y": [
          1
         ],
         "yaxis": "y"
        },
        {
         "alignmentgroup": "True",
         "hovertemplate": "name=%{x}<br>count=%{y}<extra></extra>",
         "legendgroup": "okta.com",
         "marker": {
          "color": "#19d3f3"
         },
         "name": "okta.com",
         "offsetgroup": "okta.com",
         "orientation": "v",
         "showlegend": true,
         "textposition": "auto",
         "type": "bar",
         "x": [
          "okta.com"
         ],
         "xaxis": "x",
         "y": [
          1
         ],
         "yaxis": "y"
        },
        {
         "alignmentgroup": "True",
         "hovertemplate": "name=%{x}<br>count=%{y}<extra></extra>",
         "legendgroup": "dhtmlx.com",
         "marker": {
          "color": "#FF6692"
         },
         "name": "dhtmlx.com",
         "offsetgroup": "dhtmlx.com",
         "orientation": "v",
         "showlegend": true,
         "textposition": "auto",
         "type": "bar",
         "x": [
          "dhtmlx.com"
         ],
         "xaxis": "x",
         "y": [
          1
         ],
         "yaxis": "y"
        },
        {
         "alignmentgroup": "True",
         "hovertemplate": "name=%{x}<br>count=%{y}<extra></extra>",
         "legendgroup": "bhphotovideo.com",
         "marker": {
          "color": "#B6E880"
         },
         "name": "bhphotovideo.com",
         "offsetgroup": "bhphotovideo.com",
         "orientation": "v",
         "showlegend": true,
         "textposition": "auto",
         "type": "bar",
         "x": [
          "bhphotovideo.com"
         ],
         "xaxis": "x",
         "y": [
          1
         ],
         "yaxis": "y"
        },
        {
         "alignmentgroup": "True",
         "hovertemplate": "name=%{x}<br>count=%{y}<extra></extra>",
         "legendgroup": "whitebox.co",
         "marker": {
          "color": "#FF97FF"
         },
         "name": "whitebox.co",
         "offsetgroup": "whitebox.co",
         "orientation": "v",
         "showlegend": true,
         "textposition": "auto",
         "type": "bar",
         "x": [
          "whitebox.co"
         ],
         "xaxis": "x",
         "y": [
          1
         ],
         "yaxis": "y"
        },
        {
         "alignmentgroup": "True",
         "hovertemplate": "name=%{x}<br>count=%{y}<extra></extra>",
         "legendgroup": "statnews.com",
         "marker": {
          "color": "#FECB52"
         },
         "name": "statnews.com",
         "offsetgroup": "statnews.com",
         "orientation": "v",
         "showlegend": true,
         "textposition": "auto",
         "type": "bar",
         "x": [
          "statnews.com"
         ],
         "xaxis": "x",
         "y": [
          1
         ],
         "yaxis": "y"
        },
        {
         "alignmentgroup": "True",
         "hovertemplate": "name=%{x}<br>count=%{y}<extra></extra>",
         "legendgroup": "Imgur",
         "marker": {
          "color": "#636efa"
         },
         "name": "Imgur",
         "offsetgroup": "Imgur",
         "orientation": "v",
         "showlegend": true,
         "textposition": "auto",
         "type": "bar",
         "x": [
          "Imgur"
         ],
         "xaxis": "x",
         "y": [
          1
         ],
         "yaxis": "y"
        },
        {
         "alignmentgroup": "True",
         "hovertemplate": "name=%{x}<br>count=%{y}<extra></extra>",
         "legendgroup": "slate.com",
         "marker": {
          "color": "#EF553B"
         },
         "name": "slate.com",
         "offsetgroup": "slate.com",
         "orientation": "v",
         "showlegend": true,
         "textposition": "auto",
         "type": "bar",
         "x": [
          "slate.com"
         ],
         "xaxis": "x",
         "y": [
          1
         ],
         "yaxis": "y"
        },
        {
         "alignmentgroup": "True",
         "hovertemplate": "name=%{x}<br>count=%{y}<extra></extra>",
         "legendgroup": "scylladb.com",
         "marker": {
          "color": "#00cc96"
         },
         "name": "scylladb.com",
         "offsetgroup": "scylladb.com",
         "orientation": "v",
         "showlegend": true,
         "textposition": "auto",
         "type": "bar",
         "x": [
          "scylladb.com"
         ],
         "xaxis": "x",
         "y": [
          1
         ],
         "yaxis": "y"
        },
        {
         "alignmentgroup": "True",
         "hovertemplate": "name=%{x}<br>count=%{y}<extra></extra>",
         "legendgroup": "theheartysoul.com",
         "marker": {
          "color": "#ab63fa"
         },
         "name": "theheartysoul.com",
         "offsetgroup": "theheartysoul.com",
         "orientation": "v",
         "showlegend": true,
         "textposition": "auto",
         "type": "bar",
         "x": [
          "theheartysoul.com"
         ],
         "xaxis": "x",
         "y": [
          1
         ],
         "yaxis": "y"
        },
        {
         "alignmentgroup": "True",
         "hovertemplate": "name=%{x}<br>count=%{y}<extra></extra>",
         "legendgroup": "criminaldefenselawyer.com",
         "marker": {
          "color": "#FFA15A"
         },
         "name": "criminaldefenselawyer.com",
         "offsetgroup": "criminaldefenselawyer.com",
         "orientation": "v",
         "showlegend": true,
         "textposition": "auto",
         "type": "bar",
         "x": [
          "criminaldefenselawyer.com"
         ],
         "xaxis": "x",
         "y": [
          1
         ],
         "yaxis": "y"
        },
        {
         "alignmentgroup": "True",
         "hovertemplate": "name=%{x}<br>count=%{y}<extra></extra>",
         "legendgroup": "livemint.com",
         "marker": {
          "color": "#19d3f3"
         },
         "name": "livemint.com",
         "offsetgroup": "livemint.com",
         "orientation": "v",
         "showlegend": true,
         "textposition": "auto",
         "type": "bar",
         "x": [
          "livemint.com"
         ],
         "xaxis": "x",
         "y": [
          1
         ],
         "yaxis": "y"
        },
        {
         "alignmentgroup": "True",
         "hovertemplate": "name=%{x}<br>count=%{y}<extra></extra>",
         "legendgroup": "maketecheasier.com",
         "marker": {
          "color": "#FF6692"
         },
         "name": "maketecheasier.com",
         "offsetgroup": "maketecheasier.com",
         "orientation": "v",
         "showlegend": true,
         "textposition": "auto",
         "type": "bar",
         "x": [
          "maketecheasier.com"
         ],
         "xaxis": "x",
         "y": [
          1
         ],
         "yaxis": "y"
        },
        {
         "alignmentgroup": "True",
         "hovertemplate": "name=%{x}<br>count=%{y}<extra></extra>",
         "legendgroup": "cloudera.com",
         "marker": {
          "color": "#B6E880"
         },
         "name": "cloudera.com",
         "offsetgroup": "cloudera.com",
         "orientation": "v",
         "showlegend": true,
         "textposition": "auto",
         "type": "bar",
         "x": [
          "cloudera.com"
         ],
         "xaxis": "x",
         "y": [
          1
         ],
         "yaxis": "y"
        },
        {
         "alignmentgroup": "True",
         "hovertemplate": "name=%{x}<br>count=%{y}<extra></extra>",
         "legendgroup": "raspberrypihq.com",
         "marker": {
          "color": "#FF97FF"
         },
         "name": "raspberrypihq.com",
         "offsetgroup": "raspberrypihq.com",
         "orientation": "v",
         "showlegend": true,
         "textposition": "auto",
         "type": "bar",
         "x": [
          "raspberrypihq.com"
         ],
         "xaxis": "x",
         "y": [
          1
         ],
         "yaxis": "y"
        },
        {
         "alignmentgroup": "True",
         "hovertemplate": "name=%{x}<br>count=%{y}<extra></extra>",
         "legendgroup": "worldometers.info",
         "marker": {
          "color": "#FECB52"
         },
         "name": "worldometers.info",
         "offsetgroup": "worldometers.info",
         "orientation": "v",
         "showlegend": true,
         "textposition": "auto",
         "type": "bar",
         "x": [
          "worldometers.info"
         ],
         "xaxis": "x",
         "y": [
          1
         ],
         "yaxis": "y"
        },
        {
         "alignmentgroup": "True",
         "hovertemplate": "name=%{x}<br>count=%{y}<extra></extra>",
         "legendgroup": "codecademy.com",
         "marker": {
          "color": "#636efa"
         },
         "name": "codecademy.com",
         "offsetgroup": "codecademy.com",
         "orientation": "v",
         "showlegend": true,
         "textposition": "auto",
         "type": "bar",
         "x": [
          "codecademy.com"
         ],
         "xaxis": "x",
         "y": [
          1
         ],
         "yaxis": "y"
        },
        {
         "alignmentgroup": "True",
         "hovertemplate": "name=%{x}<br>count=%{y}<extra></extra>",
         "legendgroup": "opensource.com",
         "marker": {
          "color": "#EF553B"
         },
         "name": "opensource.com",
         "offsetgroup": "opensource.com",
         "orientation": "v",
         "showlegend": true,
         "textposition": "auto",
         "type": "bar",
         "x": [
          "opensource.com"
         ],
         "xaxis": "x",
         "y": [
          1
         ],
         "yaxis": "y"
        },
        {
         "alignmentgroup": "True",
         "hovertemplate": "name=%{x}<br>count=%{y}<extra></extra>",
         "legendgroup": "Dell Technologies",
         "marker": {
          "color": "#00cc96"
         },
         "name": "Dell Technologies",
         "offsetgroup": "Dell Technologies",
         "orientation": "v",
         "showlegend": true,
         "textposition": "auto",
         "type": "bar",
         "x": [
          "Dell Technologies"
         ],
         "xaxis": "x",
         "y": [
          1
         ],
         "yaxis": "y"
        },
        {
         "alignmentgroup": "True",
         "hovertemplate": "name=%{x}<br>count=%{y}<extra></extra>",
         "legendgroup": "Pinterest",
         "marker": {
          "color": "#ab63fa"
         },
         "name": "Pinterest",
         "offsetgroup": "Pinterest",
         "orientation": "v",
         "showlegend": true,
         "textposition": "auto",
         "type": "bar",
         "x": [
          "Pinterest"
         ],
         "xaxis": "x",
         "y": [
          1
         ],
         "yaxis": "y"
        },
        {
         "alignmentgroup": "True",
         "hovertemplate": "name=%{x}<br>count=%{y}<extra></extra>",
         "legendgroup": "NerdWallet",
         "marker": {
          "color": "#FFA15A"
         },
         "name": "NerdWallet",
         "offsetgroup": "NerdWallet",
         "orientation": "v",
         "showlegend": true,
         "textposition": "auto",
         "type": "bar",
         "x": [
          "NerdWallet"
         ],
         "xaxis": "x",
         "y": [
          1
         ],
         "yaxis": "y"
        },
        {
         "alignmentgroup": "True",
         "hovertemplate": "name=%{x}<br>count=%{y}<extra></extra>",
         "legendgroup": "complex.com",
         "marker": {
          "color": "#19d3f3"
         },
         "name": "complex.com",
         "offsetgroup": "complex.com",
         "orientation": "v",
         "showlegend": true,
         "textposition": "auto",
         "type": "bar",
         "x": [
          "complex.com"
         ],
         "xaxis": "x",
         "y": [
          1
         ],
         "yaxis": "y"
        },
        {
         "alignmentgroup": "True",
         "hovertemplate": "name=%{x}<br>count=%{y}<extra></extra>",
         "legendgroup": "telerik.com",
         "marker": {
          "color": "#FF6692"
         },
         "name": "telerik.com",
         "offsetgroup": "telerik.com",
         "orientation": "v",
         "showlegend": true,
         "textposition": "auto",
         "type": "bar",
         "x": [
          "telerik.com"
         ],
         "xaxis": "x",
         "y": [
          1
         ],
         "yaxis": "y"
        },
        {
         "alignmentgroup": "True",
         "hovertemplate": "name=%{x}<br>count=%{y}<extra></extra>",
         "legendgroup": "tradingsim.com",
         "marker": {
          "color": "#B6E880"
         },
         "name": "tradingsim.com",
         "offsetgroup": "tradingsim.com",
         "orientation": "v",
         "showlegend": true,
         "textposition": "auto",
         "type": "bar",
         "x": [
          "tradingsim.com"
         ],
         "xaxis": "x",
         "y": [
          1
         ],
         "yaxis": "y"
        },
        {
         "alignmentgroup": "True",
         "hovertemplate": "name=%{x}<br>count=%{y}<extra></extra>",
         "legendgroup": "insider.com",
         "marker": {
          "color": "#FF97FF"
         },
         "name": "insider.com",
         "offsetgroup": "insider.com",
         "orientation": "v",
         "showlegend": true,
         "textposition": "auto",
         "type": "bar",
         "x": [
          "insider.com"
         ],
         "xaxis": "x",
         "y": [
          1
         ],
         "yaxis": "y"
        },
        {
         "alignmentgroup": "True",
         "hovertemplate": "name=%{x}<br>count=%{y}<extra></extra>",
         "legendgroup": "guardiandirect.com",
         "marker": {
          "color": "#FECB52"
         },
         "name": "guardiandirect.com",
         "offsetgroup": "guardiandirect.com",
         "orientation": "v",
         "showlegend": true,
         "textposition": "auto",
         "type": "bar",
         "x": [
          "guardiandirect.com"
         ],
         "xaxis": "x",
         "y": [
          1
         ],
         "yaxis": "y"
        },
        {
         "alignmentgroup": "True",
         "hovertemplate": "name=%{x}<br>count=%{y}<extra></extra>",
         "legendgroup": "indiatimes.com",
         "marker": {
          "color": "#636efa"
         },
         "name": "indiatimes.com",
         "offsetgroup": "indiatimes.com",
         "orientation": "v",
         "showlegend": true,
         "textposition": "auto",
         "type": "bar",
         "x": [
          "indiatimes.com"
         ],
         "xaxis": "x",
         "y": [
          1
         ],
         "yaxis": "y"
        },
        {
         "alignmentgroup": "True",
         "hovertemplate": "name=%{x}<br>count=%{y}<extra></extra>",
         "legendgroup": "richmond.com",
         "marker": {
          "color": "#EF553B"
         },
         "name": "richmond.com",
         "offsetgroup": "richmond.com",
         "orientation": "v",
         "showlegend": true,
         "textposition": "auto",
         "type": "bar",
         "x": [
          "richmond.com"
         ],
         "xaxis": "x",
         "y": [
          1
         ],
         "yaxis": "y"
        },
        {
         "alignmentgroup": "True",
         "hovertemplate": "name=%{x}<br>count=%{y}<extra></extra>",
         "legendgroup": "ring.com",
         "marker": {
          "color": "#00cc96"
         },
         "name": "ring.com",
         "offsetgroup": "ring.com",
         "orientation": "v",
         "showlegend": true,
         "textposition": "auto",
         "type": "bar",
         "x": [
          "ring.com"
         ],
         "xaxis": "x",
         "y": [
          1
         ],
         "yaxis": "y"
        },
        {
         "alignmentgroup": "True",
         "hovertemplate": "name=%{x}<br>count=%{y}<extra></extra>",
         "legendgroup": "xebialabs.com",
         "marker": {
          "color": "#ab63fa"
         },
         "name": "xebialabs.com",
         "offsetgroup": "xebialabs.com",
         "orientation": "v",
         "showlegend": true,
         "textposition": "auto",
         "type": "bar",
         "x": [
          "xebialabs.com"
         ],
         "xaxis": "x",
         "y": [
          1
         ],
         "yaxis": "y"
        },
        {
         "alignmentgroup": "True",
         "hovertemplate": "name=%{x}<br>count=%{y}<extra></extra>",
         "legendgroup": "getyarn.io",
         "marker": {
          "color": "#FFA15A"
         },
         "name": "getyarn.io",
         "offsetgroup": "getyarn.io",
         "orientation": "v",
         "showlegend": true,
         "textposition": "auto",
         "type": "bar",
         "x": [
          "getyarn.io"
         ],
         "xaxis": "x",
         "y": [
          1
         ],
         "yaxis": "y"
        },
        {
         "alignmentgroup": "True",
         "hovertemplate": "name=%{x}<br>count=%{y}<extra></extra>",
         "legendgroup": "devspace.cloud",
         "marker": {
          "color": "#19d3f3"
         },
         "name": "devspace.cloud",
         "offsetgroup": "devspace.cloud",
         "orientation": "v",
         "showlegend": true,
         "textposition": "auto",
         "type": "bar",
         "x": [
          "devspace.cloud"
         ],
         "xaxis": "x",
         "y": [
          1
         ],
         "yaxis": "y"
        },
        {
         "alignmentgroup": "True",
         "hovertemplate": "name=%{x}<br>count=%{y}<extra></extra>",
         "legendgroup": "9gag.com",
         "marker": {
          "color": "#FF6692"
         },
         "name": "9gag.com",
         "offsetgroup": "9gag.com",
         "orientation": "v",
         "showlegend": true,
         "textposition": "auto",
         "type": "bar",
         "x": [
          "9gag.com"
         ],
         "xaxis": "x",
         "y": [
          1
         ],
         "yaxis": "y"
        },
        {
         "alignmentgroup": "True",
         "hovertemplate": "name=%{x}<br>count=%{y}<extra></extra>",
         "legendgroup": "johnhancockinsurance.com",
         "marker": {
          "color": "#B6E880"
         },
         "name": "johnhancockinsurance.com",
         "offsetgroup": "johnhancockinsurance.com",
         "orientation": "v",
         "showlegend": true,
         "textposition": "auto",
         "type": "bar",
         "x": [
          "johnhancockinsurance.com"
         ],
         "xaxis": "x",
         "y": [
          1
         ],
         "yaxis": "y"
        },
        {
         "alignmentgroup": "True",
         "hovertemplate": "name=%{x}<br>count=%{y}<extra></extra>",
         "legendgroup": "Socialyse USD",
         "marker": {
          "color": "#FF97FF"
         },
         "name": "Socialyse USD",
         "offsetgroup": "Socialyse USD",
         "orientation": "v",
         "showlegend": true,
         "textposition": "auto",
         "type": "bar",
         "x": [
          "Socialyse USD"
         ],
         "xaxis": "x",
         "y": [
          1
         ],
         "yaxis": "y"
        },
        {
         "alignmentgroup": "True",
         "hovertemplate": "name=%{x}<br>count=%{y}<extra></extra>",
         "legendgroup": "snowboarder.com",
         "marker": {
          "color": "#FECB52"
         },
         "name": "snowboarder.com",
         "offsetgroup": "snowboarder.com",
         "orientation": "v",
         "showlegend": true,
         "textposition": "auto",
         "type": "bar",
         "x": [
          "snowboarder.com"
         ],
         "xaxis": "x",
         "y": [
          1
         ],
         "yaxis": "y"
        },
        {
         "alignmentgroup": "True",
         "hovertemplate": "name=%{x}<br>count=%{y}<extra></extra>",
         "legendgroup": "hypebeast.com",
         "marker": {
          "color": "#636efa"
         },
         "name": "hypebeast.com",
         "offsetgroup": "hypebeast.com",
         "orientation": "v",
         "showlegend": true,
         "textposition": "auto",
         "type": "bar",
         "x": [
          "hypebeast.com"
         ],
         "xaxis": "x",
         "y": [
          1
         ],
         "yaxis": "y"
        },
        {
         "alignmentgroup": "True",
         "hovertemplate": "name=%{x}<br>count=%{y}<extra></extra>",
         "legendgroup": "Magalix",
         "marker": {
          "color": "#EF553B"
         },
         "name": "Magalix",
         "offsetgroup": "Magalix",
         "orientation": "v",
         "showlegend": true,
         "textposition": "auto",
         "type": "bar",
         "x": [
          "Magalix"
         ],
         "xaxis": "x",
         "y": [
          1
         ],
         "yaxis": "y"
        },
        {
         "alignmentgroup": "True",
         "hovertemplate": "name=%{x}<br>count=%{y}<extra></extra>",
         "legendgroup": "ipetitions.com",
         "marker": {
          "color": "#00cc96"
         },
         "name": "ipetitions.com",
         "offsetgroup": "ipetitions.com",
         "orientation": "v",
         "showlegend": true,
         "textposition": "auto",
         "type": "bar",
         "x": [
          "ipetitions.com"
         ],
         "xaxis": "x",
         "y": [
          1
         ],
         "yaxis": "y"
        },
        {
         "alignmentgroup": "True",
         "hovertemplate": "name=%{x}<br>count=%{y}<extra></extra>",
         "legendgroup": "amazon-adsystem.com",
         "marker": {
          "color": "#ab63fa"
         },
         "name": "amazon-adsystem.com",
         "offsetgroup": "amazon-adsystem.com",
         "orientation": "v",
         "showlegend": true,
         "textposition": "auto",
         "type": "bar",
         "x": [
          "amazon-adsystem.com"
         ],
         "xaxis": "x",
         "y": [
          1
         ],
         "yaxis": "y"
        },
        {
         "alignmentgroup": "True",
         "hovertemplate": "name=%{x}<br>count=%{y}<extra></extra>",
         "legendgroup": "ratemyprofessors.com",
         "marker": {
          "color": "#FFA15A"
         },
         "name": "ratemyprofessors.com",
         "offsetgroup": "ratemyprofessors.com",
         "orientation": "v",
         "showlegend": true,
         "textposition": "auto",
         "type": "bar",
         "x": [
          "ratemyprofessors.com"
         ],
         "xaxis": "x",
         "y": [
          1
         ],
         "yaxis": "y"
        },
        {
         "alignmentgroup": "True",
         "hovertemplate": "name=%{x}<br>count=%{y}<extra></extra>",
         "legendgroup": "gundigest.com",
         "marker": {
          "color": "#19d3f3"
         },
         "name": "gundigest.com",
         "offsetgroup": "gundigest.com",
         "orientation": "v",
         "showlegend": true,
         "textposition": "auto",
         "type": "bar",
         "x": [
          "gundigest.com"
         ],
         "xaxis": "x",
         "y": [
          1
         ],
         "yaxis": "y"
        },
        {
         "alignmentgroup": "True",
         "hovertemplate": "name=%{x}<br>count=%{y}<extra></extra>",
         "legendgroup": "nestleprofessional.us",
         "marker": {
          "color": "#FF6692"
         },
         "name": "nestleprofessional.us",
         "offsetgroup": "nestleprofessional.us",
         "orientation": "v",
         "showlegend": true,
         "textposition": "auto",
         "type": "bar",
         "x": [
          "nestleprofessional.us"
         ],
         "xaxis": "x",
         "y": [
          1
         ],
         "yaxis": "y"
        },
        {
         "alignmentgroup": "True",
         "hovertemplate": "name=%{x}<br>count=%{y}<extra></extra>",
         "legendgroup": "adobe.com",
         "marker": {
          "color": "#B6E880"
         },
         "name": "adobe.com",
         "offsetgroup": "adobe.com",
         "orientation": "v",
         "showlegend": true,
         "textposition": "auto",
         "type": "bar",
         "x": [
          "adobe.com"
         ],
         "xaxis": "x",
         "y": [
          1
         ],
         "yaxis": "y"
        },
        {
         "alignmentgroup": "True",
         "hovertemplate": "name=%{x}<br>count=%{y}<extra></extra>",
         "legendgroup": "hotpads.com",
         "marker": {
          "color": "#FF97FF"
         },
         "name": "hotpads.com",
         "offsetgroup": "hotpads.com",
         "orientation": "v",
         "showlegend": true,
         "textposition": "auto",
         "type": "bar",
         "x": [
          "hotpads.com"
         ],
         "xaxis": "x",
         "y": [
          1
         ],
         "yaxis": "y"
        },
        {
         "alignmentgroup": "True",
         "hovertemplate": "name=%{x}<br>count=%{y}<extra></extra>",
         "legendgroup": "imyfone.com",
         "marker": {
          "color": "#FECB52"
         },
         "name": "imyfone.com",
         "offsetgroup": "imyfone.com",
         "orientation": "v",
         "showlegend": true,
         "textposition": "auto",
         "type": "bar",
         "x": [
          "imyfone.com"
         ],
         "xaxis": "x",
         "y": [
          1
         ],
         "yaxis": "y"
        },
        {
         "alignmentgroup": "True",
         "hovertemplate": "name=%{x}<br>count=%{y}<extra></extra>",
         "legendgroup": "dowjones.com",
         "marker": {
          "color": "#636efa"
         },
         "name": "dowjones.com",
         "offsetgroup": "dowjones.com",
         "orientation": "v",
         "showlegend": true,
         "textposition": "auto",
         "type": "bar",
         "x": [
          "dowjones.com"
         ],
         "xaxis": "x",
         "y": [
          1
         ],
         "yaxis": "y"
        },
        {
         "alignmentgroup": "True",
         "hovertemplate": "name=%{x}<br>count=%{y}<extra></extra>",
         "legendgroup": "fontawesome.com",
         "marker": {
          "color": "#EF553B"
         },
         "name": "fontawesome.com",
         "offsetgroup": "fontawesome.com",
         "orientation": "v",
         "showlegend": true,
         "textposition": "auto",
         "type": "bar",
         "x": [
          "fontawesome.com"
         ],
         "xaxis": "x",
         "y": [
          1
         ],
         "yaxis": "y"
        },
        {
         "alignmentgroup": "True",
         "hovertemplate": "name=%{x}<br>count=%{y}<extra></extra>",
         "legendgroup": "The Media Kitchen",
         "marker": {
          "color": "#00cc96"
         },
         "name": "The Media Kitchen",
         "offsetgroup": "The Media Kitchen",
         "orientation": "v",
         "showlegend": true,
         "textposition": "auto",
         "type": "bar",
         "x": [
          "The Media Kitchen"
         ],
         "xaxis": "x",
         "y": [
          1
         ],
         "yaxis": "y"
        },
        {
         "alignmentgroup": "True",
         "hovertemplate": "name=%{x}<br>count=%{y}<extra></extra>",
         "legendgroup": "mpcp.com",
         "marker": {
          "color": "#ab63fa"
         },
         "name": "mpcp.com",
         "offsetgroup": "mpcp.com",
         "orientation": "v",
         "showlegend": true,
         "textposition": "auto",
         "type": "bar",
         "x": [
          "mpcp.com"
         ],
         "xaxis": "x",
         "y": [
          1
         ],
         "yaxis": "y"
        },
        {
         "alignmentgroup": "True",
         "hovertemplate": "name=%{x}<br>count=%{y}<extra></extra>",
         "legendgroup": "bulknutrients.com.au",
         "marker": {
          "color": "#FFA15A"
         },
         "name": "bulknutrients.com.au",
         "offsetgroup": "bulknutrients.com.au",
         "orientation": "v",
         "showlegend": true,
         "textposition": "auto",
         "type": "bar",
         "x": [
          "bulknutrients.com.au"
         ],
         "xaxis": "x",
         "y": [
          1
         ],
         "yaxis": "y"
        },
        {
         "alignmentgroup": "True",
         "hovertemplate": "name=%{x}<br>count=%{y}<extra></extra>",
         "legendgroup": "polygon.com",
         "marker": {
          "color": "#19d3f3"
         },
         "name": "polygon.com",
         "offsetgroup": "polygon.com",
         "orientation": "v",
         "showlegend": true,
         "textposition": "auto",
         "type": "bar",
         "x": [
          "polygon.com"
         ],
         "xaxis": "x",
         "y": [
          1
         ],
         "yaxis": "y"
        },
        {
         "alignmentgroup": "True",
         "hovertemplate": "name=%{x}<br>count=%{y}<extra></extra>",
         "legendgroup": "boston.com",
         "marker": {
          "color": "#FF6692"
         },
         "name": "boston.com",
         "offsetgroup": "boston.com",
         "orientation": "v",
         "showlegend": true,
         "textposition": "auto",
         "type": "bar",
         "x": [
          "boston.com"
         ],
         "xaxis": "x",
         "y": [
          1
         ],
         "yaxis": "y"
        },
        {
         "alignmentgroup": "True",
         "hovertemplate": "name=%{x}<br>count=%{y}<extra></extra>",
         "legendgroup": "fidelity.com",
         "marker": {
          "color": "#B6E880"
         },
         "name": "fidelity.com",
         "offsetgroup": "fidelity.com",
         "orientation": "v",
         "showlegend": true,
         "textposition": "auto",
         "type": "bar",
         "x": [
          "fidelity.com"
         ],
         "xaxis": "x",
         "y": [
          1
         ],
         "yaxis": "y"
        },
        {
         "alignmentgroup": "True",
         "hovertemplate": "name=%{x}<br>count=%{y}<extra></extra>",
         "legendgroup": "bridgestonetire.com",
         "marker": {
          "color": "#FF97FF"
         },
         "name": "bridgestonetire.com",
         "offsetgroup": "bridgestonetire.com",
         "orientation": "v",
         "showlegend": true,
         "textposition": "auto",
         "type": "bar",
         "x": [
          "bridgestonetire.com"
         ],
         "xaxis": "x",
         "y": [
          1
         ],
         "yaxis": "y"
        },
        {
         "alignmentgroup": "True",
         "hovertemplate": "name=%{x}<br>count=%{y}<extra></extra>",
         "legendgroup": "onlyinyourstate.com",
         "marker": {
          "color": "#FECB52"
         },
         "name": "onlyinyourstate.com",
         "offsetgroup": "onlyinyourstate.com",
         "orientation": "v",
         "showlegend": true,
         "textposition": "auto",
         "type": "bar",
         "x": [
          "onlyinyourstate.com"
         ],
         "xaxis": "x",
         "y": [
          1
         ],
         "yaxis": "y"
        },
        {
         "alignmentgroup": "True",
         "hovertemplate": "name=%{x}<br>count=%{y}<extra></extra>",
         "legendgroup": "cdw.com",
         "marker": {
          "color": "#636efa"
         },
         "name": "cdw.com",
         "offsetgroup": "cdw.com",
         "orientation": "v",
         "showlegend": true,
         "textposition": "auto",
         "type": "bar",
         "x": [
          "cdw.com"
         ],
         "xaxis": "x",
         "y": [
          1
         ],
         "yaxis": "y"
        },
        {
         "alignmentgroup": "True",
         "hovertemplate": "name=%{x}<br>count=%{y}<extra></extra>",
         "legendgroup": "nbcsports.com",
         "marker": {
          "color": "#EF553B"
         },
         "name": "nbcsports.com",
         "offsetgroup": "nbcsports.com",
         "orientation": "v",
         "showlegend": true,
         "textposition": "auto",
         "type": "bar",
         "x": [
          "nbcsports.com"
         ],
         "xaxis": "x",
         "y": [
          1
         ],
         "yaxis": "y"
        },
        {
         "alignmentgroup": "True",
         "hovertemplate": "name=%{x}<br>count=%{y}<extra></extra>",
         "legendgroup": "bbb.org",
         "marker": {
          "color": "#00cc96"
         },
         "name": "bbb.org",
         "offsetgroup": "bbb.org",
         "orientation": "v",
         "showlegend": true,
         "textposition": "auto",
         "type": "bar",
         "x": [
          "bbb.org"
         ],
         "xaxis": "x",
         "y": [
          1
         ],
         "yaxis": "y"
        },
        {
         "alignmentgroup": "True",
         "hovertemplate": "name=%{x}<br>count=%{y}<extra></extra>",
         "legendgroup": "missiona.store",
         "marker": {
          "color": "#ab63fa"
         },
         "name": "missiona.store",
         "offsetgroup": "missiona.store",
         "orientation": "v",
         "showlegend": true,
         "textposition": "auto",
         "type": "bar",
         "x": [
          "missiona.store"
         ],
         "xaxis": "x",
         "y": [
          1
         ],
         "yaxis": "y"
        },
        {
         "alignmentgroup": "True",
         "hovertemplate": "name=%{x}<br>count=%{y}<extra></extra>",
         "legendgroup": "airtkt.com",
         "marker": {
          "color": "#FFA15A"
         },
         "name": "airtkt.com",
         "offsetgroup": "airtkt.com",
         "orientation": "v",
         "showlegend": true,
         "textposition": "auto",
         "type": "bar",
         "x": [
          "airtkt.com"
         ],
         "xaxis": "x",
         "y": [
          1
         ],
         "yaxis": "y"
        },
        {
         "alignmentgroup": "True",
         "hovertemplate": "name=%{x}<br>count=%{y}<extra></extra>",
         "legendgroup": "Scribd - audiobooks & ebooks",
         "marker": {
          "color": "#19d3f3"
         },
         "name": "Scribd - audiobooks & ebooks",
         "offsetgroup": "Scribd - audiobooks & ebooks",
         "orientation": "v",
         "showlegend": true,
         "textposition": "auto",
         "type": "bar",
         "x": [
          "Scribd - audiobooks & ebooks"
         ],
         "xaxis": "x",
         "y": [
          1
         ],
         "yaxis": "y"
        },
        {
         "alignmentgroup": "True",
         "hovertemplate": "name=%{x}<br>count=%{y}<extra></extra>",
         "legendgroup": "standard.co.uk",
         "marker": {
          "color": "#FF6692"
         },
         "name": "standard.co.uk",
         "offsetgroup": "standard.co.uk",
         "orientation": "v",
         "showlegend": true,
         "textposition": "auto",
         "type": "bar",
         "x": [
          "standard.co.uk"
         ],
         "xaxis": "x",
         "y": [
          1
         ],
         "yaxis": "y"
        },
        {
         "alignmentgroup": "True",
         "hovertemplate": "name=%{x}<br>count=%{y}<extra></extra>",
         "legendgroup": "canvasjs.com",
         "marker": {
          "color": "#B6E880"
         },
         "name": "canvasjs.com",
         "offsetgroup": "canvasjs.com",
         "orientation": "v",
         "showlegend": true,
         "textposition": "auto",
         "type": "bar",
         "x": [
          "canvasjs.com"
         ],
         "xaxis": "x",
         "y": [
          1
         ],
         "yaxis": "y"
        },
        {
         "alignmentgroup": "True",
         "hovertemplate": "name=%{x}<br>count=%{y}<extra></extra>",
         "legendgroup": "pcmag.com",
         "marker": {
          "color": "#FF97FF"
         },
         "name": "pcmag.com",
         "offsetgroup": "pcmag.com",
         "orientation": "v",
         "showlegend": true,
         "textposition": "auto",
         "type": "bar",
         "x": [
          "pcmag.com"
         ],
         "xaxis": "x",
         "y": [
          1
         ],
         "yaxis": "y"
        },
        {
         "alignmentgroup": "True",
         "hovertemplate": "name=%{x}<br>count=%{y}<extra></extra>",
         "legendgroup": "paycomonline.com",
         "marker": {
          "color": "#FECB52"
         },
         "name": "paycomonline.com",
         "offsetgroup": "paycomonline.com",
         "orientation": "v",
         "showlegend": true,
         "textposition": "auto",
         "type": "bar",
         "x": [
          "paycomonline.com"
         ],
         "xaxis": "x",
         "y": [
          1
         ],
         "yaxis": "y"
        },
        {
         "alignmentgroup": "True",
         "hovertemplate": "name=%{x}<br>count=%{y}<extra></extra>",
         "legendgroup": "hogshaven.com",
         "marker": {
          "color": "#636efa"
         },
         "name": "hogshaven.com",
         "offsetgroup": "hogshaven.com",
         "orientation": "v",
         "showlegend": true,
         "textposition": "auto",
         "type": "bar",
         "x": [
          "hogshaven.com"
         ],
         "xaxis": "x",
         "y": [
          1
         ],
         "yaxis": "y"
        },
        {
         "alignmentgroup": "True",
         "hovertemplate": "name=%{x}<br>count=%{y}<extra></extra>",
         "legendgroup": "healthyfoodhouse.com",
         "marker": {
          "color": "#EF553B"
         },
         "name": "healthyfoodhouse.com",
         "offsetgroup": "healthyfoodhouse.com",
         "orientation": "v",
         "showlegend": true,
         "textposition": "auto",
         "type": "bar",
         "x": [
          "healthyfoodhouse.com"
         ],
         "xaxis": "x",
         "y": [
          1
         ],
         "yaxis": "y"
        },
        {
         "alignmentgroup": "True",
         "hovertemplate": "name=%{x}<br>count=%{y}<extra></extra>",
         "legendgroup": "LinkedIn",
         "marker": {
          "color": "#00cc96"
         },
         "name": "LinkedIn",
         "offsetgroup": "LinkedIn",
         "orientation": "v",
         "showlegend": true,
         "textposition": "auto",
         "type": "bar",
         "x": [
          "LinkedIn"
         ],
         "xaxis": "x",
         "y": [
          1
         ],
         "yaxis": "y"
        },
        {
         "alignmentgroup": "True",
         "hovertemplate": "name=%{x}<br>count=%{y}<extra></extra>",
         "legendgroup": "The Telegraph",
         "marker": {
          "color": "#ab63fa"
         },
         "name": "The Telegraph",
         "offsetgroup": "The Telegraph",
         "orientation": "v",
         "showlegend": true,
         "textposition": "auto",
         "type": "bar",
         "x": [
          "The Telegraph"
         ],
         "xaxis": "x",
         "y": [
          1
         ],
         "yaxis": "y"
        },
        {
         "alignmentgroup": "True",
         "hovertemplate": "name=%{x}<br>count=%{y}<extra></extra>",
         "legendgroup": "investorplace.com",
         "marker": {
          "color": "#FFA15A"
         },
         "name": "investorplace.com",
         "offsetgroup": "investorplace.com",
         "orientation": "v",
         "showlegend": true,
         "textposition": "auto",
         "type": "bar",
         "x": [
          "investorplace.com"
         ],
         "xaxis": "x",
         "y": [
          1
         ],
         "yaxis": "y"
        },
        {
         "alignmentgroup": "True",
         "hovertemplate": "name=%{x}<br>count=%{y}<extra></extra>",
         "legendgroup": "nasdaq.com",
         "marker": {
          "color": "#19d3f3"
         },
         "name": "nasdaq.com",
         "offsetgroup": "nasdaq.com",
         "orientation": "v",
         "showlegend": true,
         "textposition": "auto",
         "type": "bar",
         "x": [
          "nasdaq.com"
         ],
         "xaxis": "x",
         "y": [
          1
         ],
         "yaxis": "y"
        },
        {
         "alignmentgroup": "True",
         "hovertemplate": "name=%{x}<br>count=%{y}<extra></extra>",
         "legendgroup": "beaches.com",
         "marker": {
          "color": "#FF6692"
         },
         "name": "beaches.com",
         "offsetgroup": "beaches.com",
         "orientation": "v",
         "showlegend": true,
         "textposition": "auto",
         "type": "bar",
         "x": [
          "beaches.com"
         ],
         "xaxis": "x",
         "y": [
          1
         ],
         "yaxis": "y"
        },
        {
         "alignmentgroup": "True",
         "hovertemplate": "name=%{x}<br>count=%{y}<extra></extra>",
         "legendgroup": "dell.com",
         "marker": {
          "color": "#B6E880"
         },
         "name": "dell.com",
         "offsetgroup": "dell.com",
         "orientation": "v",
         "showlegend": true,
         "textposition": "auto",
         "type": "bar",
         "x": [
          "dell.com"
         ],
         "xaxis": "x",
         "y": [
          1
         ],
         "yaxis": "y"
        },
        {
         "alignmentgroup": "True",
         "hovertemplate": "name=%{x}<br>count=%{y}<extra></extra>",
         "legendgroup": "thecodinglove.com",
         "marker": {
          "color": "#FF97FF"
         },
         "name": "thecodinglove.com",
         "offsetgroup": "thecodinglove.com",
         "orientation": "v",
         "showlegend": true,
         "textposition": "auto",
         "type": "bar",
         "x": [
          "thecodinglove.com"
         ],
         "xaxis": "x",
         "y": [
          1
         ],
         "yaxis": "y"
        },
        {
         "alignmentgroup": "True",
         "hovertemplate": "name=%{x}<br>count=%{y}<extra></extra>",
         "legendgroup": "printedkicks.com",
         "marker": {
          "color": "#FECB52"
         },
         "name": "printedkicks.com",
         "offsetgroup": "printedkicks.com",
         "orientation": "v",
         "showlegend": true,
         "textposition": "auto",
         "type": "bar",
         "x": [
          "printedkicks.com"
         ],
         "xaxis": "x",
         "y": [
          1
         ],
         "yaxis": "y"
        },
        {
         "alignmentgroup": "True",
         "hovertemplate": "name=%{x}<br>count=%{y}<extra></extra>",
         "legendgroup": "coinbase.com",
         "marker": {
          "color": "#636efa"
         },
         "name": "coinbase.com",
         "offsetgroup": "coinbase.com",
         "orientation": "v",
         "showlegend": true,
         "textposition": "auto",
         "type": "bar",
         "x": [
          "coinbase.com"
         ],
         "xaxis": "x",
         "y": [
          1
         ],
         "yaxis": "y"
        },
        {
         "alignmentgroup": "True",
         "hovertemplate": "name=%{x}<br>count=%{y}<extra></extra>",
         "legendgroup": "militarytimes.com",
         "marker": {
          "color": "#EF553B"
         },
         "name": "militarytimes.com",
         "offsetgroup": "militarytimes.com",
         "orientation": "v",
         "showlegend": true,
         "textposition": "auto",
         "type": "bar",
         "x": [
          "militarytimes.com"
         ],
         "xaxis": "x",
         "y": [
          1
         ],
         "yaxis": "y"
        },
        {
         "alignmentgroup": "True",
         "hovertemplate": "name=%{x}<br>count=%{y}<extra></extra>",
         "legendgroup": "realcartips.com",
         "marker": {
          "color": "#00cc96"
         },
         "name": "realcartips.com",
         "offsetgroup": "realcartips.com",
         "orientation": "v",
         "showlegend": true,
         "textposition": "auto",
         "type": "bar",
         "x": [
          "realcartips.com"
         ],
         "xaxis": "x",
         "y": [
          1
         ],
         "yaxis": "y"
        },
        {
         "alignmentgroup": "True",
         "hovertemplate": "name=%{x}<br>count=%{y}<extra></extra>",
         "legendgroup": "sbnation.com",
         "marker": {
          "color": "#ab63fa"
         },
         "name": "sbnation.com",
         "offsetgroup": "sbnation.com",
         "orientation": "v",
         "showlegend": true,
         "textposition": "auto",
         "type": "bar",
         "x": [
          "sbnation.com"
         ],
         "xaxis": "x",
         "y": [
          1
         ],
         "yaxis": "y"
        },
        {
         "alignmentgroup": "True",
         "hovertemplate": "name=%{x}<br>count=%{y}<extra></extra>",
         "legendgroup": "codementor.io",
         "marker": {
          "color": "#FFA15A"
         },
         "name": "codementor.io",
         "offsetgroup": "codementor.io",
         "orientation": "v",
         "showlegend": true,
         "textposition": "auto",
         "type": "bar",
         "x": [
          "codementor.io"
         ],
         "xaxis": "x",
         "y": [
          1
         ],
         "yaxis": "y"
        },
        {
         "alignmentgroup": "True",
         "hovertemplate": "name=%{x}<br>count=%{y}<extra></extra>",
         "legendgroup": "ncronline.org",
         "marker": {
          "color": "#19d3f3"
         },
         "name": "ncronline.org",
         "offsetgroup": "ncronline.org",
         "orientation": "v",
         "showlegend": true,
         "textposition": "auto",
         "type": "bar",
         "x": [
          "ncronline.org"
         ],
         "xaxis": "x",
         "y": [
          1
         ],
         "yaxis": "y"
        },
        {
         "alignmentgroup": "True",
         "hovertemplate": "name=%{x}<br>count=%{y}<extra></extra>",
         "legendgroup": "theprepared.com",
         "marker": {
          "color": "#FF6692"
         },
         "name": "theprepared.com",
         "offsetgroup": "theprepared.com",
         "orientation": "v",
         "showlegend": true,
         "textposition": "auto",
         "type": "bar",
         "x": [
          "theprepared.com"
         ],
         "xaxis": "x",
         "y": [
          1
         ],
         "yaxis": "y"
        },
        {
         "alignmentgroup": "True",
         "hovertemplate": "name=%{x}<br>count=%{y}<extra></extra>",
         "legendgroup": "codecentric.de",
         "marker": {
          "color": "#B6E880"
         },
         "name": "codecentric.de",
         "offsetgroup": "codecentric.de",
         "orientation": "v",
         "showlegend": true,
         "textposition": "auto",
         "type": "bar",
         "x": [
          "codecentric.de"
         ],
         "xaxis": "x",
         "y": [
          1
         ],
         "yaxis": "y"
        },
        {
         "alignmentgroup": "True",
         "hovertemplate": "name=%{x}<br>count=%{y}<extra></extra>",
         "legendgroup": "thepioneerwoman.com",
         "marker": {
          "color": "#FF97FF"
         },
         "name": "thepioneerwoman.com",
         "offsetgroup": "thepioneerwoman.com",
         "orientation": "v",
         "showlegend": true,
         "textposition": "auto",
         "type": "bar",
         "x": [
          "thepioneerwoman.com"
         ],
         "xaxis": "x",
         "y": [
          1
         ],
         "yaxis": "y"
        },
        {
         "alignmentgroup": "True",
         "hovertemplate": "name=%{x}<br>count=%{y}<extra></extra>",
         "legendgroup": "wtop.com",
         "marker": {
          "color": "#FECB52"
         },
         "name": "wtop.com",
         "offsetgroup": "wtop.com",
         "orientation": "v",
         "showlegend": true,
         "textposition": "auto",
         "type": "bar",
         "x": [
          "wtop.com"
         ],
         "xaxis": "x",
         "y": [
          1
         ],
         "yaxis": "y"
        },
        {
         "alignmentgroup": "True",
         "hovertemplate": "name=%{x}<br>count=%{y}<extra></extra>",
         "legendgroup": "mirantis.com",
         "marker": {
          "color": "#636efa"
         },
         "name": "mirantis.com",
         "offsetgroup": "mirantis.com",
         "orientation": "v",
         "showlegend": true,
         "textposition": "auto",
         "type": "bar",
         "x": [
          "mirantis.com"
         ],
         "xaxis": "x",
         "y": [
          1
         ],
         "yaxis": "y"
        },
        {
         "alignmentgroup": "True",
         "hovertemplate": "name=%{x}<br>count=%{y}<extra></extra>",
         "legendgroup": "panerabread.com",
         "marker": {
          "color": "#EF553B"
         },
         "name": "panerabread.com",
         "offsetgroup": "panerabread.com",
         "orientation": "v",
         "showlegend": true,
         "textposition": "auto",
         "type": "bar",
         "x": [
          "panerabread.com"
         ],
         "xaxis": "x",
         "y": [
          1
         ],
         "yaxis": "y"
        },
        {
         "alignmentgroup": "True",
         "hovertemplate": "name=%{x}<br>count=%{y}<extra></extra>",
         "legendgroup": "John Hancock",
         "marker": {
          "color": "#00cc96"
         },
         "name": "John Hancock",
         "offsetgroup": "John Hancock",
         "orientation": "v",
         "showlegend": true,
         "textposition": "auto",
         "type": "bar",
         "x": [
          "John Hancock"
         ],
         "xaxis": "x",
         "y": [
          1
         ],
         "yaxis": "y"
        },
        {
         "alignmentgroup": "True",
         "hovertemplate": "name=%{x}<br>count=%{y}<extra></extra>",
         "legendgroup": "govexec.com",
         "marker": {
          "color": "#ab63fa"
         },
         "name": "govexec.com",
         "offsetgroup": "govexec.com",
         "orientation": "v",
         "showlegend": true,
         "textposition": "auto",
         "type": "bar",
         "x": [
          "govexec.com"
         ],
         "xaxis": "x",
         "y": [
          1
         ],
         "yaxis": "y"
        },
        {
         "alignmentgroup": "True",
         "hovertemplate": "name=%{x}<br>count=%{y}<extra></extra>",
         "legendgroup": "arstechnica.com",
         "marker": {
          "color": "#FFA15A"
         },
         "name": "arstechnica.com",
         "offsetgroup": "arstechnica.com",
         "orientation": "v",
         "showlegend": true,
         "textposition": "auto",
         "type": "bar",
         "x": [
          "arstechnica.com"
         ],
         "xaxis": "x",
         "y": [
          1
         ],
         "yaxis": "y"
        },
        {
         "alignmentgroup": "True",
         "hovertemplate": "name=%{x}<br>count=%{y}<extra></extra>",
         "legendgroup": "fing.com",
         "marker": {
          "color": "#19d3f3"
         },
         "name": "fing.com",
         "offsetgroup": "fing.com",
         "orientation": "v",
         "showlegend": true,
         "textposition": "auto",
         "type": "bar",
         "x": [
          "fing.com"
         ],
         "xaxis": "x",
         "y": [
          1
         ],
         "yaxis": "y"
        },
        {
         "alignmentgroup": "True",
         "hovertemplate": "name=%{x}<br>count=%{y}<extra></extra>",
         "legendgroup": "nerdwallet.com",
         "marker": {
          "color": "#FF6692"
         },
         "name": "nerdwallet.com",
         "offsetgroup": "nerdwallet.com",
         "orientation": "v",
         "showlegend": true,
         "textposition": "auto",
         "type": "bar",
         "x": [
          "nerdwallet.com"
         ],
         "xaxis": "x",
         "y": [
          1
         ],
         "yaxis": "y"
        },
        {
         "alignmentgroup": "True",
         "hovertemplate": "name=%{x}<br>count=%{y}<extra></extra>",
         "legendgroup": "hopper.com",
         "marker": {
          "color": "#B6E880"
         },
         "name": "hopper.com",
         "offsetgroup": "hopper.com",
         "orientation": "v",
         "showlegend": true,
         "textposition": "auto",
         "type": "bar",
         "x": [
          "hopper.com"
         ],
         "xaxis": "x",
         "y": [
          1
         ],
         "yaxis": "y"
        },
        {
         "alignmentgroup": "True",
         "hovertemplate": "name=%{x}<br>count=%{y}<extra></extra>",
         "legendgroup": "T-Mobile USA",
         "marker": {
          "color": "#FF97FF"
         },
         "name": "T-Mobile USA",
         "offsetgroup": "T-Mobile USA",
         "orientation": "v",
         "showlegend": true,
         "textposition": "auto",
         "type": "bar",
         "x": [
          "T-Mobile USA"
         ],
         "xaxis": "x",
         "y": [
          1
         ],
         "yaxis": "y"
        },
        {
         "alignmentgroup": "True",
         "hovertemplate": "name=%{x}<br>count=%{y}<extra></extra>",
         "legendgroup": "linuxfoundation.org",
         "marker": {
          "color": "#FECB52"
         },
         "name": "linuxfoundation.org",
         "offsetgroup": "linuxfoundation.org",
         "orientation": "v",
         "showlegend": true,
         "textposition": "auto",
         "type": "bar",
         "x": [
          "linuxfoundation.org"
         ],
         "xaxis": "x",
         "y": [
          1
         ],
         "yaxis": "y"
        },
        {
         "alignmentgroup": "True",
         "hovertemplate": "name=%{x}<br>count=%{y}<extra></extra>",
         "legendgroup": "la-z-boy.com",
         "marker": {
          "color": "#636efa"
         },
         "name": "la-z-boy.com",
         "offsetgroup": "la-z-boy.com",
         "orientation": "v",
         "showlegend": true,
         "textposition": "auto",
         "type": "bar",
         "x": [
          "la-z-boy.com"
         ],
         "xaxis": "x",
         "y": [
          1
         ],
         "yaxis": "y"
        },
        {
         "alignmentgroup": "True",
         "hovertemplate": "name=%{x}<br>count=%{y}<extra></extra>",
         "legendgroup": "mathway.com",
         "marker": {
          "color": "#EF553B"
         },
         "name": "mathway.com",
         "offsetgroup": "mathway.com",
         "orientation": "v",
         "showlegend": true,
         "textposition": "auto",
         "type": "bar",
         "x": [
          "mathway.com"
         ],
         "xaxis": "x",
         "y": [
          1
         ],
         "yaxis": "y"
        },
        {
         "alignmentgroup": "True",
         "hovertemplate": "name=%{x}<br>count=%{y}<extra></extra>",
         "legendgroup": "thedad.com",
         "marker": {
          "color": "#00cc96"
         },
         "name": "thedad.com",
         "offsetgroup": "thedad.com",
         "orientation": "v",
         "showlegend": true,
         "textposition": "auto",
         "type": "bar",
         "x": [
          "thedad.com"
         ],
         "xaxis": "x",
         "y": [
          1
         ],
         "yaxis": "y"
        },
        {
         "alignmentgroup": "True",
         "hovertemplate": "name=%{x}<br>count=%{y}<extra></extra>",
         "legendgroup": "radleylondon.com",
         "marker": {
          "color": "#ab63fa"
         },
         "name": "radleylondon.com",
         "offsetgroup": "radleylondon.com",
         "orientation": "v",
         "showlegend": true,
         "textposition": "auto",
         "type": "bar",
         "x": [
          "radleylondon.com"
         ],
         "xaxis": "x",
         "y": [
          1
         ],
         "yaxis": "y"
        },
        {
         "alignmentgroup": "True",
         "hovertemplate": "name=%{x}<br>count=%{y}<extra></extra>",
         "legendgroup": "sitepoint.com",
         "marker": {
          "color": "#FFA15A"
         },
         "name": "sitepoint.com",
         "offsetgroup": "sitepoint.com",
         "orientation": "v",
         "showlegend": true,
         "textposition": "auto",
         "type": "bar",
         "x": [
          "sitepoint.com"
         ],
         "xaxis": "x",
         "y": [
          1
         ],
         "yaxis": "y"
        },
        {
         "alignmentgroup": "True",
         "hovertemplate": "name=%{x}<br>count=%{y}<extra></extra>",
         "legendgroup": "toptal.com",
         "marker": {
          "color": "#19d3f3"
         },
         "name": "toptal.com",
         "offsetgroup": "toptal.com",
         "orientation": "v",
         "showlegend": true,
         "textposition": "auto",
         "type": "bar",
         "x": [
          "toptal.com"
         ],
         "xaxis": "x",
         "y": [
          1
         ],
         "yaxis": "y"
        },
        {
         "alignmentgroup": "True",
         "hovertemplate": "name=%{x}<br>count=%{y}<extra></extra>",
         "legendgroup": "varonis.com",
         "marker": {
          "color": "#FF6692"
         },
         "name": "varonis.com",
         "offsetgroup": "varonis.com",
         "orientation": "v",
         "showlegend": true,
         "textposition": "auto",
         "type": "bar",
         "x": [
          "varonis.com"
         ],
         "xaxis": "x",
         "y": [
          1
         ],
         "yaxis": "y"
        },
        {
         "alignmentgroup": "True",
         "hovertemplate": "name=%{x}<br>count=%{y}<extra></extra>",
         "legendgroup": "Ikon Pass Analytics",
         "marker": {
          "color": "#B6E880"
         },
         "name": "Ikon Pass Analytics",
         "offsetgroup": "Ikon Pass Analytics",
         "orientation": "v",
         "showlegend": true,
         "textposition": "auto",
         "type": "bar",
         "x": [
          "Ikon Pass Analytics"
         ],
         "xaxis": "x",
         "y": [
          1
         ],
         "yaxis": "y"
        },
        {
         "alignmentgroup": "True",
         "hovertemplate": "name=%{x}<br>count=%{y}<extra></extra>",
         "legendgroup": "inc.com",
         "marker": {
          "color": "#FF97FF"
         },
         "name": "inc.com",
         "offsetgroup": "inc.com",
         "orientation": "v",
         "showlegend": true,
         "textposition": "auto",
         "type": "bar",
         "x": [
          "inc.com"
         ],
         "xaxis": "x",
         "y": [
          1
         ],
         "yaxis": "y"
        },
        {
         "alignmentgroup": "True",
         "hovertemplate": "name=%{x}<br>count=%{y}<extra></extra>",
         "legendgroup": "worldoil.com",
         "marker": {
          "color": "#FECB52"
         },
         "name": "worldoil.com",
         "offsetgroup": "worldoil.com",
         "orientation": "v",
         "showlegend": true,
         "textposition": "auto",
         "type": "bar",
         "x": [
          "worldoil.com"
         ],
         "xaxis": "x",
         "y": [
          1
         ],
         "yaxis": "y"
        },
        {
         "alignmentgroup": "True",
         "hovertemplate": "name=%{x}<br>count=%{y}<extra></extra>",
         "legendgroup": "jeep.com",
         "marker": {
          "color": "#636efa"
         },
         "name": "jeep.com",
         "offsetgroup": "jeep.com",
         "orientation": "v",
         "showlegend": true,
         "textposition": "auto",
         "type": "bar",
         "x": [
          "jeep.com"
         ],
         "xaxis": "x",
         "y": [
          1
         ],
         "yaxis": "y"
        },
        {
         "alignmentgroup": "True",
         "hovertemplate": "name=%{x}<br>count=%{y}<extra></extra>",
         "legendgroup": "guardianlife.com",
         "marker": {
          "color": "#EF553B"
         },
         "name": "guardianlife.com",
         "offsetgroup": "guardianlife.com",
         "orientation": "v",
         "showlegend": true,
         "textposition": "auto",
         "type": "bar",
         "x": [
          "guardianlife.com"
         ],
         "xaxis": "x",
         "y": [
          1
         ],
         "yaxis": "y"
        },
        {
         "alignmentgroup": "True",
         "hovertemplate": "name=%{x}<br>count=%{y}<extra></extra>",
         "legendgroup": "techwalla.com",
         "marker": {
          "color": "#00cc96"
         },
         "name": "techwalla.com",
         "offsetgroup": "techwalla.com",
         "orientation": "v",
         "showlegend": true,
         "textposition": "auto",
         "type": "bar",
         "x": [
          "techwalla.com"
         ],
         "xaxis": "x",
         "y": [
          1
         ],
         "yaxis": "y"
        },
        {
         "alignmentgroup": "True",
         "hovertemplate": "name=%{x}<br>count=%{y}<extra></extra>",
         "legendgroup": "packtpub.com",
         "marker": {
          "color": "#ab63fa"
         },
         "name": "packtpub.com",
         "offsetgroup": "packtpub.com",
         "orientation": "v",
         "showlegend": true,
         "textposition": "auto",
         "type": "bar",
         "x": [
          "packtpub.com"
         ],
         "xaxis": "x",
         "y": [
          1
         ],
         "yaxis": "y"
        },
        {
         "alignmentgroup": "True",
         "hovertemplate": "name=%{x}<br>count=%{y}<extra></extra>",
         "legendgroup": "amd.com",
         "marker": {
          "color": "#FFA15A"
         },
         "name": "amd.com",
         "offsetgroup": "amd.com",
         "orientation": "v",
         "showlegend": true,
         "textposition": "auto",
         "type": "bar",
         "x": [
          "amd.com"
         ],
         "xaxis": "x",
         "y": [
          1
         ],
         "yaxis": "y"
        },
        {
         "alignmentgroup": "True",
         "hovertemplate": "name=%{x}<br>count=%{y}<extra></extra>",
         "legendgroup": "howchoo.com",
         "marker": {
          "color": "#19d3f3"
         },
         "name": "howchoo.com",
         "offsetgroup": "howchoo.com",
         "orientation": "v",
         "showlegend": true,
         "textposition": "auto",
         "type": "bar",
         "x": [
          "howchoo.com"
         ],
         "xaxis": "x",
         "y": [
          1
         ],
         "yaxis": "y"
        },
        {
         "alignmentgroup": "True",
         "hovertemplate": "name=%{x}<br>count=%{y}<extra></extra>",
         "legendgroup": "metrotimes.com",
         "marker": {
          "color": "#FF6692"
         },
         "name": "metrotimes.com",
         "offsetgroup": "metrotimes.com",
         "orientation": "v",
         "showlegend": true,
         "textposition": "auto",
         "type": "bar",
         "x": [
          "metrotimes.com"
         ],
         "xaxis": "x",
         "y": [
          1
         ],
         "yaxis": "y"
        },
        {
         "alignmentgroup": "True",
         "hovertemplate": "name=%{x}<br>count=%{y}<extra></extra>",
         "legendgroup": "hulu.com",
         "marker": {
          "color": "#B6E880"
         },
         "name": "hulu.com",
         "offsetgroup": "hulu.com",
         "orientation": "v",
         "showlegend": true,
         "textposition": "auto",
         "type": "bar",
         "x": [
          "hulu.com"
         ],
         "xaxis": "x",
         "y": [
          1
         ],
         "yaxis": "y"
        },
        {
         "alignmentgroup": "True",
         "hovertemplate": "name=%{x}<br>count=%{y}<extra></extra>",
         "legendgroup": "snapmaker.com",
         "marker": {
          "color": "#FF97FF"
         },
         "name": "snapmaker.com",
         "offsetgroup": "snapmaker.com",
         "orientation": "v",
         "showlegend": true,
         "textposition": "auto",
         "type": "bar",
         "x": [
          "snapmaker.com"
         ],
         "xaxis": "x",
         "y": [
          1
         ],
         "yaxis": "y"
        },
        {
         "alignmentgroup": "True",
         "hovertemplate": "name=%{x}<br>count=%{y}<extra></extra>",
         "legendgroup": "collegexpress.com",
         "marker": {
          "color": "#FECB52"
         },
         "name": "collegexpress.com",
         "offsetgroup": "collegexpress.com",
         "orientation": "v",
         "showlegend": true,
         "textposition": "auto",
         "type": "bar",
         "x": [
          "collegexpress.com"
         ],
         "xaxis": "x",
         "y": [
          1
         ],
         "yaxis": "y"
        }
       ],
       "layout": {
        "barmode": "relative",
        "legend": {
         "title": {
          "text": "name"
         },
         "tracegroupgap": 0
        },
        "margin": {
         "t": 60
        },
        "template": {
         "data": {
          "bar": [
           {
            "error_x": {
             "color": "#2a3f5f"
            },
            "error_y": {
             "color": "#2a3f5f"
            },
            "marker": {
             "line": {
              "color": "#E5ECF6",
              "width": 0.5
             }
            },
            "type": "bar"
           }
          ],
          "barpolar": [
           {
            "marker": {
             "line": {
              "color": "#E5ECF6",
              "width": 0.5
             }
            },
            "type": "barpolar"
           }
          ],
          "carpet": [
           {
            "aaxis": {
             "endlinecolor": "#2a3f5f",
             "gridcolor": "white",
             "linecolor": "white",
             "minorgridcolor": "white",
             "startlinecolor": "#2a3f5f"
            },
            "baxis": {
             "endlinecolor": "#2a3f5f",
             "gridcolor": "white",
             "linecolor": "white",
             "minorgridcolor": "white",
             "startlinecolor": "#2a3f5f"
            },
            "type": "carpet"
           }
          ],
          "choropleth": [
           {
            "colorbar": {
             "outlinewidth": 0,
             "ticks": ""
            },
            "type": "choropleth"
           }
          ],
          "contour": [
           {
            "colorbar": {
             "outlinewidth": 0,
             "ticks": ""
            },
            "colorscale": [
             [
              0,
              "#0d0887"
             ],
             [
              0.1111111111111111,
              "#46039f"
             ],
             [
              0.2222222222222222,
              "#7201a8"
             ],
             [
              0.3333333333333333,
              "#9c179e"
             ],
             [
              0.4444444444444444,
              "#bd3786"
             ],
             [
              0.5555555555555556,
              "#d8576b"
             ],
             [
              0.6666666666666666,
              "#ed7953"
             ],
             [
              0.7777777777777778,
              "#fb9f3a"
             ],
             [
              0.8888888888888888,
              "#fdca26"
             ],
             [
              1,
              "#f0f921"
             ]
            ],
            "type": "contour"
           }
          ],
          "contourcarpet": [
           {
            "colorbar": {
             "outlinewidth": 0,
             "ticks": ""
            },
            "type": "contourcarpet"
           }
          ],
          "heatmap": [
           {
            "colorbar": {
             "outlinewidth": 0,
             "ticks": ""
            },
            "colorscale": [
             [
              0,
              "#0d0887"
             ],
             [
              0.1111111111111111,
              "#46039f"
             ],
             [
              0.2222222222222222,
              "#7201a8"
             ],
             [
              0.3333333333333333,
              "#9c179e"
             ],
             [
              0.4444444444444444,
              "#bd3786"
             ],
             [
              0.5555555555555556,
              "#d8576b"
             ],
             [
              0.6666666666666666,
              "#ed7953"
             ],
             [
              0.7777777777777778,
              "#fb9f3a"
             ],
             [
              0.8888888888888888,
              "#fdca26"
             ],
             [
              1,
              "#f0f921"
             ]
            ],
            "type": "heatmap"
           }
          ],
          "heatmapgl": [
           {
            "colorbar": {
             "outlinewidth": 0,
             "ticks": ""
            },
            "colorscale": [
             [
              0,
              "#0d0887"
             ],
             [
              0.1111111111111111,
              "#46039f"
             ],
             [
              0.2222222222222222,
              "#7201a8"
             ],
             [
              0.3333333333333333,
              "#9c179e"
             ],
             [
              0.4444444444444444,
              "#bd3786"
             ],
             [
              0.5555555555555556,
              "#d8576b"
             ],
             [
              0.6666666666666666,
              "#ed7953"
             ],
             [
              0.7777777777777778,
              "#fb9f3a"
             ],
             [
              0.8888888888888888,
              "#fdca26"
             ],
             [
              1,
              "#f0f921"
             ]
            ],
            "type": "heatmapgl"
           }
          ],
          "histogram": [
           {
            "marker": {
             "colorbar": {
              "outlinewidth": 0,
              "ticks": ""
             }
            },
            "type": "histogram"
           }
          ],
          "histogram2d": [
           {
            "colorbar": {
             "outlinewidth": 0,
             "ticks": ""
            },
            "colorscale": [
             [
              0,
              "#0d0887"
             ],
             [
              0.1111111111111111,
              "#46039f"
             ],
             [
              0.2222222222222222,
              "#7201a8"
             ],
             [
              0.3333333333333333,
              "#9c179e"
             ],
             [
              0.4444444444444444,
              "#bd3786"
             ],
             [
              0.5555555555555556,
              "#d8576b"
             ],
             [
              0.6666666666666666,
              "#ed7953"
             ],
             [
              0.7777777777777778,
              "#fb9f3a"
             ],
             [
              0.8888888888888888,
              "#fdca26"
             ],
             [
              1,
              "#f0f921"
             ]
            ],
            "type": "histogram2d"
           }
          ],
          "histogram2dcontour": [
           {
            "colorbar": {
             "outlinewidth": 0,
             "ticks": ""
            },
            "colorscale": [
             [
              0,
              "#0d0887"
             ],
             [
              0.1111111111111111,
              "#46039f"
             ],
             [
              0.2222222222222222,
              "#7201a8"
             ],
             [
              0.3333333333333333,
              "#9c179e"
             ],
             [
              0.4444444444444444,
              "#bd3786"
             ],
             [
              0.5555555555555556,
              "#d8576b"
             ],
             [
              0.6666666666666666,
              "#ed7953"
             ],
             [
              0.7777777777777778,
              "#fb9f3a"
             ],
             [
              0.8888888888888888,
              "#fdca26"
             ],
             [
              1,
              "#f0f921"
             ]
            ],
            "type": "histogram2dcontour"
           }
          ],
          "mesh3d": [
           {
            "colorbar": {
             "outlinewidth": 0,
             "ticks": ""
            },
            "type": "mesh3d"
           }
          ],
          "parcoords": [
           {
            "line": {
             "colorbar": {
              "outlinewidth": 0,
              "ticks": ""
             }
            },
            "type": "parcoords"
           }
          ],
          "pie": [
           {
            "automargin": true,
            "type": "pie"
           }
          ],
          "scatter": [
           {
            "marker": {
             "colorbar": {
              "outlinewidth": 0,
              "ticks": ""
             }
            },
            "type": "scatter"
           }
          ],
          "scatter3d": [
           {
            "line": {
             "colorbar": {
              "outlinewidth": 0,
              "ticks": ""
             }
            },
            "marker": {
             "colorbar": {
              "outlinewidth": 0,
              "ticks": ""
             }
            },
            "type": "scatter3d"
           }
          ],
          "scattercarpet": [
           {
            "marker": {
             "colorbar": {
              "outlinewidth": 0,
              "ticks": ""
             }
            },
            "type": "scattercarpet"
           }
          ],
          "scattergeo": [
           {
            "marker": {
             "colorbar": {
              "outlinewidth": 0,
              "ticks": ""
             }
            },
            "type": "scattergeo"
           }
          ],
          "scattergl": [
           {
            "marker": {
             "colorbar": {
              "outlinewidth": 0,
              "ticks": ""
             }
            },
            "type": "scattergl"
           }
          ],
          "scattermapbox": [
           {
            "marker": {
             "colorbar": {
              "outlinewidth": 0,
              "ticks": ""
             }
            },
            "type": "scattermapbox"
           }
          ],
          "scatterpolar": [
           {
            "marker": {
             "colorbar": {
              "outlinewidth": 0,
              "ticks": ""
             }
            },
            "type": "scatterpolar"
           }
          ],
          "scatterpolargl": [
           {
            "marker": {
             "colorbar": {
              "outlinewidth": 0,
              "ticks": ""
             }
            },
            "type": "scatterpolargl"
           }
          ],
          "scatterternary": [
           {
            "marker": {
             "colorbar": {
              "outlinewidth": 0,
              "ticks": ""
             }
            },
            "type": "scatterternary"
           }
          ],
          "surface": [
           {
            "colorbar": {
             "outlinewidth": 0,
             "ticks": ""
            },
            "colorscale": [
             [
              0,
              "#0d0887"
             ],
             [
              0.1111111111111111,
              "#46039f"
             ],
             [
              0.2222222222222222,
              "#7201a8"
             ],
             [
              0.3333333333333333,
              "#9c179e"
             ],
             [
              0.4444444444444444,
              "#bd3786"
             ],
             [
              0.5555555555555556,
              "#d8576b"
             ],
             [
              0.6666666666666666,
              "#ed7953"
             ],
             [
              0.7777777777777778,
              "#fb9f3a"
             ],
             [
              0.8888888888888888,
              "#fdca26"
             ],
             [
              1,
              "#f0f921"
             ]
            ],
            "type": "surface"
           }
          ],
          "table": [
           {
            "cells": {
             "fill": {
              "color": "#EBF0F8"
             },
             "line": {
              "color": "white"
             }
            },
            "header": {
             "fill": {
              "color": "#C8D4E3"
             },
             "line": {
              "color": "white"
             }
            },
            "type": "table"
           }
          ]
         },
         "layout": {
          "annotationdefaults": {
           "arrowcolor": "#2a3f5f",
           "arrowhead": 0,
           "arrowwidth": 1
          },
          "coloraxis": {
           "colorbar": {
            "outlinewidth": 0,
            "ticks": ""
           }
          },
          "colorscale": {
           "diverging": [
            [
             0,
             "#8e0152"
            ],
            [
             0.1,
             "#c51b7d"
            ],
            [
             0.2,
             "#de77ae"
            ],
            [
             0.3,
             "#f1b6da"
            ],
            [
             0.4,
             "#fde0ef"
            ],
            [
             0.5,
             "#f7f7f7"
            ],
            [
             0.6,
             "#e6f5d0"
            ],
            [
             0.7,
             "#b8e186"
            ],
            [
             0.8,
             "#7fbc41"
            ],
            [
             0.9,
             "#4d9221"
            ],
            [
             1,
             "#276419"
            ]
           ],
           "sequential": [
            [
             0,
             "#0d0887"
            ],
            [
             0.1111111111111111,
             "#46039f"
            ],
            [
             0.2222222222222222,
             "#7201a8"
            ],
            [
             0.3333333333333333,
             "#9c179e"
            ],
            [
             0.4444444444444444,
             "#bd3786"
            ],
            [
             0.5555555555555556,
             "#d8576b"
            ],
            [
             0.6666666666666666,
             "#ed7953"
            ],
            [
             0.7777777777777778,
             "#fb9f3a"
            ],
            [
             0.8888888888888888,
             "#fdca26"
            ],
            [
             1,
             "#f0f921"
            ]
           ],
           "sequentialminus": [
            [
             0,
             "#0d0887"
            ],
            [
             0.1111111111111111,
             "#46039f"
            ],
            [
             0.2222222222222222,
             "#7201a8"
            ],
            [
             0.3333333333333333,
             "#9c179e"
            ],
            [
             0.4444444444444444,
             "#bd3786"
            ],
            [
             0.5555555555555556,
             "#d8576b"
            ],
            [
             0.6666666666666666,
             "#ed7953"
            ],
            [
             0.7777777777777778,
             "#fb9f3a"
            ],
            [
             0.8888888888888888,
             "#fdca26"
            ],
            [
             1,
             "#f0f921"
            ]
           ]
          },
          "colorway": [
           "#636efa",
           "#EF553B",
           "#00cc96",
           "#ab63fa",
           "#FFA15A",
           "#19d3f3",
           "#FF6692",
           "#B6E880",
           "#FF97FF",
           "#FECB52"
          ],
          "font": {
           "color": "#2a3f5f"
          },
          "geo": {
           "bgcolor": "white",
           "lakecolor": "white",
           "landcolor": "#E5ECF6",
           "showlakes": true,
           "showland": true,
           "subunitcolor": "white"
          },
          "hoverlabel": {
           "align": "left"
          },
          "hovermode": "closest",
          "mapbox": {
           "style": "light"
          },
          "paper_bgcolor": "white",
          "plot_bgcolor": "#E5ECF6",
          "polar": {
           "angularaxis": {
            "gridcolor": "white",
            "linecolor": "white",
            "ticks": ""
           },
           "bgcolor": "#E5ECF6",
           "radialaxis": {
            "gridcolor": "white",
            "linecolor": "white",
            "ticks": ""
           }
          },
          "scene": {
           "xaxis": {
            "backgroundcolor": "#E5ECF6",
            "gridcolor": "white",
            "gridwidth": 2,
            "linecolor": "white",
            "showbackground": true,
            "ticks": "",
            "zerolinecolor": "white"
           },
           "yaxis": {
            "backgroundcolor": "#E5ECF6",
            "gridcolor": "white",
            "gridwidth": 2,
            "linecolor": "white",
            "showbackground": true,
            "ticks": "",
            "zerolinecolor": "white"
           },
           "zaxis": {
            "backgroundcolor": "#E5ECF6",
            "gridcolor": "white",
            "gridwidth": 2,
            "linecolor": "white",
            "showbackground": true,
            "ticks": "",
            "zerolinecolor": "white"
           }
          },
          "shapedefaults": {
           "line": {
            "color": "#2a3f5f"
           }
          },
          "ternary": {
           "aaxis": {
            "gridcolor": "white",
            "linecolor": "white",
            "ticks": ""
           },
           "baxis": {
            "gridcolor": "white",
            "linecolor": "white",
            "ticks": ""
           },
           "bgcolor": "#E5ECF6",
           "caxis": {
            "gridcolor": "white",
            "linecolor": "white",
            "ticks": ""
           }
          },
          "title": {
           "x": 0.05
          },
          "xaxis": {
           "automargin": true,
           "gridcolor": "white",
           "linecolor": "white",
           "ticks": "",
           "title": {
            "standoff": 15
           },
           "zerolinecolor": "white",
           "zerolinewidth": 2
          },
          "yaxis": {
           "automargin": true,
           "gridcolor": "white",
           "linecolor": "white",
           "ticks": "",
           "title": {
            "standoff": 15
           },
           "zerolinecolor": "white",
           "zerolinewidth": 2
          }
         }
        },
        "width": 1400,
        "xaxis": {
         "anchor": "y",
         "categoryarray": [
          "gitlab.com",
          "docker.com",
          "TikTok - Make Your Day",
          "elastic.co",
          "TikTok - Real Short Videos",
          "Venmo",
          "digitalocean.com",
          "lmiutil.com",
          "cnn.com",
          "SoundCloud - Music & Audio",
          "zillow.com",
          "newegg.com",
          "howtogeek.com",
          "Venmo: Send & Receive Money",
          "Sterling Jewelers Inc.",
          "alot.com",
          "dailyfeed.co.uk",
          "forbes.com",
          "bose.com",
          "gatech.edu",
          "pluralsight.com",
          "intuit.com",
          "tripadvisor.com",
          "towson.edu",
          "scrumalliance.org",
          "unanet.com",
          "lifehacker.com",
          "Disney Streaming Services",
          "nbcnews.com",
          "Amazon",
          "safariland.com",
          "liquidweb.com",
          "atlantablackstar.com",
          "logrocket.com",
          "Discover Financial Services",
          "sciencefocus.com",
          "medicinenet.com",
          "stitchfix.com",
          "baeldung.com",
          "balena.io",
          "networkworld.com",
          "empower-retirement.com",
          "businessinsider.com",
          "buzzfeed.com",
          "Invstr: Play. Learn. Invest.",
          "microcenter.com",
          "harvard.edu",
          "ticketmaster.com",
          "gradifi.com",
          "seekingalpha.com",
          "redhat.com",
          "baltimoresun.com",
          "microsoft.com",
          "investors.com",
          "brobible.com",
          "Hulu",
          "discover.com",
          "pcworld.com",
          "northroprealty.com",
          "aljazeera.com",
          "cnbc.com",
          "lastpass.com",
          "webmd.com",
          "change.org",
          "fool.com",
          "wired.com",
          "The Home Depot",
          "pointstreak.com",
          "pimylifeup.com",
          "thoughtcatalog.com",
          "eventbrite.com",
          "intersectionalityscore.com",
          "nra.org",
          "phoenixnap.com",
          "fandango.com",
          "medicalnewstoday.com",
          "eBay Business Manager",
          "allaboutvision.com",
          "houstonchronicle.com",
          "nationalgeographic.com",
          "telegraph.co.uk",
          "healthline.com",
          "cnet.com",
          "eToro Cryptocurrency Trading",
          "simplilearn.com",
          "smartasset.com",
          "chron.com",
          "wbaltv.com",
          "thenewstack.io",
          "puppet.com",
          "kennychesney.com",
          "popularmechanics.com",
          "verdehowardsquare.com",
          "geforce.com",
          "Tinder",
          "weave.works",
          "dailymail.co.uk",
          "elitedaily.com",
          "cloudflare.com",
          "simpletexting.com",
          "donaldjtrump.com",
          "equimanagement.com",
          "burton.com",
          "theatlantic.com",
          "jendcosafety.com",
          "robinhood.com",
          "ragingbull.com",
          "sun-sentinel.com",
          "eurogamer.net",
          "ninjatrader.com",
          "thenest.com",
          "isidewith.com",
          "homedepot.com",
          "caranddriver.com",
          "blackhawk.com",
          "theonion.com",
          "snowshoemtn.com",
          "fortune.com",
          "ign.com",
          "vans.com",
          "redfin.com",
          "infosecinstitute.com",
          "usatoday.com",
          "mercurynews.com",
          "Bed Bath & Beyond",
          "atlassian.com",
          "Vanguard Group",
          "macys.com",
          "cars.com",
          "spiceworks.com",
          "csmonitor.com",
          "nhl.com",
          "refinery29.com",
          "mensjournal.com",
          "goldderby.com",
          "autoanything.com",
          "auslogics.com",
          "ehealthinsurance.com",
          "itsfoss.com",
          "accuwebhosting.com",
          "fastcompany.com",
          "fatherly.com",
          "247sports.com",
          "brainhub.eu",
          "espn.com",
          "moneycrashers.com",
          "latimes.com",
          "mercari.com",
          "washingtonpost.com",
          "drugfreeworld.org",
          "depaula.com",
          "thekitchn.com",
          "thestockdork.com",
          "abc7chicago.com",
          "techrepublic.com",
          "Macy's",
          "popbuzz.com",
          "wsj.com",
          "vultr.com",
          "hypervibe.com",
          "autotrader.com",
          "southwest.com",
          "usnews.com",
          "hired.com",
          "Waze Navigation & Live Traffic",
          "stackify.com",
          "auvik.com",
          "ironsrc.com",
          "soundguys.com",
          "linode.com",
          "Publicis Media",
          "stor.re",
          "Navy Federal Credit Union",
          "softonic.com",
          "theverge.com",
          "guinnessworldrecords.com",
          "hartenergy.com",
          "history.com",
          "vice.com",
          "loopnet.com",
          "d8rk54i4mohrb.cloudfront.net",
          "inmotionhosting.com",
          "pepboys.com",
          "stackabuse.com",
          "startribune.com",
          "wesbos.com",
          "civo.com",
          "idahostatejournal.com",
          "soapui.org",
          "headphonesty.com",
          "mentalfloss.com",
          "hubspot.com",
          "elizabethwarren.com",
          "menshealth.com",
          "cults3d.com",
          "mdbootstrap.com",
          "dictionary.com",
          "androidcentral.com",
          "priceline.com",
          "slime.com",
          "sony.com",
          "t-mobile.com",
          "laptopmag.com",
          "pucksystems2.com",
          "Ford Motor Company",
          "halloweencostumes.com",
          "axios.com",
          "brembo.com",
          "sematext.com",
          "allpennystocks.com",
          "a2hosting.com",
          "wfmynews2.com",
          "corsair.com",
          "brembostoreusa.com",
          "Camelot Strategic Marketing and Media",
          "urbanaxes.com",
          "hiphopdx.com",
          "thrillist.com",
          "skyscanner.com",
          "GoDaddy",
          "imperva.com",
          "gridscale.io",
          "ipsy.com",
          "realfastspanish.com",
          "babylonbee.com",
          "reactkungfu.com",
          "mashable.com",
          "divein.com",
          "Data Trust",
          "tvseriesfinale.com",
          "asus.com",
          "thefire.org",
          "love2dev.com",
          "godaddy.com",
          "irobot.com",
          "okta.com",
          "dhtmlx.com",
          "bhphotovideo.com",
          "whitebox.co",
          "statnews.com",
          "Imgur",
          "slate.com",
          "scylladb.com",
          "theheartysoul.com",
          "criminaldefenselawyer.com",
          "livemint.com",
          "maketecheasier.com",
          "cloudera.com",
          "raspberrypihq.com",
          "worldometers.info",
          "codecademy.com",
          "opensource.com",
          "Dell Technologies",
          "Pinterest",
          "NerdWallet",
          "complex.com",
          "telerik.com",
          "tradingsim.com",
          "insider.com",
          "guardiandirect.com",
          "indiatimes.com",
          "richmond.com",
          "ring.com",
          "xebialabs.com",
          "getyarn.io",
          "devspace.cloud",
          "9gag.com",
          "johnhancockinsurance.com",
          "Socialyse USD",
          "snowboarder.com",
          "hypebeast.com",
          "Magalix",
          "ipetitions.com",
          "amazon-adsystem.com",
          "ratemyprofessors.com",
          "gundigest.com",
          "nestleprofessional.us",
          "adobe.com",
          "hotpads.com",
          "imyfone.com",
          "dowjones.com",
          "fontawesome.com",
          "The Media Kitchen",
          "mpcp.com",
          "bulknutrients.com.au",
          "polygon.com",
          "boston.com",
          "fidelity.com",
          "bridgestonetire.com",
          "onlyinyourstate.com",
          "cdw.com",
          "nbcsports.com",
          "bbb.org",
          "missiona.store",
          "airtkt.com",
          "Scribd - audiobooks & ebooks",
          "standard.co.uk",
          "canvasjs.com",
          "pcmag.com",
          "paycomonline.com",
          "hogshaven.com",
          "healthyfoodhouse.com",
          "LinkedIn",
          "The Telegraph",
          "investorplace.com",
          "nasdaq.com",
          "beaches.com",
          "dell.com",
          "thecodinglove.com",
          "printedkicks.com",
          "coinbase.com",
          "militarytimes.com",
          "realcartips.com",
          "sbnation.com",
          "codementor.io",
          "ncronline.org",
          "theprepared.com",
          "codecentric.de",
          "thepioneerwoman.com",
          "wtop.com",
          "mirantis.com",
          "panerabread.com",
          "John Hancock",
          "govexec.com",
          "arstechnica.com",
          "fing.com",
          "nerdwallet.com",
          "hopper.com",
          "T-Mobile USA",
          "linuxfoundation.org",
          "la-z-boy.com",
          "mathway.com",
          "thedad.com",
          "radleylondon.com",
          "sitepoint.com",
          "toptal.com",
          "varonis.com",
          "Ikon Pass Analytics",
          "inc.com",
          "worldoil.com",
          "jeep.com",
          "guardianlife.com",
          "techwalla.com",
          "packtpub.com",
          "amd.com",
          "howchoo.com",
          "metrotimes.com",
          "hulu.com",
          "snapmaker.com",
          "collegexpress.com"
         ],
         "categoryorder": "array",
         "domain": [
          0,
          1
         ],
         "title": {
          "text": "name"
         }
        },
        "yaxis": {
         "anchor": "x",
         "domain": [
          0,
          1
         ],
         "title": {
          "text": "count"
         }
        }
       }
      }
     },
     "metadata": {}
    }
   ],
   "source": [
    "\n",
    "off_facebook_file_csv = 'data/facebook/ads_and_businesses/your_off-facebook_activity.csv'\n",
    "\n",
    "off_facebook_df = pd.read_csv(off_facebook_file_csv)\n",
    "\n",
    "counts_s = off_facebook_df['name'].value_counts()\n",
    "counts_df = pd.DataFrame({'name':counts_s.index, 'count':counts_s.values})\n",
    "counts_df.head()\n",
    "\n",
    "fig = px.bar(counts_df,x='name',y='count',color='name',width=1400)\n",
    "\n",
    "fig.show()\n",
    "\n",
    "\n",
    "\n",
    "\n",
    "\n"
   ]
  },
  {
   "cell_type": "markdown",
   "metadata": {},
   "source": [
    "### Timeline of 10 most Frequently Recorded Visits"
   ]
  },
  {
   "cell_type": "code",
   "execution_count": 126,
   "metadata": {
    "tags": [
     "outputPrepend"
    ]
   },
   "outputs": [
    {
     "output_type": "display_data",
     "data": {
      "application/vnd.plotly.v1+json": {
       "config": {
        "plotlyServerURL": "https://plot.ly"
       },
       "data": [
        {
         "mode": "markers",
         "name": "SoundCloud - Music & Audio",
         "type": "scatter",
         "x": [
          "2020-05-04T22:43:56",
          "2020-04-02T23:09:18",
          "2020-03-03T11:15:54",
          "2020-03-03T10:53:25",
          "2020-02-10T11:50:21",
          "2020-02-10T10:49:05",
          "2020-02-09T23:17:35",
          "2020-01-19T03:25:53",
          "2020-01-04T16:30:17",
          "2019-12-17T20:05:53",
          "2019-12-15T03:26:26",
          "2019-10-28T15:59:45",
          "2019-10-22T23:36:19"
         ],
         "y": [
          "ACTIVATE_APP",
          "ACTIVATE_APP",
          "ACTIVATE_APP",
          "ACTIVATE_APP",
          "ACTIVATE_APP",
          "ACTIVATE_APP",
          "ACTIVATE_APP",
          "ACTIVATE_APP",
          "ACTIVATE_APP",
          "ACTIVATE_APP",
          "ACTIVATE_APP",
          "ACTIVATE_APP",
          "CUSTOM"
         ]
        },
        {
         "mode": "markers",
         "name": "Venmo",
         "type": "scatter",
         "x": [
          "2020-04-25T04:44:09",
          "2020-04-25T04:26:35",
          "2020-04-22T19:50:28",
          "2020-04-22T19:31:06",
          "2020-04-17T01:14:43",
          "2020-03-16T14:47:28",
          "2020-03-16T03:07:09",
          "2020-03-16T00:23:01",
          "2020-03-15T23:57:52",
          "2020-03-15T23:36:33",
          "2020-03-15T18:58:00",
          "2020-03-15T18:31:59",
          "2020-03-15T14:03:31",
          "2020-03-13T23:30:18",
          "2020-03-13T23:23:01",
          "2020-03-13T23:11:04",
          "2020-03-01T07:30:22",
          "2020-03-01T07:19:14",
          "2020-03-01T05:25:57",
          "2020-02-10T15:41:49",
          "2020-01-19T17:04:53",
          "2020-01-01T15:24:56",
          "2019-12-24T19:45:44",
          "2019-12-24T11:15:34",
          "2019-12-22T06:02:06",
          "2019-12-22T05:55:25",
          "2019-12-17T19:40:31",
          "2019-11-28T11:02:26",
          "2019-11-28T02:46:34",
          "2019-11-28T02:36:46"
         ],
         "y": [
          "ACTIVATE_APP",
          "ACTIVATE_APP",
          "ACTIVATE_APP",
          "ACTIVATE_APP",
          "ACTIVATE_APP",
          "ACTIVATE_APP",
          "ACTIVATE_APP",
          "ACTIVATE_APP",
          "ACTIVATE_APP",
          "ACTIVATE_APP",
          "ACTIVATE_APP",
          "ACTIVATE_APP",
          "ACTIVATE_APP",
          "ACTIVATE_APP",
          "ACTIVATE_APP",
          "ACTIVATE_APP",
          "ACTIVATE_APP",
          "ACTIVATE_APP",
          "ACTIVATE_APP",
          "ACTIVATE_APP",
          "ACTIVATE_APP",
          "ACTIVATE_APP",
          "ACTIVATE_APP",
          "ACTIVATE_APP",
          "ACTIVATE_APP",
          "ACTIVATE_APP",
          "ACTIVATE_APP",
          "ACTIVATE_APP",
          "ACTIVATE_APP",
          "ACTIVATE_APP"
         ]
        },
        {
         "mode": "markers",
         "name": "cnn.com",
         "type": "scatter",
         "x": [
          "2020-03-18T16:09:20",
          "2020-03-18T16:09:18",
          "2020-03-12T14:58:57",
          "2020-01-15T19:18:41",
          "2020-01-15T19:18:33",
          "2019-12-30T12:31:28",
          "2019-12-30T12:29:26",
          "2019-12-30T12:13:22",
          "2019-12-30T12:13:16",
          "2019-12-30T12:12:45",
          "2019-11-05T16:46:16",
          "2019-11-05T16:46:15",
          "2019-11-05T16:46:13"
         ],
         "y": [
          "PAGE_VIEW",
          "PAGE_VIEW",
          "PAGE_VIEW",
          "VIEW_CONTENT",
          "VIEW_CONTENT",
          "VIEW_CONTENT",
          "VIEW_CONTENT",
          "VIEW_CONTENT",
          "VIEW_CONTENT",
          "VIEW_CONTENT",
          "VIEW_CONTENT",
          "VIEW_CONTENT",
          "VIEW_CONTENT"
         ]
        },
        {
         "mode": "markers",
         "name": "gitlab.com",
         "type": "scatter",
         "x": [
          "2020-03-12T18:02:12",
          "2020-03-12T17:56:58",
          "2020-03-12T17:55:54",
          "2020-03-12T16:25:24",
          "2020-03-12T16:00:10",
          "2020-03-12T15:59:40",
          "2020-03-12T14:42:20",
          "2020-03-12T13:24:57",
          "2020-03-12T11:37:14",
          "2020-03-11T16:58:18",
          "2020-03-11T16:44:57",
          "2020-03-11T16:43:33",
          "2020-03-11T15:53:54",
          "2020-03-11T15:53:54",
          "2020-03-11T15:13:04",
          "2020-03-11T15:07:32",
          "2020-03-11T14:57:27",
          "2020-03-11T14:57:19",
          "2020-03-11T13:26:48",
          "2020-03-11T12:58:13",
          "2020-03-11T12:14:51",
          "2020-03-11T11:59:44",
          "2020-03-10T18:33:56",
          "2020-03-10T18:22:14",
          "2020-03-10T18:12:32",
          "2020-03-10T17:53:48",
          "2020-03-10T17:21:56",
          "2020-03-10T17:20:01",
          "2020-03-10T17:14:39",
          "2020-03-10T16:14:26",
          "2020-03-06T14:50:40",
          "2020-03-05T16:21:57",
          "2020-03-02T13:58:14",
          "2020-03-02T13:58:14",
          "2020-03-02T13:41:25",
          "2020-02-28T18:31:56",
          "2020-02-28T18:31:56",
          "2020-01-10T14:42:42",
          "2020-01-03T12:20:46",
          "2019-12-26T16:15:03",
          "2019-12-26T12:21:54",
          "2019-12-18T16:22:35",
          "2019-12-18T13:48:51",
          "2019-12-17T17:36:10",
          "2019-12-17T12:09:21",
          "2019-12-16T15:21:53",
          "2019-12-16T15:05:20",
          "2019-12-16T14:59:42",
          "2019-12-13T17:55:26",
          "2019-12-12T17:24:08",
          "2019-12-12T15:33:13",
          "2019-12-12T15:16:37",
          "2019-12-12T14:51:43",
          "2019-12-12T14:42:17",
          "2019-12-12T14:09:35",
          "2019-12-12T13:32:13",
          "2019-12-11T18:40:22",
          "2019-12-11T18:13:17",
          "2019-12-11T15:51:57"
         ],
         "y": [
          "PAGE_VIEW",
          "PAGE_VIEW",
          "PAGE_VIEW",
          "PAGE_VIEW",
          "PAGE_VIEW",
          "PAGE_VIEW",
          "PAGE_VIEW",
          "PAGE_VIEW",
          "PAGE_VIEW",
          "PAGE_VIEW",
          "PAGE_VIEW",
          "PAGE_VIEW",
          "PAGE_VIEW",
          "PAGE_VIEW",
          "PAGE_VIEW",
          "PAGE_VIEW",
          "PAGE_VIEW",
          "PAGE_VIEW",
          "PAGE_VIEW",
          "PAGE_VIEW",
          "PAGE_VIEW",
          "PAGE_VIEW",
          "PAGE_VIEW",
          "PAGE_VIEW",
          "PAGE_VIEW",
          "PAGE_VIEW",
          "PAGE_VIEW",
          "PAGE_VIEW",
          "PAGE_VIEW",
          "PAGE_VIEW",
          "PAGE_VIEW",
          "PAGE_VIEW",
          "PAGE_VIEW",
          "PAGE_VIEW",
          "PAGE_VIEW",
          "PAGE_VIEW",
          "PAGE_VIEW",
          "VIEW_CONTENT",
          "VIEW_CONTENT",
          "VIEW_CONTENT",
          "VIEW_CONTENT",
          "VIEW_CONTENT",
          "VIEW_CONTENT",
          "VIEW_CONTENT",
          "VIEW_CONTENT",
          "VIEW_CONTENT",
          "VIEW_CONTENT",
          "VIEW_CONTENT",
          "VIEW_CONTENT",
          "VIEW_CONTENT",
          "VIEW_CONTENT",
          "VIEW_CONTENT",
          "VIEW_CONTENT",
          "VIEW_CONTENT",
          "VIEW_CONTENT",
          "VIEW_CONTENT",
          "VIEW_CONTENT",
          "VIEW_CONTENT",
          "VIEW_CONTENT"
         ]
        },
        {
         "mode": "markers",
         "name": "digitalocean.com",
         "type": "scatter",
         "x": [
          "2020-03-11T16:05:48",
          "2020-03-09T14:55:53",
          "2020-03-05T18:39:57",
          "2020-02-28T17:26:50",
          "2020-02-13T21:24:54",
          "2020-02-07T14:25:44",
          "2020-01-31T18:43:47",
          "2020-01-16T13:08:36",
          "2020-01-14T17:53:20",
          "2020-01-06T18:44:52",
          "2020-01-06T18:44:52",
          "2020-01-06T16:14:31",
          "2020-01-06T16:14:31",
          "2020-01-06T15:49:14",
          "2020-01-06T15:49:13",
          "2019-12-13T14:03:28",
          "2019-12-13T14:03:28",
          "2019-12-12T15:12:59",
          "2019-12-12T15:12:59",
          "2019-11-11T13:07:09",
          "2019-11-11T13:07:08",
          "2019-10-17T17:38:08",
          "2019-10-17T17:38:07",
          "2019-09-05T23:03:06",
          "2019-09-05T23:03:05",
          "2019-08-09T00:40:43",
          "2019-08-09T00:40:41",
          "2019-08-09T00:25:59",
          "2019-08-09T00:25:58"
         ],
         "y": [
          "PAGE_VIEW",
          "PAGE_VIEW",
          "PAGE_VIEW",
          "PAGE_VIEW",
          "PAGE_VIEW",
          "VIEW_CONTENT",
          "VIEW_CONTENT",
          "VIEW_CONTENT",
          "VIEW_CONTENT",
          "VIEW_CONTENT",
          "VIEW_CONTENT",
          "VIEW_CONTENT",
          "VIEW_CONTENT",
          "VIEW_CONTENT",
          "VIEW_CONTENT",
          "VIEW_CONTENT",
          "VIEW_CONTENT",
          "VIEW_CONTENT",
          "VIEW_CONTENT",
          "VIEW_CONTENT",
          "VIEW_CONTENT",
          "VIEW_CONTENT",
          "VIEW_CONTENT",
          "VIEW_CONTENT",
          "VIEW_CONTENT",
          "VIEW_CONTENT",
          "VIEW_CONTENT",
          "VIEW_CONTENT",
          "VIEW_CONTENT"
         ]
        },
        {
         "mode": "markers",
         "name": "docker.com",
         "type": "scatter",
         "x": [
          "2020-03-10T17:14:28",
          "2020-03-10T12:46:42",
          "2020-03-06T14:50:31",
          "2020-03-04T03:04:41",
          "2020-03-03T16:14:27",
          "2020-02-28T19:59:28",
          "2020-02-28T18:52:37",
          "2020-02-28T14:26:21",
          "2020-02-19T16:28:10",
          "2020-02-13T19:44:23",
          "2020-02-13T12:24:03",
          "2020-02-13T04:22:48",
          "2020-02-13T04:10:43",
          "2020-02-10T14:45:25",
          "2020-02-07T16:18:17",
          "2020-02-07T16:14:33",
          "2020-02-05T15:53:13",
          "2020-02-05T14:18:30",
          "2020-02-04T12:46:00",
          "2020-02-03T15:49:44",
          "2020-02-03T15:12:07",
          "2020-02-03T12:20:15",
          "2020-02-03T11:56:09",
          "2020-01-31T14:54:23",
          "2020-01-31T13:48:05",
          "2020-01-20T12:00:41",
          "2020-01-17T16:33:08",
          "2020-01-16T21:41:32",
          "2020-01-16T20:52:18",
          "2020-01-16T19:24:54",
          "2020-01-16T18:19:07",
          "2020-01-16T18:14:37",
          "2020-01-16T16:53:17",
          "2020-01-16T16:20:25",
          "2020-01-15T14:12:47",
          "2020-01-14T19:11:54",
          "2020-01-14T17:08:48",
          "2020-01-14T16:33:13",
          "2020-01-07T16:54:21",
          "2020-01-07T15:42:42",
          "2020-01-06T18:48:25",
          "2020-01-06T17:26:44",
          "2020-01-06T17:08:10",
          "2020-01-06T16:58:15",
          "2020-01-06T16:14:05",
          "2020-01-06T13:53:34",
          "2019-12-19T18:03:18",
          "2019-12-18T16:02:04",
          "2019-12-18T13:10:25",
          "2019-12-17T15:27:06",
          "2019-12-16T16:18:15",
          "2019-12-16T16:05:26",
          "2019-12-16T15:47:56",
          "2019-12-16T15:44:23",
          "2019-12-16T15:20:03",
          "2019-12-16T15:07:41"
         ],
         "y": [
          "PAGE_VIEW",
          "PAGE_VIEW",
          "PAGE_VIEW",
          "PAGE_VIEW",
          "PAGE_VIEW",
          "PAGE_VIEW",
          "PAGE_VIEW",
          "PAGE_VIEW",
          "PAGE_VIEW",
          "PAGE_VIEW",
          "PAGE_VIEW",
          "PAGE_VIEW",
          "PAGE_VIEW",
          "VIEW_CONTENT",
          "VIEW_CONTENT",
          "VIEW_CONTENT",
          "VIEW_CONTENT",
          "VIEW_CONTENT",
          "VIEW_CONTENT",
          "VIEW_CONTENT",
          "VIEW_CONTENT",
          "VIEW_CONTENT",
          "VIEW_CONTENT",
          "VIEW_CONTENT",
          "VIEW_CONTENT",
          "VIEW_CONTENT",
          "VIEW_CONTENT",
          "VIEW_CONTENT",
          "VIEW_CONTENT",
          "VIEW_CONTENT",
          "VIEW_CONTENT",
          "VIEW_CONTENT",
          "VIEW_CONTENT",
          "VIEW_CONTENT",
          "VIEW_CONTENT",
          "VIEW_CONTENT",
          "VIEW_CONTENT",
          "VIEW_CONTENT",
          "VIEW_CONTENT",
          "VIEW_CONTENT",
          "VIEW_CONTENT",
          "VIEW_CONTENT",
          "VIEW_CONTENT",
          "VIEW_CONTENT",
          "VIEW_CONTENT",
          "VIEW_CONTENT",
          "VIEW_CONTENT",
          "VIEW_CONTENT",
          "VIEW_CONTENT",
          "VIEW_CONTENT",
          "VIEW_CONTENT",
          "VIEW_CONTENT",
          "VIEW_CONTENT",
          "VIEW_CONTENT",
          "VIEW_CONTENT",
          "VIEW_CONTENT"
         ]
        },
        {
         "mode": "markers",
         "name": "elastic.co",
         "type": "scatter",
         "x": [
          "2020-02-27T18:16:05",
          "2020-02-27T18:14:24",
          "2020-01-08T17:38:41",
          "2020-01-02T15:23:17",
          "2019-12-23T18:41:52",
          "2019-12-12T18:39:52",
          "2019-12-03T12:52:12",
          "2019-12-03T12:41:21",
          "2019-11-20T20:14:57",
          "2019-11-20T19:39:26",
          "2019-11-20T14:00:58",
          "2019-11-20T12:32:58",
          "2019-11-20T12:29:00",
          "2019-11-18T15:22:14",
          "2019-11-15T13:20:52",
          "2019-11-15T13:10:55",
          "2019-11-15T12:20:35",
          "2019-11-14T17:50:41",
          "2019-11-07T19:21:45",
          "2019-11-07T15:50:05",
          "2019-11-07T14:11:33",
          "2019-11-07T13:59:20",
          "2019-11-07T12:01:52",
          "2019-11-06T18:01:47",
          "2019-11-06T17:54:05",
          "2019-11-06T16:47:19",
          "2019-11-06T16:39:01",
          "2019-11-06T13:36:43",
          "2019-11-06T13:21:13",
          "2019-11-06T12:40:21",
          "2019-11-06T12:16:44",
          "2019-11-05T17:34:13",
          "2019-11-05T17:16:35",
          "2019-11-05T17:14:34",
          "2019-11-05T14:07:56",
          "2019-11-05T13:20:10",
          "2019-10-18T14:53:29",
          "2019-10-18T12:52:19",
          "2019-10-18T12:43:45",
          "2019-10-18T12:21:55",
          "2019-10-17T21:47:44",
          "2019-10-17T21:36:48",
          "2019-10-17T16:19:37"
         ],
         "y": [
          "PAGE_VIEW",
          "CUSTOM",
          "CUSTOM",
          "CUSTOM",
          "CUSTOM",
          "CUSTOM",
          "CUSTOM",
          "CUSTOM",
          "CUSTOM",
          "CUSTOM",
          "CUSTOM",
          "VIEW_CONTENT",
          "CUSTOM",
          "CUSTOM",
          "VIEW_CONTENT",
          "CUSTOM",
          "CUSTOM",
          "CUSTOM",
          "CUSTOM",
          "CUSTOM",
          "VIEW_CONTENT",
          "CUSTOM",
          "CUSTOM",
          "VIEW_CONTENT",
          "CUSTOM",
          "VIEW_CONTENT",
          "CUSTOM",
          "CUSTOM",
          "CUSTOM",
          "VIEW_CONTENT",
          "CUSTOM",
          "CUSTOM",
          "VIEW_CONTENT",
          "CUSTOM",
          "CUSTOM",
          "CUSTOM",
          "CUSTOM",
          "CUSTOM",
          "CUSTOM",
          "CUSTOM",
          "CUSTOM",
          "CUSTOM",
          "CUSTOM"
         ]
        },
        {
         "mode": "markers",
         "name": "lmiutil.com",
         "type": "scatter",
         "x": [
          "2020-01-08T13:51:13",
          "2020-01-08T13:51:13",
          "2019-12-05T21:11:52",
          "2019-11-26T11:50:59",
          "2019-11-26T11:50:58",
          "2019-11-25T02:47:57",
          "2019-11-25T02:47:55",
          "2019-11-25T02:44:14",
          "2019-11-25T02:44:13",
          "2019-11-25T02:44:13",
          "2019-11-21T15:02:55",
          "2019-11-21T15:02:54",
          "2019-11-21T14:56:36",
          "2019-11-21T14:56:36",
          "2019-11-21T14:40:28",
          "2019-11-21T14:40:28",
          "2019-11-21T14:11:58",
          "2019-11-21T14:11:57",
          "2019-11-21T13:56:19",
          "2019-11-21T13:56:19",
          "2019-11-21T13:41:22",
          "2019-11-21T13:41:22"
         ],
         "y": [
          "VIEW_CONTENT",
          "VIEW_CONTENT",
          "VIEW_CONTENT",
          "VIEW_CONTENT",
          "VIEW_CONTENT",
          "VIEW_CONTENT",
          "VIEW_CONTENT",
          "VIEW_CONTENT",
          "VIEW_CONTENT",
          "VIEW_CONTENT",
          "VIEW_CONTENT",
          "VIEW_CONTENT",
          "VIEW_CONTENT",
          "VIEW_CONTENT",
          "VIEW_CONTENT",
          "VIEW_CONTENT",
          "VIEW_CONTENT",
          "VIEW_CONTENT",
          "VIEW_CONTENT",
          "VIEW_CONTENT",
          "VIEW_CONTENT",
          "VIEW_CONTENT"
         ]
        },
        {
         "mode": "markers",
         "name": "TikTok - Make Your Day",
         "type": "scatter",
         "x": [
          "2019-10-19T03:47:46",
          "2019-10-19T03:36:03",
          "2019-10-12T22:52:22",
          "2019-10-12T22:34:25",
          "2019-10-09T05:25:35",
          "2019-10-09T05:08:08",
          "2019-10-08T21:38:08",
          "2019-10-08T21:21:03",
          "2019-10-08T21:04:44",
          "2019-10-08T01:30:19",
          "2019-10-03T02:09:17",
          "2019-10-03T01:50:21",
          "2019-09-24T19:03:41",
          "2019-09-23T20:45:59",
          "2019-09-23T20:35:33",
          "2019-09-22T15:32:20",
          "2019-09-22T15:15:42",
          "2019-09-20T21:57:17",
          "2019-09-20T18:33:29",
          "2019-09-20T18:23:02",
          "2019-09-19T11:01:19",
          "2019-09-18T22:48:27",
          "2019-09-18T21:31:00",
          "2019-09-18T21:21:36",
          "2019-09-18T21:04:41",
          "2019-09-18T20:59:56",
          "2019-09-18T20:44:56",
          "2019-09-18T20:29:41",
          "2019-09-18T20:12:45",
          "2019-09-11T20:23:57",
          "2019-09-11T20:09:22",
          "2019-09-09T19:22:05",
          "2019-09-09T19:14:29",
          "2019-09-09T18:57:46",
          "2019-09-09T11:31:53",
          "2019-09-09T11:29:53",
          "2019-09-09T11:14:38",
          "2019-09-09T10:58:40",
          "2019-09-04T03:02:42",
          "2019-09-04T02:45:45",
          "2019-09-02T12:02:06",
          "2019-08-30T11:05:55",
          "2019-08-27T19:40:05",
          "2019-08-27T19:25:54",
          "2019-08-25T21:00:03",
          "2019-08-24T04:56:31",
          "2019-08-24T04:33:02",
          "2019-08-20T00:25:06",
          "2019-08-16T11:55:32",
          "2019-08-16T11:44:45",
          "2019-08-15T10:24:06"
         ],
         "y": [
          "CUSTOM",
          "ACTIVATE_APP",
          "CUSTOM",
          "ACTIVATE_APP",
          "CUSTOM",
          "ACTIVATE_APP",
          "ACTIVATE_APP",
          "ACTIVATE_APP",
          "ACTIVATE_APP",
          "ACTIVATE_APP",
          "CUSTOM",
          "ACTIVATE_APP",
          "ACTIVATE_APP",
          "CUSTOM",
          "ACTIVATE_APP",
          "ACTIVATE_APP",
          "ACTIVATE_APP",
          "ACTIVATE_APP",
          "CUSTOM",
          "ACTIVATE_APP",
          "ACTIVATE_APP",
          "ACTIVATE_APP",
          "CUSTOM",
          "ACTIVATE_APP",
          "CUSTOM",
          "CUSTOM",
          "CUSTOM",
          "CUSTOM",
          "ACTIVATE_APP",
          "ACTIVATE_APP",
          "ACTIVATE_APP",
          "ACTIVATE_APP",
          "CUSTOM",
          "ACTIVATE_APP",
          "CUSTOM",
          "CUSTOM",
          "CUSTOM",
          "ACTIVATE_APP",
          "CUSTOM",
          "ACTIVATE_APP",
          "ACTIVATE_APP",
          "ACTIVATE_APP",
          "CUSTOM",
          "ACTIVATE_APP",
          "ACTIVATE_APP",
          "CUSTOM",
          "ACTIVATE_APP",
          "ACTIVATE_APP",
          "CUSTOM",
          "ACTIVATE_APP",
          "ACTIVATE_APP"
         ]
        },
        {
         "mode": "markers",
         "name": "TikTok - Real Short Videos",
         "type": "scatter",
         "x": [
          "2019-08-07T19:37:16",
          "2019-08-07T19:29:50",
          "2019-08-07T19:14:07",
          "2019-08-06T19:16:26",
          "2019-08-06T19:04:28",
          "2019-08-05T20:13:39",
          "2019-08-05T19:59:39",
          "2019-08-05T19:40:11",
          "2019-08-04T23:32:21",
          "2019-08-04T23:04:30",
          "2019-08-04T22:53:17",
          "2019-08-04T14:00:31",
          "2019-08-04T13:59:49",
          "2019-08-02T19:20:02",
          "2019-08-02T19:05:33",
          "2019-08-02T18:23:25",
          "2019-08-02T18:14:40",
          "2019-08-02T17:59:55",
          "2019-08-02T17:34:31",
          "2019-08-02T17:28:44",
          "2019-08-02T17:07:42",
          "2019-08-02T02:18:27",
          "2019-08-02T02:05:14",
          "2019-08-01T19:45:17",
          "2019-08-01T19:36:27",
          "2019-08-01T19:18:32",
          "2019-08-01T19:14:34",
          "2019-07-30T20:10:46",
          "2019-07-30T19:56:58",
          "2019-07-30T19:44:13",
          "2019-07-30T19:25:52",
          "2019-07-30T10:11:10",
          "2019-07-29T21:34:39",
          "2019-07-29T21:17:20",
          "2019-07-29T21:08:23",
          "2019-07-29T20:59:33",
          "2019-07-29T20:34:00",
          "2019-07-29T20:19:04",
          "2019-07-29T19:54:03",
          "2019-07-29T19:44:48",
          "2019-07-29T19:28:37",
          "2019-07-28T06:31:58"
         ],
         "y": [
          "CUSTOM",
          "CUSTOM",
          "ACTIVATE_APP",
          "CUSTOM",
          "ACTIVATE_APP",
          "CUSTOM",
          "CUSTOM",
          "ACTIVATE_APP",
          "ACTIVATE_APP",
          "CUSTOM",
          "ACTIVATE_APP",
          "ACTIVATE_APP",
          "ACTIVATE_APP",
          "CUSTOM",
          "ACTIVATE_APP",
          "CUSTOM",
          "CUSTOM",
          "CUSTOM",
          "ACTIVATE_APP",
          "ACTIVATE_APP",
          "ACTIVATE_APP",
          "CUSTOM",
          "ACTIVATE_APP",
          "CUSTOM",
          "ACTIVATE_APP",
          "CUSTOM",
          "ACTIVATE_APP",
          "ACTIVATE_APP",
          "CUSTOM",
          "CUSTOM",
          "ACTIVATE_APP",
          "ACTIVATE_APP",
          "CUSTOM",
          "ACTIVATE_APP",
          "ACTIVATE_APP",
          "CUSTOM",
          "ACTIVATE_APP",
          "ACTIVATE_APP",
          "CUSTOM",
          "CUSTOM",
          "ACTIVATE_APP",
          "ACTIVATE_APP"
         ]
        }
       ],
       "layout": {
        "template": {
         "data": {
          "bar": [
           {
            "error_x": {
             "color": "#2a3f5f"
            },
            "error_y": {
             "color": "#2a3f5f"
            },
            "marker": {
             "line": {
              "color": "#E5ECF6",
              "width": 0.5
             }
            },
            "type": "bar"
           }
          ],
          "barpolar": [
           {
            "marker": {
             "line": {
              "color": "#E5ECF6",
              "width": 0.5
             }
            },
            "type": "barpolar"
           }
          ],
          "carpet": [
           {
            "aaxis": {
             "endlinecolor": "#2a3f5f",
             "gridcolor": "white",
             "linecolor": "white",
             "minorgridcolor": "white",
             "startlinecolor": "#2a3f5f"
            },
            "baxis": {
             "endlinecolor": "#2a3f5f",
             "gridcolor": "white",
             "linecolor": "white",
             "minorgridcolor": "white",
             "startlinecolor": "#2a3f5f"
            },
            "type": "carpet"
           }
          ],
          "choropleth": [
           {
            "colorbar": {
             "outlinewidth": 0,
             "ticks": ""
            },
            "type": "choropleth"
           }
          ],
          "contour": [
           {
            "colorbar": {
             "outlinewidth": 0,
             "ticks": ""
            },
            "colorscale": [
             [
              0,
              "#0d0887"
             ],
             [
              0.1111111111111111,
              "#46039f"
             ],
             [
              0.2222222222222222,
              "#7201a8"
             ],
             [
              0.3333333333333333,
              "#9c179e"
             ],
             [
              0.4444444444444444,
              "#bd3786"
             ],
             [
              0.5555555555555556,
              "#d8576b"
             ],
             [
              0.6666666666666666,
              "#ed7953"
             ],
             [
              0.7777777777777778,
              "#fb9f3a"
             ],
             [
              0.8888888888888888,
              "#fdca26"
             ],
             [
              1,
              "#f0f921"
             ]
            ],
            "type": "contour"
           }
          ],
          "contourcarpet": [
           {
            "colorbar": {
             "outlinewidth": 0,
             "ticks": ""
            },
            "type": "contourcarpet"
           }
          ],
          "heatmap": [
           {
            "colorbar": {
             "outlinewidth": 0,
             "ticks": ""
            },
            "colorscale": [
             [
              0,
              "#0d0887"
             ],
             [
              0.1111111111111111,
              "#46039f"
             ],
             [
              0.2222222222222222,
              "#7201a8"
             ],
             [
              0.3333333333333333,
              "#9c179e"
             ],
             [
              0.4444444444444444,
              "#bd3786"
             ],
             [
              0.5555555555555556,
              "#d8576b"
             ],
             [
              0.6666666666666666,
              "#ed7953"
             ],
             [
              0.7777777777777778,
              "#fb9f3a"
             ],
             [
              0.8888888888888888,
              "#fdca26"
             ],
             [
              1,
              "#f0f921"
             ]
            ],
            "type": "heatmap"
           }
          ],
          "heatmapgl": [
           {
            "colorbar": {
             "outlinewidth": 0,
             "ticks": ""
            },
            "colorscale": [
             [
              0,
              "#0d0887"
             ],
             [
              0.1111111111111111,
              "#46039f"
             ],
             [
              0.2222222222222222,
              "#7201a8"
             ],
             [
              0.3333333333333333,
              "#9c179e"
             ],
             [
              0.4444444444444444,
              "#bd3786"
             ],
             [
              0.5555555555555556,
              "#d8576b"
             ],
             [
              0.6666666666666666,
              "#ed7953"
             ],
             [
              0.7777777777777778,
              "#fb9f3a"
             ],
             [
              0.8888888888888888,
              "#fdca26"
             ],
             [
              1,
              "#f0f921"
             ]
            ],
            "type": "heatmapgl"
           }
          ],
          "histogram": [
           {
            "marker": {
             "colorbar": {
              "outlinewidth": 0,
              "ticks": ""
             }
            },
            "type": "histogram"
           }
          ],
          "histogram2d": [
           {
            "colorbar": {
             "outlinewidth": 0,
             "ticks": ""
            },
            "colorscale": [
             [
              0,
              "#0d0887"
             ],
             [
              0.1111111111111111,
              "#46039f"
             ],
             [
              0.2222222222222222,
              "#7201a8"
             ],
             [
              0.3333333333333333,
              "#9c179e"
             ],
             [
              0.4444444444444444,
              "#bd3786"
             ],
             [
              0.5555555555555556,
              "#d8576b"
             ],
             [
              0.6666666666666666,
              "#ed7953"
             ],
             [
              0.7777777777777778,
              "#fb9f3a"
             ],
             [
              0.8888888888888888,
              "#fdca26"
             ],
             [
              1,
              "#f0f921"
             ]
            ],
            "type": "histogram2d"
           }
          ],
          "histogram2dcontour": [
           {
            "colorbar": {
             "outlinewidth": 0,
             "ticks": ""
            },
            "colorscale": [
             [
              0,
              "#0d0887"
             ],
             [
              0.1111111111111111,
              "#46039f"
             ],
             [
              0.2222222222222222,
              "#7201a8"
             ],
             [
              0.3333333333333333,
              "#9c179e"
             ],
             [
              0.4444444444444444,
              "#bd3786"
             ],
             [
              0.5555555555555556,
              "#d8576b"
             ],
             [
              0.6666666666666666,
              "#ed7953"
             ],
             [
              0.7777777777777778,
              "#fb9f3a"
             ],
             [
              0.8888888888888888,
              "#fdca26"
             ],
             [
              1,
              "#f0f921"
             ]
            ],
            "type": "histogram2dcontour"
           }
          ],
          "mesh3d": [
           {
            "colorbar": {
             "outlinewidth": 0,
             "ticks": ""
            },
            "type": "mesh3d"
           }
          ],
          "parcoords": [
           {
            "line": {
             "colorbar": {
              "outlinewidth": 0,
              "ticks": ""
             }
            },
            "type": "parcoords"
           }
          ],
          "pie": [
           {
            "automargin": true,
            "type": "pie"
           }
          ],
          "scatter": [
           {
            "marker": {
             "colorbar": {
              "outlinewidth": 0,
              "ticks": ""
             }
            },
            "type": "scatter"
           }
          ],
          "scatter3d": [
           {
            "line": {
             "colorbar": {
              "outlinewidth": 0,
              "ticks": ""
             }
            },
            "marker": {
             "colorbar": {
              "outlinewidth": 0,
              "ticks": ""
             }
            },
            "type": "scatter3d"
           }
          ],
          "scattercarpet": [
           {
            "marker": {
             "colorbar": {
              "outlinewidth": 0,
              "ticks": ""
             }
            },
            "type": "scattercarpet"
           }
          ],
          "scattergeo": [
           {
            "marker": {
             "colorbar": {
              "outlinewidth": 0,
              "ticks": ""
             }
            },
            "type": "scattergeo"
           }
          ],
          "scattergl": [
           {
            "marker": {
             "colorbar": {
              "outlinewidth": 0,
              "ticks": ""
             }
            },
            "type": "scattergl"
           }
          ],
          "scattermapbox": [
           {
            "marker": {
             "colorbar": {
              "outlinewidth": 0,
              "ticks": ""
             }
            },
            "type": "scattermapbox"
           }
          ],
          "scatterpolar": [
           {
            "marker": {
             "colorbar": {
              "outlinewidth": 0,
              "ticks": ""
             }
            },
            "type": "scatterpolar"
           }
          ],
          "scatterpolargl": [
           {
            "marker": {
             "colorbar": {
              "outlinewidth": 0,
              "ticks": ""
             }
            },
            "type": "scatterpolargl"
           }
          ],
          "scatterternary": [
           {
            "marker": {
             "colorbar": {
              "outlinewidth": 0,
              "ticks": ""
             }
            },
            "type": "scatterternary"
           }
          ],
          "surface": [
           {
            "colorbar": {
             "outlinewidth": 0,
             "ticks": ""
            },
            "colorscale": [
             [
              0,
              "#0d0887"
             ],
             [
              0.1111111111111111,
              "#46039f"
             ],
             [
              0.2222222222222222,
              "#7201a8"
             ],
             [
              0.3333333333333333,
              "#9c179e"
             ],
             [
              0.4444444444444444,
              "#bd3786"
             ],
             [
              0.5555555555555556,
              "#d8576b"
             ],
             [
              0.6666666666666666,
              "#ed7953"
             ],
             [
              0.7777777777777778,
              "#fb9f3a"
             ],
             [
              0.8888888888888888,
              "#fdca26"
             ],
             [
              1,
              "#f0f921"
             ]
            ],
            "type": "surface"
           }
          ],
          "table": [
           {
            "cells": {
             "fill": {
              "color": "#EBF0F8"
             },
             "line": {
              "color": "white"
             }
            },
            "header": {
             "fill": {
              "color": "#C8D4E3"
             },
             "line": {
              "color": "white"
             }
            },
            "type": "table"
           }
          ]
         },
         "layout": {
          "annotationdefaults": {
           "arrowcolor": "#2a3f5f",
           "arrowhead": 0,
           "arrowwidth": 1
          },
          "coloraxis": {
           "colorbar": {
            "outlinewidth": 0,
            "ticks": ""
           }
          },
          "colorscale": {
           "diverging": [
            [
             0,
             "#8e0152"
            ],
            [
             0.1,
             "#c51b7d"
            ],
            [
             0.2,
             "#de77ae"
            ],
            [
             0.3,
             "#f1b6da"
            ],
            [
             0.4,
             "#fde0ef"
            ],
            [
             0.5,
             "#f7f7f7"
            ],
            [
             0.6,
             "#e6f5d0"
            ],
            [
             0.7,
             "#b8e186"
            ],
            [
             0.8,
             "#7fbc41"
            ],
            [
             0.9,
             "#4d9221"
            ],
            [
             1,
             "#276419"
            ]
           ],
           "sequential": [
            [
             0,
             "#0d0887"
            ],
            [
             0.1111111111111111,
             "#46039f"
            ],
            [
             0.2222222222222222,
             "#7201a8"
            ],
            [
             0.3333333333333333,
             "#9c179e"
            ],
            [
             0.4444444444444444,
             "#bd3786"
            ],
            [
             0.5555555555555556,
             "#d8576b"
            ],
            [
             0.6666666666666666,
             "#ed7953"
            ],
            [
             0.7777777777777778,
             "#fb9f3a"
            ],
            [
             0.8888888888888888,
             "#fdca26"
            ],
            [
             1,
             "#f0f921"
            ]
           ],
           "sequentialminus": [
            [
             0,
             "#0d0887"
            ],
            [
             0.1111111111111111,
             "#46039f"
            ],
            [
             0.2222222222222222,
             "#7201a8"
            ],
            [
             0.3333333333333333,
             "#9c179e"
            ],
            [
             0.4444444444444444,
             "#bd3786"
            ],
            [
             0.5555555555555556,
             "#d8576b"
            ],
            [
             0.6666666666666666,
             "#ed7953"
            ],
            [
             0.7777777777777778,
             "#fb9f3a"
            ],
            [
             0.8888888888888888,
             "#fdca26"
            ],
            [
             1,
             "#f0f921"
            ]
           ]
          },
          "colorway": [
           "#636efa",
           "#EF553B",
           "#00cc96",
           "#ab63fa",
           "#FFA15A",
           "#19d3f3",
           "#FF6692",
           "#B6E880",
           "#FF97FF",
           "#FECB52"
          ],
          "font": {
           "color": "#2a3f5f"
          },
          "geo": {
           "bgcolor": "white",
           "lakecolor": "white",
           "landcolor": "#E5ECF6",
           "showlakes": true,
           "showland": true,
           "subunitcolor": "white"
          },
          "hoverlabel": {
           "align": "left"
          },
          "hovermode": "closest",
          "mapbox": {
           "style": "light"
          },
          "paper_bgcolor": "white",
          "plot_bgcolor": "#E5ECF6",
          "polar": {
           "angularaxis": {
            "gridcolor": "white",
            "linecolor": "white",
            "ticks": ""
           },
           "bgcolor": "#E5ECF6",
           "radialaxis": {
            "gridcolor": "white",
            "linecolor": "white",
            "ticks": ""
           }
          },
          "scene": {
           "xaxis": {
            "backgroundcolor": "#E5ECF6",
            "gridcolor": "white",
            "gridwidth": 2,
            "linecolor": "white",
            "showbackground": true,
            "ticks": "",
            "zerolinecolor": "white"
           },
           "yaxis": {
            "backgroundcolor": "#E5ECF6",
            "gridcolor": "white",
            "gridwidth": 2,
            "linecolor": "white",
            "showbackground": true,
            "ticks": "",
            "zerolinecolor": "white"
           },
           "zaxis": {
            "backgroundcolor": "#E5ECF6",
            "gridcolor": "white",
            "gridwidth": 2,
            "linecolor": "white",
            "showbackground": true,
            "ticks": "",
            "zerolinecolor": "white"
           }
          },
          "shapedefaults": {
           "line": {
            "color": "#2a3f5f"
           }
          },
          "ternary": {
           "aaxis": {
            "gridcolor": "white",
            "linecolor": "white",
            "ticks": ""
           },
           "baxis": {
            "gridcolor": "white",
            "linecolor": "white",
            "ticks": ""
           },
           "bgcolor": "#E5ECF6",
           "caxis": {
            "gridcolor": "white",
            "linecolor": "white",
            "ticks": ""
           }
          },
          "title": {
           "x": 0.05
          },
          "xaxis": {
           "automargin": true,
           "gridcolor": "white",
           "linecolor": "white",
           "ticks": "",
           "title": {
            "standoff": 15
           },
           "zerolinecolor": "white",
           "zerolinewidth": 2
          },
          "yaxis": {
           "automargin": true,
           "gridcolor": "white",
           "linecolor": "white",
           "ticks": "",
           "title": {
            "standoff": 15
           },
           "zerolinecolor": "white",
           "zerolinewidth": 2
          }
         }
        }
       }
      }
     },
     "metadata": {}
    }
   ],
   "source": [
    "\n",
    "fig = go.Figure()\n",
    "top_ten_df = off_facebook_df[off_facebook_df['name'].isin(counts_df[0:10]['name'])]\n",
    "top_ten_df['date'] = pd.to_datetime(top_ten_df['date'],unit='s')\n",
    "for x in top_ten_df.name.unique():\n",
    "    t_df = top_ten_df.loc[top_ten_df['name'] == x]\n",
    "    fig.add_trace(go.Scatter(x=t_df['date'],y=t_df['type'],mode='markers',name=x))\n",
    "#fig = go.Figure()\n",
    "#top_ten_df.head()\n",
    "#fig.add_trace(go.Scatter(x=filtered['date'], y=off_facebook_df[]))\n",
    "fig.show()\n"
   ]
  },
  {
   "cell_type": "markdown",
   "metadata": {},
   "source": [
    "## Messages Data"
   ]
  },
  {
   "cell_type": "code",
   "execution_count": 163,
   "metadata": {},
   "outputs": [
    {
     "output_type": "display_data",
     "data": {
      "application/vnd.plotly.v1+json": {
       "config": {
        "plotlyServerURL": "https://plot.ly"
       },
       "data": [
        {
         "alignmentgroup": "True",
         "hovertemplate": "title=%{x}<br>count=%{marker.color}<extra></extra>",
         "legendgroup": "",
         "marker": {
          "color": [
           9,
           34,
           11,
           24,
           11,
           15,
           52,
           17,
           3,
           4,
           6,
           13,
           17,
           6,
           6,
           68,
           20,
           12,
           6,
           13,
           7,
           11,
           8,
           3,
           43,
           20,
           7,
           5,
           3,
           34,
           293,
           7,
           32,
           23,
           5,
           26,
           241,
           31,
           11,
           21,
           252,
           26,
           97,
           3,
           14,
           30,
           17,
           5
          ],
          "coloraxis": "coloraxis"
         },
         "name": "",
         "offsetgroup": "",
         "orientation": "v",
         "showlegend": false,
         "textposition": "auto",
         "type": "bar",
         "x": [
          "Matthew Shallow",
          "Thirsty Thursday ð»ð¥ð¾ð¹ð¸ð¥ð·",
          "Tyler Â· Room for rent",
          "Jessica Elaine",
          "Aaron Brown",
          "Tyler Â· Snowboards (read ad)",
          "Shadeed Q Drakeford",
          "Nick Cerdeira",
          "Tory Hubbard",
          "Doug Shaner",
          "Kelsey Taylor",
          "Sean Bee",
          "Tasia Demas Schmitz and Erin Mahoney Schmitz",
          "Samantha Stull",
          "Bonny Pokopac Chappell",
          "Hunter Ford",
          "Jeremy Levine",
          "Berkeley King",
          "Mylilallykat Howboutdat",
          "Mary Ann Vacante LeMonnier",
          "Mary Kate McDermott Nolte",
          "Jaron Daulton",
          "Shane Forrey",
          "Caleb Baldwin",
          "Michael Hinely",
          "Eric Shaner",
          "Colin Sporer",
          "Tommy Tomcat Luc",
          "Matt Marx",
          "Antoinette Podolek Schmitz",
          "Ally Stull",
          "Shane Smith",
          "Jordan Puglisi",
          "Savannah Kirtley",
          "Doug Shaner, Laura Dorsey-Shaner, Allison Shaner and Eric Shaner",
          "Abigail Parisen",
          "Richie Martins",
          "Taylor Windsor",
          "Conor Habiger",
          "Facebook User",
          "Brenton Rampage Ebron",
          "We need food STAT",
          "Kadie Hartman",
          "Troy Kilcarr",
          "Alec Wasserman",
          "Tyler Â· to",
          "Ben Schmitz",
          "Coy Horner"
         ],
         "xaxis": "x",
         "y": [
          9,
          34,
          11,
          24,
          11,
          15,
          52,
          17,
          3,
          4,
          6,
          13,
          17,
          6,
          6,
          68,
          20,
          12,
          6,
          13,
          7,
          11,
          8,
          3,
          43,
          20,
          7,
          5,
          3,
          34,
          293,
          7,
          32,
          23,
          5,
          26,
          241,
          31,
          11,
          21,
          252,
          26,
          97,
          3,
          14,
          30,
          17,
          5
         ],
         "yaxis": "y"
        }
       ],
       "layout": {
        "barmode": "relative",
        "coloraxis": {
         "colorbar": {
          "title": {
           "text": "count"
          }
         },
         "colorscale": [
          [
           0,
           "#0d0887"
          ],
          [
           0.1111111111111111,
           "#46039f"
          ],
          [
           0.2222222222222222,
           "#7201a8"
          ],
          [
           0.3333333333333333,
           "#9c179e"
          ],
          [
           0.4444444444444444,
           "#bd3786"
          ],
          [
           0.5555555555555556,
           "#d8576b"
          ],
          [
           0.6666666666666666,
           "#ed7953"
          ],
          [
           0.7777777777777778,
           "#fb9f3a"
          ],
          [
           0.8888888888888888,
           "#fdca26"
          ],
          [
           1,
           "#f0f921"
          ]
         ]
        },
        "legend": {
         "tracegroupgap": 0
        },
        "margin": {
         "t": 60
        },
        "template": {
         "data": {
          "bar": [
           {
            "error_x": {
             "color": "#2a3f5f"
            },
            "error_y": {
             "color": "#2a3f5f"
            },
            "marker": {
             "line": {
              "color": "#E5ECF6",
              "width": 0.5
             }
            },
            "type": "bar"
           }
          ],
          "barpolar": [
           {
            "marker": {
             "line": {
              "color": "#E5ECF6",
              "width": 0.5
             }
            },
            "type": "barpolar"
           }
          ],
          "carpet": [
           {
            "aaxis": {
             "endlinecolor": "#2a3f5f",
             "gridcolor": "white",
             "linecolor": "white",
             "minorgridcolor": "white",
             "startlinecolor": "#2a3f5f"
            },
            "baxis": {
             "endlinecolor": "#2a3f5f",
             "gridcolor": "white",
             "linecolor": "white",
             "minorgridcolor": "white",
             "startlinecolor": "#2a3f5f"
            },
            "type": "carpet"
           }
          ],
          "choropleth": [
           {
            "colorbar": {
             "outlinewidth": 0,
             "ticks": ""
            },
            "type": "choropleth"
           }
          ],
          "contour": [
           {
            "colorbar": {
             "outlinewidth": 0,
             "ticks": ""
            },
            "colorscale": [
             [
              0,
              "#0d0887"
             ],
             [
              0.1111111111111111,
              "#46039f"
             ],
             [
              0.2222222222222222,
              "#7201a8"
             ],
             [
              0.3333333333333333,
              "#9c179e"
             ],
             [
              0.4444444444444444,
              "#bd3786"
             ],
             [
              0.5555555555555556,
              "#d8576b"
             ],
             [
              0.6666666666666666,
              "#ed7953"
             ],
             [
              0.7777777777777778,
              "#fb9f3a"
             ],
             [
              0.8888888888888888,
              "#fdca26"
             ],
             [
              1,
              "#f0f921"
             ]
            ],
            "type": "contour"
           }
          ],
          "contourcarpet": [
           {
            "colorbar": {
             "outlinewidth": 0,
             "ticks": ""
            },
            "type": "contourcarpet"
           }
          ],
          "heatmap": [
           {
            "colorbar": {
             "outlinewidth": 0,
             "ticks": ""
            },
            "colorscale": [
             [
              0,
              "#0d0887"
             ],
             [
              0.1111111111111111,
              "#46039f"
             ],
             [
              0.2222222222222222,
              "#7201a8"
             ],
             [
              0.3333333333333333,
              "#9c179e"
             ],
             [
              0.4444444444444444,
              "#bd3786"
             ],
             [
              0.5555555555555556,
              "#d8576b"
             ],
             [
              0.6666666666666666,
              "#ed7953"
             ],
             [
              0.7777777777777778,
              "#fb9f3a"
             ],
             [
              0.8888888888888888,
              "#fdca26"
             ],
             [
              1,
              "#f0f921"
             ]
            ],
            "type": "heatmap"
           }
          ],
          "heatmapgl": [
           {
            "colorbar": {
             "outlinewidth": 0,
             "ticks": ""
            },
            "colorscale": [
             [
              0,
              "#0d0887"
             ],
             [
              0.1111111111111111,
              "#46039f"
             ],
             [
              0.2222222222222222,
              "#7201a8"
             ],
             [
              0.3333333333333333,
              "#9c179e"
             ],
             [
              0.4444444444444444,
              "#bd3786"
             ],
             [
              0.5555555555555556,
              "#d8576b"
             ],
             [
              0.6666666666666666,
              "#ed7953"
             ],
             [
              0.7777777777777778,
              "#fb9f3a"
             ],
             [
              0.8888888888888888,
              "#fdca26"
             ],
             [
              1,
              "#f0f921"
             ]
            ],
            "type": "heatmapgl"
           }
          ],
          "histogram": [
           {
            "marker": {
             "colorbar": {
              "outlinewidth": 0,
              "ticks": ""
             }
            },
            "type": "histogram"
           }
          ],
          "histogram2d": [
           {
            "colorbar": {
             "outlinewidth": 0,
             "ticks": ""
            },
            "colorscale": [
             [
              0,
              "#0d0887"
             ],
             [
              0.1111111111111111,
              "#46039f"
             ],
             [
              0.2222222222222222,
              "#7201a8"
             ],
             [
              0.3333333333333333,
              "#9c179e"
             ],
             [
              0.4444444444444444,
              "#bd3786"
             ],
             [
              0.5555555555555556,
              "#d8576b"
             ],
             [
              0.6666666666666666,
              "#ed7953"
             ],
             [
              0.7777777777777778,
              "#fb9f3a"
             ],
             [
              0.8888888888888888,
              "#fdca26"
             ],
             [
              1,
              "#f0f921"
             ]
            ],
            "type": "histogram2d"
           }
          ],
          "histogram2dcontour": [
           {
            "colorbar": {
             "outlinewidth": 0,
             "ticks": ""
            },
            "colorscale": [
             [
              0,
              "#0d0887"
             ],
             [
              0.1111111111111111,
              "#46039f"
             ],
             [
              0.2222222222222222,
              "#7201a8"
             ],
             [
              0.3333333333333333,
              "#9c179e"
             ],
             [
              0.4444444444444444,
              "#bd3786"
             ],
             [
              0.5555555555555556,
              "#d8576b"
             ],
             [
              0.6666666666666666,
              "#ed7953"
             ],
             [
              0.7777777777777778,
              "#fb9f3a"
             ],
             [
              0.8888888888888888,
              "#fdca26"
             ],
             [
              1,
              "#f0f921"
             ]
            ],
            "type": "histogram2dcontour"
           }
          ],
          "mesh3d": [
           {
            "colorbar": {
             "outlinewidth": 0,
             "ticks": ""
            },
            "type": "mesh3d"
           }
          ],
          "parcoords": [
           {
            "line": {
             "colorbar": {
              "outlinewidth": 0,
              "ticks": ""
             }
            },
            "type": "parcoords"
           }
          ],
          "pie": [
           {
            "automargin": true,
            "type": "pie"
           }
          ],
          "scatter": [
           {
            "marker": {
             "colorbar": {
              "outlinewidth": 0,
              "ticks": ""
             }
            },
            "type": "scatter"
           }
          ],
          "scatter3d": [
           {
            "line": {
             "colorbar": {
              "outlinewidth": 0,
              "ticks": ""
             }
            },
            "marker": {
             "colorbar": {
              "outlinewidth": 0,
              "ticks": ""
             }
            },
            "type": "scatter3d"
           }
          ],
          "scattercarpet": [
           {
            "marker": {
             "colorbar": {
              "outlinewidth": 0,
              "ticks": ""
             }
            },
            "type": "scattercarpet"
           }
          ],
          "scattergeo": [
           {
            "marker": {
             "colorbar": {
              "outlinewidth": 0,
              "ticks": ""
             }
            },
            "type": "scattergeo"
           }
          ],
          "scattergl": [
           {
            "marker": {
             "colorbar": {
              "outlinewidth": 0,
              "ticks": ""
             }
            },
            "type": "scattergl"
           }
          ],
          "scattermapbox": [
           {
            "marker": {
             "colorbar": {
              "outlinewidth": 0,
              "ticks": ""
             }
            },
            "type": "scattermapbox"
           }
          ],
          "scatterpolar": [
           {
            "marker": {
             "colorbar": {
              "outlinewidth": 0,
              "ticks": ""
             }
            },
            "type": "scatterpolar"
           }
          ],
          "scatterpolargl": [
           {
            "marker": {
             "colorbar": {
              "outlinewidth": 0,
              "ticks": ""
             }
            },
            "type": "scatterpolargl"
           }
          ],
          "scatterternary": [
           {
            "marker": {
             "colorbar": {
              "outlinewidth": 0,
              "ticks": ""
             }
            },
            "type": "scatterternary"
           }
          ],
          "surface": [
           {
            "colorbar": {
             "outlinewidth": 0,
             "ticks": ""
            },
            "colorscale": [
             [
              0,
              "#0d0887"
             ],
             [
              0.1111111111111111,
              "#46039f"
             ],
             [
              0.2222222222222222,
              "#7201a8"
             ],
             [
              0.3333333333333333,
              "#9c179e"
             ],
             [
              0.4444444444444444,
              "#bd3786"
             ],
             [
              0.5555555555555556,
              "#d8576b"
             ],
             [
              0.6666666666666666,
              "#ed7953"
             ],
             [
              0.7777777777777778,
              "#fb9f3a"
             ],
             [
              0.8888888888888888,
              "#fdca26"
             ],
             [
              1,
              "#f0f921"
             ]
            ],
            "type": "surface"
           }
          ],
          "table": [
           {
            "cells": {
             "fill": {
              "color": "#EBF0F8"
             },
             "line": {
              "color": "white"
             }
            },
            "header": {
             "fill": {
              "color": "#C8D4E3"
             },
             "line": {
              "color": "white"
             }
            },
            "type": "table"
           }
          ]
         },
         "layout": {
          "annotationdefaults": {
           "arrowcolor": "#2a3f5f",
           "arrowhead": 0,
           "arrowwidth": 1
          },
          "coloraxis": {
           "colorbar": {
            "outlinewidth": 0,
            "ticks": ""
           }
          },
          "colorscale": {
           "diverging": [
            [
             0,
             "#8e0152"
            ],
            [
             0.1,
             "#c51b7d"
            ],
            [
             0.2,
             "#de77ae"
            ],
            [
             0.3,
             "#f1b6da"
            ],
            [
             0.4,
             "#fde0ef"
            ],
            [
             0.5,
             "#f7f7f7"
            ],
            [
             0.6,
             "#e6f5d0"
            ],
            [
             0.7,
             "#b8e186"
            ],
            [
             0.8,
             "#7fbc41"
            ],
            [
             0.9,
             "#4d9221"
            ],
            [
             1,
             "#276419"
            ]
           ],
           "sequential": [
            [
             0,
             "#0d0887"
            ],
            [
             0.1111111111111111,
             "#46039f"
            ],
            [
             0.2222222222222222,
             "#7201a8"
            ],
            [
             0.3333333333333333,
             "#9c179e"
            ],
            [
             0.4444444444444444,
             "#bd3786"
            ],
            [
             0.5555555555555556,
             "#d8576b"
            ],
            [
             0.6666666666666666,
             "#ed7953"
            ],
            [
             0.7777777777777778,
             "#fb9f3a"
            ],
            [
             0.8888888888888888,
             "#fdca26"
            ],
            [
             1,
             "#f0f921"
            ]
           ],
           "sequentialminus": [
            [
             0,
             "#0d0887"
            ],
            [
             0.1111111111111111,
             "#46039f"
            ],
            [
             0.2222222222222222,
             "#7201a8"
            ],
            [
             0.3333333333333333,
             "#9c179e"
            ],
            [
             0.4444444444444444,
             "#bd3786"
            ],
            [
             0.5555555555555556,
             "#d8576b"
            ],
            [
             0.6666666666666666,
             "#ed7953"
            ],
            [
             0.7777777777777778,
             "#fb9f3a"
            ],
            [
             0.8888888888888888,
             "#fdca26"
            ],
            [
             1,
             "#f0f921"
            ]
           ]
          },
          "colorway": [
           "#636efa",
           "#EF553B",
           "#00cc96",
           "#ab63fa",
           "#FFA15A",
           "#19d3f3",
           "#FF6692",
           "#B6E880",
           "#FF97FF",
           "#FECB52"
          ],
          "font": {
           "color": "#2a3f5f"
          },
          "geo": {
           "bgcolor": "white",
           "lakecolor": "white",
           "landcolor": "#E5ECF6",
           "showlakes": true,
           "showland": true,
           "subunitcolor": "white"
          },
          "hoverlabel": {
           "align": "left"
          },
          "hovermode": "closest",
          "mapbox": {
           "style": "light"
          },
          "paper_bgcolor": "white",
          "plot_bgcolor": "#E5ECF6",
          "polar": {
           "angularaxis": {
            "gridcolor": "white",
            "linecolor": "white",
            "ticks": ""
           },
           "bgcolor": "#E5ECF6",
           "radialaxis": {
            "gridcolor": "white",
            "linecolor": "white",
            "ticks": ""
           }
          },
          "scene": {
           "xaxis": {
            "backgroundcolor": "#E5ECF6",
            "gridcolor": "white",
            "gridwidth": 2,
            "linecolor": "white",
            "showbackground": true,
            "ticks": "",
            "zerolinecolor": "white"
           },
           "yaxis": {
            "backgroundcolor": "#E5ECF6",
            "gridcolor": "white",
            "gridwidth": 2,
            "linecolor": "white",
            "showbackground": true,
            "ticks": "",
            "zerolinecolor": "white"
           },
           "zaxis": {
            "backgroundcolor": "#E5ECF6",
            "gridcolor": "white",
            "gridwidth": 2,
            "linecolor": "white",
            "showbackground": true,
            "ticks": "",
            "zerolinecolor": "white"
           }
          },
          "shapedefaults": {
           "line": {
            "color": "#2a3f5f"
           }
          },
          "ternary": {
           "aaxis": {
            "gridcolor": "white",
            "linecolor": "white",
            "ticks": ""
           },
           "baxis": {
            "gridcolor": "white",
            "linecolor": "white",
            "ticks": ""
           },
           "bgcolor": "#E5ECF6",
           "caxis": {
            "gridcolor": "white",
            "linecolor": "white",
            "ticks": ""
           }
          },
          "title": {
           "x": 0.05
          },
          "xaxis": {
           "automargin": true,
           "gridcolor": "white",
           "linecolor": "white",
           "ticks": "",
           "title": {
            "standoff": 15
           },
           "zerolinecolor": "white",
           "zerolinewidth": 2
          },
          "yaxis": {
           "automargin": true,
           "gridcolor": "white",
           "linecolor": "white",
           "ticks": "",
           "title": {
            "standoff": 15
           },
           "zerolinecolor": "white",
           "zerolinewidth": 2
          }
         }
        },
        "width": 1400,
        "xaxis": {
         "anchor": "y",
         "domain": [
          0,
          1
         ],
         "title": {
          "text": "title"
         }
        },
        "yaxis": {
         "anchor": "x",
         "domain": [
          0,
          1
         ],
         "title": {
          "text": "count"
         }
        }
       }
      }
     },
     "metadata": {}
    }
   ],
   "source": [
    "\n",
    "messages_location = 'data/facebook/messages/inbox'\n",
    "messages_list = []\n",
    "for root,dirs,files in os.walk(messages_location):\n",
    "  for name in dirs:\n",
    "    person_path = os.path.join(root,name,'message_1.json')\n",
    "    try:\n",
    "        f = open(person_path)\n",
    "        raw_json = json.load(f)\n",
    "        if len(raw_json['messages']) > 2:\n",
    "            messages_list.append({\"title\":raw_json['title'],\"messages\":raw_json['messages'],\"count\":len(raw_json['messages'])})\n",
    "        f.close()\n",
    "    except FileNotFoundError:\n",
    "        pass\n",
    "messages_df = pd.DataFrame(messages_list)\n",
    "temp = (messages_df.head(1)['messages'])\n",
    "\n",
    "fig = px.bar(messages_df,x='title',y='count',color='count',width=1400)\n",
    "\n",
    "fig.show()\n"
   ]
  },
  {
   "cell_type": "code",
   "execution_count": null,
   "metadata": {},
   "outputs": [],
   "source": []
  }
 ],
 "metadata": {
  "language_info": {
   "codemirror_mode": {
    "name": "ipython",
    "version": 3
   },
   "file_extension": ".py",
   "mimetype": "text/x-python",
   "name": "python",
   "nbconvert_exporter": "python",
   "pygments_lexer": "ipython3",
   "version": "3.6.9-final"
  },
  "orig_nbformat": 2,
  "kernelspec": {
   "name": "python36964bitvenvvenva871d53600814b51b81e1f3ca82b98ab",
   "display_name": "Python 3.6.9 64-bit ('venv': venv)"
  }
 },
 "nbformat": 4,
 "nbformat_minor": 2
}