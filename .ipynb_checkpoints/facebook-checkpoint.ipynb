{
 "cells": [
  {
   "cell_type": "markdown",
   "metadata": {},
   "source": [
    "# Facebook Data\n",
    "\n",
    "**Save Your Facebook File In Data and Set the File Name Below**"
   ]
  },
  {
   "cell_type": "code",
   "execution_count": 7,
   "metadata": {},
   "outputs": [],
   "source": [
    "import pandas as pd\n",
    "import json\n",
    "import os\n",
    "import plotly.express as px\n",
    "import plotly.graph_objects as go\n",
    "import csv\n",
    "\n",
    "pd.options.display.max_rows = None\n",
    "\n",
    "FACEBOOK_FOLDER='facebook'\n"
   ]
  },
  {
   "cell_type": "markdown",
   "metadata": {},
   "source": [
    "## Off Facebook Data\n",
    "\n",
    "PreReq: Convert To CSV using scripts/off_facebook_to_csv.py"
   ]
  },
  {
   "cell_type": "markdown",
   "metadata": {},
   "source": [
    "\n",
    "### Transform Data into CSV and save in same folder"
   ]
  },
  {
   "cell_type": "code",
   "execution_count": 8,
   "metadata": {},
   "outputs": [
    {
     "name": "stdout",
     "output_type": "stream",
     "text": [
      "Done\n"
     ]
    }
   ],
   "source": [
    "off_facebook_file = 'data/{}/ads_and_businesses/your_off-facebook_activity'.format(FACEBOOK_FOLDER)\n",
    "\n",
    "f = open(off_facebook_file + '.json')\n",
    "raw_json = json.load(f)\n",
    "places = (raw_json['off_facebook_activity'])\n",
    "f.close()\n",
    "\n",
    "\n",
    "with open(off_facebook_file + '.csv','w') as file:\n",
    "  writer = csv.writer(file)\n",
    "  writer.writerow(['name','id','type','date'])\n",
    "  for place in places:\n",
    "    for event in place['events']:\n",
    "      writer.writerow([place['name'],event['id'],event['type'],event['timestamp']])\n",
    "if os.path.exists(off_facebook_file + '.csv'):\n",
    "    print('Done')"
   ]
  },
  {
   "cell_type": "markdown",
   "metadata": {},
   "source": [
    "### Bar Graph of Top 100 Websites"
   ]
  },
  {
   "cell_type": "code",
   "execution_count": 9,
   "metadata": {
    "tags": [
     "outputPrepend"
    ]
   },
   "outputs": [
    {
     "data": {
      "application/vnd.plotly.v1+json": {
       "config": {
        "plotlyServerURL": "https://plot.ly"
       },
       "data": [
        {
         "alignmentgroup": "True",
         "hovertemplate": "name=%{x}<br>count=%{y}<extra></extra>",
         "legendgroup": "gitlab.com",
         "marker": {
          "color": "#636efa"
         },
         "name": "gitlab.com",
         "offsetgroup": "gitlab.com",
         "orientation": "v",
         "showlegend": true,
         "textposition": "auto",
         "type": "bar",
         "x": [
          "gitlab.com"
         ],
         "xaxis": "x",
         "y": [
          59
         ],
         "yaxis": "y"
        },
        {
         "alignmentgroup": "True",
         "hovertemplate": "name=%{x}<br>count=%{y}<extra></extra>",
         "legendgroup": "docker.com",
         "marker": {
          "color": "#EF553B"
         },
         "name": "docker.com",
         "offsetgroup": "docker.com",
         "orientation": "v",
         "showlegend": true,
         "textposition": "auto",
         "type": "bar",
         "x": [
          "docker.com"
         ],
         "xaxis": "x",
         "y": [
          56
         ],
         "yaxis": "y"
        },
        {
         "alignmentgroup": "True",
         "hovertemplate": "name=%{x}<br>count=%{y}<extra></extra>",
         "legendgroup": "TikTok - Make Your Day",
         "marker": {
          "color": "#00cc96"
         },
         "name": "TikTok - Make Your Day",
         "offsetgroup": "TikTok - Make Your Day",
         "orientation": "v",
         "showlegend": true,
         "textposition": "auto",
         "type": "bar",
         "x": [
          "TikTok - Make Your Day"
         ],
         "xaxis": "x",
         "y": [
          51
         ],
         "yaxis": "y"
        },
        {
         "alignmentgroup": "True",
         "hovertemplate": "name=%{x}<br>count=%{y}<extra></extra>",
         "legendgroup": "elastic.co",
         "marker": {
          "color": "#ab63fa"
         },
         "name": "elastic.co",
         "offsetgroup": "elastic.co",
         "orientation": "v",
         "showlegend": true,
         "textposition": "auto",
         "type": "bar",
         "x": [
          "elastic.co"
         ],
         "xaxis": "x",
         "y": [
          43
         ],
         "yaxis": "y"
        },
        {
         "alignmentgroup": "True",
         "hovertemplate": "name=%{x}<br>count=%{y}<extra></extra>",
         "legendgroup": "TikTok - Real Short Videos",
         "marker": {
          "color": "#FFA15A"
         },
         "name": "TikTok - Real Short Videos",
         "offsetgroup": "TikTok - Real Short Videos",
         "orientation": "v",
         "showlegend": true,
         "textposition": "auto",
         "type": "bar",
         "x": [
          "TikTok - Real Short Videos"
         ],
         "xaxis": "x",
         "y": [
          42
         ],
         "yaxis": "y"
        },
        {
         "alignmentgroup": "True",
         "hovertemplate": "name=%{x}<br>count=%{y}<extra></extra>",
         "legendgroup": "Venmo",
         "marker": {
          "color": "#19d3f3"
         },
         "name": "Venmo",
         "offsetgroup": "Venmo",
         "orientation": "v",
         "showlegend": true,
         "textposition": "auto",
         "type": "bar",
         "x": [
          "Venmo"
         ],
         "xaxis": "x",
         "y": [
          30
         ],
         "yaxis": "y"
        },
        {
         "alignmentgroup": "True",
         "hovertemplate": "name=%{x}<br>count=%{y}<extra></extra>",
         "legendgroup": "digitalocean.com",
         "marker": {
          "color": "#FF6692"
         },
         "name": "digitalocean.com",
         "offsetgroup": "digitalocean.com",
         "orientation": "v",
         "showlegend": true,
         "textposition": "auto",
         "type": "bar",
         "x": [
          "digitalocean.com"
         ],
         "xaxis": "x",
         "y": [
          29
         ],
         "yaxis": "y"
        },
        {
         "alignmentgroup": "True",
         "hovertemplate": "name=%{x}<br>count=%{y}<extra></extra>",
         "legendgroup": "lmiutil.com",
         "marker": {
          "color": "#B6E880"
         },
         "name": "lmiutil.com",
         "offsetgroup": "lmiutil.com",
         "orientation": "v",
         "showlegend": true,
         "textposition": "auto",
         "type": "bar",
         "x": [
          "lmiutil.com"
         ],
         "xaxis": "x",
         "y": [
          22
         ],
         "yaxis": "y"
        },
        {
         "alignmentgroup": "True",
         "hovertemplate": "name=%{x}<br>count=%{y}<extra></extra>",
         "legendgroup": "cnn.com",
         "marker": {
          "color": "#FF97FF"
         },
         "name": "cnn.com",
         "offsetgroup": "cnn.com",
         "orientation": "v",
         "showlegend": true,
         "textposition": "auto",
         "type": "bar",
         "x": [
          "cnn.com"
         ],
         "xaxis": "x",
         "y": [
          13
         ],
         "yaxis": "y"
        },
        {
         "alignmentgroup": "True",
         "hovertemplate": "name=%{x}<br>count=%{y}<extra></extra>",
         "legendgroup": "SoundCloud - Music & Audio",
         "marker": {
          "color": "#FECB52"
         },
         "name": "SoundCloud - Music & Audio",
         "offsetgroup": "SoundCloud - Music & Audio",
         "orientation": "v",
         "showlegend": true,
         "textposition": "auto",
         "type": "bar",
         "x": [
          "SoundCloud - Music & Audio"
         ],
         "xaxis": "x",
         "y": [
          13
         ],
         "yaxis": "y"
        },
        {
         "alignmentgroup": "True",
         "hovertemplate": "name=%{x}<br>count=%{y}<extra></extra>",
         "legendgroup": "zillow.com",
         "marker": {
          "color": "#636efa"
         },
         "name": "zillow.com",
         "offsetgroup": "zillow.com",
         "orientation": "v",
         "showlegend": true,
         "textposition": "auto",
         "type": "bar",
         "x": [
          "zillow.com"
         ],
         "xaxis": "x",
         "y": [
          12
         ],
         "yaxis": "y"
        },
        {
         "alignmentgroup": "True",
         "hovertemplate": "name=%{x}<br>count=%{y}<extra></extra>",
         "legendgroup": "howtogeek.com",
         "marker": {
          "color": "#EF553B"
         },
         "name": "howtogeek.com",
         "offsetgroup": "howtogeek.com",
         "orientation": "v",
         "showlegend": true,
         "textposition": "auto",
         "type": "bar",
         "x": [
          "howtogeek.com"
         ],
         "xaxis": "x",
         "y": [
          10
         ],
         "yaxis": "y"
        },
        {
         "alignmentgroup": "True",
         "hovertemplate": "name=%{x}<br>count=%{y}<extra></extra>",
         "legendgroup": "newegg.com",
         "marker": {
          "color": "#00cc96"
         },
         "name": "newegg.com",
         "offsetgroup": "newegg.com",
         "orientation": "v",
         "showlegend": true,
         "textposition": "auto",
         "type": "bar",
         "x": [
          "newegg.com"
         ],
         "xaxis": "x",
         "y": [
          10
         ],
         "yaxis": "y"
        },
        {
         "alignmentgroup": "True",
         "hovertemplate": "name=%{x}<br>count=%{y}<extra></extra>",
         "legendgroup": "Venmo: Send & Receive Money",
         "marker": {
          "color": "#ab63fa"
         },
         "name": "Venmo: Send & Receive Money",
         "offsetgroup": "Venmo: Send & Receive Money",
         "orientation": "v",
         "showlegend": true,
         "textposition": "auto",
         "type": "bar",
         "x": [
          "Venmo: Send & Receive Money"
         ],
         "xaxis": "x",
         "y": [
          10
         ],
         "yaxis": "y"
        },
        {
         "alignmentgroup": "True",
         "hovertemplate": "name=%{x}<br>count=%{y}<extra></extra>",
         "legendgroup": "Sterling Jewelers Inc.",
         "marker": {
          "color": "#FFA15A"
         },
         "name": "Sterling Jewelers Inc.",
         "offsetgroup": "Sterling Jewelers Inc.",
         "orientation": "v",
         "showlegend": true,
         "textposition": "auto",
         "type": "bar",
         "x": [
          "Sterling Jewelers Inc."
         ],
         "xaxis": "x",
         "y": [
          10
         ],
         "yaxis": "y"
        },
        {
         "alignmentgroup": "True",
         "hovertemplate": "name=%{x}<br>count=%{y}<extra></extra>",
         "legendgroup": "gatech.edu",
         "marker": {
          "color": "#19d3f3"
         },
         "name": "gatech.edu",
         "offsetgroup": "gatech.edu",
         "orientation": "v",
         "showlegend": true,
         "textposition": "auto",
         "type": "bar",
         "x": [
          "gatech.edu"
         ],
         "xaxis": "x",
         "y": [
          8
         ],
         "yaxis": "y"
        },
        {
         "alignmentgroup": "True",
         "hovertemplate": "name=%{x}<br>count=%{y}<extra></extra>",
         "legendgroup": "alot.com",
         "marker": {
          "color": "#FF6692"
         },
         "name": "alot.com",
         "offsetgroup": "alot.com",
         "orientation": "v",
         "showlegend": true,
         "textposition": "auto",
         "type": "bar",
         "x": [
          "alot.com"
         ],
         "xaxis": "x",
         "y": [
          8
         ],
         "yaxis": "y"
        },
        {
         "alignmentgroup": "True",
         "hovertemplate": "name=%{x}<br>count=%{y}<extra></extra>",
         "legendgroup": "forbes.com",
         "marker": {
          "color": "#B6E880"
         },
         "name": "forbes.com",
         "offsetgroup": "forbes.com",
         "orientation": "v",
         "showlegend": true,
         "textposition": "auto",
         "type": "bar",
         "x": [
          "forbes.com"
         ],
         "xaxis": "x",
         "y": [
          8
         ],
         "yaxis": "y"
        },
        {
         "alignmentgroup": "True",
         "hovertemplate": "name=%{x}<br>count=%{y}<extra></extra>",
         "legendgroup": "bose.com",
         "marker": {
          "color": "#FF97FF"
         },
         "name": "bose.com",
         "offsetgroup": "bose.com",
         "orientation": "v",
         "showlegend": true,
         "textposition": "auto",
         "type": "bar",
         "x": [
          "bose.com"
         ],
         "xaxis": "x",
         "y": [
          8
         ],
         "yaxis": "y"
        },
        {
         "alignmentgroup": "True",
         "hovertemplate": "name=%{x}<br>count=%{y}<extra></extra>",
         "legendgroup": "dailyfeed.co.uk",
         "marker": {
          "color": "#FECB52"
         },
         "name": "dailyfeed.co.uk",
         "offsetgroup": "dailyfeed.co.uk",
         "orientation": "v",
         "showlegend": true,
         "textposition": "auto",
         "type": "bar",
         "x": [
          "dailyfeed.co.uk"
         ],
         "xaxis": "x",
         "y": [
          8
         ],
         "yaxis": "y"
        },
        {
         "alignmentgroup": "True",
         "hovertemplate": "name=%{x}<br>count=%{y}<extra></extra>",
         "legendgroup": "pluralsight.com",
         "marker": {
          "color": "#636efa"
         },
         "name": "pluralsight.com",
         "offsetgroup": "pluralsight.com",
         "orientation": "v",
         "showlegend": true,
         "textposition": "auto",
         "type": "bar",
         "x": [
          "pluralsight.com"
         ],
         "xaxis": "x",
         "y": [
          7
         ],
         "yaxis": "y"
        },
        {
         "alignmentgroup": "True",
         "hovertemplate": "name=%{x}<br>count=%{y}<extra></extra>",
         "legendgroup": "tripadvisor.com",
         "marker": {
          "color": "#EF553B"
         },
         "name": "tripadvisor.com",
         "offsetgroup": "tripadvisor.com",
         "orientation": "v",
         "showlegend": true,
         "textposition": "auto",
         "type": "bar",
         "x": [
          "tripadvisor.com"
         ],
         "xaxis": "x",
         "y": [
          7
         ],
         "yaxis": "y"
        },
        {
         "alignmentgroup": "True",
         "hovertemplate": "name=%{x}<br>count=%{y}<extra></extra>",
         "legendgroup": "scrumalliance.org",
         "marker": {
          "color": "#00cc96"
         },
         "name": "scrumalliance.org",
         "offsetgroup": "scrumalliance.org",
         "orientation": "v",
         "showlegend": true,
         "textposition": "auto",
         "type": "bar",
         "x": [
          "scrumalliance.org"
         ],
         "xaxis": "x",
         "y": [
          7
         ],
         "yaxis": "y"
        },
        {
         "alignmentgroup": "True",
         "hovertemplate": "name=%{x}<br>count=%{y}<extra></extra>",
         "legendgroup": "towson.edu",
         "marker": {
          "color": "#ab63fa"
         },
         "name": "towson.edu",
         "offsetgroup": "towson.edu",
         "orientation": "v",
         "showlegend": true,
         "textposition": "auto",
         "type": "bar",
         "x": [
          "towson.edu"
         ],
         "xaxis": "x",
         "y": [
          7
         ],
         "yaxis": "y"
        },
        {
         "alignmentgroup": "True",
         "hovertemplate": "name=%{x}<br>count=%{y}<extra></extra>",
         "legendgroup": "intuit.com",
         "marker": {
          "color": "#FFA15A"
         },
         "name": "intuit.com",
         "offsetgroup": "intuit.com",
         "orientation": "v",
         "showlegend": true,
         "textposition": "auto",
         "type": "bar",
         "x": [
          "intuit.com"
         ],
         "xaxis": "x",
         "y": [
          7
         ],
         "yaxis": "y"
        },
        {
         "alignmentgroup": "True",
         "hovertemplate": "name=%{x}<br>count=%{y}<extra></extra>",
         "legendgroup": "safariland.com",
         "marker": {
          "color": "#19d3f3"
         },
         "name": "safariland.com",
         "offsetgroup": "safariland.com",
         "orientation": "v",
         "showlegend": true,
         "textposition": "auto",
         "type": "bar",
         "x": [
          "safariland.com"
         ],
         "xaxis": "x",
         "y": [
          6
         ],
         "yaxis": "y"
        },
        {
         "alignmentgroup": "True",
         "hovertemplate": "name=%{x}<br>count=%{y}<extra></extra>",
         "legendgroup": "Amazon",
         "marker": {
          "color": "#FF6692"
         },
         "name": "Amazon",
         "offsetgroup": "Amazon",
         "orientation": "v",
         "showlegend": true,
         "textposition": "auto",
         "type": "bar",
         "x": [
          "Amazon"
         ],
         "xaxis": "x",
         "y": [
          6
         ],
         "yaxis": "y"
        },
        {
         "alignmentgroup": "True",
         "hovertemplate": "name=%{x}<br>count=%{y}<extra></extra>",
         "legendgroup": "nbcnews.com",
         "marker": {
          "color": "#B6E880"
         },
         "name": "nbcnews.com",
         "offsetgroup": "nbcnews.com",
         "orientation": "v",
         "showlegend": true,
         "textposition": "auto",
         "type": "bar",
         "x": [
          "nbcnews.com"
         ],
         "xaxis": "x",
         "y": [
          6
         ],
         "yaxis": "y"
        },
        {
         "alignmentgroup": "True",
         "hovertemplate": "name=%{x}<br>count=%{y}<extra></extra>",
         "legendgroup": "liquidweb.com",
         "marker": {
          "color": "#FF97FF"
         },
         "name": "liquidweb.com",
         "offsetgroup": "liquidweb.com",
         "orientation": "v",
         "showlegend": true,
         "textposition": "auto",
         "type": "bar",
         "x": [
          "liquidweb.com"
         ],
         "xaxis": "x",
         "y": [
          6
         ],
         "yaxis": "y"
        },
        {
         "alignmentgroup": "True",
         "hovertemplate": "name=%{x}<br>count=%{y}<extra></extra>",
         "legendgroup": "lifehacker.com",
         "marker": {
          "color": "#FECB52"
         },
         "name": "lifehacker.com",
         "offsetgroup": "lifehacker.com",
         "orientation": "v",
         "showlegend": true,
         "textposition": "auto",
         "type": "bar",
         "x": [
          "lifehacker.com"
         ],
         "xaxis": "x",
         "y": [
          6
         ],
         "yaxis": "y"
        },
        {
         "alignmentgroup": "True",
         "hovertemplate": "name=%{x}<br>count=%{y}<extra></extra>",
         "legendgroup": "Disney Streaming Services",
         "marker": {
          "color": "#636efa"
         },
         "name": "Disney Streaming Services",
         "offsetgroup": "Disney Streaming Services",
         "orientation": "v",
         "showlegend": true,
         "textposition": "auto",
         "type": "bar",
         "x": [
          "Disney Streaming Services"
         ],
         "xaxis": "x",
         "y": [
          6
         ],
         "yaxis": "y"
        },
        {
         "alignmentgroup": "True",
         "hovertemplate": "name=%{x}<br>count=%{y}<extra></extra>",
         "legendgroup": "logrocket.com",
         "marker": {
          "color": "#EF553B"
         },
         "name": "logrocket.com",
         "offsetgroup": "logrocket.com",
         "orientation": "v",
         "showlegend": true,
         "textposition": "auto",
         "type": "bar",
         "x": [
          "logrocket.com"
         ],
         "xaxis": "x",
         "y": [
          6
         ],
         "yaxis": "y"
        },
        {
         "alignmentgroup": "True",
         "hovertemplate": "name=%{x}<br>count=%{y}<extra></extra>",
         "legendgroup": "unanet.com",
         "marker": {
          "color": "#00cc96"
         },
         "name": "unanet.com",
         "offsetgroup": "unanet.com",
         "orientation": "v",
         "showlegend": true,
         "textposition": "auto",
         "type": "bar",
         "x": [
          "unanet.com"
         ],
         "xaxis": "x",
         "y": [
          6
         ],
         "yaxis": "y"
        },
        {
         "alignmentgroup": "True",
         "hovertemplate": "name=%{x}<br>count=%{y}<extra></extra>",
         "legendgroup": "atlantablackstar.com",
         "marker": {
          "color": "#ab63fa"
         },
         "name": "atlantablackstar.com",
         "offsetgroup": "atlantablackstar.com",
         "orientation": "v",
         "showlegend": true,
         "textposition": "auto",
         "type": "bar",
         "x": [
          "atlantablackstar.com"
         ],
         "xaxis": "x",
         "y": [
          6
         ],
         "yaxis": "y"
        },
        {
         "alignmentgroup": "True",
         "hovertemplate": "name=%{x}<br>count=%{y}<extra></extra>",
         "legendgroup": "Discover Financial Services",
         "marker": {
          "color": "#FFA15A"
         },
         "name": "Discover Financial Services",
         "offsetgroup": "Discover Financial Services",
         "orientation": "v",
         "showlegend": true,
         "textposition": "auto",
         "type": "bar",
         "x": [
          "Discover Financial Services"
         ],
         "xaxis": "x",
         "y": [
          5
         ],
         "yaxis": "y"
        },
        {
         "alignmentgroup": "True",
         "hovertemplate": "name=%{x}<br>count=%{y}<extra></extra>",
         "legendgroup": "medicinenet.com",
         "marker": {
          "color": "#19d3f3"
         },
         "name": "medicinenet.com",
         "offsetgroup": "medicinenet.com",
         "orientation": "v",
         "showlegend": true,
         "textposition": "auto",
         "type": "bar",
         "x": [
          "medicinenet.com"
         ],
         "xaxis": "x",
         "y": [
          5
         ],
         "yaxis": "y"
        },
        {
         "alignmentgroup": "True",
         "hovertemplate": "name=%{x}<br>count=%{y}<extra></extra>",
         "legendgroup": "baeldung.com",
         "marker": {
          "color": "#FF6692"
         },
         "name": "baeldung.com",
         "offsetgroup": "baeldung.com",
         "orientation": "v",
         "showlegend": true,
         "textposition": "auto",
         "type": "bar",
         "x": [
          "baeldung.com"
         ],
         "xaxis": "x",
         "y": [
          5
         ],
         "yaxis": "y"
        },
        {
         "alignmentgroup": "True",
         "hovertemplate": "name=%{x}<br>count=%{y}<extra></extra>",
         "legendgroup": "sciencefocus.com",
         "marker": {
          "color": "#B6E880"
         },
         "name": "sciencefocus.com",
         "offsetgroup": "sciencefocus.com",
         "orientation": "v",
         "showlegend": true,
         "textposition": "auto",
         "type": "bar",
         "x": [
          "sciencefocus.com"
         ],
         "xaxis": "x",
         "y": [
          5
         ],
         "yaxis": "y"
        },
        {
         "alignmentgroup": "True",
         "hovertemplate": "name=%{x}<br>count=%{y}<extra></extra>",
         "legendgroup": "stitchfix.com",
         "marker": {
          "color": "#FF97FF"
         },
         "name": "stitchfix.com",
         "offsetgroup": "stitchfix.com",
         "orientation": "v",
         "showlegend": true,
         "textposition": "auto",
         "type": "bar",
         "x": [
          "stitchfix.com"
         ],
         "xaxis": "x",
         "y": [
          5
         ],
         "yaxis": "y"
        },
        {
         "alignmentgroup": "True",
         "hovertemplate": "name=%{x}<br>count=%{y}<extra></extra>",
         "legendgroup": "microsoft.com",
         "marker": {
          "color": "#FECB52"
         },
         "name": "microsoft.com",
         "offsetgroup": "microsoft.com",
         "orientation": "v",
         "showlegend": true,
         "textposition": "auto",
         "type": "bar",
         "x": [
          "microsoft.com"
         ],
         "xaxis": "x",
         "y": [
          4
         ],
         "yaxis": "y"
        },
        {
         "alignmentgroup": "True",
         "hovertemplate": "name=%{x}<br>count=%{y}<extra></extra>",
         "legendgroup": "investors.com",
         "marker": {
          "color": "#636efa"
         },
         "name": "investors.com",
         "offsetgroup": "investors.com",
         "orientation": "v",
         "showlegend": true,
         "textposition": "auto",
         "type": "bar",
         "x": [
          "investors.com"
         ],
         "xaxis": "x",
         "y": [
          4
         ],
         "yaxis": "y"
        },
        {
         "alignmentgroup": "True",
         "hovertemplate": "name=%{x}<br>count=%{y}<extra></extra>",
         "legendgroup": "balena.io",
         "marker": {
          "color": "#EF553B"
         },
         "name": "balena.io",
         "offsetgroup": "balena.io",
         "orientation": "v",
         "showlegend": true,
         "textposition": "auto",
         "type": "bar",
         "x": [
          "balena.io"
         ],
         "xaxis": "x",
         "y": [
          4
         ],
         "yaxis": "y"
        },
        {
         "alignmentgroup": "True",
         "hovertemplate": "name=%{x}<br>count=%{y}<extra></extra>",
         "legendgroup": "empower-retirement.com",
         "marker": {
          "color": "#00cc96"
         },
         "name": "empower-retirement.com",
         "offsetgroup": "empower-retirement.com",
         "orientation": "v",
         "showlegend": true,
         "textposition": "auto",
         "type": "bar",
         "x": [
          "empower-retirement.com"
         ],
         "xaxis": "x",
         "y": [
          4
         ],
         "yaxis": "y"
        },
        {
         "alignmentgroup": "True",
         "hovertemplate": "name=%{x}<br>count=%{y}<extra></extra>",
         "legendgroup": "gradifi.com",
         "marker": {
          "color": "#ab63fa"
         },
         "name": "gradifi.com",
         "offsetgroup": "gradifi.com",
         "orientation": "v",
         "showlegend": true,
         "textposition": "auto",
         "type": "bar",
         "x": [
          "gradifi.com"
         ],
         "xaxis": "x",
         "y": [
          4
         ],
         "yaxis": "y"
        },
        {
         "alignmentgroup": "True",
         "hovertemplate": "name=%{x}<br>count=%{y}<extra></extra>",
         "legendgroup": "baltimoresun.com",
         "marker": {
          "color": "#FFA15A"
         },
         "name": "baltimoresun.com",
         "offsetgroup": "baltimoresun.com",
         "orientation": "v",
         "showlegend": true,
         "textposition": "auto",
         "type": "bar",
         "x": [
          "baltimoresun.com"
         ],
         "xaxis": "x",
         "y": [
          4
         ],
         "yaxis": "y"
        },
        {
         "alignmentgroup": "True",
         "hovertemplate": "name=%{x}<br>count=%{y}<extra></extra>",
         "legendgroup": "harvard.edu",
         "marker": {
          "color": "#19d3f3"
         },
         "name": "harvard.edu",
         "offsetgroup": "harvard.edu",
         "orientation": "v",
         "showlegend": true,
         "textposition": "auto",
         "type": "bar",
         "x": [
          "harvard.edu"
         ],
         "xaxis": "x",
         "y": [
          4
         ],
         "yaxis": "y"
        },
        {
         "alignmentgroup": "True",
         "hovertemplate": "name=%{x}<br>count=%{y}<extra></extra>",
         "legendgroup": "microcenter.com",
         "marker": {
          "color": "#FF6692"
         },
         "name": "microcenter.com",
         "offsetgroup": "microcenter.com",
         "orientation": "v",
         "showlegend": true,
         "textposition": "auto",
         "type": "bar",
         "x": [
          "microcenter.com"
         ],
         "xaxis": "x",
         "y": [
          4
         ],
         "yaxis": "y"
        },
        {
         "alignmentgroup": "True",
         "hovertemplate": "name=%{x}<br>count=%{y}<extra></extra>",
         "legendgroup": "discover.com",
         "marker": {
          "color": "#B6E880"
         },
         "name": "discover.com",
         "offsetgroup": "discover.com",
         "orientation": "v",
         "showlegend": true,
         "textposition": "auto",
         "type": "bar",
         "x": [
          "discover.com"
         ],
         "xaxis": "x",
         "y": [
          4
         ],
         "yaxis": "y"
        },
        {
         "alignmentgroup": "True",
         "hovertemplate": "name=%{x}<br>count=%{y}<extra></extra>",
         "legendgroup": "businessinsider.com",
         "marker": {
          "color": "#FF97FF"
         },
         "name": "businessinsider.com",
         "offsetgroup": "businessinsider.com",
         "orientation": "v",
         "showlegend": true,
         "textposition": "auto",
         "type": "bar",
         "x": [
          "businessinsider.com"
         ],
         "xaxis": "x",
         "y": [
          4
         ],
         "yaxis": "y"
        },
        {
         "alignmentgroup": "True",
         "hovertemplate": "name=%{x}<br>count=%{y}<extra></extra>",
         "legendgroup": "pcworld.com",
         "marker": {
          "color": "#FECB52"
         },
         "name": "pcworld.com",
         "offsetgroup": "pcworld.com",
         "orientation": "v",
         "showlegend": true,
         "textposition": "auto",
         "type": "bar",
         "x": [
          "pcworld.com"
         ],
         "xaxis": "x",
         "y": [
          4
         ],
         "yaxis": "y"
        },
        {
         "alignmentgroup": "True",
         "hovertemplate": "name=%{x}<br>count=%{y}<extra></extra>",
         "legendgroup": "buzzfeed.com",
         "marker": {
          "color": "#636efa"
         },
         "name": "buzzfeed.com",
         "offsetgroup": "buzzfeed.com",
         "orientation": "v",
         "showlegend": true,
         "textposition": "auto",
         "type": "bar",
         "x": [
          "buzzfeed.com"
         ],
         "xaxis": "x",
         "y": [
          4
         ],
         "yaxis": "y"
        },
        {
         "alignmentgroup": "True",
         "hovertemplate": "name=%{x}<br>count=%{y}<extra></extra>",
         "legendgroup": "brobible.com",
         "marker": {
          "color": "#EF553B"
         },
         "name": "brobible.com",
         "offsetgroup": "brobible.com",
         "orientation": "v",
         "showlegend": true,
         "textposition": "auto",
         "type": "bar",
         "x": [
          "brobible.com"
         ],
         "xaxis": "x",
         "y": [
          4
         ],
         "yaxis": "y"
        },
        {
         "alignmentgroup": "True",
         "hovertemplate": "name=%{x}<br>count=%{y}<extra></extra>",
         "legendgroup": "networkworld.com",
         "marker": {
          "color": "#00cc96"
         },
         "name": "networkworld.com",
         "offsetgroup": "networkworld.com",
         "orientation": "v",
         "showlegend": true,
         "textposition": "auto",
         "type": "bar",
         "x": [
          "networkworld.com"
         ],
         "xaxis": "x",
         "y": [
          4
         ],
         "yaxis": "y"
        },
        {
         "alignmentgroup": "True",
         "hovertemplate": "name=%{x}<br>count=%{y}<extra></extra>",
         "legendgroup": "Hulu",
         "marker": {
          "color": "#ab63fa"
         },
         "name": "Hulu",
         "offsetgroup": "Hulu",
         "orientation": "v",
         "showlegend": true,
         "textposition": "auto",
         "type": "bar",
         "x": [
          "Hulu"
         ],
         "xaxis": "x",
         "y": [
          4
         ],
         "yaxis": "y"
        },
        {
         "alignmentgroup": "True",
         "hovertemplate": "name=%{x}<br>count=%{y}<extra></extra>",
         "legendgroup": "ticketmaster.com",
         "marker": {
          "color": "#FFA15A"
         },
         "name": "ticketmaster.com",
         "offsetgroup": "ticketmaster.com",
         "orientation": "v",
         "showlegend": true,
         "textposition": "auto",
         "type": "bar",
         "x": [
          "ticketmaster.com"
         ],
         "xaxis": "x",
         "y": [
          4
         ],
         "yaxis": "y"
        },
        {
         "alignmentgroup": "True",
         "hovertemplate": "name=%{x}<br>count=%{y}<extra></extra>",
         "legendgroup": "redhat.com",
         "marker": {
          "color": "#19d3f3"
         },
         "name": "redhat.com",
         "offsetgroup": "redhat.com",
         "orientation": "v",
         "showlegend": true,
         "textposition": "auto",
         "type": "bar",
         "x": [
          "redhat.com"
         ],
         "xaxis": "x",
         "y": [
          4
         ],
         "yaxis": "y"
        },
        {
         "alignmentgroup": "True",
         "hovertemplate": "name=%{x}<br>count=%{y}<extra></extra>",
         "legendgroup": "Invstr: Play. Learn. Invest.",
         "marker": {
          "color": "#FF6692"
         },
         "name": "Invstr: Play. Learn. Invest.",
         "offsetgroup": "Invstr: Play. Learn. Invest.",
         "orientation": "v",
         "showlegend": true,
         "textposition": "auto",
         "type": "bar",
         "x": [
          "Invstr: Play. Learn. Invest."
         ],
         "xaxis": "x",
         "y": [
          4
         ],
         "yaxis": "y"
        },
        {
         "alignmentgroup": "True",
         "hovertemplate": "name=%{x}<br>count=%{y}<extra></extra>",
         "legendgroup": "seekingalpha.com",
         "marker": {
          "color": "#B6E880"
         },
         "name": "seekingalpha.com",
         "offsetgroup": "seekingalpha.com",
         "orientation": "v",
         "showlegend": true,
         "textposition": "auto",
         "type": "bar",
         "x": [
          "seekingalpha.com"
         ],
         "xaxis": "x",
         "y": [
          4
         ],
         "yaxis": "y"
        },
        {
         "alignmentgroup": "True",
         "hovertemplate": "name=%{x}<br>count=%{y}<extra></extra>",
         "legendgroup": "nra.org",
         "marker": {
          "color": "#FF97FF"
         },
         "name": "nra.org",
         "offsetgroup": "nra.org",
         "orientation": "v",
         "showlegend": true,
         "textposition": "auto",
         "type": "bar",
         "x": [
          "nra.org"
         ],
         "xaxis": "x",
         "y": [
          3
         ],
         "yaxis": "y"
        },
        {
         "alignmentgroup": "True",
         "hovertemplate": "name=%{x}<br>count=%{y}<extra></extra>",
         "legendgroup": "eventbrite.com",
         "marker": {
          "color": "#FECB52"
         },
         "name": "eventbrite.com",
         "offsetgroup": "eventbrite.com",
         "orientation": "v",
         "showlegend": true,
         "textposition": "auto",
         "type": "bar",
         "x": [
          "eventbrite.com"
         ],
         "xaxis": "x",
         "y": [
          3
         ],
         "yaxis": "y"
        },
        {
         "alignmentgroup": "True",
         "hovertemplate": "name=%{x}<br>count=%{y}<extra></extra>",
         "legendgroup": "medicalnewstoday.com",
         "marker": {
          "color": "#636efa"
         },
         "name": "medicalnewstoday.com",
         "offsetgroup": "medicalnewstoday.com",
         "orientation": "v",
         "showlegend": true,
         "textposition": "auto",
         "type": "bar",
         "x": [
          "medicalnewstoday.com"
         ],
         "xaxis": "x",
         "y": [
          3
         ],
         "yaxis": "y"
        },
        {
         "alignmentgroup": "True",
         "hovertemplate": "name=%{x}<br>count=%{y}<extra></extra>",
         "legendgroup": "thoughtcatalog.com",
         "marker": {
          "color": "#EF553B"
         },
         "name": "thoughtcatalog.com",
         "offsetgroup": "thoughtcatalog.com",
         "orientation": "v",
         "showlegend": true,
         "textposition": "auto",
         "type": "bar",
         "x": [
          "thoughtcatalog.com"
         ],
         "xaxis": "x",
         "y": [
          3
         ],
         "yaxis": "y"
        },
        {
         "alignmentgroup": "True",
         "hovertemplate": "name=%{x}<br>count=%{y}<extra></extra>",
         "legendgroup": "chron.com",
         "marker": {
          "color": "#00cc96"
         },
         "name": "chron.com",
         "offsetgroup": "chron.com",
         "orientation": "v",
         "showlegend": true,
         "textposition": "auto",
         "type": "bar",
         "x": [
          "chron.com"
         ],
         "xaxis": "x",
         "y": [
          3
         ],
         "yaxis": "y"
        },
        {
         "alignmentgroup": "True",
         "hovertemplate": "name=%{x}<br>count=%{y}<extra></extra>",
         "legendgroup": "eToro Cryptocurrency Trading",
         "marker": {
          "color": "#ab63fa"
         },
         "name": "eToro Cryptocurrency Trading",
         "offsetgroup": "eToro Cryptocurrency Trading",
         "orientation": "v",
         "showlegend": true,
         "textposition": "auto",
         "type": "bar",
         "x": [
          "eToro Cryptocurrency Trading"
         ],
         "xaxis": "x",
         "y": [
          3
         ],
         "yaxis": "y"
        },
        {
         "alignmentgroup": "True",
         "hovertemplate": "name=%{x}<br>count=%{y}<extra></extra>",
         "legendgroup": "pimylifeup.com",
         "marker": {
          "color": "#FFA15A"
         },
         "name": "pimylifeup.com",
         "offsetgroup": "pimylifeup.com",
         "orientation": "v",
         "showlegend": true,
         "textposition": "auto",
         "type": "bar",
         "x": [
          "pimylifeup.com"
         ],
         "xaxis": "x",
         "y": [
          3
         ],
         "yaxis": "y"
        },
        {
         "alignmentgroup": "True",
         "hovertemplate": "name=%{x}<br>count=%{y}<extra></extra>",
         "legendgroup": "The Home Depot",
         "marker": {
          "color": "#19d3f3"
         },
         "name": "The Home Depot",
         "offsetgroup": "The Home Depot",
         "orientation": "v",
         "showlegend": true,
         "textposition": "auto",
         "type": "bar",
         "x": [
          "The Home Depot"
         ],
         "xaxis": "x",
         "y": [
          3
         ],
         "yaxis": "y"
        },
        {
         "alignmentgroup": "True",
         "hovertemplate": "name=%{x}<br>count=%{y}<extra></extra>",
         "legendgroup": "webmd.com",
         "marker": {
          "color": "#FF6692"
         },
         "name": "webmd.com",
         "offsetgroup": "webmd.com",
         "orientation": "v",
         "showlegend": true,
         "textposition": "auto",
         "type": "bar",
         "x": [
          "webmd.com"
         ],
         "xaxis": "x",
         "y": [
          3
         ],
         "yaxis": "y"
        },
        {
         "alignmentgroup": "True",
         "hovertemplate": "name=%{x}<br>count=%{y}<extra></extra>",
         "legendgroup": "fool.com",
         "marker": {
          "color": "#B6E880"
         },
         "name": "fool.com",
         "offsetgroup": "fool.com",
         "orientation": "v",
         "showlegend": true,
         "textposition": "auto",
         "type": "bar",
         "x": [
          "fool.com"
         ],
         "xaxis": "x",
         "y": [
          3
         ],
         "yaxis": "y"
        },
        {
         "alignmentgroup": "True",
         "hovertemplate": "name=%{x}<br>count=%{y}<extra></extra>",
         "legendgroup": "cnet.com",
         "marker": {
          "color": "#FF97FF"
         },
         "name": "cnet.com",
         "offsetgroup": "cnet.com",
         "orientation": "v",
         "showlegend": true,
         "textposition": "auto",
         "type": "bar",
         "x": [
          "cnet.com"
         ],
         "xaxis": "x",
         "y": [
          3
         ],
         "yaxis": "y"
        },
        {
         "alignmentgroup": "True",
         "hovertemplate": "name=%{x}<br>count=%{y}<extra></extra>",
         "legendgroup": "simplilearn.com",
         "marker": {
          "color": "#FECB52"
         },
         "name": "simplilearn.com",
         "offsetgroup": "simplilearn.com",
         "orientation": "v",
         "showlegend": true,
         "textposition": "auto",
         "type": "bar",
         "x": [
          "simplilearn.com"
         ],
         "xaxis": "x",
         "y": [
          3
         ],
         "yaxis": "y"
        },
        {
         "alignmentgroup": "True",
         "hovertemplate": "name=%{x}<br>count=%{y}<extra></extra>",
         "legendgroup": "lastpass.com",
         "marker": {
          "color": "#636efa"
         },
         "name": "lastpass.com",
         "offsetgroup": "lastpass.com",
         "orientation": "v",
         "showlegend": true,
         "textposition": "auto",
         "type": "bar",
         "x": [
          "lastpass.com"
         ],
         "xaxis": "x",
         "y": [
          3
         ],
         "yaxis": "y"
        },
        {
         "alignmentgroup": "True",
         "hovertemplate": "name=%{x}<br>count=%{y}<extra></extra>",
         "legendgroup": "eBay Business Manager",
         "marker": {
          "color": "#EF553B"
         },
         "name": "eBay Business Manager",
         "offsetgroup": "eBay Business Manager",
         "orientation": "v",
         "showlegend": true,
         "textposition": "auto",
         "type": "bar",
         "x": [
          "eBay Business Manager"
         ],
         "xaxis": "x",
         "y": [
          3
         ],
         "yaxis": "y"
        },
        {
         "alignmentgroup": "True",
         "hovertemplate": "name=%{x}<br>count=%{y}<extra></extra>",
         "legendgroup": "thenewstack.io",
         "marker": {
          "color": "#00cc96"
         },
         "name": "thenewstack.io",
         "offsetgroup": "thenewstack.io",
         "orientation": "v",
         "showlegend": true,
         "textposition": "auto",
         "type": "bar",
         "x": [
          "thenewstack.io"
         ],
         "xaxis": "x",
         "y": [
          3
         ],
         "yaxis": "y"
        },
        {
         "alignmentgroup": "True",
         "hovertemplate": "name=%{x}<br>count=%{y}<extra></extra>",
         "legendgroup": "allaboutvision.com",
         "marker": {
          "color": "#ab63fa"
         },
         "name": "allaboutvision.com",
         "offsetgroup": "allaboutvision.com",
         "orientation": "v",
         "showlegend": true,
         "textposition": "auto",
         "type": "bar",
         "x": [
          "allaboutvision.com"
         ],
         "xaxis": "x",
         "y": [
          3
         ],
         "yaxis": "y"
        },
        {
         "alignmentgroup": "True",
         "hovertemplate": "name=%{x}<br>count=%{y}<extra></extra>",
         "legendgroup": "aljazeera.com",
         "marker": {
          "color": "#FFA15A"
         },
         "name": "aljazeera.com",
         "offsetgroup": "aljazeera.com",
         "orientation": "v",
         "showlegend": true,
         "textposition": "auto",
         "type": "bar",
         "x": [
          "aljazeera.com"
         ],
         "xaxis": "x",
         "y": [
          3
         ],
         "yaxis": "y"
        },
        {
         "alignmentgroup": "True",
         "hovertemplate": "name=%{x}<br>count=%{y}<extra></extra>",
         "legendgroup": "pointstreak.com",
         "marker": {
          "color": "#19d3f3"
         },
         "name": "pointstreak.com",
         "offsetgroup": "pointstreak.com",
         "orientation": "v",
         "showlegend": true,
         "textposition": "auto",
         "type": "bar",
         "x": [
          "pointstreak.com"
         ],
         "xaxis": "x",
         "y": [
          3
         ],
         "yaxis": "y"
        },
        {
         "alignmentgroup": "True",
         "hovertemplate": "name=%{x}<br>count=%{y}<extra></extra>",
         "legendgroup": "phoenixnap.com",
         "marker": {
          "color": "#FF6692"
         },
         "name": "phoenixnap.com",
         "offsetgroup": "phoenixnap.com",
         "orientation": "v",
         "showlegend": true,
         "textposition": "auto",
         "type": "bar",
         "x": [
          "phoenixnap.com"
         ],
         "xaxis": "x",
         "y": [
          3
         ],
         "yaxis": "y"
        },
        {
         "alignmentgroup": "True",
         "hovertemplate": "name=%{x}<br>count=%{y}<extra></extra>",
         "legendgroup": "cnbc.com",
         "marker": {
          "color": "#B6E880"
         },
         "name": "cnbc.com",
         "offsetgroup": "cnbc.com",
         "orientation": "v",
         "showlegend": true,
         "textposition": "auto",
         "type": "bar",
         "x": [
          "cnbc.com"
         ],
         "xaxis": "x",
         "y": [
          3
         ],
         "yaxis": "y"
        },
        {
         "alignmentgroup": "True",
         "hovertemplate": "name=%{x}<br>count=%{y}<extra></extra>",
         "legendgroup": "northroprealty.com",
         "marker": {
          "color": "#FF97FF"
         },
         "name": "northroprealty.com",
         "offsetgroup": "northroprealty.com",
         "orientation": "v",
         "showlegend": true,
         "textposition": "auto",
         "type": "bar",
         "x": [
          "northroprealty.com"
         ],
         "xaxis": "x",
         "y": [
          3
         ],
         "yaxis": "y"
        },
        {
         "alignmentgroup": "True",
         "hovertemplate": "name=%{x}<br>count=%{y}<extra></extra>",
         "legendgroup": "smartasset.com",
         "marker": {
          "color": "#FECB52"
         },
         "name": "smartasset.com",
         "offsetgroup": "smartasset.com",
         "orientation": "v",
         "showlegend": true,
         "textposition": "auto",
         "type": "bar",
         "x": [
          "smartasset.com"
         ],
         "xaxis": "x",
         "y": [
          3
         ],
         "yaxis": "y"
        },
        {
         "alignmentgroup": "True",
         "hovertemplate": "name=%{x}<br>count=%{y}<extra></extra>",
         "legendgroup": "wired.com",
         "marker": {
          "color": "#636efa"
         },
         "name": "wired.com",
         "offsetgroup": "wired.com",
         "orientation": "v",
         "showlegend": true,
         "textposition": "auto",
         "type": "bar",
         "x": [
          "wired.com"
         ],
         "xaxis": "x",
         "y": [
          3
         ],
         "yaxis": "y"
        },
        {
         "alignmentgroup": "True",
         "hovertemplate": "name=%{x}<br>count=%{y}<extra></extra>",
         "legendgroup": "change.org",
         "marker": {
          "color": "#EF553B"
         },
         "name": "change.org",
         "offsetgroup": "change.org",
         "orientation": "v",
         "showlegend": true,
         "textposition": "auto",
         "type": "bar",
         "x": [
          "change.org"
         ],
         "xaxis": "x",
         "y": [
          3
         ],
         "yaxis": "y"
        },
        {
         "alignmentgroup": "True",
         "hovertemplate": "name=%{x}<br>count=%{y}<extra></extra>",
         "legendgroup": "intersectionalityscore.com",
         "marker": {
          "color": "#00cc96"
         },
         "name": "intersectionalityscore.com",
         "offsetgroup": "intersectionalityscore.com",
         "orientation": "v",
         "showlegend": true,
         "textposition": "auto",
         "type": "bar",
         "x": [
          "intersectionalityscore.com"
         ],
         "xaxis": "x",
         "y": [
          3
         ],
         "yaxis": "y"
        },
        {
         "alignmentgroup": "True",
         "hovertemplate": "name=%{x}<br>count=%{y}<extra></extra>",
         "legendgroup": "wbaltv.com",
         "marker": {
          "color": "#ab63fa"
         },
         "name": "wbaltv.com",
         "offsetgroup": "wbaltv.com",
         "orientation": "v",
         "showlegend": true,
         "textposition": "auto",
         "type": "bar",
         "x": [
          "wbaltv.com"
         ],
         "xaxis": "x",
         "y": [
          3
         ],
         "yaxis": "y"
        },
        {
         "alignmentgroup": "True",
         "hovertemplate": "name=%{x}<br>count=%{y}<extra></extra>",
         "legendgroup": "houstonchronicle.com",
         "marker": {
          "color": "#FFA15A"
         },
         "name": "houstonchronicle.com",
         "offsetgroup": "houstonchronicle.com",
         "orientation": "v",
         "showlegend": true,
         "textposition": "auto",
         "type": "bar",
         "x": [
          "houstonchronicle.com"
         ],
         "xaxis": "x",
         "y": [
          3
         ],
         "yaxis": "y"
        },
        {
         "alignmentgroup": "True",
         "hovertemplate": "name=%{x}<br>count=%{y}<extra></extra>",
         "legendgroup": "telegraph.co.uk",
         "marker": {
          "color": "#19d3f3"
         },
         "name": "telegraph.co.uk",
         "offsetgroup": "telegraph.co.uk",
         "orientation": "v",
         "showlegend": true,
         "textposition": "auto",
         "type": "bar",
         "x": [
          "telegraph.co.uk"
         ],
         "xaxis": "x",
         "y": [
          3
         ],
         "yaxis": "y"
        },
        {
         "alignmentgroup": "True",
         "hovertemplate": "name=%{x}<br>count=%{y}<extra></extra>",
         "legendgroup": "nationalgeographic.com",
         "marker": {
          "color": "#FF6692"
         },
         "name": "nationalgeographic.com",
         "offsetgroup": "nationalgeographic.com",
         "orientation": "v",
         "showlegend": true,
         "textposition": "auto",
         "type": "bar",
         "x": [
          "nationalgeographic.com"
         ],
         "xaxis": "x",
         "y": [
          3
         ],
         "yaxis": "y"
        },
        {
         "alignmentgroup": "True",
         "hovertemplate": "name=%{x}<br>count=%{y}<extra></extra>",
         "legendgroup": "healthline.com",
         "marker": {
          "color": "#B6E880"
         },
         "name": "healthline.com",
         "offsetgroup": "healthline.com",
         "orientation": "v",
         "showlegend": true,
         "textposition": "auto",
         "type": "bar",
         "x": [
          "healthline.com"
         ],
         "xaxis": "x",
         "y": [
          3
         ],
         "yaxis": "y"
        },
        {
         "alignmentgroup": "True",
         "hovertemplate": "name=%{x}<br>count=%{y}<extra></extra>",
         "legendgroup": "fandango.com",
         "marker": {
          "color": "#FF97FF"
         },
         "name": "fandango.com",
         "offsetgroup": "fandango.com",
         "orientation": "v",
         "showlegend": true,
         "textposition": "auto",
         "type": "bar",
         "x": [
          "fandango.com"
         ],
         "xaxis": "x",
         "y": [
          3
         ],
         "yaxis": "y"
        },
        {
         "alignmentgroup": "True",
         "hovertemplate": "name=%{x}<br>count=%{y}<extra></extra>",
         "legendgroup": "stackify.com",
         "marker": {
          "color": "#FECB52"
         },
         "name": "stackify.com",
         "offsetgroup": "stackify.com",
         "orientation": "v",
         "showlegend": true,
         "textposition": "auto",
         "type": "bar",
         "x": [
          "stackify.com"
         ],
         "xaxis": "x",
         "y": [
          2
         ],
         "yaxis": "y"
        },
        {
         "alignmentgroup": "True",
         "hovertemplate": "name=%{x}<br>count=%{y}<extra></extra>",
         "legendgroup": "cars.com",
         "marker": {
          "color": "#636efa"
         },
         "name": "cars.com",
         "offsetgroup": "cars.com",
         "orientation": "v",
         "showlegend": true,
         "textposition": "auto",
         "type": "bar",
         "x": [
          "cars.com"
         ],
         "xaxis": "x",
         "y": [
          2
         ],
         "yaxis": "y"
        },
        {
         "alignmentgroup": "True",
         "hovertemplate": "name=%{x}<br>count=%{y}<extra></extra>",
         "legendgroup": "infosecinstitute.com",
         "marker": {
          "color": "#EF553B"
         },
         "name": "infosecinstitute.com",
         "offsetgroup": "infosecinstitute.com",
         "orientation": "v",
         "showlegend": true,
         "textposition": "auto",
         "type": "bar",
         "x": [
          "infosecinstitute.com"
         ],
         "xaxis": "x",
         "y": [
          2
         ],
         "yaxis": "y"
        },
        {
         "alignmentgroup": "True",
         "hovertemplate": "name=%{x}<br>count=%{y}<extra></extra>",
         "legendgroup": "auslogics.com",
         "marker": {
          "color": "#00cc96"
         },
         "name": "auslogics.com",
         "offsetgroup": "auslogics.com",
         "orientation": "v",
         "showlegend": true,
         "textposition": "auto",
         "type": "bar",
         "x": [
          "auslogics.com"
         ],
         "xaxis": "x",
         "y": [
          2
         ],
         "yaxis": "y"
        },
        {
         "alignmentgroup": "True",
         "hovertemplate": "name=%{x}<br>count=%{y}<extra></extra>",
         "legendgroup": "dailymail.co.uk",
         "marker": {
          "color": "#ab63fa"
         },
         "name": "dailymail.co.uk",
         "offsetgroup": "dailymail.co.uk",
         "orientation": "v",
         "showlegend": true,
         "textposition": "auto",
         "type": "bar",
         "x": [
          "dailymail.co.uk"
         ],
         "xaxis": "x",
         "y": [
          2
         ],
         "yaxis": "y"
        },
        {
         "alignmentgroup": "True",
         "hovertemplate": "name=%{x}<br>count=%{y}<extra></extra>",
         "legendgroup": "jendcosafety.com",
         "marker": {
          "color": "#FFA15A"
         },
         "name": "jendcosafety.com",
         "offsetgroup": "jendcosafety.com",
         "orientation": "v",
         "showlegend": true,
         "textposition": "auto",
         "type": "bar",
         "x": [
          "jendcosafety.com"
         ],
         "xaxis": "x",
         "y": [
          2
         ],
         "yaxis": "y"
        },
        {
         "alignmentgroup": "True",
         "hovertemplate": "name=%{x}<br>count=%{y}<extra></extra>",
         "legendgroup": "theatlantic.com",
         "marker": {
          "color": "#19d3f3"
         },
         "name": "theatlantic.com",
         "offsetgroup": "theatlantic.com",
         "orientation": "v",
         "showlegend": true,
         "textposition": "auto",
         "type": "bar",
         "x": [
          "theatlantic.com"
         ],
         "xaxis": "x",
         "y": [
          2
         ],
         "yaxis": "y"
        },
        {
         "alignmentgroup": "True",
         "hovertemplate": "name=%{x}<br>count=%{y}<extra></extra>",
         "legendgroup": "snowshoemtn.com",
         "marker": {
          "color": "#FF6692"
         },
         "name": "snowshoemtn.com",
         "offsetgroup": "snowshoemtn.com",
         "orientation": "v",
         "showlegend": true,
         "textposition": "auto",
         "type": "bar",
         "x": [
          "snowshoemtn.com"
         ],
         "xaxis": "x",
         "y": [
          2
         ],
         "yaxis": "y"
        },
        {
         "alignmentgroup": "True",
         "hovertemplate": "name=%{x}<br>count=%{y}<extra></extra>",
         "legendgroup": "abc7chicago.com",
         "marker": {
          "color": "#B6E880"
         },
         "name": "abc7chicago.com",
         "offsetgroup": "abc7chicago.com",
         "orientation": "v",
         "showlegend": true,
         "textposition": "auto",
         "type": "bar",
         "x": [
          "abc7chicago.com"
         ],
         "xaxis": "x",
         "y": [
          2
         ],
         "yaxis": "y"
        },
        {
         "alignmentgroup": "True",
         "hovertemplate": "name=%{x}<br>count=%{y}<extra></extra>",
         "legendgroup": "autotrader.com",
         "marker": {
          "color": "#FF97FF"
         },
         "name": "autotrader.com",
         "offsetgroup": "autotrader.com",
         "orientation": "v",
         "showlegend": true,
         "textposition": "auto",
         "type": "bar",
         "x": [
          "autotrader.com"
         ],
         "xaxis": "x",
         "y": [
          2
         ],
         "yaxis": "y"
        },
        {
         "alignmentgroup": "True",
         "hovertemplate": "name=%{x}<br>count=%{y}<extra></extra>",
         "legendgroup": "fatherly.com",
         "marker": {
          "color": "#FECB52"
         },
         "name": "fatherly.com",
         "offsetgroup": "fatherly.com",
         "orientation": "v",
         "showlegend": true,
         "textposition": "auto",
         "type": "bar",
         "x": [
          "fatherly.com"
         ],
         "xaxis": "x",
         "y": [
          2
         ],
         "yaxis": "y"
        }
       ],
       "layout": {
        "barmode": "relative",
        "legend": {
         "title": {
          "text": "name"
         },
         "tracegroupgap": 0
        },
        "margin": {
         "t": 60
        },
        "showlegend": false,
        "template": {
         "data": {
          "bar": [
           {
            "error_x": {
             "color": "#2a3f5f"
            },
            "error_y": {
             "color": "#2a3f5f"
            },
            "marker": {
             "line": {
              "color": "#E5ECF6",
              "width": 0.5
             }
            },
            "type": "bar"
           }
          ],
          "barpolar": [
           {
            "marker": {
             "line": {
              "color": "#E5ECF6",
              "width": 0.5
             }
            },
            "type": "barpolar"
           }
          ],
          "carpet": [
           {
            "aaxis": {
             "endlinecolor": "#2a3f5f",
             "gridcolor": "white",
             "linecolor": "white",
             "minorgridcolor": "white",
             "startlinecolor": "#2a3f5f"
            },
            "baxis": {
             "endlinecolor": "#2a3f5f",
             "gridcolor": "white",
             "linecolor": "white",
             "minorgridcolor": "white",
             "startlinecolor": "#2a3f5f"
            },
            "type": "carpet"
           }
          ],
          "choropleth": [
           {
            "colorbar": {
             "outlinewidth": 0,
             "ticks": ""
            },
            "type": "choropleth"
           }
          ],
          "contour": [
           {
            "colorbar": {
             "outlinewidth": 0,
             "ticks": ""
            },
            "colorscale": [
             [
              0,
              "#0d0887"
             ],
             [
              0.1111111111111111,
              "#46039f"
             ],
             [
              0.2222222222222222,
              "#7201a8"
             ],
             [
              0.3333333333333333,
              "#9c179e"
             ],
             [
              0.4444444444444444,
              "#bd3786"
             ],
             [
              0.5555555555555556,
              "#d8576b"
             ],
             [
              0.6666666666666666,
              "#ed7953"
             ],
             [
              0.7777777777777778,
              "#fb9f3a"
             ],
             [
              0.8888888888888888,
              "#fdca26"
             ],
             [
              1,
              "#f0f921"
             ]
            ],
            "type": "contour"
           }
          ],
          "contourcarpet": [
           {
            "colorbar": {
             "outlinewidth": 0,
             "ticks": ""
            },
            "type": "contourcarpet"
           }
          ],
          "heatmap": [
           {
            "colorbar": {
             "outlinewidth": 0,
             "ticks": ""
            },
            "colorscale": [
             [
              0,
              "#0d0887"
             ],
             [
              0.1111111111111111,
              "#46039f"
             ],
             [
              0.2222222222222222,
              "#7201a8"
             ],
             [
              0.3333333333333333,
              "#9c179e"
             ],
             [
              0.4444444444444444,
              "#bd3786"
             ],
             [
              0.5555555555555556,
              "#d8576b"
             ],
             [
              0.6666666666666666,
              "#ed7953"
             ],
             [
              0.7777777777777778,
              "#fb9f3a"
             ],
             [
              0.8888888888888888,
              "#fdca26"
             ],
             [
              1,
              "#f0f921"
             ]
            ],
            "type": "heatmap"
           }
          ],
          "heatmapgl": [
           {
            "colorbar": {
             "outlinewidth": 0,
             "ticks": ""
            },
            "colorscale": [
             [
              0,
              "#0d0887"
             ],
             [
              0.1111111111111111,
              "#46039f"
             ],
             [
              0.2222222222222222,
              "#7201a8"
             ],
             [
              0.3333333333333333,
              "#9c179e"
             ],
             [
              0.4444444444444444,
              "#bd3786"
             ],
             [
              0.5555555555555556,
              "#d8576b"
             ],
             [
              0.6666666666666666,
              "#ed7953"
             ],
             [
              0.7777777777777778,
              "#fb9f3a"
             ],
             [
              0.8888888888888888,
              "#fdca26"
             ],
             [
              1,
              "#f0f921"
             ]
            ],
            "type": "heatmapgl"
           }
          ],
          "histogram": [
           {
            "marker": {
             "colorbar": {
              "outlinewidth": 0,
              "ticks": ""
             }
            },
            "type": "histogram"
           }
          ],
          "histogram2d": [
           {
            "colorbar": {
             "outlinewidth": 0,
             "ticks": ""
            },
            "colorscale": [
             [
              0,
              "#0d0887"
             ],
             [
              0.1111111111111111,
              "#46039f"
             ],
             [
              0.2222222222222222,
              "#7201a8"
             ],
             [
              0.3333333333333333,
              "#9c179e"
             ],
             [
              0.4444444444444444,
              "#bd3786"
             ],
             [
              0.5555555555555556,
              "#d8576b"
             ],
             [
              0.6666666666666666,
              "#ed7953"
             ],
             [
              0.7777777777777778,
              "#fb9f3a"
             ],
             [
              0.8888888888888888,
              "#fdca26"
             ],
             [
              1,
              "#f0f921"
             ]
            ],
            "type": "histogram2d"
           }
          ],
          "histogram2dcontour": [
           {
            "colorbar": {
             "outlinewidth": 0,
             "ticks": ""
            },
            "colorscale": [
             [
              0,
              "#0d0887"
             ],
             [
              0.1111111111111111,
              "#46039f"
             ],
             [
              0.2222222222222222,
              "#7201a8"
             ],
             [
              0.3333333333333333,
              "#9c179e"
             ],
             [
              0.4444444444444444,
              "#bd3786"
             ],
             [
              0.5555555555555556,
              "#d8576b"
             ],
             [
              0.6666666666666666,
              "#ed7953"
             ],
             [
              0.7777777777777778,
              "#fb9f3a"
             ],
             [
              0.8888888888888888,
              "#fdca26"
             ],
             [
              1,
              "#f0f921"
             ]
            ],
            "type": "histogram2dcontour"
           }
          ],
          "mesh3d": [
           {
            "colorbar": {
             "outlinewidth": 0,
             "ticks": ""
            },
            "type": "mesh3d"
           }
          ],
          "parcoords": [
           {
            "line": {
             "colorbar": {
              "outlinewidth": 0,
              "ticks": ""
             }
            },
            "type": "parcoords"
           }
          ],
          "pie": [
           {
            "automargin": true,
            "type": "pie"
           }
          ],
          "scatter": [
           {
            "marker": {
             "colorbar": {
              "outlinewidth": 0,
              "ticks": ""
             }
            },
            "type": "scatter"
           }
          ],
          "scatter3d": [
           {
            "line": {
             "colorbar": {
              "outlinewidth": 0,
              "ticks": ""
             }
            },
            "marker": {
             "colorbar": {
              "outlinewidth": 0,
              "ticks": ""
             }
            },
            "type": "scatter3d"
           }
          ],
          "scattercarpet": [
           {
            "marker": {
             "colorbar": {
              "outlinewidth": 0,
              "ticks": ""
             }
            },
            "type": "scattercarpet"
           }
          ],
          "scattergeo": [
           {
            "marker": {
             "colorbar": {
              "outlinewidth": 0,
              "ticks": ""
             }
            },
            "type": "scattergeo"
           }
          ],
          "scattergl": [
           {
            "marker": {
             "colorbar": {
              "outlinewidth": 0,
              "ticks": ""
             }
            },
            "type": "scattergl"
           }
          ],
          "scattermapbox": [
           {
            "marker": {
             "colorbar": {
              "outlinewidth": 0,
              "ticks": ""
             }
            },
            "type": "scattermapbox"
           }
          ],
          "scatterpolar": [
           {
            "marker": {
             "colorbar": {
              "outlinewidth": 0,
              "ticks": ""
             }
            },
            "type": "scatterpolar"
           }
          ],
          "scatterpolargl": [
           {
            "marker": {
             "colorbar": {
              "outlinewidth": 0,
              "ticks": ""
             }
            },
            "type": "scatterpolargl"
           }
          ],
          "scatterternary": [
           {
            "marker": {
             "colorbar": {
              "outlinewidth": 0,
              "ticks": ""
             }
            },
            "type": "scatterternary"
           }
          ],
          "surface": [
           {
            "colorbar": {
             "outlinewidth": 0,
             "ticks": ""
            },
            "colorscale": [
             [
              0,
              "#0d0887"
             ],
             [
              0.1111111111111111,
              "#46039f"
             ],
             [
              0.2222222222222222,
              "#7201a8"
             ],
             [
              0.3333333333333333,
              "#9c179e"
             ],
             [
              0.4444444444444444,
              "#bd3786"
             ],
             [
              0.5555555555555556,
              "#d8576b"
             ],
             [
              0.6666666666666666,
              "#ed7953"
             ],
             [
              0.7777777777777778,
              "#fb9f3a"
             ],
             [
              0.8888888888888888,
              "#fdca26"
             ],
             [
              1,
              "#f0f921"
             ]
            ],
            "type": "surface"
           }
          ],
          "table": [
           {
            "cells": {
             "fill": {
              "color": "#EBF0F8"
             },
             "line": {
              "color": "white"
             }
            },
            "header": {
             "fill": {
              "color": "#C8D4E3"
             },
             "line": {
              "color": "white"
             }
            },
            "type": "table"
           }
          ]
         },
         "layout": {
          "annotationdefaults": {
           "arrowcolor": "#2a3f5f",
           "arrowhead": 0,
           "arrowwidth": 1
          },
          "coloraxis": {
           "colorbar": {
            "outlinewidth": 0,
            "ticks": ""
           }
          },
          "colorscale": {
           "diverging": [
            [
             0,
             "#8e0152"
            ],
            [
             0.1,
             "#c51b7d"
            ],
            [
             0.2,
             "#de77ae"
            ],
            [
             0.3,
             "#f1b6da"
            ],
            [
             0.4,
             "#fde0ef"
            ],
            [
             0.5,
             "#f7f7f7"
            ],
            [
             0.6,
             "#e6f5d0"
            ],
            [
             0.7,
             "#b8e186"
            ],
            [
             0.8,
             "#7fbc41"
            ],
            [
             0.9,
             "#4d9221"
            ],
            [
             1,
             "#276419"
            ]
           ],
           "sequential": [
            [
             0,
             "#0d0887"
            ],
            [
             0.1111111111111111,
             "#46039f"
            ],
            [
             0.2222222222222222,
             "#7201a8"
            ],
            [
             0.3333333333333333,
             "#9c179e"
            ],
            [
             0.4444444444444444,
             "#bd3786"
            ],
            [
             0.5555555555555556,
             "#d8576b"
            ],
            [
             0.6666666666666666,
             "#ed7953"
            ],
            [
             0.7777777777777778,
             "#fb9f3a"
            ],
            [
             0.8888888888888888,
             "#fdca26"
            ],
            [
             1,
             "#f0f921"
            ]
           ],
           "sequentialminus": [
            [
             0,
             "#0d0887"
            ],
            [
             0.1111111111111111,
             "#46039f"
            ],
            [
             0.2222222222222222,
             "#7201a8"
            ],
            [
             0.3333333333333333,
             "#9c179e"
            ],
            [
             0.4444444444444444,
             "#bd3786"
            ],
            [
             0.5555555555555556,
             "#d8576b"
            ],
            [
             0.6666666666666666,
             "#ed7953"
            ],
            [
             0.7777777777777778,
             "#fb9f3a"
            ],
            [
             0.8888888888888888,
             "#fdca26"
            ],
            [
             1,
             "#f0f921"
            ]
           ]
          },
          "colorway": [
           "#636efa",
           "#EF553B",
           "#00cc96",
           "#ab63fa",
           "#FFA15A",
           "#19d3f3",
           "#FF6692",
           "#B6E880",
           "#FF97FF",
           "#FECB52"
          ],
          "font": {
           "color": "#2a3f5f"
          },
          "geo": {
           "bgcolor": "white",
           "lakecolor": "white",
           "landcolor": "#E5ECF6",
           "showlakes": true,
           "showland": true,
           "subunitcolor": "white"
          },
          "hoverlabel": {
           "align": "left"
          },
          "hovermode": "closest",
          "mapbox": {
           "style": "light"
          },
          "paper_bgcolor": "white",
          "plot_bgcolor": "#E5ECF6",
          "polar": {
           "angularaxis": {
            "gridcolor": "white",
            "linecolor": "white",
            "ticks": ""
           },
           "bgcolor": "#E5ECF6",
           "radialaxis": {
            "gridcolor": "white",
            "linecolor": "white",
            "ticks": ""
           }
          },
          "scene": {
           "xaxis": {
            "backgroundcolor": "#E5ECF6",
            "gridcolor": "white",
            "gridwidth": 2,
            "linecolor": "white",
            "showbackground": true,
            "ticks": "",
            "zerolinecolor": "white"
           },
           "yaxis": {
            "backgroundcolor": "#E5ECF6",
            "gridcolor": "white",
            "gridwidth": 2,
            "linecolor": "white",
            "showbackground": true,
            "ticks": "",
            "zerolinecolor": "white"
           },
           "zaxis": {
            "backgroundcolor": "#E5ECF6",
            "gridcolor": "white",
            "gridwidth": 2,
            "linecolor": "white",
            "showbackground": true,
            "ticks": "",
            "zerolinecolor": "white"
           }
          },
          "shapedefaults": {
           "line": {
            "color": "#2a3f5f"
           }
          },
          "ternary": {
           "aaxis": {
            "gridcolor": "white",
            "linecolor": "white",
            "ticks": ""
           },
           "baxis": {
            "gridcolor": "white",
            "linecolor": "white",
            "ticks": ""
           },
           "bgcolor": "#E5ECF6",
           "caxis": {
            "gridcolor": "white",
            "linecolor": "white",
            "ticks": ""
           }
          },
          "title": {
           "x": 0.05
          },
          "xaxis": {
           "automargin": true,
           "gridcolor": "white",
           "linecolor": "white",
           "ticks": "",
           "title": {
            "standoff": 15
           },
           "zerolinecolor": "white",
           "zerolinewidth": 2
          },
          "yaxis": {
           "automargin": true,
           "gridcolor": "white",
           "linecolor": "white",
           "ticks": "",
           "title": {
            "standoff": 15
           },
           "zerolinecolor": "white",
           "zerolinewidth": 2
          }
         }
        },
        "width": 1400,
        "xaxis": {
         "anchor": "y",
         "categoryarray": [
          "gitlab.com",
          "docker.com",
          "TikTok - Make Your Day",
          "elastic.co",
          "TikTok - Real Short Videos",
          "Venmo",
          "digitalocean.com",
          "lmiutil.com",
          "cnn.com",
          "SoundCloud - Music & Audio",
          "zillow.com",
          "howtogeek.com",
          "newegg.com",
          "Venmo: Send & Receive Money",
          "Sterling Jewelers Inc.",
          "gatech.edu",
          "alot.com",
          "forbes.com",
          "bose.com",
          "dailyfeed.co.uk",
          "pluralsight.com",
          "tripadvisor.com",
          "scrumalliance.org",
          "towson.edu",
          "intuit.com",
          "safariland.com",
          "Amazon",
          "nbcnews.com",
          "liquidweb.com",
          "lifehacker.com",
          "Disney Streaming Services",
          "logrocket.com",
          "unanet.com",
          "atlantablackstar.com",
          "Discover Financial Services",
          "medicinenet.com",
          "baeldung.com",
          "sciencefocus.com",
          "stitchfix.com",
          "microsoft.com",
          "investors.com",
          "balena.io",
          "empower-retirement.com",
          "gradifi.com",
          "baltimoresun.com",
          "harvard.edu",
          "microcenter.com",
          "discover.com",
          "businessinsider.com",
          "pcworld.com",
          "buzzfeed.com",
          "brobible.com",
          "networkworld.com",
          "Hulu",
          "ticketmaster.com",
          "redhat.com",
          "Invstr: Play. Learn. Invest.",
          "seekingalpha.com",
          "nra.org",
          "eventbrite.com",
          "medicalnewstoday.com",
          "thoughtcatalog.com",
          "chron.com",
          "eToro Cryptocurrency Trading",
          "pimylifeup.com",
          "The Home Depot",
          "webmd.com",
          "fool.com",
          "cnet.com",
          "simplilearn.com",
          "lastpass.com",
          "eBay Business Manager",
          "thenewstack.io",
          "allaboutvision.com",
          "aljazeera.com",
          "pointstreak.com",
          "phoenixnap.com",
          "cnbc.com",
          "northroprealty.com",
          "smartasset.com",
          "wired.com",
          "change.org",
          "intersectionalityscore.com",
          "wbaltv.com",
          "houstonchronicle.com",
          "telegraph.co.uk",
          "nationalgeographic.com",
          "healthline.com",
          "fandango.com",
          "stackify.com",
          "cars.com",
          "infosecinstitute.com",
          "auslogics.com",
          "dailymail.co.uk",
          "jendcosafety.com",
          "theatlantic.com",
          "snowshoemtn.com",
          "abc7chicago.com",
          "autotrader.com",
          "fatherly.com"
         ],
         "categoryorder": "array",
         "domain": [
          0,
          1
         ],
         "title": {
          "text": ""
         }
        },
        "yaxis": {
         "anchor": "x",
         "domain": [
          0,
          1
         ],
         "title": {
          "text": ""
         }
        }
       }
      }
     },
     "metadata": {},
     "output_type": "display_data"
    }
   ],
   "source": [
    "\n",
    "off_facebook_file_csv = 'data/{}/ads_and_businesses/your_off-facebook_activity.csv'.format(FACEBOOK_FOLDER)\n",
    "\n",
    "off_facebook_df = pd.read_csv(off_facebook_file_csv)\n",
    "\n",
    "counts_s = off_facebook_df['name'].value_counts()\n",
    "counts_df = pd.DataFrame({'name':counts_s.index, 'count':counts_s.values})[0:100]\n",
    "\n",
    "fig = px.bar(counts_df,x='name',y='count',color='name',width=1400)\n",
    "fig.update_layout(showlegend=False)\n",
    "fig.update_layout(xaxis={'title':''})\n",
    "fig.update_layout(yaxis={'title':''})\n",
    "fig.show()\n",
    "\n",
    "\n",
    "\n",
    "\n",
    "\n"
   ]
  },
  {
   "cell_type": "markdown",
   "metadata": {},
   "source": [
    "### Timeline of 15 most Frequently Recorded Visits"
   ]
  },
  {
   "cell_type": "code",
   "execution_count": 10,
   "metadata": {
    "tags": [
     "outputPrepend"
    ]
   },
   "outputs": [
    {
     "name": "stderr",
     "output_type": "stream",
     "text": [
      "/home/tschmitz/Workspace/PersonalData/venv/lib/python3.6/site-packages/ipykernel_launcher.py:3: SettingWithCopyWarning:\n",
      "\n",
      "\n",
      "A value is trying to be set on a copy of a slice from a DataFrame.\n",
      "Try using .loc[row_indexer,col_indexer] = value instead\n",
      "\n",
      "See the caveats in the documentation: https://pandas.pydata.org/pandas-docs/stable/user_guide/indexing.html#returning-a-view-versus-a-copy\n",
      "\n"
     ]
    },
    {
     "data": {
      "application/vnd.plotly.v1+json": {
       "config": {
        "plotlyServerURL": "https://plot.ly"
       },
       "data": [
        {
         "mode": "markers",
         "type": "scatter",
         "x": [
          "2020-05-04T22:43:56",
          "2020-04-02T23:09:18",
          "2020-03-03T11:15:54",
          "2020-03-03T10:53:25",
          "2020-02-10T11:50:21",
          "2020-02-10T10:49:05",
          "2020-02-09T23:17:35",
          "2020-01-19T03:25:53",
          "2020-01-04T16:30:17",
          "2019-12-17T20:05:53",
          "2019-12-15T03:26:26",
          "2019-10-28T15:59:45",
          "2019-10-22T23:36:19"
         ],
         "y": [
          "SoundCloud - Music & Audio",
          "SoundCloud - Music & Audio",
          "SoundCloud - Music & Audio",
          "SoundCloud - Music & Audio",
          "SoundCloud - Music & Audio",
          "SoundCloud - Music & Audio",
          "SoundCloud - Music & Audio",
          "SoundCloud - Music & Audio",
          "SoundCloud - Music & Audio",
          "SoundCloud - Music & Audio",
          "SoundCloud - Music & Audio",
          "SoundCloud - Music & Audio",
          "SoundCloud - Music & Audio"
         ]
        },
        {
         "mode": "markers",
         "type": "scatter",
         "x": [
          "2020-04-25T04:44:09",
          "2020-04-25T04:26:35",
          "2020-04-22T19:50:28",
          "2020-04-22T19:31:06",
          "2020-04-17T01:14:43",
          "2020-03-16T14:47:28",
          "2020-03-16T03:07:09",
          "2020-03-16T00:23:01",
          "2020-03-15T23:57:52",
          "2020-03-15T23:36:33",
          "2020-03-15T18:58:00",
          "2020-03-15T18:31:59",
          "2020-03-15T14:03:31",
          "2020-03-13T23:30:18",
          "2020-03-13T23:23:01",
          "2020-03-13T23:11:04",
          "2020-03-01T07:30:22",
          "2020-03-01T07:19:14",
          "2020-03-01T05:25:57",
          "2020-02-10T15:41:49",
          "2020-01-19T17:04:53",
          "2020-01-01T15:24:56",
          "2019-12-24T19:45:44",
          "2019-12-24T11:15:34",
          "2019-12-22T06:02:06",
          "2019-12-22T05:55:25",
          "2019-12-17T19:40:31",
          "2019-11-28T11:02:26",
          "2019-11-28T02:46:34",
          "2019-11-28T02:36:46"
         ],
         "y": [
          "Venmo",
          "Venmo",
          "Venmo",
          "Venmo",
          "Venmo",
          "Venmo",
          "Venmo",
          "Venmo",
          "Venmo",
          "Venmo",
          "Venmo",
          "Venmo",
          "Venmo",
          "Venmo",
          "Venmo",
          "Venmo",
          "Venmo",
          "Venmo",
          "Venmo",
          "Venmo",
          "Venmo",
          "Venmo",
          "Venmo",
          "Venmo",
          "Venmo",
          "Venmo",
          "Venmo",
          "Venmo",
          "Venmo",
          "Venmo"
         ]
        },
        {
         "mode": "markers",
         "type": "scatter",
         "x": [
          "2020-03-18T18:37:09",
          "2020-03-18T18:37:07",
          "2020-02-19T12:35:55",
          "2020-02-19T12:35:55",
          "2020-02-19T12:35:51",
          "2020-02-19T12:26:52",
          "2020-02-19T12:26:52",
          "2020-02-19T12:26:48",
          "2020-02-03T19:52:38",
          "2020-02-03T19:52:34"
         ],
         "y": [
          "newegg.com",
          "newegg.com",
          "newegg.com",
          "newegg.com",
          "newegg.com",
          "newegg.com",
          "newegg.com",
          "newegg.com",
          "newegg.com",
          "newegg.com"
         ]
        },
        {
         "mode": "markers",
         "type": "scatter",
         "x": [
          "2020-03-18T16:09:20",
          "2020-03-18T16:09:18",
          "2020-03-12T14:58:57",
          "2020-01-15T19:18:41",
          "2020-01-15T19:18:33",
          "2019-12-30T12:31:28",
          "2019-12-30T12:29:26",
          "2019-12-30T12:13:22",
          "2019-12-30T12:13:16",
          "2019-12-30T12:12:45",
          "2019-11-05T16:46:16",
          "2019-11-05T16:46:15",
          "2019-11-05T16:46:13"
         ],
         "y": [
          "cnn.com",
          "cnn.com",
          "cnn.com",
          "cnn.com",
          "cnn.com",
          "cnn.com",
          "cnn.com",
          "cnn.com",
          "cnn.com",
          "cnn.com",
          "cnn.com",
          "cnn.com",
          "cnn.com"
         ]
        },
        {
         "mode": "markers",
         "type": "scatter",
         "x": [
          "2020-03-16T17:37:55",
          "2020-03-06T17:57:45",
          "2020-03-06T15:22:19",
          "2020-02-28T17:29:44",
          "2020-02-09T01:22:19",
          "2020-01-31T12:37:34",
          "2020-01-16T12:54:14",
          "2019-12-13T15:15:16",
          "2019-09-14T02:28:52",
          "2019-09-05T23:28:33"
         ],
         "y": [
          "howtogeek.com",
          "howtogeek.com",
          "howtogeek.com",
          "howtogeek.com",
          "howtogeek.com",
          "howtogeek.com",
          "howtogeek.com",
          "howtogeek.com",
          "howtogeek.com",
          "howtogeek.com"
         ]
        },
        {
         "mode": "markers",
         "type": "scatter",
         "x": [
          "2020-03-12T18:02:12",
          "2020-03-12T17:56:58",
          "2020-03-12T17:55:54",
          "2020-03-12T16:25:24",
          "2020-03-12T16:00:10",
          "2020-03-12T15:59:40",
          "2020-03-12T14:42:20",
          "2020-03-12T13:24:57",
          "2020-03-12T11:37:14",
          "2020-03-11T16:58:18",
          "2020-03-11T16:44:57",
          "2020-03-11T16:43:33",
          "2020-03-11T15:53:54",
          "2020-03-11T15:53:54",
          "2020-03-11T15:13:04",
          "2020-03-11T15:07:32",
          "2020-03-11T14:57:27",
          "2020-03-11T14:57:19",
          "2020-03-11T13:26:48",
          "2020-03-11T12:58:13",
          "2020-03-11T12:14:51",
          "2020-03-11T11:59:44",
          "2020-03-10T18:33:56",
          "2020-03-10T18:22:14",
          "2020-03-10T18:12:32",
          "2020-03-10T17:53:48",
          "2020-03-10T17:21:56",
          "2020-03-10T17:20:01",
          "2020-03-10T17:14:39",
          "2020-03-10T16:14:26",
          "2020-03-06T14:50:40",
          "2020-03-05T16:21:57",
          "2020-03-02T13:58:14",
          "2020-03-02T13:58:14",
          "2020-03-02T13:41:25",
          "2020-02-28T18:31:56",
          "2020-02-28T18:31:56",
          "2020-01-10T14:42:42",
          "2020-01-03T12:20:46",
          "2019-12-26T16:15:03",
          "2019-12-26T12:21:54",
          "2019-12-18T16:22:35",
          "2019-12-18T13:48:51",
          "2019-12-17T17:36:10",
          "2019-12-17T12:09:21",
          "2019-12-16T15:21:53",
          "2019-12-16T15:05:20",
          "2019-12-16T14:59:42",
          "2019-12-13T17:55:26",
          "2019-12-12T17:24:08",
          "2019-12-12T15:33:13",
          "2019-12-12T15:16:37",
          "2019-12-12T14:51:43",
          "2019-12-12T14:42:17",
          "2019-12-12T14:09:35",
          "2019-12-12T13:32:13",
          "2019-12-11T18:40:22",
          "2019-12-11T18:13:17",
          "2019-12-11T15:51:57"
         ],
         "y": [
          "gitlab.com",
          "gitlab.com",
          "gitlab.com",
          "gitlab.com",
          "gitlab.com",
          "gitlab.com",
          "gitlab.com",
          "gitlab.com",
          "gitlab.com",
          "gitlab.com",
          "gitlab.com",
          "gitlab.com",
          "gitlab.com",
          "gitlab.com",
          "gitlab.com",
          "gitlab.com",
          "gitlab.com",
          "gitlab.com",
          "gitlab.com",
          "gitlab.com",
          "gitlab.com",
          "gitlab.com",
          "gitlab.com",
          "gitlab.com",
          "gitlab.com",
          "gitlab.com",
          "gitlab.com",
          "gitlab.com",
          "gitlab.com",
          "gitlab.com",
          "gitlab.com",
          "gitlab.com",
          "gitlab.com",
          "gitlab.com",
          "gitlab.com",
          "gitlab.com",
          "gitlab.com",
          "gitlab.com",
          "gitlab.com",
          "gitlab.com",
          "gitlab.com",
          "gitlab.com",
          "gitlab.com",
          "gitlab.com",
          "gitlab.com",
          "gitlab.com",
          "gitlab.com",
          "gitlab.com",
          "gitlab.com",
          "gitlab.com",
          "gitlab.com",
          "gitlab.com",
          "gitlab.com",
          "gitlab.com",
          "gitlab.com",
          "gitlab.com",
          "gitlab.com",
          "gitlab.com",
          "gitlab.com"
         ]
        },
        {
         "mode": "markers",
         "type": "scatter",
         "x": [
          "2020-03-11T16:05:48",
          "2020-03-09T14:55:53",
          "2020-03-05T18:39:57",
          "2020-02-28T17:26:50",
          "2020-02-13T21:24:54",
          "2020-02-07T14:25:44",
          "2020-01-31T18:43:47",
          "2020-01-16T13:08:36",
          "2020-01-14T17:53:20",
          "2020-01-06T18:44:52",
          "2020-01-06T18:44:52",
          "2020-01-06T16:14:31",
          "2020-01-06T16:14:31",
          "2020-01-06T15:49:14",
          "2020-01-06T15:49:13",
          "2019-12-13T14:03:28",
          "2019-12-13T14:03:28",
          "2019-12-12T15:12:59",
          "2019-12-12T15:12:59",
          "2019-11-11T13:07:09",
          "2019-11-11T13:07:08",
          "2019-10-17T17:38:08",
          "2019-10-17T17:38:07",
          "2019-09-05T23:03:06",
          "2019-09-05T23:03:05",
          "2019-08-09T00:40:43",
          "2019-08-09T00:40:41",
          "2019-08-09T00:25:59",
          "2019-08-09T00:25:58"
         ],
         "y": [
          "digitalocean.com",
          "digitalocean.com",
          "digitalocean.com",
          "digitalocean.com",
          "digitalocean.com",
          "digitalocean.com",
          "digitalocean.com",
          "digitalocean.com",
          "digitalocean.com",
          "digitalocean.com",
          "digitalocean.com",
          "digitalocean.com",
          "digitalocean.com",
          "digitalocean.com",
          "digitalocean.com",
          "digitalocean.com",
          "digitalocean.com",
          "digitalocean.com",
          "digitalocean.com",
          "digitalocean.com",
          "digitalocean.com",
          "digitalocean.com",
          "digitalocean.com",
          "digitalocean.com",
          "digitalocean.com",
          "digitalocean.com",
          "digitalocean.com",
          "digitalocean.com",
          "digitalocean.com"
         ]
        },
        {
         "mode": "markers",
         "type": "scatter",
         "x": [
          "2020-03-10T17:14:28",
          "2020-03-10T12:46:42",
          "2020-03-06T14:50:31",
          "2020-03-04T03:04:41",
          "2020-03-03T16:14:27",
          "2020-02-28T19:59:28",
          "2020-02-28T18:52:37",
          "2020-02-28T14:26:21",
          "2020-02-19T16:28:10",
          "2020-02-13T19:44:23",
          "2020-02-13T12:24:03",
          "2020-02-13T04:22:48",
          "2020-02-13T04:10:43",
          "2020-02-10T14:45:25",
          "2020-02-07T16:18:17",
          "2020-02-07T16:14:33",
          "2020-02-05T15:53:13",
          "2020-02-05T14:18:30",
          "2020-02-04T12:46:00",
          "2020-02-03T15:49:44",
          "2020-02-03T15:12:07",
          "2020-02-03T12:20:15",
          "2020-02-03T11:56:09",
          "2020-01-31T14:54:23",
          "2020-01-31T13:48:05",
          "2020-01-20T12:00:41",
          "2020-01-17T16:33:08",
          "2020-01-16T21:41:32",
          "2020-01-16T20:52:18",
          "2020-01-16T19:24:54",
          "2020-01-16T18:19:07",
          "2020-01-16T18:14:37",
          "2020-01-16T16:53:17",
          "2020-01-16T16:20:25",
          "2020-01-15T14:12:47",
          "2020-01-14T19:11:54",
          "2020-01-14T17:08:48",
          "2020-01-14T16:33:13",
          "2020-01-07T16:54:21",
          "2020-01-07T15:42:42",
          "2020-01-06T18:48:25",
          "2020-01-06T17:26:44",
          "2020-01-06T17:08:10",
          "2020-01-06T16:58:15",
          "2020-01-06T16:14:05",
          "2020-01-06T13:53:34",
          "2019-12-19T18:03:18",
          "2019-12-18T16:02:04",
          "2019-12-18T13:10:25",
          "2019-12-17T15:27:06",
          "2019-12-16T16:18:15",
          "2019-12-16T16:05:26",
          "2019-12-16T15:47:56",
          "2019-12-16T15:44:23",
          "2019-12-16T15:20:03",
          "2019-12-16T15:07:41"
         ],
         "y": [
          "docker.com",
          "docker.com",
          "docker.com",
          "docker.com",
          "docker.com",
          "docker.com",
          "docker.com",
          "docker.com",
          "docker.com",
          "docker.com",
          "docker.com",
          "docker.com",
          "docker.com",
          "docker.com",
          "docker.com",
          "docker.com",
          "docker.com",
          "docker.com",
          "docker.com",
          "docker.com",
          "docker.com",
          "docker.com",
          "docker.com",
          "docker.com",
          "docker.com",
          "docker.com",
          "docker.com",
          "docker.com",
          "docker.com",
          "docker.com",
          "docker.com",
          "docker.com",
          "docker.com",
          "docker.com",
          "docker.com",
          "docker.com",
          "docker.com",
          "docker.com",
          "docker.com",
          "docker.com",
          "docker.com",
          "docker.com",
          "docker.com",
          "docker.com",
          "docker.com",
          "docker.com",
          "docker.com",
          "docker.com",
          "docker.com",
          "docker.com",
          "docker.com",
          "docker.com",
          "docker.com",
          "docker.com",
          "docker.com",
          "docker.com"
         ]
        },
        {
         "mode": "markers",
         "type": "scatter",
         "x": [
          "2020-03-10T16:17:31",
          "2020-03-10T11:45:11",
          "2020-03-06T14:23:55",
          "2020-02-24T16:45:37",
          "2020-02-21T14:13:07",
          "2020-02-19T13:08:08",
          "2020-02-18T17:00:07",
          "2020-02-18T12:39:53",
          "2020-02-14T18:18:46",
          "2020-02-12T12:45:34"
         ],
         "y": [
          "Sterling Jewelers Inc.",
          "Sterling Jewelers Inc.",
          "Sterling Jewelers Inc.",
          "Sterling Jewelers Inc.",
          "Sterling Jewelers Inc.",
          "Sterling Jewelers Inc.",
          "Sterling Jewelers Inc.",
          "Sterling Jewelers Inc.",
          "Sterling Jewelers Inc.",
          "Sterling Jewelers Inc."
         ]
        },
        {
         "mode": "markers",
         "type": "scatter",
         "x": [
          "2020-02-27T18:16:05",
          "2020-02-27T18:14:24",
          "2020-01-08T17:38:41",
          "2020-01-02T15:23:17",
          "2019-12-23T18:41:52",
          "2019-12-12T18:39:52",
          "2019-12-03T12:52:12",
          "2019-12-03T12:41:21",
          "2019-11-20T20:14:57",
          "2019-11-20T19:39:26",
          "2019-11-20T14:00:58",
          "2019-11-20T12:32:58",
          "2019-11-20T12:29:00",
          "2019-11-18T15:22:14",
          "2019-11-15T13:20:52",
          "2019-11-15T13:10:55",
          "2019-11-15T12:20:35",
          "2019-11-14T17:50:41",
          "2019-11-07T19:21:45",
          "2019-11-07T15:50:05",
          "2019-11-07T14:11:33",
          "2019-11-07T13:59:20",
          "2019-11-07T12:01:52",
          "2019-11-06T18:01:47",
          "2019-11-06T17:54:05",
          "2019-11-06T16:47:19",
          "2019-11-06T16:39:01",
          "2019-11-06T13:36:43",
          "2019-11-06T13:21:13",
          "2019-11-06T12:40:21",
          "2019-11-06T12:16:44",
          "2019-11-05T17:34:13",
          "2019-11-05T17:16:35",
          "2019-11-05T17:14:34",
          "2019-11-05T14:07:56",
          "2019-11-05T13:20:10",
          "2019-10-18T14:53:29",
          "2019-10-18T12:52:19",
          "2019-10-18T12:43:45",
          "2019-10-18T12:21:55",
          "2019-10-17T21:47:44",
          "2019-10-17T21:36:48",
          "2019-10-17T16:19:37"
         ],
         "y": [
          "elastic.co",
          "elastic.co",
          "elastic.co",
          "elastic.co",
          "elastic.co",
          "elastic.co",
          "elastic.co",
          "elastic.co",
          "elastic.co",
          "elastic.co",
          "elastic.co",
          "elastic.co",
          "elastic.co",
          "elastic.co",
          "elastic.co",
          "elastic.co",
          "elastic.co",
          "elastic.co",
          "elastic.co",
          "elastic.co",
          "elastic.co",
          "elastic.co",
          "elastic.co",
          "elastic.co",
          "elastic.co",
          "elastic.co",
          "elastic.co",
          "elastic.co",
          "elastic.co",
          "elastic.co",
          "elastic.co",
          "elastic.co",
          "elastic.co",
          "elastic.co",
          "elastic.co",
          "elastic.co",
          "elastic.co",
          "elastic.co",
          "elastic.co",
          "elastic.co",
          "elastic.co",
          "elastic.co",
          "elastic.co"
         ]
        },
        {
         "mode": "markers",
         "type": "scatter",
         "x": [
          "2020-02-11T16:24:05",
          "2019-12-27T12:49:34",
          "2019-12-27T12:44:46",
          "2019-12-27T12:41:07",
          "2019-11-18T13:12:21",
          "2019-11-18T12:38:20",
          "2019-11-18T12:26:08",
          "2019-11-18T11:21:43",
          "2019-11-18T02:45:31",
          "2019-11-18T02:38:03",
          "2019-11-18T02:19:28",
          "2019-11-18T01:59:16"
         ],
         "y": [
          "zillow.com",
          "zillow.com",
          "zillow.com",
          "zillow.com",
          "zillow.com",
          "zillow.com",
          "zillow.com",
          "zillow.com",
          "zillow.com",
          "zillow.com",
          "zillow.com",
          "zillow.com"
         ]
        },
        {
         "mode": "markers",
         "type": "scatter",
         "x": [
          "2020-01-08T13:51:13",
          "2020-01-08T13:51:13",
          "2019-12-05T21:11:52",
          "2019-11-26T11:50:59",
          "2019-11-26T11:50:58",
          "2019-11-25T02:47:57",
          "2019-11-25T02:47:55",
          "2019-11-25T02:44:14",
          "2019-11-25T02:44:13",
          "2019-11-25T02:44:13",
          "2019-11-21T15:02:55",
          "2019-11-21T15:02:54",
          "2019-11-21T14:56:36",
          "2019-11-21T14:56:36",
          "2019-11-21T14:40:28",
          "2019-11-21T14:40:28",
          "2019-11-21T14:11:58",
          "2019-11-21T14:11:57",
          "2019-11-21T13:56:19",
          "2019-11-21T13:56:19",
          "2019-11-21T13:41:22",
          "2019-11-21T13:41:22"
         ],
         "y": [
          "lmiutil.com",
          "lmiutil.com",
          "lmiutil.com",
          "lmiutil.com",
          "lmiutil.com",
          "lmiutil.com",
          "lmiutil.com",
          "lmiutil.com",
          "lmiutil.com",
          "lmiutil.com",
          "lmiutil.com",
          "lmiutil.com",
          "lmiutil.com",
          "lmiutil.com",
          "lmiutil.com",
          "lmiutil.com",
          "lmiutil.com",
          "lmiutil.com",
          "lmiutil.com",
          "lmiutil.com",
          "lmiutil.com",
          "lmiutil.com"
         ]
        },
        {
         "mode": "markers",
         "type": "scatter",
         "x": [
          "2019-11-16T19:21:32",
          "2019-11-10T07:17:22",
          "2019-11-10T07:14:42",
          "2019-11-08T03:06:05",
          "2019-11-07T18:38:16",
          "2019-11-02T07:39:26",
          "2019-11-02T07:09:13",
          "2019-10-25T22:06:26",
          "2019-10-24T17:02:09",
          "2019-10-24T16:17:36"
         ],
         "y": [
          "Venmo: Send & Receive Money",
          "Venmo: Send & Receive Money",
          "Venmo: Send & Receive Money",
          "Venmo: Send & Receive Money",
          "Venmo: Send & Receive Money",
          "Venmo: Send & Receive Money",
          "Venmo: Send & Receive Money",
          "Venmo: Send & Receive Money",
          "Venmo: Send & Receive Money",
          "Venmo: Send & Receive Money"
         ]
        },
        {
         "mode": "markers",
         "type": "scatter",
         "x": [
          "2019-10-19T03:47:46",
          "2019-10-19T03:36:03",
          "2019-10-12T22:52:22",
          "2019-10-12T22:34:25",
          "2019-10-09T05:25:35",
          "2019-10-09T05:08:08",
          "2019-10-08T21:38:08",
          "2019-10-08T21:21:03",
          "2019-10-08T21:04:44",
          "2019-10-08T01:30:19",
          "2019-10-03T02:09:17",
          "2019-10-03T01:50:21",
          "2019-09-24T19:03:41",
          "2019-09-23T20:45:59",
          "2019-09-23T20:35:33",
          "2019-09-22T15:32:20",
          "2019-09-22T15:15:42",
          "2019-09-20T21:57:17",
          "2019-09-20T18:33:29",
          "2019-09-20T18:23:02",
          "2019-09-19T11:01:19",
          "2019-09-18T22:48:27",
          "2019-09-18T21:31:00",
          "2019-09-18T21:21:36",
          "2019-09-18T21:04:41",
          "2019-09-18T20:59:56",
          "2019-09-18T20:44:56",
          "2019-09-18T20:29:41",
          "2019-09-18T20:12:45",
          "2019-09-11T20:23:57",
          "2019-09-11T20:09:22",
          "2019-09-09T19:22:05",
          "2019-09-09T19:14:29",
          "2019-09-09T18:57:46",
          "2019-09-09T11:31:53",
          "2019-09-09T11:29:53",
          "2019-09-09T11:14:38",
          "2019-09-09T10:58:40",
          "2019-09-04T03:02:42",
          "2019-09-04T02:45:45",
          "2019-09-02T12:02:06",
          "2019-08-30T11:05:55",
          "2019-08-27T19:40:05",
          "2019-08-27T19:25:54",
          "2019-08-25T21:00:03",
          "2019-08-24T04:56:31",
          "2019-08-24T04:33:02",
          "2019-08-20T00:25:06",
          "2019-08-16T11:55:32",
          "2019-08-16T11:44:45",
          "2019-08-15T10:24:06"
         ],
         "y": [
          "TikTok - Make Your Day",
          "TikTok - Make Your Day",
          "TikTok - Make Your Day",
          "TikTok - Make Your Day",
          "TikTok - Make Your Day",
          "TikTok - Make Your Day",
          "TikTok - Make Your Day",
          "TikTok - Make Your Day",
          "TikTok - Make Your Day",
          "TikTok - Make Your Day",
          "TikTok - Make Your Day",
          "TikTok - Make Your Day",
          "TikTok - Make Your Day",
          "TikTok - Make Your Day",
          "TikTok - Make Your Day",
          "TikTok - Make Your Day",
          "TikTok - Make Your Day",
          "TikTok - Make Your Day",
          "TikTok - Make Your Day",
          "TikTok - Make Your Day",
          "TikTok - Make Your Day",
          "TikTok - Make Your Day",
          "TikTok - Make Your Day",
          "TikTok - Make Your Day",
          "TikTok - Make Your Day",
          "TikTok - Make Your Day",
          "TikTok - Make Your Day",
          "TikTok - Make Your Day",
          "TikTok - Make Your Day",
          "TikTok - Make Your Day",
          "TikTok - Make Your Day",
          "TikTok - Make Your Day",
          "TikTok - Make Your Day",
          "TikTok - Make Your Day",
          "TikTok - Make Your Day",
          "TikTok - Make Your Day",
          "TikTok - Make Your Day",
          "TikTok - Make Your Day",
          "TikTok - Make Your Day",
          "TikTok - Make Your Day",
          "TikTok - Make Your Day",
          "TikTok - Make Your Day",
          "TikTok - Make Your Day",
          "TikTok - Make Your Day",
          "TikTok - Make Your Day",
          "TikTok - Make Your Day",
          "TikTok - Make Your Day",
          "TikTok - Make Your Day",
          "TikTok - Make Your Day",
          "TikTok - Make Your Day",
          "TikTok - Make Your Day"
         ]
        },
        {
         "mode": "markers",
         "type": "scatter",
         "x": [
          "2019-08-07T19:37:16",
          "2019-08-07T19:29:50",
          "2019-08-07T19:14:07",
          "2019-08-06T19:16:26",
          "2019-08-06T19:04:28",
          "2019-08-05T20:13:39",
          "2019-08-05T19:59:39",
          "2019-08-05T19:40:11",
          "2019-08-04T23:32:21",
          "2019-08-04T23:04:30",
          "2019-08-04T22:53:17",
          "2019-08-04T14:00:31",
          "2019-08-04T13:59:49",
          "2019-08-02T19:20:02",
          "2019-08-02T19:05:33",
          "2019-08-02T18:23:25",
          "2019-08-02T18:14:40",
          "2019-08-02T17:59:55",
          "2019-08-02T17:34:31",
          "2019-08-02T17:28:44",
          "2019-08-02T17:07:42",
          "2019-08-02T02:18:27",
          "2019-08-02T02:05:14",
          "2019-08-01T19:45:17",
          "2019-08-01T19:36:27",
          "2019-08-01T19:18:32",
          "2019-08-01T19:14:34",
          "2019-07-30T20:10:46",
          "2019-07-30T19:56:58",
          "2019-07-30T19:44:13",
          "2019-07-30T19:25:52",
          "2019-07-30T10:11:10",
          "2019-07-29T21:34:39",
          "2019-07-29T21:17:20",
          "2019-07-29T21:08:23",
          "2019-07-29T20:59:33",
          "2019-07-29T20:34:00",
          "2019-07-29T20:19:04",
          "2019-07-29T19:54:03",
          "2019-07-29T19:44:48",
          "2019-07-29T19:28:37",
          "2019-07-28T06:31:58"
         ],
         "y": [
          "TikTok - Real Short Videos",
          "TikTok - Real Short Videos",
          "TikTok - Real Short Videos",
          "TikTok - Real Short Videos",
          "TikTok - Real Short Videos",
          "TikTok - Real Short Videos",
          "TikTok - Real Short Videos",
          "TikTok - Real Short Videos",
          "TikTok - Real Short Videos",
          "TikTok - Real Short Videos",
          "TikTok - Real Short Videos",
          "TikTok - Real Short Videos",
          "TikTok - Real Short Videos",
          "TikTok - Real Short Videos",
          "TikTok - Real Short Videos",
          "TikTok - Real Short Videos",
          "TikTok - Real Short Videos",
          "TikTok - Real Short Videos",
          "TikTok - Real Short Videos",
          "TikTok - Real Short Videos",
          "TikTok - Real Short Videos",
          "TikTok - Real Short Videos",
          "TikTok - Real Short Videos",
          "TikTok - Real Short Videos",
          "TikTok - Real Short Videos",
          "TikTok - Real Short Videos",
          "TikTok - Real Short Videos",
          "TikTok - Real Short Videos",
          "TikTok - Real Short Videos",
          "TikTok - Real Short Videos",
          "TikTok - Real Short Videos",
          "TikTok - Real Short Videos",
          "TikTok - Real Short Videos",
          "TikTok - Real Short Videos",
          "TikTok - Real Short Videos",
          "TikTok - Real Short Videos",
          "TikTok - Real Short Videos",
          "TikTok - Real Short Videos",
          "TikTok - Real Short Videos",
          "TikTok - Real Short Videos",
          "TikTok - Real Short Videos",
          "TikTok - Real Short Videos"
         ]
        }
       ],
       "layout": {
        "showlegend": false,
        "template": {
         "data": {
          "bar": [
           {
            "error_x": {
             "color": "#2a3f5f"
            },
            "error_y": {
             "color": "#2a3f5f"
            },
            "marker": {
             "line": {
              "color": "#E5ECF6",
              "width": 0.5
             }
            },
            "type": "bar"
           }
          ],
          "barpolar": [
           {
            "marker": {
             "line": {
              "color": "#E5ECF6",
              "width": 0.5
             }
            },
            "type": "barpolar"
           }
          ],
          "carpet": [
           {
            "aaxis": {
             "endlinecolor": "#2a3f5f",
             "gridcolor": "white",
             "linecolor": "white",
             "minorgridcolor": "white",
             "startlinecolor": "#2a3f5f"
            },
            "baxis": {
             "endlinecolor": "#2a3f5f",
             "gridcolor": "white",
             "linecolor": "white",
             "minorgridcolor": "white",
             "startlinecolor": "#2a3f5f"
            },
            "type": "carpet"
           }
          ],
          "choropleth": [
           {
            "colorbar": {
             "outlinewidth": 0,
             "ticks": ""
            },
            "type": "choropleth"
           }
          ],
          "contour": [
           {
            "colorbar": {
             "outlinewidth": 0,
             "ticks": ""
            },
            "colorscale": [
             [
              0,
              "#0d0887"
             ],
             [
              0.1111111111111111,
              "#46039f"
             ],
             [
              0.2222222222222222,
              "#7201a8"
             ],
             [
              0.3333333333333333,
              "#9c179e"
             ],
             [
              0.4444444444444444,
              "#bd3786"
             ],
             [
              0.5555555555555556,
              "#d8576b"
             ],
             [
              0.6666666666666666,
              "#ed7953"
             ],
             [
              0.7777777777777778,
              "#fb9f3a"
             ],
             [
              0.8888888888888888,
              "#fdca26"
             ],
             [
              1,
              "#f0f921"
             ]
            ],
            "type": "contour"
           }
          ],
          "contourcarpet": [
           {
            "colorbar": {
             "outlinewidth": 0,
             "ticks": ""
            },
            "type": "contourcarpet"
           }
          ],
          "heatmap": [
           {
            "colorbar": {
             "outlinewidth": 0,
             "ticks": ""
            },
            "colorscale": [
             [
              0,
              "#0d0887"
             ],
             [
              0.1111111111111111,
              "#46039f"
             ],
             [
              0.2222222222222222,
              "#7201a8"
             ],
             [
              0.3333333333333333,
              "#9c179e"
             ],
             [
              0.4444444444444444,
              "#bd3786"
             ],
             [
              0.5555555555555556,
              "#d8576b"
             ],
             [
              0.6666666666666666,
              "#ed7953"
             ],
             [
              0.7777777777777778,
              "#fb9f3a"
             ],
             [
              0.8888888888888888,
              "#fdca26"
             ],
             [
              1,
              "#f0f921"
             ]
            ],
            "type": "heatmap"
           }
          ],
          "heatmapgl": [
           {
            "colorbar": {
             "outlinewidth": 0,
             "ticks": ""
            },
            "colorscale": [
             [
              0,
              "#0d0887"
             ],
             [
              0.1111111111111111,
              "#46039f"
             ],
             [
              0.2222222222222222,
              "#7201a8"
             ],
             [
              0.3333333333333333,
              "#9c179e"
             ],
             [
              0.4444444444444444,
              "#bd3786"
             ],
             [
              0.5555555555555556,
              "#d8576b"
             ],
             [
              0.6666666666666666,
              "#ed7953"
             ],
             [
              0.7777777777777778,
              "#fb9f3a"
             ],
             [
              0.8888888888888888,
              "#fdca26"
             ],
             [
              1,
              "#f0f921"
             ]
            ],
            "type": "heatmapgl"
           }
          ],
          "histogram": [
           {
            "marker": {
             "colorbar": {
              "outlinewidth": 0,
              "ticks": ""
             }
            },
            "type": "histogram"
           }
          ],
          "histogram2d": [
           {
            "colorbar": {
             "outlinewidth": 0,
             "ticks": ""
            },
            "colorscale": [
             [
              0,
              "#0d0887"
             ],
             [
              0.1111111111111111,
              "#46039f"
             ],
             [
              0.2222222222222222,
              "#7201a8"
             ],
             [
              0.3333333333333333,
              "#9c179e"
             ],
             [
              0.4444444444444444,
              "#bd3786"
             ],
             [
              0.5555555555555556,
              "#d8576b"
             ],
             [
              0.6666666666666666,
              "#ed7953"
             ],
             [
              0.7777777777777778,
              "#fb9f3a"
             ],
             [
              0.8888888888888888,
              "#fdca26"
             ],
             [
              1,
              "#f0f921"
             ]
            ],
            "type": "histogram2d"
           }
          ],
          "histogram2dcontour": [
           {
            "colorbar": {
             "outlinewidth": 0,
             "ticks": ""
            },
            "colorscale": [
             [
              0,
              "#0d0887"
             ],
             [
              0.1111111111111111,
              "#46039f"
             ],
             [
              0.2222222222222222,
              "#7201a8"
             ],
             [
              0.3333333333333333,
              "#9c179e"
             ],
             [
              0.4444444444444444,
              "#bd3786"
             ],
             [
              0.5555555555555556,
              "#d8576b"
             ],
             [
              0.6666666666666666,
              "#ed7953"
             ],
             [
              0.7777777777777778,
              "#fb9f3a"
             ],
             [
              0.8888888888888888,
              "#fdca26"
             ],
             [
              1,
              "#f0f921"
             ]
            ],
            "type": "histogram2dcontour"
           }
          ],
          "mesh3d": [
           {
            "colorbar": {
             "outlinewidth": 0,
             "ticks": ""
            },
            "type": "mesh3d"
           }
          ],
          "parcoords": [
           {
            "line": {
             "colorbar": {
              "outlinewidth": 0,
              "ticks": ""
             }
            },
            "type": "parcoords"
           }
          ],
          "pie": [
           {
            "automargin": true,
            "type": "pie"
           }
          ],
          "scatter": [
           {
            "marker": {
             "colorbar": {
              "outlinewidth": 0,
              "ticks": ""
             }
            },
            "type": "scatter"
           }
          ],
          "scatter3d": [
           {
            "line": {
             "colorbar": {
              "outlinewidth": 0,
              "ticks": ""
             }
            },
            "marker": {
             "colorbar": {
              "outlinewidth": 0,
              "ticks": ""
             }
            },
            "type": "scatter3d"
           }
          ],
          "scattercarpet": [
           {
            "marker": {
             "colorbar": {
              "outlinewidth": 0,
              "ticks": ""
             }
            },
            "type": "scattercarpet"
           }
          ],
          "scattergeo": [
           {
            "marker": {
             "colorbar": {
              "outlinewidth": 0,
              "ticks": ""
             }
            },
            "type": "scattergeo"
           }
          ],
          "scattergl": [
           {
            "marker": {
             "colorbar": {
              "outlinewidth": 0,
              "ticks": ""
             }
            },
            "type": "scattergl"
           }
          ],
          "scattermapbox": [
           {
            "marker": {
             "colorbar": {
              "outlinewidth": 0,
              "ticks": ""
             }
            },
            "type": "scattermapbox"
           }
          ],
          "scatterpolar": [
           {
            "marker": {
             "colorbar": {
              "outlinewidth": 0,
              "ticks": ""
             }
            },
            "type": "scatterpolar"
           }
          ],
          "scatterpolargl": [
           {
            "marker": {
             "colorbar": {
              "outlinewidth": 0,
              "ticks": ""
             }
            },
            "type": "scatterpolargl"
           }
          ],
          "scatterternary": [
           {
            "marker": {
             "colorbar": {
              "outlinewidth": 0,
              "ticks": ""
             }
            },
            "type": "scatterternary"
           }
          ],
          "surface": [
           {
            "colorbar": {
             "outlinewidth": 0,
             "ticks": ""
            },
            "colorscale": [
             [
              0,
              "#0d0887"
             ],
             [
              0.1111111111111111,
              "#46039f"
             ],
             [
              0.2222222222222222,
              "#7201a8"
             ],
             [
              0.3333333333333333,
              "#9c179e"
             ],
             [
              0.4444444444444444,
              "#bd3786"
             ],
             [
              0.5555555555555556,
              "#d8576b"
             ],
             [
              0.6666666666666666,
              "#ed7953"
             ],
             [
              0.7777777777777778,
              "#fb9f3a"
             ],
             [
              0.8888888888888888,
              "#fdca26"
             ],
             [
              1,
              "#f0f921"
             ]
            ],
            "type": "surface"
           }
          ],
          "table": [
           {
            "cells": {
             "fill": {
              "color": "#EBF0F8"
             },
             "line": {
              "color": "white"
             }
            },
            "header": {
             "fill": {
              "color": "#C8D4E3"
             },
             "line": {
              "color": "white"
             }
            },
            "type": "table"
           }
          ]
         },
         "layout": {
          "annotationdefaults": {
           "arrowcolor": "#2a3f5f",
           "arrowhead": 0,
           "arrowwidth": 1
          },
          "coloraxis": {
           "colorbar": {
            "outlinewidth": 0,
            "ticks": ""
           }
          },
          "colorscale": {
           "diverging": [
            [
             0,
             "#8e0152"
            ],
            [
             0.1,
             "#c51b7d"
            ],
            [
             0.2,
             "#de77ae"
            ],
            [
             0.3,
             "#f1b6da"
            ],
            [
             0.4,
             "#fde0ef"
            ],
            [
             0.5,
             "#f7f7f7"
            ],
            [
             0.6,
             "#e6f5d0"
            ],
            [
             0.7,
             "#b8e186"
            ],
            [
             0.8,
             "#7fbc41"
            ],
            [
             0.9,
             "#4d9221"
            ],
            [
             1,
             "#276419"
            ]
           ],
           "sequential": [
            [
             0,
             "#0d0887"
            ],
            [
             0.1111111111111111,
             "#46039f"
            ],
            [
             0.2222222222222222,
             "#7201a8"
            ],
            [
             0.3333333333333333,
             "#9c179e"
            ],
            [
             0.4444444444444444,
             "#bd3786"
            ],
            [
             0.5555555555555556,
             "#d8576b"
            ],
            [
             0.6666666666666666,
             "#ed7953"
            ],
            [
             0.7777777777777778,
             "#fb9f3a"
            ],
            [
             0.8888888888888888,
             "#fdca26"
            ],
            [
             1,
             "#f0f921"
            ]
           ],
           "sequentialminus": [
            [
             0,
             "#0d0887"
            ],
            [
             0.1111111111111111,
             "#46039f"
            ],
            [
             0.2222222222222222,
             "#7201a8"
            ],
            [
             0.3333333333333333,
             "#9c179e"
            ],
            [
             0.4444444444444444,
             "#bd3786"
            ],
            [
             0.5555555555555556,
             "#d8576b"
            ],
            [
             0.6666666666666666,
             "#ed7953"
            ],
            [
             0.7777777777777778,
             "#fb9f3a"
            ],
            [
             0.8888888888888888,
             "#fdca26"
            ],
            [
             1,
             "#f0f921"
            ]
           ]
          },
          "colorway": [
           "#636efa",
           "#EF553B",
           "#00cc96",
           "#ab63fa",
           "#FFA15A",
           "#19d3f3",
           "#FF6692",
           "#B6E880",
           "#FF97FF",
           "#FECB52"
          ],
          "font": {
           "color": "#2a3f5f"
          },
          "geo": {
           "bgcolor": "white",
           "lakecolor": "white",
           "landcolor": "#E5ECF6",
           "showlakes": true,
           "showland": true,
           "subunitcolor": "white"
          },
          "hoverlabel": {
           "align": "left"
          },
          "hovermode": "closest",
          "mapbox": {
           "style": "light"
          },
          "paper_bgcolor": "white",
          "plot_bgcolor": "#E5ECF6",
          "polar": {
           "angularaxis": {
            "gridcolor": "white",
            "linecolor": "white",
            "ticks": ""
           },
           "bgcolor": "#E5ECF6",
           "radialaxis": {
            "gridcolor": "white",
            "linecolor": "white",
            "ticks": ""
           }
          },
          "scene": {
           "xaxis": {
            "backgroundcolor": "#E5ECF6",
            "gridcolor": "white",
            "gridwidth": 2,
            "linecolor": "white",
            "showbackground": true,
            "ticks": "",
            "zerolinecolor": "white"
           },
           "yaxis": {
            "backgroundcolor": "#E5ECF6",
            "gridcolor": "white",
            "gridwidth": 2,
            "linecolor": "white",
            "showbackground": true,
            "ticks": "",
            "zerolinecolor": "white"
           },
           "zaxis": {
            "backgroundcolor": "#E5ECF6",
            "gridcolor": "white",
            "gridwidth": 2,
            "linecolor": "white",
            "showbackground": true,
            "ticks": "",
            "zerolinecolor": "white"
           }
          },
          "shapedefaults": {
           "line": {
            "color": "#2a3f5f"
           }
          },
          "ternary": {
           "aaxis": {
            "gridcolor": "white",
            "linecolor": "white",
            "ticks": ""
           },
           "baxis": {
            "gridcolor": "white",
            "linecolor": "white",
            "ticks": ""
           },
           "bgcolor": "#E5ECF6",
           "caxis": {
            "gridcolor": "white",
            "linecolor": "white",
            "ticks": ""
           }
          },
          "title": {
           "x": 0.05
          },
          "xaxis": {
           "automargin": true,
           "gridcolor": "white",
           "linecolor": "white",
           "ticks": "",
           "title": {
            "standoff": 15
           },
           "zerolinecolor": "white",
           "zerolinewidth": 2
          },
          "yaxis": {
           "automargin": true,
           "gridcolor": "white",
           "linecolor": "white",
           "ticks": "",
           "title": {
            "standoff": 15
           },
           "zerolinecolor": "white",
           "zerolinewidth": 2
          }
         }
        }
       }
      }
     },
     "metadata": {},
     "output_type": "display_data"
    }
   ],
   "source": [
    "\n",
    "fig = go.Figure()\n",
    "top_df = off_facebook_df[off_facebook_df['name'].isin(counts_df[0:15]['name'])]\n",
    "top_df['date'] = pd.to_datetime(top_df['date'],unit='s')\n",
    "for x in top_df.name.unique():\n",
    "    t_df = top_df.loc[top_df['name'] == x]\n",
    "    fig.add_trace(go.Scatter(x=t_df['date'],y=t_df['name'],mode='markers'))\n",
    "fig.update_layout(showlegend=False)\n",
    "fig.show()\n"
   ]
  },
  {
   "cell_type": "markdown",
   "metadata": {},
   "source": [
    "## Messages Data"
   ]
  },
  {
   "cell_type": "code",
   "execution_count": 11,
   "metadata": {},
   "outputs": [
    {
     "data": {
      "application/vnd.plotly.v1+json": {
       "config": {
        "plotlyServerURL": "https://plot.ly"
       },
       "data": [
        {
         "alignmentgroup": "True",
         "hovertemplate": "title=%{x}<br>count=%{marker.color}<extra></extra>",
         "legendgroup": "",
         "marker": {
          "color": [
           9,
           34,
           11,
           24,
           11,
           15,
           52,
           17,
           4,
           6,
           13,
           17,
           6,
           6,
           68,
           20,
           12,
           6,
           13,
           7,
           11,
           8,
           43,
           20,
           7,
           5,
           34,
           293,
           7,
           32,
           23,
           5,
           26,
           241,
           31,
           11,
           21,
           252,
           26,
           97,
           14,
           30,
           17,
           5
          ],
          "coloraxis": "coloraxis"
         },
         "name": "",
         "offsetgroup": "",
         "orientation": "v",
         "showlegend": false,
         "textposition": "auto",
         "type": "bar",
         "x": [
          "Matthew Shallow",
          "Thirsty Thursday ð»ð¥ð¾ð¹ð¸ð¥ð·",
          "Tyler Â· Room for rent",
          "Jessica Elaine",
          "Aaron Brown",
          "Tyler Â· Snowboards (read ad)",
          "Shadeed Q Drakeford",
          "Nick Cerdeira",
          "Doug Shaner",
          "Kelsey Taylor",
          "Sean Bee",
          "Tasia Demas Schmitz and Erin Mahoney Schmitz",
          "Samantha Stull",
          "Bonny Pokopac Chappell",
          "Hunter Ford",
          "Jeremy Levine",
          "Berkeley King",
          "Mylilallykat Howboutdat",
          "Mary Ann Vacante LeMonnier",
          "Mary Kate McDermott Nolte",
          "Jaron Daulton",
          "Shane Forrey",
          "Michael Hinely",
          "Eric Shaner",
          "Colin Sporer",
          "Tommy Tomcat Luc",
          "Antoinette Podolek Schmitz",
          "Ally Stull",
          "Shane Smith",
          "Jordan Puglisi",
          "Savannah Kirtley",
          "Doug Shaner, Laura Dorsey-Shaner, Allison Shaner and Eric Shaner",
          "Abigail Parisen",
          "Richie Martins",
          "Taylor Windsor",
          "Conor Habiger",
          "Facebook User",
          "Brenton Rampage Ebron",
          "We need food STAT",
          "Kadie Hartman",
          "Alec Wasserman",
          "Tyler Â· to",
          "Ben Schmitz",
          "Coy Horner"
         ],
         "xaxis": "x",
         "y": [
          9,
          34,
          11,
          24,
          11,
          15,
          52,
          17,
          4,
          6,
          13,
          17,
          6,
          6,
          68,
          20,
          12,
          6,
          13,
          7,
          11,
          8,
          43,
          20,
          7,
          5,
          34,
          293,
          7,
          32,
          23,
          5,
          26,
          241,
          31,
          11,
          21,
          252,
          26,
          97,
          14,
          30,
          17,
          5
         ],
         "yaxis": "y"
        }
       ],
       "layout": {
        "barmode": "relative",
        "coloraxis": {
         "colorbar": {
          "title": {
           "text": "count"
          }
         },
         "colorscale": [
          [
           0,
           "#0d0887"
          ],
          [
           0.1111111111111111,
           "#46039f"
          ],
          [
           0.2222222222222222,
           "#7201a8"
          ],
          [
           0.3333333333333333,
           "#9c179e"
          ],
          [
           0.4444444444444444,
           "#bd3786"
          ],
          [
           0.5555555555555556,
           "#d8576b"
          ],
          [
           0.6666666666666666,
           "#ed7953"
          ],
          [
           0.7777777777777778,
           "#fb9f3a"
          ],
          [
           0.8888888888888888,
           "#fdca26"
          ],
          [
           1,
           "#f0f921"
          ]
         ]
        },
        "height": 800,
        "legend": {
         "tracegroupgap": 0
        },
        "margin": {
         "t": 60
        },
        "template": {
         "data": {
          "bar": [
           {
            "error_x": {
             "color": "#2a3f5f"
            },
            "error_y": {
             "color": "#2a3f5f"
            },
            "marker": {
             "line": {
              "color": "#E5ECF6",
              "width": 0.5
             }
            },
            "type": "bar"
           }
          ],
          "barpolar": [
           {
            "marker": {
             "line": {
              "color": "#E5ECF6",
              "width": 0.5
             }
            },
            "type": "barpolar"
           }
          ],
          "carpet": [
           {
            "aaxis": {
             "endlinecolor": "#2a3f5f",
             "gridcolor": "white",
             "linecolor": "white",
             "minorgridcolor": "white",
             "startlinecolor": "#2a3f5f"
            },
            "baxis": {
             "endlinecolor": "#2a3f5f",
             "gridcolor": "white",
             "linecolor": "white",
             "minorgridcolor": "white",
             "startlinecolor": "#2a3f5f"
            },
            "type": "carpet"
           }
          ],
          "choropleth": [
           {
            "colorbar": {
             "outlinewidth": 0,
             "ticks": ""
            },
            "type": "choropleth"
           }
          ],
          "contour": [
           {
            "colorbar": {
             "outlinewidth": 0,
             "ticks": ""
            },
            "colorscale": [
             [
              0,
              "#0d0887"
             ],
             [
              0.1111111111111111,
              "#46039f"
             ],
             [
              0.2222222222222222,
              "#7201a8"
             ],
             [
              0.3333333333333333,
              "#9c179e"
             ],
             [
              0.4444444444444444,
              "#bd3786"
             ],
             [
              0.5555555555555556,
              "#d8576b"
             ],
             [
              0.6666666666666666,
              "#ed7953"
             ],
             [
              0.7777777777777778,
              "#fb9f3a"
             ],
             [
              0.8888888888888888,
              "#fdca26"
             ],
             [
              1,
              "#f0f921"
             ]
            ],
            "type": "contour"
           }
          ],
          "contourcarpet": [
           {
            "colorbar": {
             "outlinewidth": 0,
             "ticks": ""
            },
            "type": "contourcarpet"
           }
          ],
          "heatmap": [
           {
            "colorbar": {
             "outlinewidth": 0,
             "ticks": ""
            },
            "colorscale": [
             [
              0,
              "#0d0887"
             ],
             [
              0.1111111111111111,
              "#46039f"
             ],
             [
              0.2222222222222222,
              "#7201a8"
             ],
             [
              0.3333333333333333,
              "#9c179e"
             ],
             [
              0.4444444444444444,
              "#bd3786"
             ],
             [
              0.5555555555555556,
              "#d8576b"
             ],
             [
              0.6666666666666666,
              "#ed7953"
             ],
             [
              0.7777777777777778,
              "#fb9f3a"
             ],
             [
              0.8888888888888888,
              "#fdca26"
             ],
             [
              1,
              "#f0f921"
             ]
            ],
            "type": "heatmap"
           }
          ],
          "heatmapgl": [
           {
            "colorbar": {
             "outlinewidth": 0,
             "ticks": ""
            },
            "colorscale": [
             [
              0,
              "#0d0887"
             ],
             [
              0.1111111111111111,
              "#46039f"
             ],
             [
              0.2222222222222222,
              "#7201a8"
             ],
             [
              0.3333333333333333,
              "#9c179e"
             ],
             [
              0.4444444444444444,
              "#bd3786"
             ],
             [
              0.5555555555555556,
              "#d8576b"
             ],
             [
              0.6666666666666666,
              "#ed7953"
             ],
             [
              0.7777777777777778,
              "#fb9f3a"
             ],
             [
              0.8888888888888888,
              "#fdca26"
             ],
             [
              1,
              "#f0f921"
             ]
            ],
            "type": "heatmapgl"
           }
          ],
          "histogram": [
           {
            "marker": {
             "colorbar": {
              "outlinewidth": 0,
              "ticks": ""
             }
            },
            "type": "histogram"
           }
          ],
          "histogram2d": [
           {
            "colorbar": {
             "outlinewidth": 0,
             "ticks": ""
            },
            "colorscale": [
             [
              0,
              "#0d0887"
             ],
             [
              0.1111111111111111,
              "#46039f"
             ],
             [
              0.2222222222222222,
              "#7201a8"
             ],
             [
              0.3333333333333333,
              "#9c179e"
             ],
             [
              0.4444444444444444,
              "#bd3786"
             ],
             [
              0.5555555555555556,
              "#d8576b"
             ],
             [
              0.6666666666666666,
              "#ed7953"
             ],
             [
              0.7777777777777778,
              "#fb9f3a"
             ],
             [
              0.8888888888888888,
              "#fdca26"
             ],
             [
              1,
              "#f0f921"
             ]
            ],
            "type": "histogram2d"
           }
          ],
          "histogram2dcontour": [
           {
            "colorbar": {
             "outlinewidth": 0,
             "ticks": ""
            },
            "colorscale": [
             [
              0,
              "#0d0887"
             ],
             [
              0.1111111111111111,
              "#46039f"
             ],
             [
              0.2222222222222222,
              "#7201a8"
             ],
             [
              0.3333333333333333,
              "#9c179e"
             ],
             [
              0.4444444444444444,
              "#bd3786"
             ],
             [
              0.5555555555555556,
              "#d8576b"
             ],
             [
              0.6666666666666666,
              "#ed7953"
             ],
             [
              0.7777777777777778,
              "#fb9f3a"
             ],
             [
              0.8888888888888888,
              "#fdca26"
             ],
             [
              1,
              "#f0f921"
             ]
            ],
            "type": "histogram2dcontour"
           }
          ],
          "mesh3d": [
           {
            "colorbar": {
             "outlinewidth": 0,
             "ticks": ""
            },
            "type": "mesh3d"
           }
          ],
          "parcoords": [
           {
            "line": {
             "colorbar": {
              "outlinewidth": 0,
              "ticks": ""
             }
            },
            "type": "parcoords"
           }
          ],
          "pie": [
           {
            "automargin": true,
            "type": "pie"
           }
          ],
          "scatter": [
           {
            "marker": {
             "colorbar": {
              "outlinewidth": 0,
              "ticks": ""
             }
            },
            "type": "scatter"
           }
          ],
          "scatter3d": [
           {
            "line": {
             "colorbar": {
              "outlinewidth": 0,
              "ticks": ""
             }
            },
            "marker": {
             "colorbar": {
              "outlinewidth": 0,
              "ticks": ""
             }
            },
            "type": "scatter3d"
           }
          ],
          "scattercarpet": [
           {
            "marker": {
             "colorbar": {
              "outlinewidth": 0,
              "ticks": ""
             }
            },
            "type": "scattercarpet"
           }
          ],
          "scattergeo": [
           {
            "marker": {
             "colorbar": {
              "outlinewidth": 0,
              "ticks": ""
             }
            },
            "type": "scattergeo"
           }
          ],
          "scattergl": [
           {
            "marker": {
             "colorbar": {
              "outlinewidth": 0,
              "ticks": ""
             }
            },
            "type": "scattergl"
           }
          ],
          "scattermapbox": [
           {
            "marker": {
             "colorbar": {
              "outlinewidth": 0,
              "ticks": ""
             }
            },
            "type": "scattermapbox"
           }
          ],
          "scatterpolar": [
           {
            "marker": {
             "colorbar": {
              "outlinewidth": 0,
              "ticks": ""
             }
            },
            "type": "scatterpolar"
           }
          ],
          "scatterpolargl": [
           {
            "marker": {
             "colorbar": {
              "outlinewidth": 0,
              "ticks": ""
             }
            },
            "type": "scatterpolargl"
           }
          ],
          "scatterternary": [
           {
            "marker": {
             "colorbar": {
              "outlinewidth": 0,
              "ticks": ""
             }
            },
            "type": "scatterternary"
           }
          ],
          "surface": [
           {
            "colorbar": {
             "outlinewidth": 0,
             "ticks": ""
            },
            "colorscale": [
             [
              0,
              "#0d0887"
             ],
             [
              0.1111111111111111,
              "#46039f"
             ],
             [
              0.2222222222222222,
              "#7201a8"
             ],
             [
              0.3333333333333333,
              "#9c179e"
             ],
             [
              0.4444444444444444,
              "#bd3786"
             ],
             [
              0.5555555555555556,
              "#d8576b"
             ],
             [
              0.6666666666666666,
              "#ed7953"
             ],
             [
              0.7777777777777778,
              "#fb9f3a"
             ],
             [
              0.8888888888888888,
              "#fdca26"
             ],
             [
              1,
              "#f0f921"
             ]
            ],
            "type": "surface"
           }
          ],
          "table": [
           {
            "cells": {
             "fill": {
              "color": "#EBF0F8"
             },
             "line": {
              "color": "white"
             }
            },
            "header": {
             "fill": {
              "color": "#C8D4E3"
             },
             "line": {
              "color": "white"
             }
            },
            "type": "table"
           }
          ]
         },
         "layout": {
          "annotationdefaults": {
           "arrowcolor": "#2a3f5f",
           "arrowhead": 0,
           "arrowwidth": 1
          },
          "coloraxis": {
           "colorbar": {
            "outlinewidth": 0,
            "ticks": ""
           }
          },
          "colorscale": {
           "diverging": [
            [
             0,
             "#8e0152"
            ],
            [
             0.1,
             "#c51b7d"
            ],
            [
             0.2,
             "#de77ae"
            ],
            [
             0.3,
             "#f1b6da"
            ],
            [
             0.4,
             "#fde0ef"
            ],
            [
             0.5,
             "#f7f7f7"
            ],
            [
             0.6,
             "#e6f5d0"
            ],
            [
             0.7,
             "#b8e186"
            ],
            [
             0.8,
             "#7fbc41"
            ],
            [
             0.9,
             "#4d9221"
            ],
            [
             1,
             "#276419"
            ]
           ],
           "sequential": [
            [
             0,
             "#0d0887"
            ],
            [
             0.1111111111111111,
             "#46039f"
            ],
            [
             0.2222222222222222,
             "#7201a8"
            ],
            [
             0.3333333333333333,
             "#9c179e"
            ],
            [
             0.4444444444444444,
             "#bd3786"
            ],
            [
             0.5555555555555556,
             "#d8576b"
            ],
            [
             0.6666666666666666,
             "#ed7953"
            ],
            [
             0.7777777777777778,
             "#fb9f3a"
            ],
            [
             0.8888888888888888,
             "#fdca26"
            ],
            [
             1,
             "#f0f921"
            ]
           ],
           "sequentialminus": [
            [
             0,
             "#0d0887"
            ],
            [
             0.1111111111111111,
             "#46039f"
            ],
            [
             0.2222222222222222,
             "#7201a8"
            ],
            [
             0.3333333333333333,
             "#9c179e"
            ],
            [
             0.4444444444444444,
             "#bd3786"
            ],
            [
             0.5555555555555556,
             "#d8576b"
            ],
            [
             0.6666666666666666,
             "#ed7953"
            ],
            [
             0.7777777777777778,
             "#fb9f3a"
            ],
            [
             0.8888888888888888,
             "#fdca26"
            ],
            [
             1,
             "#f0f921"
            ]
           ]
          },
          "colorway": [
           "#636efa",
           "#EF553B",
           "#00cc96",
           "#ab63fa",
           "#FFA15A",
           "#19d3f3",
           "#FF6692",
           "#B6E880",
           "#FF97FF",
           "#FECB52"
          ],
          "font": {
           "color": "#2a3f5f"
          },
          "geo": {
           "bgcolor": "white",
           "lakecolor": "white",
           "landcolor": "#E5ECF6",
           "showlakes": true,
           "showland": true,
           "subunitcolor": "white"
          },
          "hoverlabel": {
           "align": "left"
          },
          "hovermode": "closest",
          "mapbox": {
           "style": "light"
          },
          "paper_bgcolor": "white",
          "plot_bgcolor": "#E5ECF6",
          "polar": {
           "angularaxis": {
            "gridcolor": "white",
            "linecolor": "white",
            "ticks": ""
           },
           "bgcolor": "#E5ECF6",
           "radialaxis": {
            "gridcolor": "white",
            "linecolor": "white",
            "ticks": ""
           }
          },
          "scene": {
           "xaxis": {
            "backgroundcolor": "#E5ECF6",
            "gridcolor": "white",
            "gridwidth": 2,
            "linecolor": "white",
            "showbackground": true,
            "ticks": "",
            "zerolinecolor": "white"
           },
           "yaxis": {
            "backgroundcolor": "#E5ECF6",
            "gridcolor": "white",
            "gridwidth": 2,
            "linecolor": "white",
            "showbackground": true,
            "ticks": "",
            "zerolinecolor": "white"
           },
           "zaxis": {
            "backgroundcolor": "#E5ECF6",
            "gridcolor": "white",
            "gridwidth": 2,
            "linecolor": "white",
            "showbackground": true,
            "ticks": "",
            "zerolinecolor": "white"
           }
          },
          "shapedefaults": {
           "line": {
            "color": "#2a3f5f"
           }
          },
          "ternary": {
           "aaxis": {
            "gridcolor": "white",
            "linecolor": "white",
            "ticks": ""
           },
           "baxis": {
            "gridcolor": "white",
            "linecolor": "white",
            "ticks": ""
           },
           "bgcolor": "#E5ECF6",
           "caxis": {
            "gridcolor": "white",
            "linecolor": "white",
            "ticks": ""
           }
          },
          "title": {
           "x": 0.05
          },
          "xaxis": {
           "automargin": true,
           "gridcolor": "white",
           "linecolor": "white",
           "ticks": "",
           "title": {
            "standoff": 15
           },
           "zerolinecolor": "white",
           "zerolinewidth": 2
          },
          "yaxis": {
           "automargin": true,
           "gridcolor": "white",
           "linecolor": "white",
           "ticks": "",
           "title": {
            "standoff": 15
           },
           "zerolinecolor": "white",
           "zerolinewidth": 2
          }
         }
        },
        "width": 1400,
        "xaxis": {
         "anchor": "y",
         "domain": [
          0,
          1
         ],
         "title": {
          "text": ""
         }
        },
        "yaxis": {
         "anchor": "x",
         "domain": [
          0,
          1
         ],
         "title": {
          "text": ""
         }
        }
       }
      }
     },
     "metadata": {},
     "output_type": "display_data"
    }
   ],
   "source": [
    "\n",
    "messages_location = 'data/{}/messages/inbox'.format(FACEBOOK_FOLDER)\n",
    "messages_list = []\n",
    "for root,dirs,files in os.walk(messages_location):\n",
    "  for name in dirs:\n",
    "    person_path = os.path.join(root,name,'message_1.json')\n",
    "    try:\n",
    "        f = open(person_path)\n",
    "        raw_json = json.load(f)\n",
    "        if len(raw_json['messages']) > 3:\n",
    "            messages_list.append({\"title\":raw_json['title'],\"messages\":raw_json['messages'],\"count\":len(raw_json['messages'])})\n",
    "        f.close()\n",
    "    except FileNotFoundError:\n",
    "        pass\n",
    "messages_df = pd.DataFrame(messages_list)\n",
    "\n",
    "\n",
    "fig = px.bar(messages_df,x='title',y='count',color='count',width=1400,height=800)\n",
    "fig.update_layout(xaxis={'title':''})\n",
    "fig.update_layout(yaxis={'title':''})\n",
    "fig.show()\n"
   ]
  },
  {
   "cell_type": "markdown",
   "metadata": {},
   "source": [
    "### Complete Timeline of Messages For Top 20"
   ]
  },
  {
   "cell_type": "code",
   "execution_count": 12,
   "metadata": {},
   "outputs": [
    {
     "ename": "KeyError",
     "evalue": "'date'",
     "output_type": "error",
     "traceback": [
      "\u001b[0;31m---------------------------------------------------------------------------\u001b[0m",
      "\u001b[0;31mKeyError\u001b[0m                                  Traceback (most recent call last)",
      "\u001b[0;32m~/Workspace/PersonalData/venv/lib/python3.6/site-packages/pandas/core/indexes/base.py\u001b[0m in \u001b[0;36mget_loc\u001b[0;34m(self, key, method, tolerance)\u001b[0m\n\u001b[1;32m   2645\u001b[0m             \u001b[0;32mtry\u001b[0m\u001b[0;34m:\u001b[0m\u001b[0;34m\u001b[0m\u001b[0;34m\u001b[0m\u001b[0m\n\u001b[0;32m-> 2646\u001b[0;31m                 \u001b[0;32mreturn\u001b[0m \u001b[0mself\u001b[0m\u001b[0;34m.\u001b[0m\u001b[0m_engine\u001b[0m\u001b[0;34m.\u001b[0m\u001b[0mget_loc\u001b[0m\u001b[0;34m(\u001b[0m\u001b[0mkey\u001b[0m\u001b[0;34m)\u001b[0m\u001b[0;34m\u001b[0m\u001b[0;34m\u001b[0m\u001b[0m\n\u001b[0m\u001b[1;32m   2647\u001b[0m             \u001b[0;32mexcept\u001b[0m \u001b[0mKeyError\u001b[0m\u001b[0;34m:\u001b[0m\u001b[0;34m\u001b[0m\u001b[0;34m\u001b[0m\u001b[0m\n",
      "\u001b[0;32mpandas/_libs/index.pyx\u001b[0m in \u001b[0;36mpandas._libs.index.IndexEngine.get_loc\u001b[0;34m()\u001b[0m\n",
      "\u001b[0;32mpandas/_libs/index.pyx\u001b[0m in \u001b[0;36mpandas._libs.index.IndexEngine.get_loc\u001b[0;34m()\u001b[0m\n",
      "\u001b[0;32mpandas/_libs/hashtable_class_helper.pxi\u001b[0m in \u001b[0;36mpandas._libs.hashtable.PyObjectHashTable.get_item\u001b[0;34m()\u001b[0m\n",
      "\u001b[0;32mpandas/_libs/hashtable_class_helper.pxi\u001b[0m in \u001b[0;36mpandas._libs.hashtable.PyObjectHashTable.get_item\u001b[0;34m()\u001b[0m\n",
      "\u001b[0;31mKeyError\u001b[0m: 'date'",
      "\nDuring handling of the above exception, another exception occurred:\n",
      "\u001b[0;31mKeyError\u001b[0m                                  Traceback (most recent call last)",
      "\u001b[0;32m<ipython-input-12-f7ffdb405937>\u001b[0m in \u001b[0;36m<module>\u001b[0;34m\u001b[0m\n\u001b[1;32m      1\u001b[0m \u001b[0mfig\u001b[0m \u001b[0;34m=\u001b[0m \u001b[0mgo\u001b[0m\u001b[0;34m.\u001b[0m\u001b[0mFigure\u001b[0m\u001b[0;34m(\u001b[0m\u001b[0;34m)\u001b[0m\u001b[0;34m\u001b[0m\u001b[0;34m\u001b[0m\u001b[0m\n\u001b[1;32m      2\u001b[0m \u001b[0mtop_df\u001b[0m \u001b[0;34m=\u001b[0m \u001b[0mmessages_df\u001b[0m\u001b[0;34m[\u001b[0m\u001b[0;36m0\u001b[0m\u001b[0;34m:\u001b[0m\u001b[0;36m20\u001b[0m\u001b[0;34m]\u001b[0m\u001b[0;34m\u001b[0m\u001b[0;34m\u001b[0m\u001b[0m\n\u001b[0;32m----> 3\u001b[0;31m \u001b[0mtop_df\u001b[0m\u001b[0;34m[\u001b[0m\u001b[0;34m'date'\u001b[0m\u001b[0;34m]\u001b[0m \u001b[0;34m=\u001b[0m \u001b[0mpd\u001b[0m\u001b[0;34m.\u001b[0m\u001b[0mto_datetime\u001b[0m\u001b[0;34m(\u001b[0m\u001b[0mtop_df\u001b[0m\u001b[0;34m[\u001b[0m\u001b[0;34m'date'\u001b[0m\u001b[0;34m]\u001b[0m\u001b[0;34m,\u001b[0m\u001b[0munit\u001b[0m\u001b[0;34m=\u001b[0m\u001b[0;34m's'\u001b[0m\u001b[0;34m)\u001b[0m\u001b[0;34m\u001b[0m\u001b[0;34m\u001b[0m\u001b[0m\n\u001b[0m\u001b[1;32m      4\u001b[0m \u001b[0;32mfor\u001b[0m \u001b[0mx\u001b[0m \u001b[0;32min\u001b[0m \u001b[0mtop_df\u001b[0m\u001b[0;34m.\u001b[0m\u001b[0mtitle\u001b[0m\u001b[0;34m.\u001b[0m\u001b[0munique\u001b[0m\u001b[0;34m(\u001b[0m\u001b[0;34m)\u001b[0m\u001b[0;34m:\u001b[0m\u001b[0;34m\u001b[0m\u001b[0;34m\u001b[0m\u001b[0m\n\u001b[1;32m      5\u001b[0m     \u001b[0mt_df\u001b[0m \u001b[0;34m=\u001b[0m \u001b[0mtop_df\u001b[0m\u001b[0;34m.\u001b[0m\u001b[0mloc\u001b[0m\u001b[0;34m[\u001b[0m\u001b[0mtop_ten_df\u001b[0m\u001b[0;34m[\u001b[0m\u001b[0;34m'name'\u001b[0m\u001b[0;34m]\u001b[0m \u001b[0;34m==\u001b[0m \u001b[0mx\u001b[0m\u001b[0;34m]\u001b[0m\u001b[0;34m\u001b[0m\u001b[0;34m\u001b[0m\u001b[0m\n",
      "\u001b[0;32m~/Workspace/PersonalData/venv/lib/python3.6/site-packages/pandas/core/frame.py\u001b[0m in \u001b[0;36m__getitem__\u001b[0;34m(self, key)\u001b[0m\n\u001b[1;32m   2798\u001b[0m             \u001b[0;32mif\u001b[0m \u001b[0mself\u001b[0m\u001b[0;34m.\u001b[0m\u001b[0mcolumns\u001b[0m\u001b[0;34m.\u001b[0m\u001b[0mnlevels\u001b[0m \u001b[0;34m>\u001b[0m \u001b[0;36m1\u001b[0m\u001b[0;34m:\u001b[0m\u001b[0;34m\u001b[0m\u001b[0;34m\u001b[0m\u001b[0m\n\u001b[1;32m   2799\u001b[0m                 \u001b[0;32mreturn\u001b[0m \u001b[0mself\u001b[0m\u001b[0;34m.\u001b[0m\u001b[0m_getitem_multilevel\u001b[0m\u001b[0;34m(\u001b[0m\u001b[0mkey\u001b[0m\u001b[0;34m)\u001b[0m\u001b[0;34m\u001b[0m\u001b[0;34m\u001b[0m\u001b[0m\n\u001b[0;32m-> 2800\u001b[0;31m             \u001b[0mindexer\u001b[0m \u001b[0;34m=\u001b[0m \u001b[0mself\u001b[0m\u001b[0;34m.\u001b[0m\u001b[0mcolumns\u001b[0m\u001b[0;34m.\u001b[0m\u001b[0mget_loc\u001b[0m\u001b[0;34m(\u001b[0m\u001b[0mkey\u001b[0m\u001b[0;34m)\u001b[0m\u001b[0;34m\u001b[0m\u001b[0;34m\u001b[0m\u001b[0m\n\u001b[0m\u001b[1;32m   2801\u001b[0m             \u001b[0;32mif\u001b[0m \u001b[0mis_integer\u001b[0m\u001b[0;34m(\u001b[0m\u001b[0mindexer\u001b[0m\u001b[0;34m)\u001b[0m\u001b[0;34m:\u001b[0m\u001b[0;34m\u001b[0m\u001b[0;34m\u001b[0m\u001b[0m\n\u001b[1;32m   2802\u001b[0m                 \u001b[0mindexer\u001b[0m \u001b[0;34m=\u001b[0m \u001b[0;34m[\u001b[0m\u001b[0mindexer\u001b[0m\u001b[0;34m]\u001b[0m\u001b[0;34m\u001b[0m\u001b[0;34m\u001b[0m\u001b[0m\n",
      "\u001b[0;32m~/Workspace/PersonalData/venv/lib/python3.6/site-packages/pandas/core/indexes/base.py\u001b[0m in \u001b[0;36mget_loc\u001b[0;34m(self, key, method, tolerance)\u001b[0m\n\u001b[1;32m   2646\u001b[0m                 \u001b[0;32mreturn\u001b[0m \u001b[0mself\u001b[0m\u001b[0;34m.\u001b[0m\u001b[0m_engine\u001b[0m\u001b[0;34m.\u001b[0m\u001b[0mget_loc\u001b[0m\u001b[0;34m(\u001b[0m\u001b[0mkey\u001b[0m\u001b[0;34m)\u001b[0m\u001b[0;34m\u001b[0m\u001b[0;34m\u001b[0m\u001b[0m\n\u001b[1;32m   2647\u001b[0m             \u001b[0;32mexcept\u001b[0m \u001b[0mKeyError\u001b[0m\u001b[0;34m:\u001b[0m\u001b[0;34m\u001b[0m\u001b[0;34m\u001b[0m\u001b[0m\n\u001b[0;32m-> 2648\u001b[0;31m                 \u001b[0;32mreturn\u001b[0m \u001b[0mself\u001b[0m\u001b[0;34m.\u001b[0m\u001b[0m_engine\u001b[0m\u001b[0;34m.\u001b[0m\u001b[0mget_loc\u001b[0m\u001b[0;34m(\u001b[0m\u001b[0mself\u001b[0m\u001b[0;34m.\u001b[0m\u001b[0m_maybe_cast_indexer\u001b[0m\u001b[0;34m(\u001b[0m\u001b[0mkey\u001b[0m\u001b[0;34m)\u001b[0m\u001b[0;34m)\u001b[0m\u001b[0;34m\u001b[0m\u001b[0;34m\u001b[0m\u001b[0m\n\u001b[0m\u001b[1;32m   2649\u001b[0m         \u001b[0mindexer\u001b[0m \u001b[0;34m=\u001b[0m \u001b[0mself\u001b[0m\u001b[0;34m.\u001b[0m\u001b[0mget_indexer\u001b[0m\u001b[0;34m(\u001b[0m\u001b[0;34m[\u001b[0m\u001b[0mkey\u001b[0m\u001b[0;34m]\u001b[0m\u001b[0;34m,\u001b[0m \u001b[0mmethod\u001b[0m\u001b[0;34m=\u001b[0m\u001b[0mmethod\u001b[0m\u001b[0;34m,\u001b[0m \u001b[0mtolerance\u001b[0m\u001b[0;34m=\u001b[0m\u001b[0mtolerance\u001b[0m\u001b[0;34m)\u001b[0m\u001b[0;34m\u001b[0m\u001b[0;34m\u001b[0m\u001b[0m\n\u001b[1;32m   2650\u001b[0m         \u001b[0;32mif\u001b[0m \u001b[0mindexer\u001b[0m\u001b[0;34m.\u001b[0m\u001b[0mndim\u001b[0m \u001b[0;34m>\u001b[0m \u001b[0;36m1\u001b[0m \u001b[0;32mor\u001b[0m \u001b[0mindexer\u001b[0m\u001b[0;34m.\u001b[0m\u001b[0msize\u001b[0m \u001b[0;34m>\u001b[0m \u001b[0;36m1\u001b[0m\u001b[0;34m:\u001b[0m\u001b[0;34m\u001b[0m\u001b[0;34m\u001b[0m\u001b[0m\n",
      "\u001b[0;32mpandas/_libs/index.pyx\u001b[0m in \u001b[0;36mpandas._libs.index.IndexEngine.get_loc\u001b[0;34m()\u001b[0m\n",
      "\u001b[0;32mpandas/_libs/index.pyx\u001b[0m in \u001b[0;36mpandas._libs.index.IndexEngine.get_loc\u001b[0;34m()\u001b[0m\n",
      "\u001b[0;32mpandas/_libs/hashtable_class_helper.pxi\u001b[0m in \u001b[0;36mpandas._libs.hashtable.PyObjectHashTable.get_item\u001b[0;34m()\u001b[0m\n",
      "\u001b[0;32mpandas/_libs/hashtable_class_helper.pxi\u001b[0m in \u001b[0;36mpandas._libs.hashtable.PyObjectHashTable.get_item\u001b[0;34m()\u001b[0m\n",
      "\u001b[0;31mKeyError\u001b[0m: 'date'"
     ]
    }
   ],
   "source": [
    "fig = go.Figure()\n",
    "top_df = messages_df[0:20]\n",
    "top_df['date'] = pd.to_datetime(top_df['date'],unit='s')\n",
    "for x in top_df.title.unique():\n",
    "    t_df = top_df.loc[top_ten_df['name'] == x]\n",
    "    fig.add_trace(go.Scatter(x=t_df['date'],y=t_df['name'],mode='markers'))\n",
    "fig.update_layout(showlegend=False)\n",
    "fig.show()"
   ]
  }
 ],
 "metadata": {
  "kernelspec": {
   "display_name": "Python 3.6.9 64-bit ('venv': venv)",
   "language": "python",
   "name": "python36964bitvenvvenva871d53600814b51b81e1f3ca82b98ab"
  },
  "language_info": {
   "codemirror_mode": {
    "name": "ipython",
    "version": 3
   },
   "file_extension": ".py",
   "mimetype": "text/x-python",
   "name": "python",
   "nbconvert_exporter": "python",
   "pygments_lexer": "ipython3",
   "version": "3.6.9"
  }
 },
 "nbformat": 4,
 "nbformat_minor": 2
}
